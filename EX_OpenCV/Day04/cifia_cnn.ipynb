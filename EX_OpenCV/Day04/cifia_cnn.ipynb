{
 "cells": [
  {
   "cell_type": "markdown",
   "metadata": {},
   "source": [
    "### cifia cnn\n",
    "- make datasets class\n",
    "- make cnn model class\n",
    "- make train & test function\n",
    "- make predct function"
   ]
  },
  {
   "cell_type": "code",
   "execution_count": 1,
   "metadata": {},
   "outputs": [],
   "source": [
    "import pandas as pd\n",
    "import numpy as np\n",
    "import matplotlib\n",
    "import matplotlib.pyplot as plt\n",
    "\n",
    "import torch\n",
    "import torch.nn as nn\n",
    "import torch.nn.functional as F\n",
    "import torch.optim as optima\n",
    "from torch.autograd import Variable\n",
    "from torch.optim.lr_scheduler import ReduceLROnPlateau\n",
    "from torch.utils.data import Dataset, DataLoader\n",
    "\n",
    "import torchinfo, torchmetrics\n",
    "from torchmetrics.classification import F1Score, Accuracy, ConfusionMatrix\n",
    "from torchinfo import summary\n",
    "\n",
    "import torchvision\n",
    "\n",
    "import sklearn\n",
    "from sklearn.model_selection import train_test_split\n",
    "from sklearn.preprocessing import StandardScaler"
   ]
  },
  {
   "cell_type": "code",
   "execution_count": 2,
   "metadata": {},
   "outputs": [
    {
     "data": {
      "text/plain": [
       "<torch._C.Generator at 0x1e8186d1a90>"
      ]
     },
     "execution_count": 2,
     "metadata": {},
     "output_type": "execute_result"
    }
   ],
   "source": [
    "LABEL_TRANSLATE = {0: 'airplane', 1: 'automobile',2: 'bird', 3: 'cat', 4: 'deer',\n",
    "                   5: 'dog', 6: 'frog', 7: 'horse', 8: 'ship', 9: 'truck'}\n",
    "# 함수 선언 하기 전에 설정하는 거\n",
    "DEVICE = 'cuda' if torch.cuda.is_available() else 'cpu'\n",
    "RANDOM_STATE = 38\n",
    "torch.manual_seed(RANDOM_STATE)"
   ]
  },
  {
   "cell_type": "code",
   "execution_count": 3,
   "metadata": {},
   "outputs": [],
   "source": [
    "# 기본 확인 하는 utils\n",
    "def utils():\n",
    "    \"\"\"\n",
    "    utils: package version, random_state, device\n",
    "    ---\n",
    "    - random_state\n",
    "    - device\n",
    "    - pandas version\n",
    "    - numpy version\n",
    "    - matplotlib version\n",
    "    - scikit-learn version\n",
    "    - torch version\n",
    "    - torchinfo version\n",
    "    - torchvision version\n",
    "    - torchmetrics version\n",
    "    \"\"\"\n",
    "    print('--- Notice ---')\n",
    "    print(f\"random_state: {RANDOM_STATE}\")\n",
    "    print(f\"device: {DEVICE}\\n\")\n",
    "    \n",
    "    print(f\"pandas ver: {pd.__version__}\")\n",
    "    print(f\"numpy ver: {np.__version__}\")\n",
    "    print(f\"matplotlib ver: {matplotlib.__version__}\")\n",
    "    print(f\"scikit-learn ver: {sklearn.__version__}\\n\")\n",
    "    \n",
    "    print(f\"torch ver: {torch.__version__}\")\n",
    "    print(f\"torchinfo ver: {torchinfo.__version__}\")\n",
    "    print(f\"torchvision ver: {torchvision.__version__}\")\n",
    "    print(f\"torchmetrics ver: {torchmetrics.__version__}\\n\")"
   ]
  },
  {
   "cell_type": "code",
   "execution_count": 4,
   "metadata": {},
   "outputs": [
    {
     "name": "stdout",
     "output_type": "stream",
     "text": [
      "--- Notice ---\n",
      "random_state: 38\n",
      "device: cpu\n",
      "\n",
      "pandas ver: 2.0.3\n",
      "numpy ver: 1.24.3\n",
      "matplotlib ver: 3.7.2\n",
      "scikit-learn ver: 1.3.2\n",
      "\n",
      "torch ver: 2.4.1\n",
      "torchinfo ver: 1.8.0\n",
      "torchvision ver: 0.19.1\n",
      "torchmetrics ver: 1.4.2\n",
      "\n"
     ]
    }
   ],
   "source": [
    "utils()"
   ]
  },
  {
   "cell_type": "code",
   "execution_count": 5,
   "metadata": {},
   "outputs": [],
   "source": [
    "train_df = pd.read_csv('../data/CIFIA/train.csv')\n",
    "test_df = pd.read_csv('../data/CIFIA/test.csv')"
   ]
  },
  {
   "cell_type": "code",
   "execution_count": 38,
   "metadata": {},
   "outputs": [],
   "source": [
    "# CIFIA10 CNN model class\n",
    "# ---------------------------------------------------------\n",
    "# class perpose: 0 ~ 9 fashion mnist multi classification\n",
    "# class name: CIFIA10CNNModel\n",
    "# parents class: nn.Module\n",
    "# parameters: None\n",
    "# attribute field: layer1, layer2 fc1, drop, fc2, fc3\n",
    "# class function: create model structure, forward learning model\n",
    "# class structure\n",
    "# - layer1: conv2d(input:1, output:32, kernel:3*3, padding:1 to 0,), batch normalization, activate function: ReLU, maxpooling)\n",
    "# - layer2: conv2d(input:32, output:64, kernel:3*3, padding:None), batch normalization, activate function: ReLU, maxpooling)\n",
    "# - fc1: input node: 64*6*6, output node: 600, activate function: None\n",
    "# - drop: 0.25\n",
    "# - fc2: input node: 600, output node: 120, activate function: None\n",
    "# - fc3: input node: 120, output node: 10, activate function: None\n",
    "\n",
    "class CIFIA10CNNModel(nn.Module):\n",
    "    \"\"\"\n",
    "    Fashion MNIST DNN multi classification model\n",
    "    ---\n",
    "    - parents class: nn.Module\n",
    "    - parameters: None\n",
    "    - attribute field: layer1, layer2 fc1, drop, fc2, fc3\n",
    "    - class function: create model structure, forward learning model\n",
    "    - class structure\n",
    "        - cnn_layer\n",
    "            - convloution layer: conv2d(input:3, output:10, kernel:3*3), activaite function: ReLU\n",
    "            - pooling layer: Maxpooling(kernel: 2*2, stride: 2)\n",
    "        - dnn_layer\n",
    "            - hidden layer: input node: 10*15*15, output node: 1000, activate function: ReLU\n",
    "            - hidden layer: input node: 1000, output node: 500, activate function: ReLU\n",
    "            - hidden layer: input node: 500, output node: 100, activate function: ReLU\n",
    "            - output: input node: 100, output node: 10, activate function: None\n",
    "    ---\n",
    "    function\n",
    "    - __init__()\n",
    "    - forward()\n",
    "    \"\"\"\n",
    "    def __init__(self):\n",
    "        super().__init__()\n",
    "        \n",
    "        # feature sample\n",
    "        self.cnn_layer = nn.Sequential(\n",
    "            nn.Conv2d(in_channels=3, out_channels= 10, kernel_size=3),\n",
    "            nn.ReLU(),\n",
    "            nn.MaxPool2d(kernel_size=2, stride=2)\n",
    "            # nn.Flatten()\n",
    "        )\n",
    "        # full connext\n",
    "        self.dnn_layer = nn.Sequential(\n",
    "            nn.Linear(in_features=10*15*15, out_features=1000),\n",
    "            nn.ReLU(),\n",
    "            nn.Linear(1000, 500),\n",
    "            nn.ReLU(),\n",
    "            nn.Linear(500, 100),\n",
    "            nn.ReLU(),\n",
    "            nn.Linear(100, 10)\n",
    "        )\n",
    "        \n",
    "        \n",
    "    def forward(self, input_):\n",
    "        output = self.cnn_layer(input_)\n",
    "        # print(f\"[output 1] - {output.shape}\")\n",
    "        \n",
    "        output = output.view(output.size(0), -1)\n",
    "        # print(f\"[output 2] - {output.shape}\")\n",
    "        \n",
    "        y = self.dnn_layer(output)\n",
    "        # print(f\"[output 3] - {output.shape}\")\n",
    "        return y"
   ]
  },
  {
   "cell_type": "code",
   "execution_count": 39,
   "metadata": {},
   "outputs": [
    {
     "name": "stdout",
     "output_type": "stream",
     "text": [
      "CIFIA10CNNModel(\n",
      "  (cnn_layer): Sequential(\n",
      "    (0): Conv2d(3, 10, kernel_size=(3, 3), stride=(1, 1))\n",
      "    (1): ReLU()\n",
      "    (2): MaxPool2d(kernel_size=2, stride=2, padding=0, dilation=1, ceil_mode=False)\n",
      "  )\n",
      "  (dnn_layer): Sequential(\n",
      "    (0): Linear(in_features=2250, out_features=1000, bias=True)\n",
      "    (1): ReLU()\n",
      "    (2): Linear(in_features=1000, out_features=500, bias=True)\n",
      "    (3): ReLU()\n",
      "    (4): Linear(in_features=500, out_features=100, bias=True)\n",
      "    (5): ReLU()\n",
      "    (6): Linear(in_features=100, out_features=10, bias=True)\n",
      "  )\n",
      ")\n"
     ]
    },
    {
     "data": {
      "text/plain": [
       "==========================================================================================\n",
       "Layer (type:depth-idx)                   Output Shape              Param #\n",
       "==========================================================================================\n",
       "CIFIA10CNNModel                          [100, 10]                 --\n",
       "├─Sequential: 1-1                        [100, 10, 15, 15]         --\n",
       "│    └─Conv2d: 2-1                       [100, 10, 30, 30]         280\n",
       "│    └─ReLU: 2-2                         [100, 10, 30, 30]         --\n",
       "│    └─MaxPool2d: 2-3                    [100, 10, 15, 15]         --\n",
       "├─Sequential: 1-2                        [100, 10]                 --\n",
       "│    └─Linear: 2-4                       [100, 1000]               2,251,000\n",
       "│    └─ReLU: 2-5                         [100, 1000]               --\n",
       "│    └─Linear: 2-6                       [100, 500]                500,500\n",
       "│    └─ReLU: 2-7                         [100, 500]                --\n",
       "│    └─Linear: 2-8                       [100, 100]                50,100\n",
       "│    └─ReLU: 2-9                         [100, 100]                --\n",
       "│    └─Linear: 2-10                      [100, 10]                 1,010\n",
       "==========================================================================================\n",
       "Total params: 2,802,890\n",
       "Trainable params: 2,802,890\n",
       "Non-trainable params: 0\n",
       "Total mult-adds (M): 305.46\n",
       "==========================================================================================\n",
       "Input size (MB): 1.23\n",
       "Forward/backward pass size (MB): 8.49\n",
       "Params size (MB): 11.21\n",
       "Estimated Total Size (MB): 20.93\n",
       "=========================================================================================="
      ]
     },
     "execution_count": 39,
     "metadata": {},
     "output_type": "execute_result"
    }
   ],
   "source": [
    "cnn_model = CIFIA10CNNModel()\n",
    "\n",
    "print(cnn_model)\n",
    "summary(cnn_model, input_size=(100, 3, 32, 32))"
   ]
  },
  {
   "cell_type": "code",
   "execution_count": 25,
   "metadata": {},
   "outputs": [],
   "source": [
    "# train dataset class\n",
    "# ------------------------------------------------------------\n",
    "# dataset: 'train.csv'\n",
    "# parents class: torch.utils.data.Dataset\n",
    "# class name: CIFIA10TrainDataset\n",
    "# feature: pixel\n",
    "# label: 0 ~ 9, label\n",
    "# parameter: data_df\n",
    "# attribute field: data_df, feature_df, label_df, X_train_ts, X_val_ts, y_train_ts, y_val_ts, n_rows, features, n_features, labels, n_lables\n",
    "# class function: create dataset structure, length, get dataset bach size\n",
    "# class structure\n",
    "#   - __init__(self)\n",
    "#   - __len__(self)\n",
    "#   - __getitem__(self)\n",
    "\n",
    "class CIFIA10TrainDataset(Dataset):\n",
    "    \"\"\"\n",
    "    Train CIFIA10 Dataset\n",
    "    ---\n",
    "    - parameter: data_df\n",
    "    - attrubute: data_df, feature_df, label_df, X_train_ts, X_val_ts, y_train_ts, y_val_ts, n_rows, features, n_features, labels, n_labels\n",
    "    ---\n",
    "    function\n",
    "    - __init__()\n",
    "    - __len__()\n",
    "    - __getitem__()\n",
    "    \"\"\"\n",
    "    def __init__(self, data_df):\n",
    "        super().__init__()\n",
    "        \n",
    "        self.data_df = data_df\n",
    "        self.feature_df = data_df[data_df.columns[:-1]]\n",
    "        label_sr = data_df[data_df.columns[-1]]\n",
    "        self.laber_df = pd.get_dummies(label_sr).astype('int64')\n",
    "        \n",
    "        # stratify: self.label_df\n",
    "        # train : validation = 7 : 3\n",
    "        X_train, X_val, y_train, y_val = train_test_split(self.feature_df, self.laber_df, stratify=self.laber_df, test_size=0.3, random_state=RANDOM_STATE)\n",
    "        # scaler = StandardScaler()\n",
    "        # scaler.fit(X_train, y_train)\n",
    "        # X_train = scaler.transform(X_train)\n",
    "        # X_val = scaler.transform(X_val)\n",
    "        \n",
    "        self.X_train_ts = torch.Tensor(X_train.values).reshape(-1, 3, 32, 32)\n",
    "        self.X_val_ts = torch.Tensor(X_val.values).reshape(-1, 3, 32, 32)\n",
    "        self.y_train_ts = torch.FloatTensor(y_train.values)\n",
    "        self.y_val_ts = torch.FloatTensor(y_val.values)\n",
    "        \n",
    "        self.n_rows = X_train.shape[0]\n",
    "        self.features = self.feature_df.columns\n",
    "        self.n_features = len(self.features)\n",
    "        self.labels = data_df[data_df.columns[-1]].unique()\n",
    "        self.n_labels = len(self.labels)\n",
    "        \n",
    "    def __len__(self):\n",
    "        return self.n_rows\n",
    "    \n",
    "    def __getitem__(self, idx):\n",
    "        X_train_ts = self.X_train_ts[idx]\n",
    "        y_train_ts = self.y_train_ts[idx]\n",
    "        return X_train_ts, y_train_ts\n"
   ]
  },
  {
   "cell_type": "code",
   "execution_count": 64,
   "metadata": {},
   "outputs": [],
   "source": [
    "# test dataset class\n",
    "# ------------------------------------------------------------\n",
    "# dataset: 'test.csv'\n",
    "# parents class: torch.utils.data.Dataset\n",
    "# class name: CIFIA10TrainDataset\n",
    "# feature: pixel\n",
    "# label: 0 ~ 9, label\n",
    "# parameter: data_df\n",
    "# attribute field: data_df, feature_df, label_df, X_train_ts, X_val_ts, y_train_ts, y_val_ts, n_rows, features, n_features, labels, n_lables\n",
    "# class function: create dataset structure, length, get dataset bach size\n",
    "# class structure\n",
    "#   - __init__(self)\n",
    "#   - __len__(self)\n",
    "#   - __getitem__(self)\n",
    "\n",
    "class CIFIA10TestDataset(Dataset):\n",
    "    \"\"\"\n",
    "    Train CIFIA10 Dataset\n",
    "    ---\n",
    "    - parameter: data_df\n",
    "    - attrubute: data_df, feature_df, label_df, X_test_ts, y_tset_ts, n_rows, features, n_features, labels, n_labels\n",
    "    ---\n",
    "    function\n",
    "    - __init__()\n",
    "    - __len__()\n",
    "    - __getitem__()\n",
    "    \"\"\"\n",
    "    def __init__(self, data_df):\n",
    "        super().__init__()\n",
    "        \n",
    "        self.data_df = data_df\n",
    "        self.feature_df = data_df[data_df.columns[:-1]]\n",
    "        label_sr = data_df[data_df.columns[-1]]\n",
    "        self.laber_df = pd.get_dummies(label_sr).astype('int64')\n",
    "        \n",
    "        self.X_test_ts = torch.Tensor(self.feature_df.values).reshape(-1, 3, 32, 32)\n",
    "        self.y_test_ts = torch.FloatTensor(self.laber_df.values)\n",
    "        \n",
    "        self.n_rows = self.feature_df.shape[0]\n",
    "        self.features = self.feature_df.columns\n",
    "        self.n_features = len(self.features)\n",
    "        self.labels = data_df[data_df.columns[-1]].unique()\n",
    "        self.n_labels = len(self.labels)\n",
    "        \n",
    "    def __len__(self):\n",
    "        return self.n_rows\n",
    "    \n",
    "    def __getitem__(self, idx):\n",
    "        X_test_ts = self.X_test_ts[idx]\n",
    "        y_test_ts = self.y_test_ts[idx]\n",
    "        return X_test_ts, y_test_ts\n"
   ]
  },
  {
   "cell_type": "code",
   "execution_count": 65,
   "metadata": {},
   "outputs": [],
   "source": [
    "test_datasets = CIFIA10TestDataset(test_df)"
   ]
  },
  {
   "cell_type": "code",
   "execution_count": 28,
   "metadata": {},
   "outputs": [],
   "source": [
    "train_datasets = CIFIA10TrainDataset(train_df)"
   ]
  },
  {
   "cell_type": "code",
   "execution_count": 66,
   "metadata": {},
   "outputs": [
    {
     "data": {
      "text/plain": [
       "torch.Size([10000, 10])"
      ]
     },
     "execution_count": 66,
     "metadata": {},
     "output_type": "execute_result"
    }
   ],
   "source": [
    "test_datasets.y_test_ts.shape"
   ]
  },
  {
   "cell_type": "code",
   "execution_count": 30,
   "metadata": {},
   "outputs": [
    {
     "data": {
      "text/plain": [
       "array(['frog', 'truck', 'deer', 'automobile', 'bird', 'horse', 'ship',\n",
       "       'cat', 'dog', 'airplane'], dtype=object)"
      ]
     },
     "execution_count": 30,
     "metadata": {},
     "output_type": "execute_result"
    }
   ],
   "source": [
    "train_datasets.labels"
   ]
  },
  {
   "cell_type": "code",
   "execution_count": 32,
   "metadata": {},
   "outputs": [],
   "source": [
    "# predict function\n",
    "# -----------------------------------------------------\n",
    "# - function name: predict\n",
    "# - parameter: model, X_data\n",
    "# - function return: loss, score_accuracy, score_f1score, proba\n",
    "# -----------------------------------------------------\n",
    "# must not update weight & bais\n",
    "\n",
    "def predict(model, X_data):\n",
    "    \"\"\"\n",
    "    Predict function\n",
    "\n",
    "    Args:\n",
    "        model (model instance): testing model\n",
    "        X_data (tensor): feature tensor\n",
    "\n",
    "    Returns:\n",
    "        int: predicted number\n",
    "    \"\"\"\n",
    "    \n",
    "    with torch.no_grad():\n",
    "        pred = model(X_data).argmax().item()\n",
    "        pred = LABEL_TRANSLATE[pred]\n",
    "        \n",
    "    return pred\n"
   ]
  },
  {
   "cell_type": "code",
   "execution_count": 42,
   "metadata": {},
   "outputs": [],
   "source": [
    "# validation & test function\n",
    "# -----------------------------------------------------\n",
    "# - function name: testing\n",
    "# - parameter: model, x_data, y_data\n",
    "# - function return: loss, score_accuracy, score_f1score, proba\n",
    "# -----------------------------------------------------\n",
    "# must not update weight & bais\n",
    "\n",
    "def testing(model, X_data, y_data):\n",
    "    \"\"\"\n",
    "    Validation & Test function\n",
    "\n",
    "    Args:\n",
    "        model (model instance): testing model\n",
    "        x_data (tensor): feature tensor\n",
    "        y_data (tensor): label tensor\n",
    "\n",
    "    Returns:\n",
    "        tuple: loss, accuracy score, f1 score\n",
    "    \"\"\"\n",
    "    \n",
    "    with torch.no_grad():\n",
    "        pred = model(X_data)\n",
    "        # y_data = y_data.reshape(-1).long()\n",
    "        loss = nn.CrossEntropyLoss()(pred, y_data)\n",
    "        \n",
    "        acc_score = Accuracy(task='multilabel', num_classes=10, num_labels=10)(pred, y_data)\n",
    "        f1_score = F1Score(task='multilabel', num_classes=10, num_labels=10)(pred, y_data)\n",
    "        \n",
    "    return loss, acc_score, f1_score"
   ]
  },
  {
   "cell_type": "code",
   "execution_count": 41,
   "metadata": {},
   "outputs": [],
   "source": [
    "# model learning\n",
    "# -------------------------------------------------------------\n",
    "# - function name: training\n",
    "# - parameter: dataset, model, epochs, lr, batch_size, patience\n",
    "# - function return: loss, accuracy score, f1 score, proba\n",
    "# - optimizer: Adam\n",
    "# - scheduler: ReduceLROnPlatea, standard: val_loss\n",
    "\n",
    "def training(dataset, model, epochs, lr=0.001, batch_size=32, patience=10):\n",
    "    \"\"\"\n",
    "    model training function\n",
    "    - optimizer: Adam\n",
    "    - scheduler: ReduceLROnPlatea, standard: val_loss\n",
    "\n",
    "    Args:\n",
    "        dataset (dataset instance): traing datasets\n",
    "        model (model instance): model instance\n",
    "        epochs (int): learning count\n",
    "        lr (float, optional): learning rate. Defaults to 0.001.\n",
    "        batch_size (int, optional): batch_size. Defaults to 32.\n",
    "        patience (int, optional): model performance count threshold. Defaults to 10.\n",
    "\n",
    "    Returns:\n",
    "        tuple: loss dict, accuracy dict, f1-score dict\n",
    "    \"\"\"\n",
    "    loss_dict = {'train':[], 'val':[]}\n",
    "    acc_dict = {'train':[], 'val':[]}\n",
    "    f1_dict = {'train':[], 'val':[]}\n",
    "    \n",
    "    optimizer = optima.Adam(model.parameters(), lr=lr)\n",
    "    data_dl = DataLoader(dataset, batch_size=batch_size, drop_last=False)\n",
    "    scheduler = ReduceLROnPlateau(optimizer, patience=patience, mode='min')\n",
    "    \n",
    "    save_param = '../model/CIFIA/multi_clf_params.pth'\n",
    "    save_model = '../model/CIFIA/multi_clf_model.pth'\n",
    "    \n",
    "    for epoch in range(1, epochs+1):\n",
    "        total_t_loss, total_t_acc, total_t_f1 = 0, 0, 0\n",
    "        \n",
    "        \n",
    "        for X_train, y_train in data_dl:\n",
    "            batch_cnt = dataset.n_rows / batch_size\n",
    "            # y_train = y_train.reshape(-1).long()\n",
    "            \n",
    "            pred = model(X_train)\n",
    "            \n",
    "            loss = nn.CrossEntropyLoss()(pred, y_train)\n",
    "            total_t_loss += loss\n",
    "            \n",
    "            a_score = Accuracy(task='multilabel', num_classes=10, num_labels=10)(pred, y_train)\n",
    "            total_t_acc += a_score\n",
    "            f_score = F1Score(task='multilabel', num_classes=10, num_labels=10)(pred, y_train)\n",
    "            total_t_f1 += f_score\n",
    "            \n",
    "            optimizer.zero_grad()\n",
    "            loss.backward()\n",
    "            optimizer.step()\n",
    "        \n",
    "        X_val, y_val = dataset.X_val_ts, dataset.y_val_ts\n",
    "        val_loss, val_acc, val_f1 = testing(model, X_val, y_val)\n",
    "        \n",
    "        train_loss = (total_t_loss/batch_cnt).item()\n",
    "        train_acc = (total_t_acc/batch_cnt).item()\n",
    "        train_f1 = (total_t_f1/batch_cnt).item()\n",
    "        \n",
    "        loss_dict['train'].append(train_loss)\n",
    "        loss_dict['val'].append(val_loss)\n",
    "        acc_dict['train'].append(train_acc)\n",
    "        acc_dict['val'].append(val_acc)\n",
    "        f1_dict['train'].append(train_f1)\n",
    "        f1_dict['val'].append(val_f1)\n",
    "\n",
    "        if epoch%5 == 0:\n",
    "            print(f\"[{epoch:5}/{epochs:5}]  [Train]         loss: {train_loss:.6f}, score: {train_acc:.6f}\")\n",
    "            print(f\"[{epoch:5}/{epochs:5}]  [Validation]    loss: {val_loss.item():.6f}, score: {val_acc.item():.6f}\\n\")\n",
    "        \n",
    "        if len(acc_dict['val']) == 1:\n",
    "            print(\"saved first\")\n",
    "            torch.save(model.state_dict(), save_param)\n",
    "            torch.save(model, save_model)\n",
    "        else:\n",
    "            if acc_dict['val'][-1] >= max(acc_dict['val']):\n",
    "                print(\"saved model\")\n",
    "                torch.save(model.state_dict(), save_param)\n",
    "                torch.save(model, save_model)\n",
    "                \n",
    "        scheduler.step(val_loss)\n",
    "        \n",
    "        if scheduler.num_bad_epochs >= scheduler.patience:\n",
    "            print('성능 및 손실의 개선이 없어서 학습을 중단합니다.\\n')\n",
    "            print(f\"[{epoch:5}/{epochs:5}]  [Train]         loss: {train_loss:.6f}, score: {train_acc:.6f}\")\n",
    "            print(f\"[{epoch:5}/{epochs:5}]  [Validation]    loss: {val_loss.item():.6f}, score: {val_acc.item():.6f}\\n\")\n",
    "            break\n",
    "        \n",
    "    return loss_dict, acc_dict, f1_dict"
   ]
  },
  {
   "cell_type": "code",
   "execution_count": 36,
   "metadata": {},
   "outputs": [],
   "source": [
    "EPOCHS = 100\n",
    "LR = 0.001\n",
    "BATCH_SIZE = 100"
   ]
  },
  {
   "cell_type": "code",
   "execution_count": 43,
   "metadata": {},
   "outputs": [
    {
     "name": "stdout",
     "output_type": "stream",
     "text": [
      "saved first\n",
      "saved model\n",
      "saved model\n",
      "saved model\n",
      "[    5/  100]  [Train]         loss: 0.147604, score: 0.873263\n",
      "[    5/  100]  [Validation]    loss: 2.480066, score: 0.822987\n",
      "\n",
      "saved model\n",
      "saved model\n",
      "saved model\n",
      "[   10/  100]  [Train]         loss: 0.084415, score: 0.890486\n",
      "[   10/  100]  [Validation]    loss: 3.236136, score: 0.832800\n",
      "\n",
      "saved model\n",
      "saved model\n",
      "성능 및 손실의 개선이 없어서 학습을 중단합니다.\n",
      "\n",
      "[   11/  100]  [Train]         loss: 0.086534, score: 0.891929\n",
      "[   11/  100]  [Validation]    loss: 3.122572, score: 0.835893\n",
      "\n"
     ]
    }
   ],
   "source": [
    "loss_dict, acc_dict, f1_dict = training(train_datasets, cnn_model, EPOCHS, LR, BATCH_SIZE)"
   ]
  },
  {
   "cell_type": "code",
   "execution_count": 45,
   "metadata": {},
   "outputs": [],
   "source": [
    "# 그림 그리는 함수\n",
    "def draw_two_plot(loss, score, title):\n",
    "    \"\"\"\n",
    "    draw loss & score\n",
    "\n",
    "    Args:\n",
    "        loss (_type_): _description_\n",
    "        r2 (_type_): _description_\n",
    "        title (_type_): _description_\n",
    "    \"\"\"\n",
    "    \n",
    "    # 축을 2개 사용하고 싶음.\n",
    "    fig, ax1 = plt.subplots(figsize=(7, 7))\n",
    "    ax2 = ax1.twinx()\n",
    "    \n",
    "    ax1.plot(loss['train'], label=f\"train loss mean: {sum(loss['train'])/len(loss['train']):.6f}\", color='#5587ED')\n",
    "    ax1.plot(loss['val'], label=f\"validation loss mean: {sum(loss['val'])/len(loss['val']):.6f}\", color='#F361A6')\n",
    "    ax2.plot(score['train'], label=f\"train score max: {max(score['train'])*100:.2f} %\", color='#00007F')\n",
    "    ax2.plot(score['val'], label=f\"validation score max: {max(score['val'])*100:.2f} %\", color='#99004C')\n",
    "    \n",
    "    fig.suptitle(f'{title} number CNN multi classification', fontsize=15)\n",
    "    ax1.set_xlabel('epoch')\n",
    "    ax1.set_ylabel('loss', fontsize=10, color='#5587ED')\n",
    "    ax2.set_ylabel('score', fontsize=10, color='#00007F')\n",
    "    \n",
    "    fig.legend(fontsize='small', loc='lower left')\n",
    "    # plt.xticks(np.arange(0, len(loss['train']), 2), labels=[x for x in range(1, len(loss['val'])+1, 2)])\n",
    "    plt.show()"
   ]
  },
  {
   "cell_type": "code",
   "execution_count": 46,
   "metadata": {},
   "outputs": [
    {
     "data": {
      "image/png": "[encoded data removed]",
      "text/plain": [
       "<Figure size 700x700 with 2 Axes>"
      ]
     },
     "metadata": {},
     "output_type": "display_data"
    }
   ],
   "source": [
    "draw_two_plot(loss_dict, acc_dict, 'loss & accuracy')"
   ]
  },
  {
   "cell_type": "code",
   "execution_count": 47,
   "metadata": {},
   "outputs": [],
   "source": [
    "cnn_model = torch.load('../model/CIFIA/multi_clf_model.pth', weights_only=False)"
   ]
  },
  {
   "cell_type": "code",
   "execution_count": 86,
   "metadata": {},
   "outputs": [],
   "source": [
    "def predict_show(model, datasets, num):\n",
    "    \"\"\"\n",
    "    show predict fashion item\n",
    "\n",
    "    Args:\n",
    "        model (model instance): model predicted list\n",
    "        datasets (datasets instance): real data list\n",
    "        num (int): showing image data number\n",
    "    \"\"\"\n",
    "    data_loader = DataLoader(datasets)\n",
    "    cnt = 0\n",
    "    for image_datas, labels in data_loader:\n",
    "        if cnt >= num: pass\n",
    "        image_data = image_datas\n",
    "        pred = model(image_datas).argmax().item()\n",
    "        label = labels.argmax().item()\n",
    "        cnt += 1\n",
    "    \n",
    "    print(f\"predict fashion item: {LABEL_TRANSLATE[pred]}\")\n",
    "    print(f\"real fashion item: {LABEL_TRANSLATE[label]}\\n\")\n",
    "\n",
    "    image_data = image_data.squeeze(0).transpose(0,2)\n",
    "    print(f\"image data: {image_data.shape}, {image_data.ndim}D\")\n",
    "\n",
    "    plt.imshow(image_data)\n",
    "    plt.title(f\"[image - {LABEL_TRANSLATE[label]}]\")\n",
    "    plt.axis('off')\n",
    "    plt.show()"
   ]
  },
  {
   "cell_type": "code",
   "execution_count": 87,
   "metadata": {},
   "outputs": [
    {
     "name": "stdout",
     "output_type": "stream",
     "text": [
      "predict fashion item: horse\n",
      "real fashion item: horse\n",
      "\n",
      "image data: torch.Size([32, 32, 3]), 3D\n"
     ]
    },
    {
     "data": {
      "image/png": "[encoded data removed]",
      "text/plain": [
       "<Figure size 640x480 with 1 Axes>"
      ]
     },
     "metadata": {},
     "output_type": "display_data"
    }
   ],
   "source": [
    "predict_show(cnn_model, test_datasets, 100)"
   ]
  },
  {
   "cell_type": "code",
   "execution_count": 88,
   "metadata": {},
   "outputs": [],
   "source": [
    "test_loss, test_acc, test_f1 = testing(cnn_model, test_datasets.X_test_ts, test_datasets.y_test_ts)"
   ]
  },
  {
   "cell_type": "code",
   "execution_count": 90,
   "metadata": {},
   "outputs": [
    {
     "name": "stdout",
     "output_type": "stream",
     "text": [
      "test loss: 3.161430\n",
      "test accuracy: 83.60 %\n"
     ]
    }
   ],
   "source": [
    "print(f\"test loss: {test_loss:.6f}\")\n",
    "print(f\"test accuracy: {test_acc*100:.2f} %\")"
   ]
  },
  {
   "cell_type": "code",
   "execution_count": 116,
   "metadata": {},
   "outputs": [
    {
     "data": {
      "text/plain": [
       "(torch.Size([10000, 10]), torch.Size([10000, 10]))"
      ]
     },
     "execution_count": 116,
     "metadata": {},
     "output_type": "execute_result"
    }
   ],
   "source": [
    "pred = cnn_model(test_datasets.X_test_ts)\n",
    "pred.shape, test_datasets.y_test_ts.shape\n",
    "# mat = ConfusionMatrix(task='multiclass', num_classes=10)(pred, test_datasets.y_test_ts)\n",
    "# mat"
   ]
  },
  {
   "cell_type": "code",
   "execution_count": 123,
   "metadata": {},
   "outputs": [],
   "source": [
    "import seaborn as sns"
   ]
  },
  {
   "cell_type": "code",
   "execution_count": 122,
   "metadata": {},
   "outputs": [
    {
     "data": {
      "text/plain": [
       "tensor([[786,  14,  35,  16,  15,  12,  10,  12,  54,  46],\n",
       "        [ 74, 595,  10,  18,   6,   7,  20,  10,  40, 220],\n",
       "        [147,   4, 404,  64, 131,  78,  94,  34,  23,  21],\n",
       "        [ 62,  19, 104, 341,  93, 136, 117,  59,  27,  42],\n",
       "        [ 70,   2, 124,  67, 497,  39,  97,  78,  16,  10],\n",
       "        [ 64,   8, 107, 142,  68, 417,  65,  87,  16,  26],\n",
       "        [ 31,   5,  35,  69,  95,  22, 695,  12,  15,  21],\n",
       "        [ 56,   6,  54,  46,  86,  66,  11, 635,   5,  35],\n",
       "        [194,  37,  19,  19,  14,   5,  14,   5, 631,  62],\n",
       "        [ 70,  62,  11,  24,  13,  11,  24,  40,  36, 709]])"
      ]
     },
     "execution_count": 122,
     "metadata": {},
     "output_type": "execute_result"
    }
   ],
   "source": [
    "mat = ConfusionMatrix(task='multiclass', num_classes=10)(torch.argmax(pred, dim=1), torch.argmax(test_datasets.y_test_ts, dim=1))\n",
    "mat"
   ]
  },
  {
   "cell_type": "code",
   "execution_count": 133,
   "metadata": {},
   "outputs": [
    {
     "data": {
      "image/png": "[encoded data removed]",
      "text/plain": [
       "<Figure size 700x700 with 1 Axes>"
      ]
     },
     "metadata": {},
     "output_type": "display_data"
    }
   ],
   "source": [
    "plt.figure(figsize=(7, 7))\n",
    "sns.heatmap(mat, annot=True, fmt=f'.0f', cmap='PuBu', cbar=False)\n",
    "plt.title('test confusion matrix')\n",
    "plt.xticks(np.arange(10), labels=[LABEL_TRANSLATE[x] for x in range(10)], fontsize=7)\n",
    "plt.yticks(np.arange(10), labels=[LABEL_TRANSLATE[x] for x in range(10)], fontsize=7)\n",
    "plt.show()"
   ]
  }
 ],
 "metadata": {
  "kernelspec": {
   "display_name": "torch_cv_38",
   "language": "python",
   "name": "python3"
  },
  "language_info": {
   "codemirror_mode": {
    "name": "ipython",
    "version": 3
   },
   "file_extension": ".py",
   "mimetype": "text/x-python",
   "name": "python",
   "nbconvert_exporter": "python",
   "pygments_lexer": "ipython3",
   "version": "3.8.19"
  }
 },
 "nbformat": 4,
 "nbformat_minor": 2
}
