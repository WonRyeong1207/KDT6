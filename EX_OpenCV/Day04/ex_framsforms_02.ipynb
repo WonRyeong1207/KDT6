{
 "cells": [
  {
   "cell_type": "markdown",
   "metadata": {},
   "source": [
    "### torchvision 제공 이미지 전처리 관련 기능\n",
    "- torchvision.transforms submodule\n",
    "    - 이미지 크기 조절\n",
    "    - 이미지 정규화\n",
    "    - 이미지 자르기\n",
    "    - 이미지 회전 등등 다양한 기능 제공\n",
    "    - 이미지 데이터 타입 ==> pillow image"
   ]
  },
  {
   "cell_type": "code",
   "execution_count": 5,
   "metadata": {},
   "outputs": [],
   "source": [
    "import cv2\n",
    "from torchvision import transforms\n",
    "from torchvision.transforms import v2\n",
    "import torch\n",
    "from PIL import Image\n",
    "import numpy as np\n",
    "import matplotlib.pyplot as plt"
   ]
  },
  {
   "cell_type": "code",
   "execution_count": 2,
   "metadata": {},
   "outputs": [],
   "source": [
    "IMG_PATH = '../image/'\n",
    "IMG_FILE = IMG_PATH + 'face.jpg'"
   ]
  },
  {
   "cell_type": "code",
   "execution_count": 3,
   "metadata": {},
   "outputs": [],
   "source": [
    "cv_img = cv2.imread(IMG_FILE)\n",
    "cv_img = cv2.cvtColor(cv_img, cv2.COLOR_BGR2RGB)\n",
    "\n",
    "pil_img = Image.open(IMG_FILE)"
   ]
  },
  {
   "cell_type": "code",
   "execution_count": 4,
   "metadata": {},
   "outputs": [
    {
     "name": "stdout",
     "output_type": "stream",
     "text": [
      "type(cv_img): <class 'numpy.ndarray'>\n",
      "type(pil_img): <class 'PIL.JpegImagePlugin.JpegImageFile'>\n"
     ]
    }
   ],
   "source": [
    "print(f\"type(cv_img): {type(cv_img)}\")\n",
    "print(f\"type(pil_img): {type(pil_img)}\")    # 한번 더 전처리하는 과정이 필요"
   ]
  },
  {
   "cell_type": "markdown",
   "metadata": {},
   "source": [
    "- instance & method\n",
    "    - instance: 메모리(힙)에 저장된/존재하는 데이터\n",
    "    - attribute/field: 클래스가 가지는 특성, 외형, 내형, 성격\n",
    "    - method: 클래스가 가지는 기능, 역할 -> 문법 구조는 함수와 같음."
   ]
  },
  {
   "cell_type": "markdown",
   "metadata": {},
   "source": [
    "- Resize"
   ]
  },
  {
   "cell_type": "code",
   "execution_count": 8,
   "metadata": {},
   "outputs": [
    {
     "name": "stdout",
     "output_type": "stream",
     "text": [
      "(1439, 1081, 3)\n",
      "torch.Size([3, 40, 20])\n"
     ]
    }
   ],
   "source": [
    "print(cv_img.shape)\n",
    "\n",
    "img_ts = v2.ToImage()(cv_img)\n",
    "img_ts = v2.Resize(size=(40, 20), interpolation=v2.InterpolationMode.BILINEAR)(img_ts)\n",
    "\n",
    "print(img_ts.shape)"
   ]
  },
  {
   "cell_type": "code",
   "execution_count": 10,
   "metadata": {},
   "outputs": [
    {
     "name": "stdout",
     "output_type": "stream",
     "text": [
      "(1439, 1081, 3)\n",
      "torch.Size([3, 160, 90])\n"
     ]
    }
   ],
   "source": [
    "print(cv_img.shape)\n",
    "\n",
    "# 전처리를 합쳐주는 클래스\n",
    "trans = v2.Compose([\n",
    "    v2.ToImage(),\n",
    "    v2.Resize(size=(160, 90), interpolation=v2.InterpolationMode.BILINEAR)\n",
    "])\n",
    "img_ts = trans(cv_img)\n",
    "\n",
    "print(img_ts.shape)"
   ]
  }
 ],
 "metadata": {
  "kernelspec": {
   "display_name": "torch_cv_38",
   "language": "python",
   "name": "python3"
  },
  "language_info": {
   "codemirror_mode": {
    "name": "ipython",
    "version": 3
   },
   "file_extension": ".py",
   "mimetype": "text/x-python",
   "name": "python",
   "nbconvert_exporter": "python",
   "pygments_lexer": "ipython3",
   "version": "3.8.19"
  }
 },
 "nbformat": 4,
 "nbformat_minor": 2
}
