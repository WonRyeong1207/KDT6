{
 "cells": [
  {
   "cell_type": "markdown",
   "metadata": {},
   "source": [
    "### OpenCV\n",
    "- 기본 사용법"
   ]
  },
  {
   "cell_type": "code",
   "execution_count": 6,
   "metadata": {},
   "outputs": [],
   "source": [
    "import cv2\n",
    "import os"
   ]
  },
  {
   "cell_type": "code",
   "execution_count": 7,
   "metadata": {},
   "outputs": [],
   "source": [
    "# image path\n",
    "IMG_DIR = '../image/'"
   ]
  },
  {
   "cell_type": "markdown",
   "metadata": {},
   "source": [
    "- read image"
   ]
  },
  {
   "cell_type": "code",
   "execution_count": 8,
   "metadata": {},
   "outputs": [],
   "source": [
    "img_file = IMG_DIR + 'skull.jpg'\n",
    "\n",
    "image = cv2.imread(img_file)\n",
    "image_gray = cv2.imread(img_file, cv2.IMREAD_GRAYSCALE)"
   ]
  },
  {
   "cell_type": "code",
   "execution_count": 9,
   "metadata": {},
   "outputs": [],
   "source": [
    "img_google = cv2.imread('../image/logo.png', cv2.IMREAD_COLOR)\n",
    "img_google_g = cv2.cvtColor(img_google, cv2.COLOR_BGR2GRAY)"
   ]
  },
  {
   "cell_type": "code",
   "execution_count": 10,
   "metadata": {},
   "outputs": [
    {
     "name": "stdout",
     "output_type": "stream",
     "text": [
      "shape: (475, 640, 3)\n",
      "ndim: 3\n",
      "\n",
      "shape: (92, 272)\n",
      "ndim: 2\n"
     ]
    }
   ],
   "source": [
    "print(f'shape: {image.shape}')\n",
    "print(f\"ndim: {image.ndim}\\n\")\n",
    "\n",
    "print(f'shape: {img_google_g.shape}')\n",
    "print(f\"ndim: {img_google_g.ndim}\")"
   ]
  },
  {
   "cell_type": "markdown",
   "metadata": {},
   "source": [
    "- show image"
   ]
  },
  {
   "cell_type": "code",
   "execution_count": 12,
   "metadata": {},
   "outputs": [],
   "source": [
    "cv2.imshow('image', image)\n",
    "cv2.imshow('gray image', image_gray)\n",
    "cv2.imshow('google', img_google)\n",
    "cv2.imshow('gray_google', img_google_g)\n",
    "\n",
    "cv2.waitKey(0)\n",
    "cv2.destroyAllWindows()"
   ]
  },
  {
   "cell_type": "code",
   "execution_count": 23,
   "metadata": {},
   "outputs": [
    {
     "name": "stdout",
     "output_type": "stream",
     "text": [
      "Key code: 101, e\n",
      "Key code: 103, g\n",
      "Key code: 103, g\n",
      "Key code: 32,  \n",
      "Key code: 44, ,\n",
      "Key code: 44, ,\n",
      "Key code: 32,  \n",
      "Key code: 100, d\n",
      "Key code: 107, k\n"
     ]
    }
   ],
   "source": [
    "# path = '../../../mini-projet/DeapLearning/data/gatto/1.jpeg'\n",
    "path = r'C:\\Users\\PC\\Desktop\\AI_KDT6\\KDT6\\mini-project\\DeepLearning\\data\\gallina\\1000.jpeg'\n",
    "\n",
    "gatto = cv2.imread(path, cv2.IMREAD_GRAYSCALE)\n",
    "cv2.imshow('gatto', gatto)\n",
    "\n",
    "# 키 입력에 따라서 다르게 행동을 취할수 있도록\n",
    "while True:\n",
    "    key_code = cv2.waitKey()\n",
    "    \n",
    "    if (chr(key_code) in ['x', 'X']) or (key_code == 13):\n",
    "        cv2.destroyAllWindows()\n",
    "        break\n",
    "    else:\n",
    "        print(f\"Key code: {key_code}, {chr(key_code)}\")"
   ]
  },
  {
   "cell_type": "code",
   "execution_count": null,
   "metadata": {},
   "outputs": [],
   "source": []
  }
 ],
 "metadata": {
  "kernelspec": {
   "display_name": "torch_cv_38",
   "language": "python",
   "name": "python3"
  },
  "language_info": {
   "codemirror_mode": {
    "name": "ipython",
    "version": 3
   },
   "file_extension": ".py",
   "mimetype": "text/x-python",
   "name": "python",
   "nbconvert_exporter": "python",
   "pygments_lexer": "ipython3",
   "version": "3.8.19"
  }
 },
 "nbformat": 4,
 "nbformat_minor": 2
}
