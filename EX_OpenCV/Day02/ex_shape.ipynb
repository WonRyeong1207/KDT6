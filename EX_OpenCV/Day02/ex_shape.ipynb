{
 "cells": [
  {
   "cell_type": "markdown",
   "metadata": {},
   "source": [
    "### ndarray & tensor의 차원 축소 & 추가\n",
    "- model의 data 입출력시 shape 설정을 위해서 필요함"
   ]
  },
  {
   "cell_type": "code",
   "execution_count": 1,
   "metadata": {},
   "outputs": [],
   "source": [
    "import numpy as np\n",
    "import torch\n",
    "import cv2"
   ]
  },
  {
   "cell_type": "code",
   "execution_count": 2,
   "metadata": {},
   "outputs": [
    {
     "name": "stdout",
     "output_type": "stream",
     "text": [
      "shape: (200, 100)\n",
      "ndim: 2\n"
     ]
    }
   ],
   "source": [
    "# create randomly data\n",
    "data = np.full((200, 100), 7)\n",
    "\n",
    "print(f\"shape: {data.shape}\")\n",
    "print(f\"ndim: {data.ndim}\")"
   ]
  },
  {
   "cell_type": "markdown",
   "metadata": {},
   "source": [
    "- 차원 추가"
   ]
  },
  {
   "cell_type": "code",
   "execution_count": 5,
   "metadata": {},
   "outputs": [],
   "source": [
    "def utils(data):\n",
    "    print(f\"shape: {data.shape}\")\n",
    "    print(f\"ndim: {data.ndim}\")"
   ]
  },
  {
   "cell_type": "code",
   "execution_count": 6,
   "metadata": {},
   "outputs": [
    {
     "name": "stdout",
     "output_type": "stream",
     "text": [
      "shape: (200, 100, 1)\n",
      "ndim: 3\n"
     ]
    }
   ],
   "source": [
    "# base on numpy\n",
    "# - add channel\n",
    "\n",
    "data_1 = data.reshape((200, 100, 1))\n",
    "\n",
    "utils(data_1)"
   ]
  },
  {
   "cell_type": "code",
   "execution_count": 8,
   "metadata": {},
   "outputs": [
    {
     "name": "stdout",
     "output_type": "stream",
     "text": [
      "shape: (200, 100, 1)\n",
      "ndim: 3\n"
     ]
    }
   ],
   "source": [
    "# np.extend_dims()\n",
    "data_2 = np.expand_dims(data, axis=2)\n",
    "\n",
    "utils(data_2)"
   ]
  },
  {
   "cell_type": "code",
   "execution_count": 19,
   "metadata": {},
   "outputs": [
    {
     "name": "stdout",
     "output_type": "stream",
     "text": [
      "shape: (200, 100)\n",
      "ndim: 2\n"
     ]
    }
   ],
   "source": [
    "# np.squeeze(): 차원 축소\n",
    "data_3 = np.squeeze(data)\n",
    "\n",
    "utils(data_3)"
   ]
  },
  {
   "cell_type": "code",
   "execution_count": 11,
   "metadata": {},
   "outputs": [
    {
     "name": "stdout",
     "output_type": "stream",
     "text": [
      "shape: (200, 100, 1)\n",
      "ndim: 3\n"
     ]
    }
   ],
   "source": [
    "# np.newaxis\n",
    "data_4 = data[:, :, np.newaxis]\n",
    "\n",
    "utils(data_4)"
   ]
  },
  {
   "cell_type": "code",
   "execution_count": 16,
   "metadata": {},
   "outputs": [
    {
     "name": "stdout",
     "output_type": "stream",
     "text": [
      "shape: torch.Size([200, 100])\n",
      "ndim: 2\n"
     ]
    }
   ],
   "source": [
    "data_ts = torch.IntTensor(data)\n",
    "\n",
    "utils(data_ts)"
   ]
  },
  {
   "cell_type": "code",
   "execution_count": 21,
   "metadata": {},
   "outputs": [
    {
     "name": "stdout",
     "output_type": "stream",
     "text": [
      "shape: torch.Size([200, 100, 1])\n",
      "ndim: 3\n"
     ]
    }
   ],
   "source": [
    "# reshape\n",
    "data_ts_1 = data_ts.reshape((200, 100, 1))\n",
    "\n",
    "utils(data_ts_1)"
   ]
  },
  {
   "cell_type": "code",
   "execution_count": 22,
   "metadata": {},
   "outputs": [
    {
     "name": "stdout",
     "output_type": "stream",
     "text": [
      "shape: torch.Size([1, 200, 100])\n",
      "ndim: 3\n"
     ]
    }
   ],
   "source": [
    "# unspueeze\n",
    "data_ts_2 = data_ts.unsqueeze(dim=0)\n",
    "\n",
    "utils(data_ts_2)"
   ]
  },
  {
   "cell_type": "code",
   "execution_count": 23,
   "metadata": {},
   "outputs": [
    {
     "name": "stdout",
     "output_type": "stream",
     "text": [
      "shape: torch.Size([200, 1, 100])\n",
      "ndim: 3\n"
     ]
    }
   ],
   "source": [
    "data_ts_2 = data_ts.unsqueeze(1)\n",
    "\n",
    "utils(data_ts_2)"
   ]
  },
  {
   "cell_type": "code",
   "execution_count": 25,
   "metadata": {},
   "outputs": [
    {
     "name": "stdout",
     "output_type": "stream",
     "text": [
      "shape: torch.Size([200, 100, 1])\n",
      "ndim: 3\n"
     ]
    }
   ],
   "source": [
    "data_ts_2 = data_ts.unsqueeze(2)\n",
    "\n",
    "utils(data_ts_2)"
   ]
  },
  {
   "cell_type": "markdown",
   "metadata": {},
   "source": [
    "- shape 변경"
   ]
  },
  {
   "cell_type": "code",
   "execution_count": 26,
   "metadata": {},
   "outputs": [
    {
     "name": "stdout",
     "output_type": "stream",
     "text": [
      "shape: torch.Size([200, 100, 1])\n",
      "ndim: 3\n"
     ]
    }
   ],
   "source": [
    "# shape 변경\n",
    "# - T\n",
    "# - transpose()\n",
    "# - permute()\n",
    "\n",
    "utils(data_ts_2)"
   ]
  },
  {
   "cell_type": "code",
   "execution_count": 27,
   "metadata": {},
   "outputs": [
    {
     "name": "stdout",
     "output_type": "stream",
     "text": [
      "shape: torch.Size([200, 100, 1, 1])\n",
      "ndim: 4\n"
     ]
    }
   ],
   "source": [
    "data_ts_3 = data_ts_2.unsqueeze(3)\n",
    "utils(data_ts_3)"
   ]
  },
  {
   "cell_type": "code",
   "execution_count": 29,
   "metadata": {},
   "outputs": [
    {
     "name": "stdout",
     "output_type": "stream",
     "text": [
      "shape: torch.Size([1, 1, 100, 200])\n",
      "ndim: 4\n"
     ]
    }
   ],
   "source": [
    "# T 속성은 현재의 차원을 뒤집음\n",
    "utils(data_ts_3.T)"
   ]
  },
  {
   "cell_type": "code",
   "execution_count": 30,
   "metadata": {},
   "outputs": [
    {
     "name": "stdout",
     "output_type": "stream",
     "text": [
      "shape: torch.Size([200, 1, 100])\n",
      "ndim: 3\n",
      "shape: torch.Size([200, 1, 1, 100])\n",
      "ndim: 4\n"
     ]
    }
   ],
   "source": [
    "# transpose\n",
    "# - 두 개의 원하는 축 위치로 바꿀 수 있음\n",
    "\n",
    "utils(data_ts_2.transpose(1, 2))\n",
    "utils(data_ts_3.transpose(1, 3))"
   ]
  },
  {
   "cell_type": "code",
   "execution_count": 31,
   "metadata": {},
   "outputs": [
    {
     "name": "stdout",
     "output_type": "stream",
     "text": [
      "shape: torch.Size([1, 200, 100])\n",
      "ndim: 3\n",
      "shape: torch.Size([1, 100, 200, 1])\n",
      "ndim: 4\n"
     ]
    }
   ],
   "source": [
    "# permute\n",
    "# - 이거는 텐서에만 있는 속성\n",
    "\n",
    "utils(data_ts_2.permute(2, 0, 1))\n",
    "utils(data_ts_3.permute(3, 1, 0, 2))"
   ]
  },
  {
   "cell_type": "markdown",
   "metadata": {},
   "source": [
    "- 차원 축소\n",
    "    - 원소개수가 사라지지 않음"
   ]
  },
  {
   "cell_type": "code",
   "execution_count": 50,
   "metadata": {},
   "outputs": [
    {
     "name": "stdout",
     "output_type": "stream",
     "text": [
      "shape: (20000,)\n",
      "ndim: 1\n",
      "shape: (200, 100)\n",
      "ndim: 2\n",
      "\n",
      "shape: torch.Size([20000])\n",
      "ndim: 1\n",
      "shape: torch.Size([200, 100, 1])\n",
      "ndim: 3\n",
      "shape: torch.Size([200, 100, 1])\n",
      "ndim: 3\n"
     ]
    }
   ],
   "source": [
    "# reshape, squezze\n",
    "utils(data_2.reshape(-1))\n",
    "utils(np.squeeze(data_2))\n",
    "# utils(np.expand_dims(data_4, axis=-1))\n",
    "print()\n",
    "utils(data_ts_2.reshape(-1))\n",
    "utils(data_ts_3.squeeze(-1))\n",
    "utils(data_ts_3.squeeze(axis=3))    # 축 지정 제거, 지정된 축이 1D이면 삭제 아니먄 에러"
   ]
  },
  {
   "cell_type": "code",
   "execution_count": 54,
   "metadata": {},
   "outputs": [
    {
     "name": "stdout",
     "output_type": "stream",
     "text": [
      "shape: (200, 1, 100)\n",
      "ndim: 3\n",
      "shape: (200, 1, 100, 1)\n",
      "ndim: 4\n",
      "shape: torch.Size([200, 1, 100])\n",
      "ndim: 3\n",
      "shape: torch.Size([200, 1, 100, 1])\n",
      "ndim: 4\n"
     ]
    }
   ],
   "source": [
    "data_2_1 = np.expand_dims(data, axis=1)\n",
    "data_2_2 = np.expand_dims(data_2_1, axis=3)\n",
    "\n",
    "utils(data_2_1)\n",
    "utils(data_2_2)\n",
    "\n",
    "data_ts_2_1 = torch.IntTensor(data_2_1)\n",
    "data_ts_2_2 = torch.IntTensor(data_2_2)\n",
    "\n",
    "utils(data_ts_2_1)\n",
    "utils(data_ts_2_2)"
   ]
  },
  {
   "cell_type": "code",
   "execution_count": 55,
   "metadata": {},
   "outputs": [
    {
     "name": "stdout",
     "output_type": "stream",
     "text": [
      "shape: (200, 100, 1)\n",
      "ndim: 3\n",
      "shape: torch.Size([200, 100, 1])\n",
      "ndim: 3\n"
     ]
    }
   ],
   "source": [
    "utils(data_2_2.squeeze(axis=1))\n",
    "utils(data_ts_2_2.squeeze(dim=1))"
   ]
  },
  {
   "cell_type": "code",
   "execution_count": 56,
   "metadata": {},
   "outputs": [
    {
     "name": "stdout",
     "output_type": "stream",
     "text": [
      "shape: torch.Size([200, 1, 100])\n",
      "ndim: 3\n",
      "shape: torch.Size([200, 100])\n",
      "ndim: 2\n"
     ]
    }
   ],
   "source": [
    "utils(data_ts_2_1)\n",
    "data_ts_2_1.squeeze_(dim=1) # 원본 텐서 적용, pandas: inplace True\n",
    "utils(data_ts_2_1)"
   ]
  },
  {
   "cell_type": "code",
   "execution_count": null,
   "metadata": {},
   "outputs": [],
   "source": []
  }
 ],
 "metadata": {
  "kernelspec": {
   "display_name": "torch_cv_38",
   "language": "python",
   "name": "python3"
  },
  "language_info": {
   "codemirror_mode": {
    "name": "ipython",
    "version": 3
   },
   "file_extension": ".py",
   "mimetype": "text/x-python",
   "name": "python",
   "nbconvert_exporter": "python",
   "pygments_lexer": "ipython3",
   "version": "3.8.19"
  }
 },
 "nbformat": 4,
 "nbformat_minor": 2
}
