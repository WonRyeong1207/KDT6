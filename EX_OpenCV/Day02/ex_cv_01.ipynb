{
 "cells": [
  {
   "cell_type": "markdown",
   "metadata": {},
   "source": [
    "### image data processing\n",
    "- color model? color channel?\n",
    "    - channel split\n",
    "        - color - ndim: 3 (height, width, channel)\n",
    "        - gray - ndim: 2 (height, width) none channel information"
   ]
  },
  {
   "cell_type": "code",
   "execution_count": 2,
   "metadata": {},
   "outputs": [],
   "source": [
    "import cv2\n",
    "import pandas as pd\n",
    "import numpy as np\n",
    "import matplotlib.pyplot as plt\n",
    "import seaborn as sns\n",
    "\n",
    "import os"
   ]
  },
  {
   "cell_type": "code",
   "execution_count": 3,
   "metadata": {},
   "outputs": [],
   "source": [
    "img_path = '../image/skull.jpg'\n",
    "# 'C:\\Users\\PC\\Desktop\\AI_KDT6\\KDT6\\EX_OpenCV\\image\\skull.jpg'\n",
    "# '../../mini-project/DeepLearning/data/mucca/OIP-Ecf_2EWoZ0Mi1GhivZNSYQHaHa.jpeg'\n",
    "image_path = r'C:\\Users\\PC\\Desktop\\AI_KDT6\\KDT6\\mini-project\\DeepLearning\\data\\mucca\\OIP-Ecf_2EWoZ0Mi1GhivZNSYQHaHa.jpeg'"
   ]
  },
  {
   "cell_type": "markdown",
   "metadata": {},
   "source": [
    "- 카메라 관련 영상 처리\n",
    "    - 카메라와 연결\n",
    "    - 영상 처리"
   ]
  },
  {
   "cell_type": "code",
   "execution_count": 46,
   "metadata": {},
   "outputs": [],
   "source": [
    "import time"
   ]
  },
  {
   "cell_type": "code",
   "execution_count": 60,
   "metadata": {},
   "outputs": [
    {
     "name": "stdout",
     "output_type": "stream",
     "text": [
      "capture_2024_09_25-10_20_53.jpg\n",
      "time.struct_time(tm_year=2024, tm_mon=9, tm_mday=25, tm_hour=1, tm_min=20, tm_sec=53, tm_wday=2, tm_yday=269, tm_isdst=0)\n",
      "time.struct_time(tm_year=2024, tm_mon=9, tm_mday=25, tm_hour=10, tm_min=20, tm_sec=53, tm_wday=2, tm_yday=269, tm_isdst=0)\n",
      "2024 9 25\n"
     ]
    }
   ],
   "source": [
    "type1 = time.ctime()\n",
    "type2 = time.time()\n",
    "type3 = time.strftime('%Y_%m_%d-%H_%M_%S')\n",
    "\n",
    "SAVE_FILE = f\"capture_{type3}.jpg\"\n",
    "# SAVE_FILE = SAVE_FILE.replace(':', '_')\n",
    "# SAVE_FILE = SAVE_FILE.replace(' ', '_')\n",
    "# SAVE_FILE = SAVE_FILE.replace('/', '_')\n",
    "print(SAVE_FILE, sep='\\n\\n')\n",
    "\n",
    "# 현재 시간 정보 저장, global? local\n",
    "time_st1, time_st2 = time.gmtime(), time.localtime()\n",
    "\n",
    "print(time_st1)\n",
    "print(time_st2)\n",
    "print(time_st2.tm_year, time_st2.tm_mon, time_st2.tm_mday)"
   ]
  },
  {
   "cell_type": "code",
   "execution_count": 4,
   "metadata": {},
   "outputs": [],
   "source": [
    "# data & device\n",
    "IMG_PATH = '../image/'\n",
    "\n",
    "CAM_DEVICE = 0  # 0번은 노트북 기준 내장 카메라 사용"
   ]
  },
  {
   "cell_type": "code",
   "execution_count": 62,
   "metadata": {},
   "outputs": [
    {
     "name": "stdout",
     "output_type": "stream",
     "text": [
      "Camera Instance already\n",
      "\n",
      "None image data\n",
      "None image data\n",
      "None image data\n",
      "None image data\n",
      "None image data\n",
      "None image data\n",
      "None image data\n",
      "None image data\n",
      "None image data\n",
      "None image data\n",
      "None image data\n"
     ]
    }
   ],
   "source": [
    "# camera\n",
    "camera = cv2.VideoCapture(CAM_DEVICE)\n",
    "\n",
    "# open 여부\n",
    "if camera.isOpened():\n",
    "    print(\"Camera Instance already\\n\")\n",
    "    cnt = 0\n",
    "    while cnt <= 10:\n",
    "        ret, img = camera.read()\n",
    "        # key_code = cv2.waitKey(1)\n",
    "        \n",
    "        if ret:\n",
    "            cv2.imshow('web camera video image', img)\n",
    "            SAVE_FILE = IMG_PATH+SAVE_FILE\n",
    "            cv2.imwrite(SAVE_FILE, img)\n",
    "            \n",
    "            if cv2.waitKey(1) != -1:\n",
    "                print('camera stop')\n",
    "                break\n",
    "            \n",
    "        else:\n",
    "            print(\"None image data\")\n",
    "            cnt += 1\n",
    "        camera.release()\n",
    "        cv2.destroyAllWindows()\n",
    "else:\n",
    "    print(\"Check your camera device\")"
   ]
  },
  {
   "cell_type": "code",
   "execution_count": null,
   "metadata": {},
   "outputs": [],
   "source": []
  }
 ],
 "metadata": {
  "kernelspec": {
   "display_name": "torch_cv_38",
   "language": "python",
   "name": "python3"
  },
  "language_info": {
   "codemirror_mode": {
    "name": "ipython",
    "version": 3
   },
   "file_extension": ".py",
   "mimetype": "text/x-python",
   "name": "python",
   "nbconvert_exporter": "python",
   "pygments_lexer": "ipython3",
   "version": "3.8.19"
  }
 },
 "nbformat": 4,
 "nbformat_minor": 2
}
