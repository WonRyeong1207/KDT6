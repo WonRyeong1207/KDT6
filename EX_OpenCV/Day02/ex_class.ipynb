{
 "cells": [
  {
   "cell_type": "markdown",
   "metadata": {},
   "source": [
    "### class attribute\n",
    "- OOP(객체지향언어) 특징\n",
    "    - 상속\n",
    "    - 다향성\n",
    "    - 캡슐화 -> 속성이 외부에 비공개, 직접 속성 접근 불가, 간접 속성 접근 가능\n",
    "        - 간접 속성 접근 방법: getter/setter"
   ]
  },
  {
   "cell_type": "code",
   "execution_count": 30,
   "metadata": {},
   "outputs": [],
   "source": [
    "class Person:\n",
    "    # class parameter\n",
    "    #   - create by Person class\n",
    "    #   - use this without instance\n",
    "    \n",
    "    loc = 'Korea'\n",
    "    \n",
    "    # class instance method, Constructor\n",
    "    def __init__(self, name, age, gender):\n",
    "        self.__name = name\n",
    "        self.age = age\n",
    "        self.gender = gender\n",
    "        \n",
    "    # 비공개 인스턴스 간접접근: getter/setter method\n",
    "    def getName(self):\n",
    "        return self.__name\n",
    "    def setName(self, name):\n",
    "        self.__name = name"
   ]
  },
  {
   "cell_type": "code",
   "execution_count": 24,
   "metadata": {},
   "outputs": [
    {
     "data": {
      "text/plain": [
       "'Korea'"
      ]
     },
     "execution_count": 24,
     "metadata": {},
     "output_type": "execute_result"
    }
   ],
   "source": [
    "Person.loc"
   ]
  },
  {
   "cell_type": "code",
   "execution_count": 31,
   "metadata": {},
   "outputs": [
    {
     "name": "stdout",
     "output_type": "stream",
     "text": [
      "SeeU 17 female\n",
      "Uni 17 female\n"
     ]
    }
   ],
   "source": [
    "# Person.name\n",
    "p1 = Person('SeeU', 17, 'female')\n",
    "p2 = Person('Uni', 17, 'female')\n",
    "\n",
    "print(p1.getName(), p1.age, p1.gender)\n",
    "print(p2.getName(), p2.age, p2.gender)"
   ]
  },
  {
   "cell_type": "code",
   "execution_count": 32,
   "metadata": {},
   "outputs": [
    {
     "name": "stdout",
     "output_type": "stream",
     "text": [
      "SeeU Miku\n"
     ]
    }
   ],
   "source": [
    "# change instance attribute\n",
    "p1.name = 'Miku'    # 비공개인데... ? 변수 선언됨.\n",
    "print(p1.getName(), p1.name)"
   ]
  },
  {
   "cell_type": "code",
   "execution_count": 33,
   "metadata": {},
   "outputs": [
    {
     "name": "stdout",
     "output_type": "stream",
     "text": [
      "Miku 17 female\n"
     ]
    }
   ],
   "source": [
    "p1.setName('Miku')\n",
    "\n",
    "print(p1.getName(), p1.age, p1.gender)"
   ]
  }
 ],
 "metadata": {
  "kernelspec": {
   "display_name": "torch_cv_38",
   "language": "python",
   "name": "python3"
  },
  "language_info": {
   "codemirror_mode": {
    "name": "ipython",
    "version": 3
   },
   "file_extension": ".py",
   "mimetype": "text/x-python",
   "name": "python",
   "nbconvert_exporter": "python",
   "pygments_lexer": "ipython3",
   "version": "3.8.19"
  }
 },
 "nbformat": 4,
 "nbformat_minor": 2
}
