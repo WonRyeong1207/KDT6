{
 "cells": [
  {
   "cell_type": "markdown",
   "metadata": {},
   "source": [
    "### Series 데이터 자료형\n",
    "\n",
    "- 판다스에서 1줄의 데이터를 저장하는 자료형/데이터 타입\n",
    "- 형식 : pandas.Series()\n",
    "- 구성 : Index + Data"
   ]
  },
  {
   "cell_type": "code",
   "execution_count": 1,
   "metadata": {},
   "outputs": [],
   "source": [
    "import pandas as pd"
   ]
  },
  {
   "cell_type": "code",
   "execution_count": 2,
   "metadata": {},
   "outputs": [],
   "source": [
    "# 데이터 준비\n",
    "data1 = ['A', 'B', 'C']\n",
    "data2 = {'name':'Hong', 'age':10}"
   ]
  },
  {
   "cell_type": "code",
   "execution_count": 3,
   "metadata": {},
   "outputs": [],
   "source": [
    "# 객체를 생성\n",
    "sr1 = pd.Series(data1)\n",
    "sr2 = pd.Series(data2)"
   ]
  },
  {
   "cell_type": "code",
   "execution_count": 4,
   "metadata": {},
   "outputs": [
    {
     "data": {
      "text/plain": [
       "0    A\n",
       "1    B\n",
       "2    C\n",
       "dtype: object"
      ]
     },
     "execution_count": 4,
     "metadata": {},
     "output_type": "execute_result"
    }
   ],
   "source": [
    "sr1"
   ]
  },
  {
   "cell_type": "code",
   "execution_count": 5,
   "metadata": {},
   "outputs": [
    {
     "data": {
      "text/plain": [
       "name    Hong\n",
       "age       10\n",
       "dtype: object"
      ]
     },
     "execution_count": 5,
     "metadata": {},
     "output_type": "execute_result"
    }
   ],
   "source": [
    "sr2"
   ]
  },
  {
   "cell_type": "code",
   "execution_count": 7,
   "metadata": {},
   "outputs": [
    {
     "name": "stdout",
     "output_type": "stream",
     "text": [
      "Index :  RangeIndex(start=0, stop=3, step=1)\n",
      "Values :  ['A' 'B' 'C']\n",
      "dtype :  object\n",
      "ndim :  1\n"
     ]
    }
   ],
   "source": [
    "# 리스트 시리즈 객체 속성확인\n",
    "print(\"Index : \", sr1.index)\n",
    "print(\"Values : \", sr1.values)\n",
    "print(\"dtype : \", sr1.dtype)\n",
    "print(\"ndim : \", sr1.ndim)"
   ]
  },
  {
   "cell_type": "code",
   "execution_count": 8,
   "metadata": {},
   "outputs": [
    {
     "name": "stdout",
     "output_type": "stream",
     "text": [
      "Index :  Index(['name', 'age'], dtype='object')\n",
      "Values :  ['Hong' 10]\n",
      "dtype :  object\n",
      "ndim :  1\n"
     ]
    }
   ],
   "source": [
    "# 딕셔너리 시리즈 객체 속성확인\n",
    "print(\"Index : \", sr2.index)\n",
    "print(\"Values : \", sr2.values)\n",
    "print(\"dtype : \", sr2.dtype)\n",
    "print(\"ndim : \", sr2.ndim)"
   ]
  },
  {
   "cell_type": "code",
   "execution_count": 9,
   "metadata": {},
   "outputs": [
    {
     "name": "stdout",
     "output_type": "stream",
     "text": [
      "A B\n"
     ]
    }
   ],
   "source": [
    "# 시리즈 객체의 원소 읽기 ==> 변수명[인덱스]\n",
    "# sr1 객체의 원소 읽기\n",
    "print(sr1[0], sr1[1])"
   ]
  },
  {
   "cell_type": "code",
   "execution_count": 13,
   "metadata": {},
   "outputs": [
    {
     "name": "stdout",
     "output_type": "stream",
     "text": [
      "Hong 10\n"
     ]
    }
   ],
   "source": [
    "# sr2 객체의 원소 읽기\n",
    "print(sr2['name'], sr2['age'])"
   ]
  },
  {
   "cell_type": "code",
   "execution_count": 18,
   "metadata": {},
   "outputs": [
    {
     "name": "stdout",
     "output_type": "stream",
     "text": [
      "A C\n",
      "<class 'str'> <class 'str'>\n",
      "0    A\n",
      "2    C\n",
      "dtype: object\n",
      "<class 'pandas.core.series.Series'>\n"
     ]
    }
   ],
   "source": [
    "# sr1 객체에서 2개 원소 읽기\n",
    "# 0번 원소와 2번 원소 읽기\n",
    "print(sr1[0], sr1[2]) # 한개씩 따로따로\n",
    "print(type(sr1[0]), type(sr1[2]))\n",
    "\n",
    "print(sr1[[0, 2]]) # 여러개를 한꺼번에\n",
    "print(type(sr1[[0, 2]]))"
   ]
  },
  {
   "cell_type": "code",
   "execution_count": 19,
   "metadata": {},
   "outputs": [
    {
     "data": {
      "text/plain": [
       "0    A\n",
       "1    B\n",
       "dtype: object"
      ]
     },
     "execution_count": 19,
     "metadata": {},
     "output_type": "execute_result"
    }
   ],
   "source": [
    "## 시리즈 객체의 원소 읽기 ==> 변수명[시작:끝+1]\n",
    "sr1[0:2] # 시작:끝+1"
   ]
  },
  {
   "cell_type": "code",
   "execution_count": 20,
   "metadata": {},
   "outputs": [
    {
     "data": {
      "text/plain": [
       "0    A\n",
       "dtype: object"
      ]
     },
     "execution_count": 20,
     "metadata": {},
     "output_type": "execute_result"
    }
   ],
   "source": [
    "sr1[0:2:2] # 시작:끝+1:간격"
   ]
  },
  {
   "cell_type": "code",
   "execution_count": 21,
   "metadata": {},
   "outputs": [
    {
     "data": {
      "text/plain": [
       "0    A\n",
       "1    B\n",
       "2    C\n",
       "dtype: object"
      ]
     },
     "execution_count": 21,
     "metadata": {},
     "output_type": "execute_result"
    }
   ],
   "source": [
    "sr1[:] # 처음부터 끝까지"
   ]
  },
  {
   "cell_type": "code",
   "execution_count": null,
   "metadata": {},
   "outputs": [],
   "source": []
  }
 ],
 "metadata": {
  "kernelspec": {
   "display_name": "kdt6",
   "language": "python",
   "name": "python3"
  },
  "language_info": {
   "codemirror_mode": {
    "name": "ipython",
    "version": 3
   },
   "file_extension": ".py",
   "mimetype": "text/x-python",
   "name": "python",
   "nbconvert_exporter": "python",
   "pygments_lexer": "ipython3",
   "version": "3.11.9"
  }
 },
 "nbformat": 4,
 "nbformat_minor": 2
}
