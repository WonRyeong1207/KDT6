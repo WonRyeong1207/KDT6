{
 "cells": [
  {
   "cell_type": "markdown",
   "metadata": {},
   "source": [
    "### DataFarame 살펴보기\n",
    "- 판다스에서 데이터를 저장하는 자료형\n",
    "- 구성 : 2차원 데이터를 저장    인덱스 + 열이름 + 데이터\n",
    "- 형식 : pandas.DataFrame(2D data)"
   ]
  },
  {
   "cell_type": "code",
   "execution_count": 1,
   "metadata": {},
   "outputs": [],
   "source": [
    "import pandas as pd"
   ]
  },
  {
   "cell_type": "code",
   "execution_count": 2,
   "metadata": {},
   "outputs": [],
   "source": [
    "jumsu = [[98, 99, 100], [67, 81, 80]]"
   ]
  },
  {
   "cell_type": "code",
   "execution_count": 3,
   "metadata": {},
   "outputs": [],
   "source": [
    "# DF로 데이터를 저장\n",
    "df_jumsu = pd.DataFrame(jumsu)"
   ]
  },
  {
   "cell_type": "code",
   "execution_count": 4,
   "metadata": {},
   "outputs": [
    {
     "name": "stdout",
     "output_type": "stream",
     "text": [
      "    0   1    2\n",
      "0  98  99  100\n",
      "1  67  81   80\n"
     ]
    }
   ],
   "source": [
    "print(df_jumsu)"
   ]
  },
  {
   "cell_type": "code",
   "execution_count": 7,
   "metadata": {},
   "outputs": [
    {
     "name": "stdout",
     "output_type": "stream",
     "text": [
      "index: RangeIndex(start=0, stop=2, step=1)\n",
      "columns : RangeIndex(start=0, stop=3, step=1)\n",
      "values : \n",
      "[[ 98  99 100]\n",
      " [ 67  81  80]]\n",
      "ndim : 2\n",
      "dtypes : <class 'pandas.core.frame.DataFrame'>\n",
      "0    int64\n",
      "1    int64\n",
      "2    int64\n",
      "dtype: object\n",
      "shape : (2, 3)\n"
     ]
    }
   ],
   "source": [
    "# DF 속성읽기 ==> 변수명.속성명\n",
    "# -index, columns, values, ndim, dtypes, shape\n",
    "print(f\"index: {df_jumsu.index}\\ncolumns : {df_jumsu.columns}\\nvalues : \\n{df_jumsu.values}\\nndim : {df_jumsu.ndim}\\ndtypes : {type(df_jumsu)}\\n{df_jumsu.dtypes}\\nshape : {df_jumsu.shape}\")"
   ]
  },
  {
   "cell_type": "code",
   "execution_count": 8,
   "metadata": {},
   "outputs": [
    {
     "name": "stdout",
     "output_type": "stream",
     "text": [
      "    0   1    2\n",
      "0  98  99  100\n",
      "1  67  81   80\n"
     ]
    }
   ],
   "source": [
    "# DF 안의 모든 원소를 출력하세요\n",
    "print(df_jumsu)"
   ]
  },
  {
   "cell_type": "code",
   "execution_count": 11,
   "metadata": {},
   "outputs": [
    {
     "name": "stdout",
     "output_type": "stream",
     "text": [
      "0 0\n",
      "0 1\n",
      "0 2\n",
      "1 0\n",
      "1 1\n",
      "1 2\n"
     ]
    }
   ],
   "source": [
    "for r in df_jumsu.index:        # range(0, 2, 1)\n",
    "    for c in df_jumsu.columns:  # range(0, 3, 1)\n",
    "        print(r, c)"
   ]
  },
  {
   "cell_type": "markdown",
   "metadata": {},
   "source": [
    "- DateFrame 생성시 인덱스 지정 <hr>"
   ]
  },
  {
   "cell_type": "code",
   "execution_count": 14,
   "metadata": {},
   "outputs": [],
   "source": [
    "index_value = ['A', 'B']        # 인덱스 지정시에 데이터의 개수와 같아야함.\n",
    "column_value = ['국어', '과학', '미술']\n",
    "\n",
    "df2_jumsu = pd.DataFrame(jumsu, index_value, column_value)    # index 지정"
   ]
  },
  {
   "cell_type": "code",
   "execution_count": 15,
   "metadata": {},
   "outputs": [
    {
     "name": "stdout",
     "output_type": "stream",
     "text": [
      "   국어  과학   미술\n",
      "A  98  99  100\n",
      "B  67  81   80\n"
     ]
    }
   ],
   "source": [
    "print(df2_jumsu)"
   ]
  },
  {
   "cell_type": "code",
   "execution_count": 17,
   "metadata": {},
   "outputs": [
    {
     "name": "stdout",
     "output_type": "stream",
     "text": [
      "Index(['A', 'B'], dtype='object')\n",
      "<class 'pandas.core.frame.DataFrame'>\n"
     ]
    }
   ],
   "source": [
    "# DF의 인덱스 정보 속정 읽기 ==> 변수명.index\n",
    "print(df2_jumsu.index, type(df2_jumsu), sep='\\n')"
   ]
  },
  {
   "cell_type": "code",
   "execution_count": 18,
   "metadata": {},
   "outputs": [
    {
     "name": "stdout",
     "output_type": "stream",
     "text": [
      "Index(['국어', '과학', '미술'], dtype='object')\n",
      "<class 'pandas.core.frame.DataFrame'>\n"
     ]
    }
   ],
   "source": [
    "# DF의 인덱스 속성 읽기 ==> 변수명.columns\n",
    "print(df2_jumsu.columns, type(df2_jumsu), sep='\\n')"
   ]
  }
 ],
 "metadata": {
  "kernelspec": {
   "display_name": "kdt6",
   "language": "python",
   "name": "python3"
  },
  "language_info": {
   "codemirror_mode": {
    "name": "ipython",
    "version": 3
   },
   "file_extension": ".py",
   "mimetype": "text/x-python",
   "name": "python",
   "nbconvert_exporter": "python",
   "pygments_lexer": "ipython3",
   "version": "3.11.9"
  }
 },
 "nbformat": 4,
 "nbformat_minor": 2
}
