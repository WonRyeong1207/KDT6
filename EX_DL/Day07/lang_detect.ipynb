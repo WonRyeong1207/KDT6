{
 "cells": [
  {
   "cell_type": "markdown",
   "metadata": {},
   "source": [
    "#####  알파벳 기반 언어 식별 모델\n",
    "- 데이터셋 : lang.zip사용해서 생성 -> csv, json ,...\n",
    "- 학습방법 : 지도학습 > 분류 - 다중분류\n",
    "- 알고리즘 : 다양하게"
   ]
  },
  {
   "cell_type": "markdown",
   "metadata": {},
   "source": [
    "[1] 모듈 로딩 및 데이터 준비"
   ]
  },
  {
   "cell_type": "code",
   "execution_count": 35,
   "metadata": {},
   "outputs": [],
   "source": [
    "# 모듈로딩\n",
    "import pandas as pd             \n",
    "import os\n",
    "from collections import Counter "
   ]
  },
  {
   "cell_type": "code",
   "execution_count": 89,
   "metadata": {},
   "outputs": [],
   "source": [
    "# 데이터 파일\n",
    "TRAIN_PATH = '../data/lang/train/'\n",
    "TEST_PATH = '../data/lang/test/'\n",
    "\n",
    "TRAIN_CSV = '../data/lang_train.csv'\n",
    "TEST_CSV = '../data/lang_test.csv'"
   ]
  },
  {
   "cell_type": "code",
   "execution_count": 10,
   "metadata": {},
   "outputs": [
    {
     "name": "stdout",
     "output_type": "stream",
     "text": [
      "[File Data] \n"
     ]
    }
   ],
   "source": [
    "# 파일 읽기 => open() -> read(), readline(), readlines() -> close() \n",
    "#          => with open() as 구문\n",
    "\n",
    "if not os.path.exists(TRAIN_CSV):\n",
    "    print(f'{TRAIN_CSV} 파일이 없습니다.')\n",
    "else:\n",
    "    with open(TRAIN_CSV, mode='r') as f: \n",
    "        alldata=f.read()\n",
    "        print(f'[File Data] {alldata}' )\n",
    "        \n"
   ]
  },
  {
   "cell_type": "code",
   "execution_count": 86,
   "metadata": {},
   "outputs": [
    {
     "name": "stdout",
     "output_type": "stream",
     "text": [
      "en-1.txt ../data/lang/train/en-1.txt True\n",
      "Label => en\n",
      "alldata => 5358\n",
      "alldata => 4595\n",
      "en-2.txt ../data/lang/train/en-2.txt True\n",
      "Label => en\n",
      "alldata => 10782\n",
      "alldata => 8387\n",
      "en-3.txt ../data/lang/train/en-3.txt True\n",
      "Label => en\n",
      "alldata => 4397\n",
      "alldata => 3615\n",
      "en-4.txt ../data/lang/train/en-4.txt True\n",
      "Label => en\n",
      "alldata => 6815\n",
      "alldata => 5304\n",
      "en-5.txt ../data/lang/train/en-5.txt True\n",
      "Label => en\n",
      "alldata => 6146\n",
      "alldata => 4566\n",
      "fr-10.txt ../data/lang/train/fr-10.txt True\n",
      "Label => fr\n",
      "alldata => 21300\n",
      "alldata => 15596\n",
      "fr-6.txt ../data/lang/train/fr-6.txt True\n",
      "Label => fr\n",
      "alldata => 36732\n",
      "alldata => 27749\n",
      "fr-7.txt ../data/lang/train/fr-7.txt True\n",
      "Label => fr\n",
      "alldata => 22105\n",
      "alldata => 16915\n",
      "fr-8.txt ../data/lang/train/fr-8.txt True\n",
      "Label => fr\n",
      "alldata => 11142\n",
      "alldata => 8058\n",
      "fr-9.txt ../data/lang/train/fr-9.txt True\n",
      "Label => fr\n",
      "alldata => 7016\n",
      "alldata => 5130\n",
      "id-11.txt ../data/lang/train/id-11.txt True\n",
      "Label => id\n",
      "alldata => 2634\n",
      "alldata => 2007\n",
      "id-12.txt ../data/lang/train/id-12.txt True\n",
      "Label => id\n",
      "alldata => 9938\n",
      "alldata => 7936\n",
      "id-13.txt ../data/lang/train/id-13.txt True\n",
      "Label => id\n",
      "alldata => 30287\n",
      "alldata => 25451\n",
      "id-14.txt ../data/lang/train/id-14.txt True\n",
      "Label => id\n",
      "alldata => 17324\n",
      "alldata => 14905\n",
      "id-15.txt ../data/lang/train/id-15.txt True\n",
      "Label => id\n",
      "alldata => 78297\n",
      "alldata => 61604\n",
      "tl-16.txt ../data/lang/train/tl-16.txt True\n",
      "Label => tl\n",
      "alldata => 34630\n",
      "alldata => 27338\n",
      "tl-17.txt ../data/lang/train/tl-17.txt True\n",
      "Label => tl\n",
      "alldata => 40515\n",
      "alldata => 32871\n",
      "tl-18.txt ../data/lang/train/tl-18.txt True\n",
      "Label => tl\n",
      "alldata => 22366\n",
      "alldata => 17848\n",
      "tl-19.txt ../data/lang/train/tl-19.txt True\n",
      "Label => tl\n",
      "alldata => 15555\n",
      "alldata => 11568\n",
      "tl-20.txt ../data/lang/train/tl-20.txt True\n",
      "Label => tl\n",
      "alldata => 9000\n",
      "alldata => 7259\n"
     ]
    }
   ],
   "source": [
    "# 폴더 안에 파일 및 폴더 을 가져오기\n",
    "files=os.listdir(TRAIN_PATH)\n",
    "\n",
    "for file in files:\n",
    "    # 라벨 /타겟 추출  \n",
    "    print(file, TRAIN_PATH+file, os.path.exists(TRAIN_PATH+file))\n",
    "    label=file[:2]\n",
    "    print(f'Label => {label}')\n",
    "    \n",
    "    # 데이터 추출\n",
    "    with open(TRAIN_PATH+file, mode='r') as f: \n",
    "         alldata=f.read()\n",
    "     \n",
    "    # 추출된 데이터 가공 => 대소문자 통일\n",
    "    alldata=alldata.lower()\n",
    "    \n",
    "    #- 알파벳 아닌 문자들 제거\n",
    "    alldata=alldata.replace('\\n', '')\n",
    "    print(f'alldata => {len(alldata)}')\n",
    "    \n",
    "    for ch in alldata:\n",
    "         if ord('a')> ord(ch) or ord(ch)> ord('z'): \n",
    "              alldata=alldata.replace(ch, '')\n",
    "    print(f'alldata => {len(alldata)}')\n",
    "    \n",
    "    # 파일에 데이터 쓰기\n",
    "    with open(TRAIN_CSV ,mode='a') as f:\n",
    "     # - a ~ z 개수 카운팅  ==> 정렬, 전체 단어수로 나누기 \n",
    "     a_z=[]\n",
    "     for _ in range(ord('a'), ord('z')+1):\n",
    "          cnt = alldata.count(chr(_))\n",
    "          a_z.append(str(cnt/len(alldata)))\n",
    "          \n",
    "     f.write(label+',')\n",
    "     f.write(','.join( a_z )+'\\n')"
   ]
  },
  {
   "cell_type": "code",
   "execution_count": 101,
   "metadata": {},
   "outputs": [],
   "source": [
    "def make_dataset(dir_path, file_path):\n",
    "    files=os.listdir(dir_path)\n",
    "\n",
    "    for file in files:\n",
    "        label=file[:2]\n",
    "        \n",
    "        with open(dir_path+file, mode='r') as f: \n",
    "            alldata=f.read()\n",
    "        \n",
    "        #- 대소문자 통일\n",
    "        alldata=alldata.lower()\n",
    "        \n",
    "        #- 알파벳 아닌 문자들 제거\n",
    "        alldata=alldata.replace('\\n', '')\n",
    "        print(f'alldata => {len(alldata)}')\n",
    "        \n",
    "        for ch in alldata:\n",
    "            if ord('a')> ord(ch) or ord(ch)> ord('z'): \n",
    "                alldata=alldata.replace(ch, '')\n",
    "        print(f'alldata => {len(alldata)}')\n",
    "        \n",
    "        with open(file_path ,mode='a') as f:\n",
    "            # - a ~ z 개수 카운팅  ==> 정렬, 전체 단어수로 나누기 \n",
    "            a_z=[]\n",
    "            for _ in range(ord('a'), ord('z')+1):\n",
    "                cnt = alldata.count(chr(_))\n",
    "                a_z.append(str(cnt/len(alldata)))\n",
    "                \n",
    "            f.write(label+',')\n",
    "            f.write(','.join( a_z )+'\\n')\n"
   ]
  },
  {
   "cell_type": "code",
   "execution_count": 136,
   "metadata": {},
   "outputs": [
    {
     "data": {
      "text/plain": [
       "['0.15384615384615385',\n",
       " '0.07692307692307693',\n",
       " '0.15384615384615385',\n",
       " '0.3076923076923077',\n",
       " '0.15384615384615385',\n",
       " '0.07692307692307693',\n",
       " '0.07692307692307693',\n",
       " '0.0',\n",
       " '0.0',\n",
       " '0.0',\n",
       " '0.0',\n",
       " '0.0',\n",
       " '0.0',\n",
       " '0.0',\n",
       " '0.0',\n",
       " '0.0',\n",
       " '0.0',\n",
       " '0.0',\n",
       " '0.0',\n",
       " '0.0',\n",
       " '0.0',\n",
       " '0.0',\n",
       " '0.0',\n",
       " '0.0',\n",
       " '0.0',\n",
       " '0.0']"
      ]
     },
     "execution_count": 136,
     "metadata": {},
     "output_type": "execute_result"
    }
   ],
   "source": [
    "def preprocessing(msg):\n",
    "    #- 대소문자 통일\n",
    "    msg=msg.lower()\n",
    "    \n",
    "    #- 알파벳만 카운팅\n",
    "    azDict=dict.fromkeys([chr(code) for code in range(ord('a'), ord('z')+1)], 0)\n",
    "    for ch in msg:\n",
    "        if ord('a')<= ord(ch)<= ord('z'): \n",
    "            azDict[ch]+=1\n",
    "            \n",
    "    return [str(value/len(msg)) for value in azDict.values()]\n",
    "    \n",
    "preprocessing('aabccddddeefg')        "
   ]
  },
  {
   "cell_type": "code",
   "execution_count": 102,
   "metadata": {},
   "outputs": [
    {
     "name": "stdout",
     "output_type": "stream",
     "text": [
      "alldata => 5358\n",
      "alldata => 4595\n",
      "alldata => 10782\n",
      "alldata => 8387\n",
      "alldata => 4397\n",
      "alldata => 3615\n",
      "alldata => 6815\n",
      "alldata => 5304\n",
      "alldata => 6146\n",
      "alldata => 4566\n",
      "alldata => 21300\n",
      "alldata => 15596\n",
      "alldata => 36732\n",
      "alldata => 27749\n",
      "alldata => 22105\n",
      "alldata => 16915\n",
      "alldata => 11142\n",
      "alldata => 8058\n",
      "alldata => 7016\n",
      "alldata => 5130\n",
      "alldata => 2634\n",
      "alldata => 2007\n",
      "alldata => 9938\n",
      "alldata => 7936\n",
      "alldata => 30287\n",
      "alldata => 25451\n",
      "alldata => 17324\n",
      "alldata => 14905\n",
      "alldata => 78297\n",
      "alldata => 61604\n",
      "alldata => 34630\n",
      "alldata => 27338\n",
      "alldata => 40515\n",
      "alldata => 32871\n",
      "alldata => 22366\n",
      "alldata => 17848\n",
      "alldata => 15555\n",
      "alldata => 11568\n",
      "alldata => 9000\n",
      "alldata => 7259\n",
      "alldata => 59001\n",
      "alldata => 45619\n",
      "alldata => 139001\n",
      "alldata => 101952\n",
      "alldata => 35425\n",
      "alldata => 26566\n",
      "alldata => 63459\n",
      "alldata => 45301\n",
      "alldata => 7930\n",
      "alldata => 6154\n",
      "alldata => 33000\n",
      "alldata => 25641\n",
      "alldata => 33673\n",
      "alldata => 26235\n",
      "alldata => 2052\n",
      "alldata => 1652\n"
     ]
    }
   ],
   "source": [
    "make_dataset(TRAIN_PATH, TRAIN_CSV)\n",
    "make_dataset(TEST_PATH, TEST_CSV)"
   ]
  },
  {
   "cell_type": "markdown",
   "metadata": {},
   "source": [
    "[2] 학습 준비"
   ]
  },
  {
   "cell_type": "markdown",
   "metadata": {},
   "source": [
    "-[2-1] 피쳐와 라벨 추출"
   ]
  },
  {
   "cell_type": "code",
   "execution_count": 112,
   "metadata": {},
   "outputs": [],
   "source": [
    "trainDF=pd.read_csv(TRAIN_CSV, header=None)\n"
   ]
  },
  {
   "cell_type": "code",
   "execution_count": 115,
   "metadata": {},
   "outputs": [],
   "source": [
    "featrueDF = trainDF[trainDF.columns[1:]]\n",
    "labelSR = trainDF[0]"
   ]
  },
  {
   "cell_type": "code",
   "execution_count": 116,
   "metadata": {},
   "outputs": [
    {
     "name": "stdout",
     "output_type": "stream",
     "text": [
      "featrueDF : (20, 26)   labelSR : (20,)\n"
     ]
    }
   ],
   "source": [
    "print(f'featrueDF : {featrueDF.shape}   labelSR : {labelSR.shape}')"
   ]
  },
  {
   "cell_type": "code",
   "execution_count": 117,
   "metadata": {},
   "outputs": [],
   "source": [
    "from sklearn.model_selection import train_test_split\n",
    "\n",
    "X_train, X_val, y_train, y_val = train_test_split(featrueDF, labelSR,\n",
    "                                                  stratify=labelSR,\n",
    "                                                  random_state=10)"
   ]
  },
  {
   "cell_type": "code",
   "execution_count": 118,
   "metadata": {},
   "outputs": [
    {
     "name": "stdout",
     "output_type": "stream",
     "text": [
      "X_train : (15, 26)   y_train : (15,)\n",
      "X_val   : (5, 26)     X_val : (5, 26)\n"
     ]
    }
   ],
   "source": [
    "print(f'X_train : {X_train.shape}   y_train : {y_train.shape}')\n",
    "print(f'X_val   : {X_val.shape}     X_val : {X_val.shape}')"
   ]
  },
  {
   "cell_type": "markdown",
   "metadata": {},
   "source": [
    "[3] 학습 진행"
   ]
  },
  {
   "cell_type": "code",
   "execution_count": 119,
   "metadata": {},
   "outputs": [],
   "source": [
    "from sklearn.svm import SVC"
   ]
  },
  {
   "cell_type": "code",
   "execution_count": 126,
   "metadata": {},
   "outputs": [
    {
     "data": {
      "text/html": [
       "<style>#sk-container-id-3 {color: black;}#sk-container-id-3 pre{padding: 0;}#sk-container-id-3 div.sk-toggleable {background-color: white;}#sk-container-id-3 label.sk-toggleable__label {cursor: pointer;display: block;width: 100%;margin-bottom: 0;padding: 0.3em;box-sizing: border-box;text-align: center;}#sk-container-id-3 label.sk-toggleable__label-arrow:before {content: \"▸\";float: left;margin-right: 0.25em;color: #696969;}#sk-container-id-3 label.sk-toggleable__label-arrow:hover:before {color: black;}#sk-container-id-3 div.sk-estimator:hover label.sk-toggleable__label-arrow:before {color: black;}#sk-container-id-3 div.sk-toggleable__content {max-height: 0;max-width: 0;overflow: hidden;text-align: left;background-color: #f0f8ff;}#sk-container-id-3 div.sk-toggleable__content pre {margin: 0.2em;color: black;border-radius: 0.25em;background-color: #f0f8ff;}#sk-container-id-3 input.sk-toggleable__control:checked~div.sk-toggleable__content {max-height: 200px;max-width: 100%;overflow: auto;}#sk-container-id-3 input.sk-toggleable__control:checked~label.sk-toggleable__label-arrow:before {content: \"▾\";}#sk-container-id-3 div.sk-estimator input.sk-toggleable__control:checked~label.sk-toggleable__label {background-color: #d4ebff;}#sk-container-id-3 div.sk-label input.sk-toggleable__control:checked~label.sk-toggleable__label {background-color: #d4ebff;}#sk-container-id-3 input.sk-hidden--visually {border: 0;clip: rect(1px 1px 1px 1px);clip: rect(1px, 1px, 1px, 1px);height: 1px;margin: -1px;overflow: hidden;padding: 0;position: absolute;width: 1px;}#sk-container-id-3 div.sk-estimator {font-family: monospace;background-color: #f0f8ff;border: 1px dotted black;border-radius: 0.25em;box-sizing: border-box;margin-bottom: 0.5em;}#sk-container-id-3 div.sk-estimator:hover {background-color: #d4ebff;}#sk-container-id-3 div.sk-parallel-item::after {content: \"\";width: 100%;border-bottom: 1px solid gray;flex-grow: 1;}#sk-container-id-3 div.sk-label:hover label.sk-toggleable__label {background-color: #d4ebff;}#sk-container-id-3 div.sk-serial::before {content: \"\";position: absolute;border-left: 1px solid gray;box-sizing: border-box;top: 0;bottom: 0;left: 50%;z-index: 0;}#sk-container-id-3 div.sk-serial {display: flex;flex-direction: column;align-items: center;background-color: white;padding-right: 0.2em;padding-left: 0.2em;position: relative;}#sk-container-id-3 div.sk-item {position: relative;z-index: 1;}#sk-container-id-3 div.sk-parallel {display: flex;align-items: stretch;justify-content: center;background-color: white;position: relative;}#sk-container-id-3 div.sk-item::before, #sk-container-id-3 div.sk-parallel-item::before {content: \"\";position: absolute;border-left: 1px solid gray;box-sizing: border-box;top: 0;bottom: 0;left: 50%;z-index: -1;}#sk-container-id-3 div.sk-parallel-item {display: flex;flex-direction: column;z-index: 1;position: relative;background-color: white;}#sk-container-id-3 div.sk-parallel-item:first-child::after {align-self: flex-end;width: 50%;}#sk-container-id-3 div.sk-parallel-item:last-child::after {align-self: flex-start;width: 50%;}#sk-container-id-3 div.sk-parallel-item:only-child::after {width: 0;}#sk-container-id-3 div.sk-dashed-wrapped {border: 1px dashed gray;margin: 0 0.4em 0.5em 0.4em;box-sizing: border-box;padding-bottom: 0.4em;background-color: white;}#sk-container-id-3 div.sk-label label {font-family: monospace;font-weight: bold;display: inline-block;line-height: 1.2em;}#sk-container-id-3 div.sk-label-container {text-align: center;}#sk-container-id-3 div.sk-container {/* jupyter's `normalize.less` sets `[hidden] { display: none; }` but bootstrap.min.css set `[hidden] { display: none !important; }` so we also need the `!important` here to be able to override the default hidden behavior on the sphinx rendered scikit-learn.org. See: https://github.com/scikit-learn/scikit-learn/issues/21755 */display: inline-block !important;position: relative;}#sk-container-id-3 div.sk-text-repr-fallback {display: none;}</style><div id=\"sk-container-id-3\" class=\"sk-top-container\"><div class=\"sk-text-repr-fallback\"><pre>SVC(C=5)</pre><b>In a Jupyter environment, please rerun this cell to show the HTML representation or trust the notebook. <br />On GitHub, the HTML representation is unable to render, please try loading this page with nbviewer.org.</b></div><div class=\"sk-container\" hidden><div class=\"sk-item\"><div class=\"sk-estimator sk-toggleable\"><input class=\"sk-toggleable__control sk-hidden--visually\" id=\"sk-estimator-id-3\" type=\"checkbox\" checked><label for=\"sk-estimator-id-3\" class=\"sk-toggleable__label sk-toggleable__label-arrow\">SVC</label><div class=\"sk-toggleable__content\"><pre>SVC(C=5)</pre></div></div></div></div></div>"
      ],
      "text/plain": [
       "SVC(C=5)"
      ]
     },
     "execution_count": 126,
     "metadata": {},
     "output_type": "execute_result"
    }
   ],
   "source": [
    "model = SVC(C=5)\n",
    "model.fit(X_train, y_train)"
   ]
  },
  {
   "cell_type": "code",
   "execution_count": 127,
   "metadata": {},
   "outputs": [],
   "source": [
    "train_score=model.score(X_train, y_train)\n",
    "val_score=model.score(X_val, y_val)"
   ]
  },
  {
   "cell_type": "code",
   "execution_count": 128,
   "metadata": {},
   "outputs": [
    {
     "name": "stdout",
     "output_type": "stream",
     "text": [
      "train_score : 1.0   val_score : 1.0\n"
     ]
    }
   ],
   "source": [
    "print(f'train_score : {train_score}   val_score : {val_score}')"
   ]
  },
  {
   "cell_type": "markdown",
   "metadata": {},
   "source": [
    "[4] 성능평가"
   ]
  },
  {
   "cell_type": "code",
   "execution_count": 129,
   "metadata": {},
   "outputs": [],
   "source": [
    "from sklearn.metrics import classification_report"
   ]
  },
  {
   "cell_type": "code",
   "execution_count": 130,
   "metadata": {},
   "outputs": [
    {
     "name": "stdout",
     "output_type": "stream",
     "text": [
      "              precision    recall  f1-score   support\n",
      "\n",
      "          en       1.00      1.00      1.00         2\n",
      "          fr       1.00      1.00      1.00         2\n",
      "          id       1.00      1.00      1.00         2\n",
      "          tl       1.00      1.00      1.00         2\n",
      "\n",
      "    accuracy                           1.00         8\n",
      "   macro avg       1.00      1.00      1.00         8\n",
      "weighted avg       1.00      1.00      1.00         8\n",
      "\n"
     ]
    }
   ],
   "source": [
    "testDF=pd.read_csv(TEST_CSV, header=None)\n",
    "X_test, y_test = testDF[testDF.columns[1:]], testDF[testDF.columns[0]]\n",
    "y_pre = model.predict(X_test)\n",
    "print(classification_report(y_test, y_pre))"
   ]
  },
  {
   "cell_type": "markdown",
   "metadata": {},
   "source": [
    "[5] 서비스"
   ]
  },
  {
   "cell_type": "code",
   "execution_count": 147,
   "metadata": {},
   "outputs": [],
   "source": [
    "input_data = input(\"영어, 프랑스어, 인도네이서아, 카탈로그어 중 언어를 사용한 문장 입력:\\n\")\n",
    "in_data02=\"\"\"Vampire: The Masquerade - Bloodlines (ou simplement Bloodlines, parfois abrégé VTMB) est un jeu vidéo de rôle (RPG) développé par Troika Games et édité par Activision sur PC (Windows) en novembre 2004 en Europe et en Amérique du Nord. Ce RPG, aussi bien affiché à la première qu'à la troisième personne, est orienté narration et fait la part belle à l'action et à des phases d'infiltration. C'est la deuxième adaptation du jeu de rôle papier originel Vampire : La Mascarade, après Rédemption sorti en 2000.\n",
    "\n",
    "L'intrigue prend place dans l'univers du Monde des ténèbres de White Wolf Publishing, et plus précisément du jeu Vampire : La Mascarade. Le joueur incarne un personnage masculin ou féminin transformé en vampire dans un Los Angeles du XXIe siècle. Le jeu met en scène le parcours de ce débutant du monde vampirique, qui se trouve contraint d'enquêter sur un mystérieux sarcophage récemment découvert contenant une relique censée provoquer la disparition de tous les vampires. Le joueur choisit le clan du personnage joueur, si bien que celui-ci se voit doté de pouvoirs et capacités spécifiques et uniques en fonction du choix, ce qui influence la façon dont l'avatar est perçu dans l'univers du jeu. Grâce à des points d'expérience gagnés en réalisant des missions, le joueur fait progresser ses capacités, aussi bien en combat, grâce à des caractéristiques comme la force ou la manipulation, que dans la persuasion, dans son aspect, dans son érudition, ou certaines techniques comme sa maîtrise de l'informatique ou l'effraction. En fonction des capacités de son avatar, le joueur use de méthodes violentes ou non-violentes, parfois avec intimidation, d'autres avec séduction. Le joueur peut avancer dans l'intrigue principale ou effectuer des quêtes secondaires en établissant des relations avec les personnages non-joueurs, en se déplaçant librement entre les différents quartiers ou banlieues de Los Angeles que sont Santa Monica, Downtown, Hollywood et Chinatown.\"\"\""
   ]
  },
  {
   "cell_type": "code",
   "execution_count": 145,
   "metadata": {},
   "outputs": [
    {
     "data": {
      "text/plain": [
       "array(['en'], dtype=object)"
      ]
     },
     "execution_count": 145,
     "metadata": {},
     "output_type": "execute_result"
    }
   ],
   "source": [
    "data=preprocessing(input_data)\n",
    "dataDF=pd.DataFrame(data).T\n",
    "\n",
    "model.predict(dataDF)"
   ]
  },
  {
   "cell_type": "code",
   "execution_count": 148,
   "metadata": {},
   "outputs": [
    {
     "data": {
      "text/plain": [
       "array(['fr'], dtype=object)"
      ]
     },
     "execution_count": 148,
     "metadata": {},
     "output_type": "execute_result"
    }
   ],
   "source": [
    "data=preprocessing(in_data02)\n",
    "dataDF=pd.DataFrame(data).T\n",
    "\n",
    "model.predict(dataDF)"
   ]
  }
 ],
 "metadata": {
  "kernelspec": {
   "display_name": "ML_38",
   "language": "python",
   "name": "python3"
  },
  "language_info": {
   "codemirror_mode": {
    "name": "ipython",
    "version": 3
   },
   "file_extension": ".py",
   "mimetype": "text/x-python",
   "name": "python",
   "nbconvert_exporter": "python",
   "pygments_lexer": "ipython3",
   "version": "3.8.19"
  }
 },
 "nbformat": 4,
 "nbformat_minor": 2
}
