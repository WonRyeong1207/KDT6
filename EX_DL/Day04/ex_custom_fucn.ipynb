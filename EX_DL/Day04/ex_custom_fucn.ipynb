{
 "cells": [
  {
   "cell_type": "markdown",
   "metadata": {},
   "source": [
    "### 사용자 정의 함수"
   ]
  },
  {
   "cell_type": "markdown",
   "metadata": {},
   "source": [
    "---\n",
    "- 함수 기능 : 모델 학습 진행 함수\n",
    "- 함수 이름 : training\n",
    "- 매개변수  : 함수 구동시 필요한 재료\n",
    "    - 학습을 위한 재료\n",
    "        - model instance\n",
    "        - learning datasets: feature와 label (학습전 tensor화)\n",
    "        - loss function instance\n",
    "        - optimization instanve\n",
    "        - range of learning: epoch\n",
    "        - 배치 크기: batch_size\n",
    "        - 배치 개수: batch_cnt\n",
    "        - validation datasets: feature & label (학습전 tensor화)\n",
    "- 함수 결과 : 학습 시 epoch 마다 loss value와 performance index value\n",
    "---"
   ]
  },
  {
   "cell_type": "markdown",
   "metadata": {},
   "source": [
    "---\n",
    "- 함수 기능 : epoch 단위 모델 학습 진행 함수\n",
    "- 함수 이름 : epochTraining\n",
    "- 매개변수  : 함수 구동 시 필요한 재료\n",
    "    - 학습을 위한 재료\n",
    "        - model instance\n",
    "        - loss function instance\n",
    "        - optimization instance\n",
    "        - train datasets: feature & target (tpye tensor)\n",
    "        - batch_size\n",
    "        - batxh_nnt\n",
    "- 함수 결과 : loaa value & performance index value\n",
    "---"
   ]
  },
  {
   "cell_type": "code",
   "execution_count": 1,
   "metadata": {},
   "outputs": [],
   "source": [
    "import torch\n",
    "import torch.nn as nn\n",
    "import torch.nn.functional as F\n",
    "import torch.optim as optima\n",
    "\n",
    "from torchmetrics.regression import R2Score\n",
    "from torchmetrics.classification import F1Score\n",
    "\n",
    "from sklearn.model_selection import train_test_split\n",
    "\n",
    "import pandas as pd\n",
    "import numpy as np\n",
    "import matplotlib.pyplot as plt\n",
    "import seaborn as sns"
   ]
  },
  {
   "cell_type": "code",
   "execution_count": null,
   "metadata": {},
   "outputs": [],
   "source": [
    "DEVICE = 'cuda' if torch.cuda.is_available() else 'cpu'\n",
    "\n",
    "print(f\" device: {DEVICE}\")"
   ]
  },
  {
   "cell_type": "code",
   "execution_count": 9,
   "metadata": {},
   "outputs": [],
   "source": [
    "# 검즘 및 테스트\n",
    "def testing(model, feature, label, loss_f, is_regress=True):\n",
    "    \n",
    "    with torch.no_grad():\n",
    "        X_val = torch.FloatTensor(feature.value).to(DEVICE)\n",
    "        y_val = torch.FloatTensor(label.value).to(DEVICE)\n",
    "        \n",
    "\n",
    "        y_pred = model(X_val).to(DEVICE)\n",
    "\n",
    "        loss = loss_f(y_pred, y_val)\n",
    "        \n",
    "        score = R2Score()(y_pred, y_val) if is_regress else F1Score()(y_pred, y_train)\n",
    "        \n",
    "    return loss, score"
   ]
  },
  {
   "cell_type": "code",
   "execution_count": 10,
   "metadata": {},
   "outputs": [],
   "source": [
    "# epoch 단위 모델 학습 진행 함수\n",
    "def epoch_training(model, feature, label, loss_f, optimizer, batch_size=32, is_regress=True):\n",
    "    batch_cnt = feature.shape[0] // batch_size\n",
    "    \n",
    "    loss_total, score_total = 0, 0\n",
    "    # epoch에서 batch_size 만큼 datasets 추출 후 학습 진행\n",
    "    for batch in range(batch_cnt):\n",
    "        start = batch * batch_size\n",
    "        end = start + batch_size\n",
    "    \n",
    "        X_train = torch.FloatTensor(feature[start:end].value).to(DEVICE)\n",
    "        y_train = torch.FloatTensor(label[start:end].value).to(DEVICE)\n",
    "        \n",
    "        # model learning\n",
    "        y_pred = model(X_train).to(DEVICE)\n",
    "        \n",
    "        # loss calcu\n",
    "        loss = loss_f(y_pred, y_train)\n",
    "        loss_total += loss\n",
    "        \n",
    "         # performance index value\n",
    "        # test 및 성능 결과값 함수로... \n",
    "        score = R2Score()(y_pred, y_train) if is_regress else F1Score()(y_pred, y_train)\n",
    "        score_total += score\n",
    "    \n",
    "    \n",
    "        # optimization: weight, bais update\n",
    "        optimizer.zero_grad()\n",
    "        loss_f.backward()\n",
    "        optimizer.step()\n",
    "        \n",
    "    \n",
    "    # return\n",
    "    return loss_total/batch_cnt, score_total/batch_cnt"
   ]
  },
  {
   "cell_type": "code",
   "execution_count": null,
   "metadata": {},
   "outputs": [],
   "source": [
    "feature_df = pd.DataFrame(data=np.array([[1, 2, 3], [1, 2, 2]]))\n",
    "label_df = pd.DataFrame(data=np.array([[1, 13, 4]]))\n",
    "\n",
    "X_train, X_test, y_train, y_test = train_test_split(feature_df, label_df)\n",
    "X_train, X_val, y_train, y_val = train_test_split(X_train, y_train)\n",
    "\n",
    "\n",
    "model_instance = nn.Linear(1, 2)\n",
    "loss_function = optima.Adam(model_instance.parameters(), lr=0.001)"
   ]
  },
  {
   "cell_type": "code",
   "execution_count": null,
   "metadata": {},
   "outputs": [],
   "source": [
    "# 학습진행\n",
    "EPOCHS = 1000\n",
    "train_val_loss = {'train':[], 'val':[]}\n",
    "train_val_score = {'train':[], 'val':[]}\n",
    "\n",
    "for epoch in  range(EPOCHS):\n",
    "    # 학습진행\n",
    "    train_loss, train_score = epoch_training(model_instance, X_train, y_train, loss_function)\n",
    "    \n",
    "    # 검증 진행\n",
    "    val_loss, val_score = testing(model_instance, X_val, y_val)\n",
    "    \n",
    "    train_val_loss['train'].append(train_loss.item())\n",
    "    train_val_score['train'].append(train_score.item())\n",
    "    train_val_loss['val'].append(val_loss.item())\n",
    "    train_val_score['val'].append(val_loss.item())\n",
    "    \n",
    "    print(f\"[{epoch:5}/{EPOCHS:5}]  [Train]      Loss: {train_loss.item():.8f}, Score: {train_score.item():.8f}\")\n",
    "    print(f\"[{epoch:5}/{EPOCHS:5}]  [Validation] Loss: {val_loss.item():.8f}, Score: {val_score.item():.8f}\")"
   ]
  }
 ],
 "metadata": {
  "kernelspec": {
   "display_name": "torch_38",
   "language": "python",
   "name": "python3"
  },
  "language_info": {
   "codemirror_mode": {
    "name": "ipython",
    "version": 3
   },
   "file_extension": ".py",
   "mimetype": "text/x-python",
   "name": "python",
   "nbconvert_exporter": "python",
   "pygments_lexer": "ipython3",
   "version": "3.8.19"
  }
 },
 "nbformat": 4,
 "nbformat_minor": 2
}
