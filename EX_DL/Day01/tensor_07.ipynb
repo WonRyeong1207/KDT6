{
 "cells": [
  {
   "cell_type": "markdown",
   "metadata": {},
   "source": [
    "### Tensor 이해_7\n",
    "- torch version: 2.4.1\n",
    "- tensor reshape\n",
    "    - tensor.reshape\n",
    "    - tensor.view\n",
    "    - tensor.transpose(axis): 2개dlm axis를 맞교환하여 reshaped tensor reurn\n",
    "    - tensor.permute(axis): 모든 axis를 맞교환 하여 reshaped tensor return\n",
    "    - torch.squeeze(tensor): 1인 차원을 모두 제거하여 tensor reshape\n",
    "    - tensor.squeeze(dim): 지정된 차원에 1인 차원을 생성하여 tensor reshape\n",
    "    - Contuguous\n",
    "        - is_contiguous(): 연속성 여부\n",
    "        - contiguous(): 연속성을 가지도록 만듦?"
   ]
  },
  {
   "cell_type": "code",
   "execution_count": 1,
   "metadata": {},
   "outputs": [
    {
     "name": "stdout",
     "output_type": "stream",
     "text": [
      "torch version: 2.4.1\n"
     ]
    }
   ],
   "source": [
    "import torch\n",
    "import numpy as np\n",
    "\n",
    "print(f\"torch version: {torch.__version__}\")"
   ]
  },
  {
   "cell_type": "code",
   "execution_count": 2,
   "metadata": {},
   "outputs": [],
   "source": [
    "# 텐서 속성 정보 출력 함수\n",
    "\n",
    "def printInfo(obj, obj_name):\n",
    "    print(f\"\\n[{obj_name}]\")\n",
    "    print(f\"shape: {obj.shape}\")\n",
    "    print(f\"ndim: {obj.ndim}D\")\n",
    "    print(f\"dtype: {obj.dtype}\")\n",
    "    try:\n",
    "        print(f\"device: {obj.device}\")\n",
    "    except:\n",
    "        pass\n",
    "    print(f\"data:\\n{obj.data}\")"
   ]
  },
  {
   "cell_type": "code",
   "execution_count": 13,
   "metadata": {},
   "outputs": [],
   "source": [
    "# tensor storage info print function\n",
    "def printStorage(obj, obj_name):\n",
    "    print(f\"\\n===[{obj_name}]===\")\n",
    "    print(f\"{obj_name} : {obj}\")\n",
    "    print(f\"shape   : {obj.shape}\")\n",
    "    print(f\"ndim    : {obj.ndim}D\")\n",
    "    print(f\"dtype   : {obj.dtype}\")\n",
    "    print(f\"itemsize: {obj.itemsize}\\n\")\n",
    "    \n",
    "    print(\"=== STORAGE ===\")\n",
    "    print(f\"offset: {obj.storage_offset()}\")\n",
    "    print(f\"strides: {obj.stride()}\") \n",
    "    print('='*15)\n",
    "    print(obj.untyped_storage())  "
   ]
  },
  {
   "cell_type": "code",
   "execution_count": 20,
   "metadata": {},
   "outputs": [
    {
     "name": "stdout",
     "output_type": "stream",
     "text": [
      "\n",
      "===[data_ts]===\n",
      "data_ts : tensor([ 1,  2,  3,  4,  5,  6,  7,  8,  9, 10, 11, 12, 13, 14, 15, 16, 17, 18,\n",
      "        19, 20], dtype=torch.int8)\n",
      "shape   : torch.Size([20])\n",
      "ndim    : 1D\n",
      "dtype   : torch.int8\n",
      "itemsize: 1\n",
      "\n",
      "=== STORAGE ===\n",
      "offset: 0\n",
      "strides: (1,)\n",
      "===============\n",
      " 1\n",
      " 2\n",
      " 3\n",
      " 4\n",
      " 5\n",
      " 6\n",
      " 7\n",
      " 8\n",
      " 9\n",
      " 10\n",
      " 11\n",
      " 12\n",
      " 13\n",
      " 14\n",
      " 15\n",
      " 16\n",
      " 17\n",
      " 18\n",
      " 19\n",
      " 20\n",
      "[torch.storage.UntypedStorage(device=cpu) of size 20]\n"
     ]
    }
   ],
   "source": [
    "data_ts = torch.arange(1, 21, dtype=torch.int8)\n",
    "\n",
    "printStorage(data_ts, 'data_ts')"
   ]
  },
  {
   "cell_type": "code",
   "execution_count": 25,
   "metadata": {},
   "outputs": [
    {
     "name": "stdout",
     "output_type": "stream",
     "text": [
      "\n",
      "===[data_ts2]===\n",
      "data_ts2 : tensor([[77,  2,  3,  4,  5],\n",
      "        [ 6,  7,  8,  9, 10],\n",
      "        [11, 12, 13, 14, 15],\n",
      "        [16, 17, 18, 19, 20]], dtype=torch.int8)\n",
      "shape   : torch.Size([4, 5])\n",
      "ndim    : 2D\n",
      "dtype   : torch.int8\n",
      "itemsize: 1\n",
      "\n",
      "=== STORAGE ===\n",
      "offset: 0\n",
      "strides: (5, 1)\n",
      "===============\n",
      " 77\n",
      " 2\n",
      " 3\n",
      " 4\n",
      " 5\n",
      " 6\n",
      " 7\n",
      " 8\n",
      " 9\n",
      " 10\n",
      " 11\n",
      " 12\n",
      " 13\n",
      " 14\n",
      " 15\n",
      " 16\n",
      " 17\n",
      " 18\n",
      " 19\n",
      " 20\n",
      "[torch.storage.UntypedStorage(device=cpu) of size 20]\n"
     ]
    }
   ],
   "source": [
    "# 1D -> 2D\n",
    "data_ts2 = data_ts.reshape((-1, 5))\n",
    "\n",
    "printStorage(data_ts2, 'data_ts2')"
   ]
  },
  {
   "cell_type": "code",
   "execution_count": 22,
   "metadata": {},
   "outputs": [
    {
     "data": {
      "text/plain": [
       "tensor([[77,  2,  3,  4,  5],\n",
       "        [ 6,  7,  8,  9, 10],\n",
       "        [11, 12, 13, 14, 15],\n",
       "        [16, 17, 18, 19, 20]], dtype=torch.int8)"
      ]
     },
     "execution_count": 22,
     "metadata": {},
     "output_type": "execute_result"
    }
   ],
   "source": [
    "data_ts2[0][0] = 77\n",
    "data_ts2"
   ]
  },
  {
   "cell_type": "code",
   "execution_count": 43,
   "metadata": {},
   "outputs": [
    {
     "data": {
      "text/plain": [
       "tensor([ 1,  2,  3,  4,  5,  6,  7,  8,  9, 10, 11, 12, 13, 14, 15, 16, 17, 18,\n",
       "        19, 20], dtype=torch.int8)"
      ]
     },
     "execution_count": 43,
     "metadata": {},
     "output_type": "execute_result"
    }
   ],
   "source": [
    "data_ts[0] = 1\n",
    "data_ts"
   ]
  },
  {
   "cell_type": "code",
   "execution_count": 44,
   "metadata": {},
   "outputs": [
    {
     "name": "stdout",
     "output_type": "stream",
     "text": [
      "\n",
      "===[data_ts22]===\n",
      "data_ts22 : tensor([[ 1,  2],\n",
      "        [ 3,  4],\n",
      "        [ 5,  6],\n",
      "        [ 7,  8],\n",
      "        [ 9, 10],\n",
      "        [11, 12],\n",
      "        [13, 14],\n",
      "        [15, 16],\n",
      "        [17, 18],\n",
      "        [19, 20]], dtype=torch.int8)\n",
      "shape   : torch.Size([10, 2])\n",
      "ndim    : 2D\n",
      "dtype   : torch.int8\n",
      "itemsize: 1\n",
      "\n",
      "=== STORAGE ===\n",
      "offset: 0\n",
      "strides: (2, 1)\n",
      "===============\n",
      " 1\n",
      " 2\n",
      " 3\n",
      " 4\n",
      " 5\n",
      " 6\n",
      " 7\n",
      " 8\n",
      " 9\n",
      " 10\n",
      " 11\n",
      " 12\n",
      " 13\n",
      " 14\n",
      " 15\n",
      " 16\n",
      " 17\n",
      " 18\n",
      " 19\n",
      " 20\n",
      "[torch.storage.UntypedStorage(device=cpu) of size 20]\n"
     ]
    }
   ],
   "source": [
    "data_ts22 = data_ts2.reshape((-1, 2))\n",
    "\n",
    "printStorage(data_ts22, 'data_ts22')"
   ]
  },
  {
   "cell_type": "code",
   "execution_count": 48,
   "metadata": {},
   "outputs": [
    {
     "name": "stdout",
     "output_type": "stream",
     "text": [
      "data_ts2 is_coutuguous() : True\n"
     ]
    },
    {
     "data": {
      "text/plain": [
       "tensor([[ 1,  2,  3,  4,  5],\n",
       "        [ 6,  7,  8,  9, 10],\n",
       "        [11, 12, 13, 14, 15],\n",
       "        [16, 17, 18, 19, 20]], dtype=torch.int8)"
      ]
     },
     "execution_count": 48,
     "metadata": {},
     "output_type": "execute_result"
    }
   ],
   "source": [
    "print(f\"data_ts2 is_coutuguous() : {data_ts22.is_contiguous()}\")\n",
    "data_ts2"
   ]
  },
  {
   "cell_type": "code",
   "execution_count": 49,
   "metadata": {},
   "outputs": [
    {
     "name": "stdout",
     "output_type": "stream",
     "text": [
      "data_ts22 is_coutuguous() : True\n"
     ]
    },
    {
     "data": {
      "text/plain": [
       "tensor([[ 1,  2],\n",
       "        [ 3,  4],\n",
       "        [ 5,  6],\n",
       "        [ 7,  8],\n",
       "        [ 9, 10],\n",
       "        [11, 12],\n",
       "        [13, 14],\n",
       "        [15, 16],\n",
       "        [17, 18],\n",
       "        [19, 20]], dtype=torch.int8)"
      ]
     },
     "execution_count": 49,
     "metadata": {},
     "output_type": "execute_result"
    }
   ],
   "source": [
    "print(f\"data_ts22 is_coutuguous() : {data_ts22.is_contiguous()}\")\n",
    "data_ts22"
   ]
  },
  {
   "cell_type": "code",
   "execution_count": 52,
   "metadata": {},
   "outputs": [
    {
     "name": "stdout",
     "output_type": "stream",
     "text": [
      "data_ts23 is_coutuguous(): False\n"
     ]
    },
    {
     "data": {
      "text/plain": [
       "tensor([[ 1,  3,  5,  7,  9, 11, 13, 15, 17, 19],\n",
       "        [ 2,  4,  6,  8, 10, 12, 14, 16, 18, 20]], dtype=torch.int8)"
      ]
     },
     "execution_count": 52,
     "metadata": {},
     "output_type": "execute_result"
    }
   ],
   "source": [
    "data_ts23 = data_ts22.T\n",
    "print(f\"data_ts23 is_coutuguous(): {data_ts22.T.is_contiguous()}\")\n",
    "data_ts23"
   ]
  },
  {
   "cell_type": "markdown",
   "metadata": {},
   "source": [
    "- 우리 눈에 보여지는 순서와 실제 데이터가 들어가있는 메모리 순서는 다른 -> 불연속적이다\n",
    "    - 연속적으로 만들어야함"
   ]
  },
  {
   "cell_type": "code",
   "execution_count": 53,
   "metadata": {},
   "outputs": [
    {
     "data": {
      "text/plain": [
       " 1\n",
       " 3\n",
       " 5\n",
       " 7\n",
       " 9\n",
       " 11\n",
       " 13\n",
       " 15\n",
       " 17\n",
       " 19\n",
       " 2\n",
       " 4\n",
       " 6\n",
       " 8\n",
       " 10\n",
       " 12\n",
       " 14\n",
       " 16\n",
       " 18\n",
       " 20\n",
       "[torch.storage.TypedStorage(dtype=torch.int8, device=cpu) of size 20]"
      ]
     },
     "execution_count": 53,
     "metadata": {},
     "output_type": "execute_result"
    }
   ],
   "source": [
    "# 불연속적 -> 연속적\n",
    "# tensor.contuguous()\n",
    "# copy method... view method에서 연속성이 깨지는 문제 발생\n",
    "d_ts = data_ts23.contiguous()\n",
    "d_ts.storage()"
   ]
  },
  {
   "cell_type": "code",
   "execution_count": null,
   "metadata": {},
   "outputs": [],
   "source": []
  }
 ],
 "metadata": {
  "kernelspec": {
   "display_name": "torch_38",
   "language": "python",
   "name": "python3"
  },
  "language_info": {
   "codemirror_mode": {
    "name": "ipython",
    "version": 3
   },
   "file_extension": ".py",
   "mimetype": "text/x-python",
   "name": "python",
   "nbconvert_exporter": "python",
   "pygments_lexer": "ipython3",
   "version": "3.8.19"
  }
 },
 "nbformat": 4,
 "nbformat_minor": 2
}
