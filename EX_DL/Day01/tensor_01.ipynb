{
 "cells": [
  {
   "cell_type": "markdown",
   "metadata": {},
   "source": [
    "### Tensor 이해\n",
    "- Tansor란?\n",
    "    - pytorch에서 데이터를 저장하는 객체\n",
    "    - model input/output data shape\n",
    "- torch version:"
   ]
  },
  {
   "cell_type": "code",
   "execution_count": 3,
   "metadata": {},
   "outputs": [
    {
     "name": "stdout",
     "output_type": "stream",
     "text": [
      "fotch v.2.4.1\n"
     ]
    }
   ],
   "source": [
    "import torch\n",
    "\n",
    "print(f\"fotch v.{torch.__version__}\")"
   ]
  },
  {
   "cell_type": "code",
   "execution_count": 2,
   "metadata": {},
   "outputs": [],
   "source": [
    "# 텐서 속성 정보 추력 함수\n",
    "\n",
    "def printInfo(obj, obj_name):\n",
    "    print(f\"\\n[{obj_name}]\")\n",
    "    print(f\"shape: {obj.shape}\")\n",
    "    print(f\"ndim: {obj.ndim}D\")\n",
    "    print(f\"dtype: {obj.dtype}\")\n",
    "    print(f\"device: {obj.device}\")\n",
    "    print(f\"data:\\n{obj.data}\")"
   ]
  },
  {
   "cell_type": "code",
   "execution_count": 4,
   "metadata": {},
   "outputs": [],
   "source": [
    "# tensor data\n",
    "ten1 = torch.tensor(10)\n",
    "ten2 = torch.tensor([22, 33, 44])\n",
    "ten3 = torch.tensor([[90, 91], [80, 81], [70, 71]])"
   ]
  },
  {
   "cell_type": "code",
   "execution_count": 5,
   "metadata": {},
   "outputs": [
    {
     "name": "stdout",
     "output_type": "stream",
     "text": [
      "\n",
      "[ten1]\n",
      "shape: torch.Size([])\n",
      "ndim: 0D\n",
      "dtype: torch.int64\n",
      "device: cpu\n",
      "data:\n",
      "10\n",
      "\n",
      "[ten2]\n",
      "shape: torch.Size([3])\n",
      "ndim: 1D\n",
      "dtype: torch.int64\n",
      "device: cpu\n",
      "data:\n",
      "tensor([22, 33, 44])\n",
      "\n",
      "[ten3]\n",
      "shape: torch.Size([3, 2])\n",
      "ndim: 2D\n",
      "dtype: torch.int64\n",
      "device: cpu\n",
      "data:\n",
      "tensor([[90, 91],\n",
      "        [80, 81],\n",
      "        [70, 71]])\n"
     ]
    }
   ],
   "source": [
    "# print\n",
    "printInfo(ten1, 'ten1')\n",
    "printInfo(ten2, 'ten2')\n",
    "printInfo(ten3, 'ten3')"
   ]
  },
  {
   "cell_type": "code",
   "execution_count": 9,
   "metadata": {},
   "outputs": [
    {
     "name": "stdout",
     "output_type": "stream",
     "text": [
      "\n",
      "[data_tf]\n",
      "shape: torch.Size([])\n",
      "ndim: 0D\n",
      "dtype: torch.int64\n",
      "device: cpu\n",
      "data:\n",
      "10\n",
      "\n",
      "[data_tf]\n",
      "shape: torch.Size([])\n",
      "ndim: 0D\n",
      "dtype: torch.int8\n",
      "device: cpu\n",
      "data:\n",
      "10\n",
      "\n",
      "[data_tf]\n",
      "shape: torch.Size([])\n",
      "ndim: 0D\n",
      "dtype: torch.uint8\n",
      "device: cpu\n",
      "data:\n",
      "10\n"
     ]
    }
   ],
   "source": [
    "# 0D, skala\n",
    "data_tf = torch.tensor(10)\n",
    "printInfo(data_tf, 'data_tf')\n",
    "\n",
    "data_tf = torch.tensor(10, dtype=torch.int8)\n",
    "printInfo(data_tf, 'data_tf')\n",
    "\n",
    "data_tf = torch.tensor(10, dtype=torch.uint8)\n",
    "printInfo(data_tf, 'data_tf')"
   ]
  },
  {
   "cell_type": "code",
   "execution_count": 10,
   "metadata": {},
   "outputs": [
    {
     "name": "stdout",
     "output_type": "stream",
     "text": [
      "\n",
      "[data_tf]\n",
      "shape: torch.Size([1])\n",
      "ndim: 1D\n",
      "dtype: torch.int64\n",
      "device: cpu\n",
      "data:\n",
      "tensor([10])\n",
      "\n",
      "[data_tf]\n",
      "shape: torch.Size([1])\n",
      "ndim: 1D\n",
      "dtype: torch.int8\n",
      "device: cpu\n",
      "data:\n",
      "tensor([10], dtype=torch.int8)\n",
      "\n",
      "[data_tf]\n",
      "shape: torch.Size([1])\n",
      "ndim: 1D\n",
      "dtype: torch.uint8\n",
      "device: cpu\n",
      "data:\n",
      "tensor([10], dtype=torch.uint8)\n"
     ]
    }
   ],
   "source": [
    "# 1D, vector\n",
    "data_tf = torch.tensor([10])\n",
    "printInfo(data_tf, 'data_tf')\n",
    "\n",
    "data_tf = torch.tensor([10], dtype=torch.int8)\n",
    "printInfo(data_tf, 'data_tf')\n",
    "\n",
    "data_tf = torch.tensor([10], dtype=torch.uint8)\n",
    "printInfo(data_tf, 'data_tf')"
   ]
  },
  {
   "cell_type": "code",
   "execution_count": 11,
   "metadata": {},
   "outputs": [
    {
     "name": "stdout",
     "output_type": "stream",
     "text": [
      "\n",
      "[data_tf]\n",
      "shape: torch.Size([1, 1])\n",
      "ndim: 2D\n",
      "dtype: torch.int64\n",
      "device: cpu\n",
      "data:\n",
      "tensor([[10]])\n",
      "\n",
      "[data_tf]\n",
      "shape: torch.Size([1, 2])\n",
      "ndim: 2D\n",
      "dtype: torch.int8\n",
      "device: cpu\n",
      "data:\n",
      "tensor([[10, 10]], dtype=torch.int8)\n",
      "\n",
      "[data_tf]\n",
      "shape: torch.Size([1, 1])\n",
      "ndim: 2D\n",
      "dtype: torch.uint8\n",
      "device: cpu\n",
      "data:\n",
      "tensor([[10]], dtype=torch.uint8)\n"
     ]
    }
   ],
   "source": [
    "# 2D, matrix\n",
    "data_tf = torch.tensor([[10]])\n",
    "printInfo(data_tf, 'data_tf')\n",
    "\n",
    "data_tf = torch.tensor([[10, 10]], dtype=torch.int8)\n",
    "printInfo(data_tf, 'data_tf')\n",
    "\n",
    "data_tf = torch.tensor([[10]], dtype=torch.uint8)\n",
    "printInfo(data_tf, 'data_tf')"
   ]
  },
  {
   "cell_type": "code",
   "execution_count": 12,
   "metadata": {},
   "outputs": [
    {
     "name": "stdout",
     "output_type": "stream",
     "text": [
      "\n",
      "[data_tf]\n",
      "shape: torch.Size([1, 1, 1])\n",
      "ndim: 3D\n",
      "dtype: torch.int64\n",
      "device: cpu\n",
      "data:\n",
      "tensor([[[10]]])\n",
      "\n",
      "[data_tf]\n",
      "shape: torch.Size([1, 1, 1])\n",
      "ndim: 3D\n",
      "dtype: torch.int8\n",
      "device: cpu\n",
      "data:\n",
      "tensor([[[10]]], dtype=torch.int8)\n",
      "\n",
      "[data_tf]\n",
      "shape: torch.Size([1, 1, 1])\n",
      "ndim: 3D\n",
      "dtype: torch.uint8\n",
      "device: cpu\n",
      "data:\n",
      "tensor([[[10]]], dtype=torch.uint8)\n"
     ]
    }
   ],
   "source": [
    "# 3D, tensor\n",
    "data_tf = torch.tensor([[[10]]])\n",
    "printInfo(data_tf, 'data_tf')\n",
    "\n",
    "data_tf = torch.tensor([[[10]]], dtype=torch.int8)\n",
    "printInfo(data_tf, 'data_tf')\n",
    "\n",
    "data_tf = torch.tensor([[[10]]], dtype=torch.uint8)\n",
    "printInfo(data_tf, 'data_tf')"
   ]
  },
  {
   "cell_type": "code",
   "execution_count": 6,
   "metadata": {},
   "outputs": [
    {
     "name": "stdout",
     "output_type": "stream",
     "text": [
      "\n",
      "[zten1]\n",
      "shape: torch.Size([2, 5])\n",
      "ndim: 2D\n",
      "dtype: torch.float32\n",
      "device: cpu\n",
      "data:\n",
      "tensor([[0., 0., 0., 0., 0.],\n",
      "        [0., 0., 0., 0., 0.]])\n",
      "\n",
      "[zten2]\n",
      "shape: torch.Size([3])\n",
      "ndim: 1D\n",
      "dtype: torch.float32\n",
      "device: cpu\n",
      "data:\n",
      "tensor([0., 0., 0.])\n"
     ]
    }
   ],
   "source": [
    "# 0으로 채운 tensor\n",
    "zten1 = torch.zeros(2, 5)\n",
    "zten2 = torch.zeros(3)\n",
    "\n",
    "printInfo(zten1, 'zten1')\n",
    "printInfo(zten2, 'zten2')"
   ]
  },
  {
   "cell_type": "code",
   "execution_count": 8,
   "metadata": {},
   "outputs": [
    {
     "name": "stdout",
     "output_type": "stream",
     "text": [
      "\n",
      "[oten1]\n",
      "shape: torch.Size([2, 3])\n",
      "ndim: 2D\n",
      "dtype: torch.float32\n",
      "device: cpu\n",
      "data:\n",
      "tensor([[1., 1., 1.],\n",
      "        [1., 1., 1.]])\n",
      "\n",
      "[oten2]\n",
      "shape: torch.Size([3])\n",
      "ndim: 1D\n",
      "dtype: torch.float32\n",
      "device: cpu\n",
      "data:\n",
      "tensor([1., 1., 1.])\n"
     ]
    }
   ],
   "source": [
    "# 1로 채운 tensor\n",
    "oten1 = torch.ones(2, 3)\n",
    "oten2 = torch.ones(3)\n",
    "\n",
    "printInfo(oten1, 'oten1')\n",
    "printInfo(oten2, 'oten2')"
   ]
  },
  {
   "cell_type": "code",
   "execution_count": 13,
   "metadata": {},
   "outputs": [
    {
     "name": "stdout",
     "output_type": "stream",
     "text": [
      "\n",
      "[ften1]\n",
      "shape: torch.Size([3])\n",
      "ndim: 1D\n",
      "dtype: torch.int64\n",
      "device: cpu\n",
      "data:\n",
      "tensor([10, 10, 10])\n",
      "\n",
      "[ften2]\n",
      "shape: torch.Size([3, 2])\n",
      "ndim: 2D\n",
      "dtype: torch.int64\n",
      "device: cpu\n",
      "data:\n",
      "tensor([[10, 10],\n",
      "        [10, 10],\n",
      "        [10, 10]])\n"
     ]
    }
   ],
   "source": [
    "# attibute value tensor\n",
    "ften1 = torch.full((3, ), 10)\n",
    "ften2 = torch.full((3, 2), 10)\n",
    "\n",
    "printInfo(ften1, 'ften1')\n",
    "printInfo(ften2, 'ften2')"
   ]
  },
  {
   "cell_type": "code",
   "execution_count": 14,
   "metadata": {},
   "outputs": [
    {
     "name": "stdout",
     "output_type": "stream",
     "text": [
      "\n",
      "[eten1]\n",
      "shape: torch.Size([3, 3])\n",
      "ndim: 2D\n",
      "dtype: torch.float32\n",
      "device: cpu\n",
      "data:\n",
      "tensor([[1., 0., 0.],\n",
      "        [0., 1., 0.],\n",
      "        [0., 0., 1.]])\n",
      "\n",
      "[eten2]\n",
      "shape: torch.Size([3, 5])\n",
      "ndim: 2D\n",
      "dtype: torch.float32\n",
      "device: cpu\n",
      "data:\n",
      "tensor([[1., 0., 0., 0., 0.],\n",
      "        [0., 1., 0., 0., 0.],\n",
      "        [0., 0., 1., 0., 0.]])\n"
     ]
    }
   ],
   "source": [
    "# 대각선 tensor\n",
    "eten1 = torch.eye(3)\n",
    "eten2 = torch.eye(3, 5)\n",
    "\n",
    "printInfo(eten1, 'eten1')\n",
    "printInfo(eten2, 'eten2')"
   ]
  },
  {
   "cell_type": "code",
   "execution_count": null,
   "metadata": {},
   "outputs": [],
   "source": []
  }
 ],
 "metadata": {
  "kernelspec": {
   "display_name": "torch_38",
   "language": "python",
   "name": "python3"
  },
  "language_info": {
   "codemirror_mode": {
    "name": "ipython",
    "version": 3
   },
   "file_extension": ".py",
   "mimetype": "text/x-python",
   "name": "python",
   "nbconvert_exporter": "python",
   "pygments_lexer": "ipython3",
   "version": "3.8.19"
  }
 },
 "nbformat": 4,
 "nbformat_minor": 2
}
