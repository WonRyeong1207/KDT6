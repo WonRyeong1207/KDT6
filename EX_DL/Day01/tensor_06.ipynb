{
 "cells": [
  {
   "cell_type": "markdown",
   "metadata": {},
   "source": [
    "### Tensor 이해_6\n",
    "- torch version: 2.4.1\n",
    "- storage 객체\n",
    "    -  tensor 객체의 memory 저장관련 정보 저장\n",
    "    - offset: 첫 번째 원소 인덱스\n",
    "    - stride: 원소 이동 위한 정보 저장\n",
    "        - 다음 행 이동하기 위한 메모리 칸수\n",
    "        - 다음 열 이동하기 위한 메모리 칸수"
   ]
  },
  {
   "cell_type": "code",
   "execution_count": 1,
   "metadata": {},
   "outputs": [
    {
     "name": "stdout",
     "output_type": "stream",
     "text": [
      "torch version: 2.4.1\n"
     ]
    }
   ],
   "source": [
    "import torch\n",
    "import numpy as np\n",
    "\n",
    "print(f\"torch version: {torch.__version__}\")"
   ]
  },
  {
   "cell_type": "code",
   "execution_count": 2,
   "metadata": {},
   "outputs": [],
   "source": [
    "# 텐서 속성 정보 출력 함수\n",
    "\n",
    "def printInfo(obj, obj_name):\n",
    "    print(f\"\\n[{obj_name}]\")\n",
    "    print(f\"shape: {obj.shape}\")\n",
    "    print(f\"ndim: {obj.ndim}D\")\n",
    "    print(f\"dtype: {obj.dtype}\")\n",
    "    try:\n",
    "        print(f\"device: {obj.device}\")\n",
    "    except:\n",
    "        pass\n",
    "    print(f\"data:\\n{obj.data}\")"
   ]
  },
  {
   "cell_type": "code",
   "execution_count": 7,
   "metadata": {},
   "outputs": [],
   "source": [
    "# tensor storage info print function\n",
    "def printStorage(obj, obj_name):\n",
    "    print(f\"\\n===[{obj_name}]===\")\n",
    "    print(f\"shape   : {obj.shape}\")\n",
    "    print(f\"ndim    : {obj.ndim}D\")\n",
    "    print(f\"dtype   : {obj.dtype}\")\n",
    "    print(f\"itemsize: {obj.itemsize}\\n\")\n",
    "    \n",
    "    print(\"=== STORAGE ===\")\n",
    "    print(f\"offset: {obj.storage_offset()}\")\n",
    "    print(f\"strides: {obj.stride()}\") \n",
    "    print('='*15)\n",
    "    print(obj.untyped_storage())  "
   ]
  },
  {
   "cell_type": "code",
   "execution_count": 10,
   "metadata": {},
   "outputs": [
    {
     "name": "stdout",
     "output_type": "stream",
     "text": [
      "\n",
      "[data_ts]\n",
      "shape: torch.Size([2, 3])\n",
      "ndim: 2D\n",
      "dtype: torch.int16\n",
      "device: cpu\n",
      "data:\n",
      "tensor([[11, 22, 33],\n",
      "        [44, 55, 66]], dtype=torch.int16)\n"
     ]
    }
   ],
   "source": [
    "data_ts = torch.tensor([[11, 22, 33], [44, 55, 66]], dtype=torch.int16)\n",
    "\n",
    "printInfo(data_ts, 'data_ts')"
   ]
  },
  {
   "cell_type": "code",
   "execution_count": 11,
   "metadata": {},
   "outputs": [
    {
     "name": "stdout",
     "output_type": "stream",
     "text": [
      "\n",
      "===[data_ts]===\n",
      "shape   : torch.Size([2, 3])\n",
      "ndim    : 2D\n",
      "dtype   : torch.int16\n",
      "itemsize: 2\n",
      "\n",
      "=== STORAGE ===\n",
      "offset: 0\n",
      "strides: (3, 1)\n",
      "===============\n",
      " 11\n",
      " 0\n",
      " 22\n",
      " 0\n",
      " 33\n",
      " 0\n",
      " 44\n",
      " 0\n",
      " 55\n",
      " 0\n",
      " 66\n",
      " 0\n",
      "[torch.storage.UntypedStorage(device=cpu) of size 12]\n"
     ]
    }
   ],
   "source": [
    "printStorage(data_ts, 'data_ts')"
   ]
  },
  {
   "cell_type": "code",
   "execution_count": 9,
   "metadata": {},
   "outputs": [
    {
     "name": "stdout",
     "output_type": "stream",
     "text": [
      "\n",
      "===[data_ts]===\n",
      "shape   : torch.Size([2, 3])\n",
      "ndim    : 2D\n",
      "dtype   : torch.int8\n",
      "itemsize: 1\n",
      "\n",
      "=== STORAGE ===\n",
      "offset: 0\n",
      "strides: (3, 1)\n",
      "===============\n",
      " 11\n",
      " 22\n",
      " 33\n",
      " 44\n",
      " 55\n",
      " 66\n",
      "[torch.storage.UntypedStorage(device=cpu) of size 6]\n"
     ]
    }
   ],
   "source": [
    "# storage infomation shape 1D\n",
    "data_ts = data_ts.to(torch.int8)\n",
    "\n",
    "printStorage(data_ts, 'data_ts')"
   ]
  },
  {
   "cell_type": "code",
   "execution_count": 25,
   "metadata": {},
   "outputs": [
    {
     "name": "stdout",
     "output_type": "stream",
     "text": [
      " 11\n",
      " 22\n",
      " 33\n",
      " 44\n",
      " 55\n",
      " 66\n",
      "[torch.storage.UntypedStorage(device=cpu) of size 6] 0\n"
     ]
    }
   ],
   "source": [
    "print(data_ts.untyped_storage(), data_ts.storage_offset())  # 처음에는 0번 자리에 있는 offset"
   ]
  },
  {
   "cell_type": "code",
   "execution_count": 16,
   "metadata": {},
   "outputs": [
    {
     "data": {
      "text/plain": [
       "(11, 66)"
      ]
     },
     "execution_count": 16,
     "metadata": {},
     "output_type": "execute_result"
    }
   ],
   "source": [
    "data_ts = data_ts.to(torch.int8)\n",
    "mem_sotrage = data_ts.untyped_storage()\n",
    "\n",
    "mem_sotrage[0], mem_sotrage[-1]"
   ]
  },
  {
   "cell_type": "code",
   "execution_count": 17,
   "metadata": {},
   "outputs": [
    {
     "data": {
      "text/plain": [
       "(torch.Size([2, 3]), torch.int8)"
      ]
     },
     "execution_count": 17,
     "metadata": {},
     "output_type": "execute_result"
    }
   ],
   "source": [
    "data_ts.shape, data_ts.dtype"
   ]
  },
  {
   "cell_type": "code",
   "execution_count": 19,
   "metadata": {},
   "outputs": [
    {
     "name": "stdout",
     "output_type": "stream",
     "text": [
      "[0 attribute] - 11 : 140710666579168\n",
      "[1 attribute] - 22 : 140710666579520\n",
      "[2 attribute] - 33 : 140710666579872\n",
      "[3 attribute] - 44 : 140710666580224\n",
      "[4 attribute] - 55 : 140710666580576\n",
      "[5 attribute] - 66 : 140710666580928\n"
     ]
    }
   ],
   "source": [
    "for idx in range(6):\n",
    "    print(f\"[{idx} attribute] - {mem_sotrage[idx]} : {id(mem_sotrage[idx])}\")"
   ]
  },
  {
   "cell_type": "code",
   "execution_count": 20,
   "metadata": {},
   "outputs": [
    {
     "data": {
      "text/plain": [
       "tensor([[11, 22, 33],\n",
       "        [44, 55, 66]], dtype=torch.int8)"
      ]
     },
     "execution_count": 20,
     "metadata": {},
     "output_type": "execute_result"
    }
   ],
   "source": [
    "data_ts.data"
   ]
  },
  {
   "cell_type": "code",
   "execution_count": 23,
   "metadata": {},
   "outputs": [
    {
     "data": {
      "text/plain": [
       "6567164444864"
      ]
     },
     "execution_count": 23,
     "metadata": {},
     "output_type": "execute_result"
    }
   ],
   "source": [
    "data_ts.data_ptr()    # address"
   ]
  },
  {
   "cell_type": "code",
   "execution_count": null,
   "metadata": {},
   "outputs": [],
   "source": []
  }
 ],
 "metadata": {
  "kernelspec": {
   "display_name": "torch_38",
   "language": "python",
   "name": "python3"
  },
  "language_info": {
   "codemirror_mode": {
    "name": "ipython",
    "version": 3
   },
   "file_extension": ".py",
   "mimetype": "text/x-python",
   "name": "python",
   "nbconvert_exporter": "python",
   "pygments_lexer": "ipython3",
   "version": "3.8.19"
  }
 },
 "nbformat": 4,
 "nbformat_minor": 2
}
