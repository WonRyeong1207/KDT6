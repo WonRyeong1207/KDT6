{
 "cells": [
  {
   "cell_type": "markdown",
   "metadata": {},
   "source": [
    "### Tensor 이해_3\n",
    "- Tansor란?\n",
    "    - pytorch에서 데이터를 저장하는 객체\n",
    "    - model input/output data shape\n",
    "- torch version: 2.4.1"
   ]
  },
  {
   "cell_type": "code",
   "execution_count": 2,
   "metadata": {},
   "outputs": [
    {
     "name": "stdout",
     "output_type": "stream",
     "text": [
      "torch version: 2.4.1\n"
     ]
    }
   ],
   "source": [
    "import torch\n",
    "\n",
    "print(f\"torch version: {torch.__version__}\")"
   ]
  },
  {
   "cell_type": "code",
   "execution_count": 3,
   "metadata": {},
   "outputs": [],
   "source": [
    "# 텐서 속성 정보 추력 함수\n",
    "\n",
    "def printInfo(obj, obj_name):\n",
    "    print(f\"\\n[{obj_name}]\")\n",
    "    print(f\"shape: {obj.shape}\")\n",
    "    print(f\"ndim: {obj.ndim}D\")\n",
    "    print(f\"dtype: {obj.dtype}\")\n",
    "    print(f\"device: {obj.device}\")\n",
    "    print(f\"data:\\n{obj.data}\")"
   ]
  },
  {
   "cell_type": "markdown",
   "metadata": {},
   "source": [
    "- type 지정 tensor\n",
    "    - data type을 설정 후 생성: data type을 알고 있다는 전제, 또는 형식 바꿀 때\n",
    "    - data shpe 설정한 tensor 생성시\n",
    "    - data의 자료형 변환한 tensor 생성시 사용"
   ]
  },
  {
   "cell_type": "code",
   "execution_count": 4,
   "metadata": {},
   "outputs": [],
   "source": [
    "# randomly data\n",
    "data = [1.4, 2.8, 3.1]"
   ]
  },
  {
   "cell_type": "code",
   "execution_count": 6,
   "metadata": {},
   "outputs": [
    {
     "name": "stdout",
     "output_type": "stream",
     "text": [
      "\n",
      "[data_ts1]\n",
      "shape: torch.Size([3])\n",
      "ndim: 1D\n",
      "dtype: torch.int8\n",
      "device: cpu\n",
      "data:\n",
      "tensor([1, 2, 3], dtype=torch.int8)\n",
      "\n",
      "[data_ts2]\n",
      "shape: torch.Size([3])\n",
      "ndim: 1D\n",
      "dtype: torch.int8\n",
      "device: cpu\n",
      "data:\n",
      "tensor([1, 2, 3], dtype=torch.int8)\n"
     ]
    },
    {
     "name": "stderr",
     "output_type": "stream",
     "text": [
      "C:\\Users\\Public\\Documents\\ESTsoft\\CreatorTemp\\ipykernel_11960\\2607046671.py:3: DeprecationWarning: an integer is required (got type float).  Implicit conversion to integers using __int__ is deprecated, and may be removed in a future version of Python.\n",
      "  data_ts1 = torch.CharTensor(data)\n",
      "C:\\Users\\Public\\Documents\\ESTsoft\\CreatorTemp\\ipykernel_11960\\2607046671.py:4: DeprecationWarning: an integer is required (got type float).  Implicit conversion to integers using __int__ is deprecated, and may be removed in a future version of Python.\n",
      "  data_ts2 = torch.tensor(data, dtype=torch.int8)\n"
     ]
    }
   ],
   "source": [
    "# integer type tensor create\n",
    "\n",
    "data_ts1 = torch.CharTensor(data)\n",
    "data_ts2 = torch.tensor(data, dtype=torch.int8)\n",
    "\n",
    "\n",
    "printInfo(data_ts1, 'data_ts1')\n",
    "printInfo(data_ts2, 'data_ts2')"
   ]
  },
  {
   "cell_type": "markdown",
   "metadata": {},
   "source": [
    "- 캐스팅 하는 함수가 있음\n",
    "- 지금은 캐스팅에 오류가 발생할 수 있고 추후에는 없어질 기능이니까\n",
    "- 사아용하지 말라는 것임"
   ]
  },
  {
   "cell_type": "code",
   "execution_count": 8,
   "metadata": {},
   "outputs": [],
   "source": [
    "data2 = [0, -3, 11]"
   ]
  },
  {
   "cell_type": "code",
   "execution_count": 9,
   "metadata": {},
   "outputs": [
    {
     "name": "stdout",
     "output_type": "stream",
     "text": [
      "\n",
      "[data_ts1]\n",
      "shape: torch.Size([3])\n",
      "ndim: 1D\n",
      "dtype: torch.bool\n",
      "device: cpu\n",
      "data:\n",
      "tensor([True, True, True])\n",
      "\n",
      "[data_ts2]\n",
      "shape: torch.Size([3])\n",
      "ndim: 1D\n",
      "dtype: torch.bool\n",
      "device: cpu\n",
      "data:\n",
      "tensor([False,  True,  True])\n"
     ]
    }
   ],
   "source": [
    "# logical tensor create\n",
    "data_ts1 = torch.BoolTensor(data)\n",
    "data_ts2 = torch.tensor(data2, dtype=torch.bool)\n",
    "\n",
    "printInfo(data_ts1, 'data_ts1')\n",
    "printInfo(data_ts2, 'data_ts2')"
   ]
  },
  {
   "cell_type": "code",
   "execution_count": 10,
   "metadata": {},
   "outputs": [
    {
     "name": "stdout",
     "output_type": "stream",
     "text": [
      "\n",
      "[data_ts1]\n",
      "shape: torch.Size([3])\n",
      "ndim: 1D\n",
      "dtype: torch.float64\n",
      "device: cpu\n",
      "data:\n",
      "tensor([1.4000, 2.8000, 3.1000], dtype=torch.float64)\n",
      "\n",
      "[data_ts2]\n",
      "shape: torch.Size([3])\n",
      "ndim: 1D\n",
      "dtype: torch.float64\n",
      "device: cpu\n",
      "data:\n",
      "tensor([1.4000, 2.8000, 3.1000], dtype=torch.float64)\n"
     ]
    }
   ],
   "source": [
    "# real number tensor\n",
    "data_ts1 = torch.DoubleTensor(data)\n",
    "data_ts2 = torch.tensor(data, dtype=torch.float64)\n",
    "\n",
    "printInfo(data_ts1, 'data_ts1')\n",
    "printInfo(data_ts2, 'data_ts2')"
   ]
  },
  {
   "cell_type": "markdown",
   "metadata": {},
   "source": [
    "- Tensor 저장 및 실행 위치\n",
    "    - attribute device 설정"
   ]
  },
  {
   "cell_type": "code",
   "execution_count": 12,
   "metadata": {},
   "outputs": [
    {
     "name": "stdout",
     "output_type": "stream",
     "text": [
      "cpu\n"
     ]
    }
   ],
   "source": [
    "# 실행 위치 => CPU/GPU\n",
    "DEVICE = 'cuda' if torch.cuda.is_available() else 'cpu'\n",
    "print(DEVICE)"
   ]
  },
  {
   "cell_type": "code",
   "execution_count": 13,
   "metadata": {},
   "outputs": [
    {
     "name": "stdout",
     "output_type": "stream",
     "text": [
      "\n",
      "[data_ts1]\n",
      "shape: torch.Size([3])\n",
      "ndim: 1D\n",
      "dtype: torch.float64\n",
      "device: cpu\n",
      "data:\n",
      "tensor([1.4000, 2.8000, 3.1000], dtype=torch.float64)\n",
      "\n",
      "[data_ts2]\n",
      "shape: torch.Size([3])\n",
      "ndim: 1D\n",
      "dtype: torch.float64\n",
      "device: cpu\n",
      "data:\n",
      "tensor([1.4000, 2.8000, 3.1000], dtype=torch.float64)\n"
     ]
    }
   ],
   "source": [
    "# real number tensor\n",
    "data_ts1 = torch.DoubleTensor(data)\n",
    "data_ts2 = torch.tensor(data, dtype=torch.float64, device=DEVICE)\n",
    "\n",
    "printInfo(data_ts1, 'data_ts1')\n",
    "printInfo(data_ts2, 'data_ts2')"
   ]
  },
  {
   "cell_type": "code",
   "execution_count": null,
   "metadata": {},
   "outputs": [],
   "source": []
  }
 ],
 "metadata": {
  "kernelspec": {
   "display_name": "torch_38",
   "language": "python",
   "name": "python3"
  },
  "language_info": {
   "codemirror_mode": {
    "name": "ipython",
    "version": 3
   },
   "file_extension": ".py",
   "mimetype": "text/x-python",
   "name": "python",
   "nbconvert_exporter": "python",
   "pygments_lexer": "ipython3",
   "version": "3.8.19"
  }
 },
 "nbformat": 4,
 "nbformat_minor": 2
}
