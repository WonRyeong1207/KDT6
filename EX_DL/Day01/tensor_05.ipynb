{
 "cells": [
  {
   "cell_type": "markdown",
   "metadata": {},
   "source": [
    "### Tensor 이해_5\n",
    "- Tansor란?\n",
    "    - pytorch에서 데이터를 저장하는 객체\n",
    "    - model input/output data shape\n",
    "- torch version: 2.4.1"
   ]
  },
  {
   "cell_type": "code",
   "execution_count": 1,
   "metadata": {},
   "outputs": [
    {
     "name": "stdout",
     "output_type": "stream",
     "text": [
      " torch version: 2.4.1\n"
     ]
    }
   ],
   "source": [
    "import torch\n",
    "import numpy as np\n",
    "\n",
    "print(f\" torch version: {torch.__version__}\")"
   ]
  },
  {
   "cell_type": "code",
   "execution_count": 2,
   "metadata": {},
   "outputs": [],
   "source": [
    "# 텐서 속성 정보 출력 함수\n",
    "\n",
    "def printInfo(obj, obj_name):\n",
    "    print(f\"\\n[{obj_name}]\")\n",
    "    print(f\"shape: {obj.shape}\")\n",
    "    print(f\"ndim: {obj.ndim}D\")\n",
    "    print(f\"dtype: {obj.dtype}\")\n",
    "    try:\n",
    "        print(f\"device: {obj.device}\")\n",
    "    except:\n",
    "        pass\n",
    "    print(f\"data:\\n{obj.data}\")"
   ]
  },
  {
   "cell_type": "markdown",
   "metadata": {},
   "source": [
    "- type casting\n",
    "    - torch.type()\n",
    "    - torch.type_name\n",
    "    - torch.to(torch.type_name)"
   ]
  },
  {
   "cell_type": "code",
   "execution_count": 3,
   "metadata": {},
   "outputs": [
    {
     "name": "stdout",
     "output_type": "stream",
     "text": [
      "\n",
      "[data_ts1]\n",
      "shape: torch.Size([3])\n",
      "ndim: 1D\n",
      "dtype: torch.int64\n",
      "device: cpu\n",
      "data:\n",
      "tensor([1, 3, 5])\n"
     ]
    }
   ],
   "source": [
    "data_ts1 = torch.tensor([1, 3, 5])\n",
    "\n",
    "printInfo(data_ts1, 'data_ts1')"
   ]
  },
  {
   "cell_type": "code",
   "execution_count": 4,
   "metadata": {},
   "outputs": [
    {
     "name": "stdout",
     "output_type": "stream",
     "text": [
      "\n",
      "[data_ts11]\n",
      "shape: torch.Size([3])\n",
      "ndim: 1D\n",
      "dtype: torch.float32\n",
      "device: cpu\n",
      "data:\n",
      "tensor([1., 3., 5.])\n"
     ]
    }
   ],
   "source": [
    "data_ts11 = data_ts1.type(torch.float32)\n",
    "\n",
    "printInfo(data_ts11, 'data_ts11')"
   ]
  },
  {
   "cell_type": "code",
   "execution_count": 5,
   "metadata": {},
   "outputs": [
    {
     "name": "stdout",
     "output_type": "stream",
     "text": [
      "\n",
      "[data_ts11]\n",
      "shape: torch.Size([3])\n",
      "ndim: 1D\n",
      "dtype: torch.float32\n",
      "device: cpu\n",
      "data:\n",
      "tensor([1., 3., 5.])\n"
     ]
    }
   ],
   "source": [
    "# int64 --> float\n",
    "data_ts11 = data_ts1.float()\n",
    "\n",
    "printInfo(data_ts11, 'data_ts11')"
   ]
  },
  {
   "cell_type": "code",
   "execution_count": 6,
   "metadata": {},
   "outputs": [
    {
     "name": "stdout",
     "output_type": "stream",
     "text": [
      "\n",
      "[data_ts11]\n",
      "shape: torch.Size([3])\n",
      "ndim: 1D\n",
      "dtype: torch.bool\n",
      "device: cpu\n",
      "data:\n",
      "tensor([True, True, True])\n"
     ]
    }
   ],
   "source": [
    "data_ts11 = data_ts1.bool()\n",
    "\n",
    "printInfo(data_ts11, 'data_ts11')"
   ]
  },
  {
   "cell_type": "code",
   "execution_count": 7,
   "metadata": {},
   "outputs": [
    {
     "name": "stdout",
     "output_type": "stream",
     "text": [
      "\n",
      "[data_ts11]\n",
      "shape: torch.Size([3])\n",
      "ndim: 1D\n",
      "dtype: torch.int8\n",
      "device: cpu\n",
      "data:\n",
      "tensor([1, 3, 5], dtype=torch.int8)\n"
     ]
    }
   ],
   "source": [
    "data_ts11 = data_ts1.to(dtype=torch.int8)\n",
    "\n",
    "printInfo(data_ts11, 'data_ts11')"
   ]
  },
  {
   "cell_type": "code",
   "execution_count": 8,
   "metadata": {},
   "outputs": [
    {
     "name": "stdout",
     "output_type": "stream",
     "text": [
      "\n",
      "[data_ts11]\n",
      "shape: torch.Size([3])\n",
      "ndim: 1D\n",
      "dtype: torch.int8\n",
      "device: cpu\n",
      "data:\n",
      "tensor([1, 3, 5], dtype=torch.int8)\n"
     ]
    }
   ],
   "source": [
    "data_ts11 = data_ts1.to(dtype=torch.int8,\n",
    "                        device='cuda' if torch.cuda.is_available() else 'cpu')\n",
    "# 'cuda' if torch.cuda.is_available() else 'cpu' 없이 device를 바꾸려도 하면 오류 발생\n",
    "\n",
    "printInfo(data_ts11, 'data_ts11')"
   ]
  },
  {
   "cell_type": "code",
   "execution_count": 9,
   "metadata": {},
   "outputs": [
    {
     "data": {
      "text/plain": [
       "(tensor(3, dtype=torch.int8), tensor(5))"
      ]
     },
     "execution_count": 9,
     "metadata": {},
     "output_type": "execute_result"
    }
   ],
   "source": [
    "data_ts11[1], data_ts1[-1]"
   ]
  },
  {
   "cell_type": "code",
   "execution_count": 12,
   "metadata": {},
   "outputs": [
    {
     "data": {
      "text/plain": [
       "tensor([1, 3])"
      ]
     },
     "execution_count": 12,
     "metadata": {},
     "output_type": "execute_result"
    }
   ],
   "source": [
    "data_ts1[:2]"
   ]
  },
  {
   "cell_type": "code",
   "execution_count": 13,
   "metadata": {},
   "outputs": [
    {
     "data": {
      "text/plain": [
       "tensor([10, 30, 50], dtype=torch.int8)"
      ]
     },
     "execution_count": 13,
     "metadata": {},
     "output_type": "execute_result"
    }
   ],
   "source": [
    "data_ts11 * 10"
   ]
  },
  {
   "cell_type": "code",
   "execution_count": 16,
   "metadata": {},
   "outputs": [
    {
     "data": {
      "text/plain": [
       "tensor([2, 5, 7], dtype=torch.int32)"
      ]
     },
     "execution_count": 16,
     "metadata": {},
     "output_type": "execute_result"
    }
   ],
   "source": [
    "data_ts11 + np.array([1, 2, 2])     # broadcastiong 어케 하더라?"
   ]
  },
  {
   "cell_type": "code",
   "execution_count": 23,
   "metadata": {},
   "outputs": [
    {
     "name": "stdout",
     "output_type": "stream",
     "text": [
      "tensor([[4., 5.]]) torch.Size([1, 2])\n"
     ]
    }
   ],
   "source": [
    "m1 = torch.FloatTensor([[1, 2]])\n",
    "m2 = torch.FloatTensor([3])\n",
    "m3 = m1 + m2\n",
    "print(m3, m3.shape)"
   ]
  }
 ],
 "metadata": {
  "kernelspec": {
   "display_name": "torch_38",
   "language": "python",
   "name": "python3"
  },
  "language_info": {
   "codemirror_mode": {
    "name": "ipython",
    "version": 3
   },
   "file_extension": ".py",
   "mimetype": "text/x-python",
   "name": "python",
   "nbconvert_exporter": "python",
   "pygments_lexer": "ipython3",
   "version": "3.8.19"
  }
 },
 "nbformat": 4,
 "nbformat_minor": 2
}
