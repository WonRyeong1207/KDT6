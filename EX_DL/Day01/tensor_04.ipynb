{
 "cells": [
  {
   "cell_type": "markdown",
   "metadata": {},
   "source": [
    "### Tensor 이해_4\n",
    "- Tansor란?\n",
    "    - pytorch에서 데이터를 저장하는 객체\n",
    "    - model input/output data shape\n",
    "- torch version: 2.4.1"
   ]
  },
  {
   "cell_type": "code",
   "execution_count": 9,
   "metadata": {},
   "outputs": [
    {
     "name": "stdout",
     "output_type": "stream",
     "text": [
      "torch version: 2.4.1\n"
     ]
    }
   ],
   "source": [
    "import torch\n",
    "import numpy as np\n",
    "\n",
    "print(f\"torch version: {torch.__version__}\")"
   ]
  },
  {
   "cell_type": "code",
   "execution_count": 11,
   "metadata": {},
   "outputs": [],
   "source": [
    "# 텐서 속성 정보 추력 함수\n",
    "\n",
    "def printInfo(obj, obj_name):\n",
    "    print(f\"\\n[{obj_name}]\")\n",
    "    print(f\"shape: {obj.shape}\")\n",
    "    print(f\"ndim: {obj.ndim}D\")\n",
    "    print(f\"dtype: {obj.dtype}\")\n",
    "    try:\n",
    "        print(f\"device: {obj.device}\")\n",
    "    except:\n",
    "        pass\n",
    "    print(f\"data:\\n{obj.data}\")"
   ]
  },
  {
   "cell_type": "code",
   "execution_count": 5,
   "metadata": {},
   "outputs": [
    {
     "name": "stdout",
     "output_type": "stream",
     "text": [
      "cpu\n"
     ]
    }
   ],
   "source": [
    "DEVICE = 'cuda' if torch.cuda.is_available() else 'cpu'\n",
    "print(DEVICE)"
   ]
  },
  {
   "cell_type": "markdown",
   "metadata": {},
   "source": [
    "- python --> tensor"
   ]
  },
  {
   "cell_type": "code",
   "execution_count": 2,
   "metadata": {},
   "outputs": [],
   "source": [
    "data = [x for x in range(1, 10)]"
   ]
  },
  {
   "cell_type": "code",
   "execution_count": 6,
   "metadata": {},
   "outputs": [
    {
     "name": "stdout",
     "output_type": "stream",
     "text": [
      "\n",
      "[data_ts]\n",
      "shape: torch.Size([9])\n",
      "ndim: 1D\n",
      "dtype: torch.int8\n",
      "device: cpu\n",
      "data:\n",
      "tensor([1, 2, 3, 4, 5, 6, 7, 8, 9], dtype=torch.int8)\n"
     ]
    }
   ],
   "source": [
    "# list to tensor\n",
    "data_ts = torch.as_tensor(data, dtype=torch.int8)\n",
    "\n",
    "printInfo(data_ts, 'data_ts')"
   ]
  },
  {
   "cell_type": "code",
   "execution_count": 8,
   "metadata": {},
   "outputs": [
    {
     "data": {
      "text/plain": [
       "([100, 2, 3, 4, 5, 6, 7, 8, 9],\n",
       " tensor([1, 2, 3, 4, 5, 6, 7, 8, 9], dtype=torch.int8))"
      ]
     },
     "execution_count": 8,
     "metadata": {},
     "output_type": "execute_result"
    }
   ],
   "source": [
    "data[0] = 100\n",
    "data, data_ts   # view method? copy method?"
   ]
  },
  {
   "cell_type": "code",
   "execution_count": 12,
   "metadata": {},
   "outputs": [
    {
     "name": "stdout",
     "output_type": "stream",
     "text": [
      "\n",
      "[arr1]\n",
      "shape: (3,)\n",
      "ndim: 1D\n",
      "dtype: int32\n",
      "data:\n",
      "<memory at 0x000001AE49E62D00>\n",
      "\n",
      "[arr1_ts]\n",
      "shape: torch.Size([3])\n",
      "ndim: 1D\n",
      "dtype: torch.int32\n",
      "device: cpu\n",
      "data:\n",
      "tensor([1, 2, 3], dtype=torch.int32)\n"
     ]
    }
   ],
   "source": [
    "# ndarray to tensor\n",
    "arr1 = np.array([1, 2, 3])\n",
    "\n",
    "arr1_ts = torch.as_tensor(arr1)\n",
    "\n",
    "printInfo(arr1, 'arr1')\n",
    "printInfo(arr1_ts, 'arr1_ts')"
   ]
  },
  {
   "cell_type": "code",
   "execution_count": 14,
   "metadata": {},
   "outputs": [
    {
     "data": {
      "text/plain": [
       "tensor([99,  2,  3], dtype=torch.int32)"
      ]
     },
     "execution_count": 14,
     "metadata": {},
     "output_type": "execute_result"
    }
   ],
   "source": [
    "arr1_ts[0] = 99\n",
    "\n",
    "arr1, arr1_ts   # view method...?, torch.as_tensor, torch.from_numpy 둘은 다른 겨?"
   ]
  },
  {
   "cell_type": "code",
   "execution_count": 19,
   "metadata": {},
   "outputs": [
    {
     "data": {
      "text/plain": [
       "(array([99,  2, 20]), tensor([99,  2, 20], dtype=torch.int32))"
      ]
     },
     "execution_count": 19,
     "metadata": {},
     "output_type": "execute_result"
    }
   ],
   "source": [
    "arr1[2] = 20\n",
    "\n",
    "arr1, arr1_ts"
   ]
  },
  {
   "cell_type": "code",
   "execution_count": 17,
   "metadata": {},
   "outputs": [
    {
     "name": "stdout",
     "output_type": "stream",
     "text": [
      "\n",
      "[arr2]\n",
      "shape: (3,)\n",
      "ndim: 1D\n",
      "dtype: int32\n",
      "data:\n",
      "<memory at 0x000001AE420B6340>\n",
      "[3 4 5]\n",
      "\n",
      "[arr2_ts]\n",
      "shape: torch.Size([3])\n",
      "ndim: 1D\n",
      "dtype: torch.int32\n",
      "device: cpu\n",
      "data:\n",
      "tensor([3, 4, 5], dtype=torch.int32)\n"
     ]
    }
   ],
   "source": [
    "arr2 = np.array([3, 4, 5])\n",
    "arr2_ts = torch.from_numpy(arr2)\n",
    "\n",
    "printInfo(arr2, 'arr2')\n",
    "print(arr2)\n",
    "printInfo(arr2_ts, 'arr2_ts')"
   ]
  },
  {
   "cell_type": "code",
   "execution_count": 18,
   "metadata": {},
   "outputs": [
    {
     "data": {
      "text/plain": [
       "(array([100,   4,   5]), tensor([100,   4,   5], dtype=torch.int32))"
      ]
     },
     "execution_count": 18,
     "metadata": {},
     "output_type": "execute_result"
    }
   ],
   "source": [
    "arr2_ts[0] = 100\n",
    "\n",
    "arr2, arr2_ts"
   ]
  },
  {
   "cell_type": "code",
   "execution_count": 20,
   "metadata": {},
   "outputs": [
    {
     "data": {
      "text/plain": [
       "(array([100,  80,   5]), tensor([100,  80,   5], dtype=torch.int32))"
      ]
     },
     "execution_count": 20,
     "metadata": {},
     "output_type": "execute_result"
    }
   ],
   "source": [
    "arr2[1] = 80\n",
    "\n",
    "arr2, arr2_ts"
   ]
  },
  {
   "cell_type": "markdown",
   "metadata": {},
   "source": [
    "##### default가 view method..?\n",
    "- tensor를 부르는데 형태가 다르다고 하면 cpoy를 주고 아니면 view를 주는 듯\n",
    "- 그래서 dtype을 다르게 지정하면 sharing 함."
   ]
  },
  {
   "cell_type": "code",
   "execution_count": 21,
   "metadata": {},
   "outputs": [
    {
     "name": "stdout",
     "output_type": "stream",
     "text": [
      "\n",
      "[arr3]\n",
      "shape: (3,)\n",
      "ndim: 1D\n",
      "dtype: int32\n",
      "data:\n",
      "<memory at 0x000001AE4A32B340>\n",
      "[3 6 9]\n",
      "\n",
      "[arr3_ts]\n",
      "shape: torch.Size([3])\n",
      "ndim: 1D\n",
      "dtype: torch.int8\n",
      "device: cpu\n",
      "data:\n",
      "tensor([3, 6, 9], dtype=torch.int8)\n"
     ]
    }
   ],
   "source": [
    "arr3 = np.array([3, 6, 9])\n",
    "arr3_ts = torch.as_tensor(arr3, dtype=torch.int8)\n",
    "\n",
    "printInfo(arr3, 'arr3')\n",
    "print(arr3)\n",
    "printInfo(arr3_ts, 'arr3_ts')"
   ]
  },
  {
   "cell_type": "code",
   "execution_count": 22,
   "metadata": {},
   "outputs": [
    {
     "data": {
      "text/plain": [
       "(array([30,  6,  9]), tensor([3, 6, 9], dtype=torch.int8))"
      ]
     },
     "execution_count": 22,
     "metadata": {},
     "output_type": "execute_result"
    }
   ],
   "source": [
    "arr3[0] = 30\n",
    "\n",
    "arr3, arr3_ts   # copy method"
   ]
  },
  {
   "cell_type": "code",
   "execution_count": 23,
   "metadata": {},
   "outputs": [
    {
     "data": {
      "text/plain": [
       "(array([30,  6,  9]), tensor([ 3, 30,  9], dtype=torch.int8))"
      ]
     },
     "execution_count": 23,
     "metadata": {},
     "output_type": "execute_result"
    }
   ],
   "source": [
    "arr3_ts[1] = 30\n",
    "\n",
    "arr3, arr3_ts"
   ]
  },
  {
   "cell_type": "code",
   "execution_count": 33,
   "metadata": {},
   "outputs": [
    {
     "name": "stdout",
     "output_type": "stream",
     "text": [
      "\n",
      "[arr4]\n",
      "shape: (2, 3)\n",
      "ndim: 2D\n",
      "dtype: float16\n",
      "data:\n",
      "<memory at 0x000001AE4A162AD0>\n",
      "[[1. 2. 3.]\n",
      " [4. 5. 6.]]\n",
      "attribute size: 6\n",
      "attribute itemsize: 2\n",
      "방향: (6, 2)\n",
      "\n",
      "[arr4_ts]\n",
      "shape: torch.Size([3])\n",
      "ndim: 1D\n",
      "dtype: torch.float16\n",
      "device: cpu\n",
      "data:\n",
      "tensor([1., 2., 3.], dtype=torch.float16)\n"
     ]
    }
   ],
   "source": [
    "arr4 = np.array([[1, 2, 3], [4, 5, 6]], dtype=np.float16)\n",
    "arr4_ts = torch.from_numpy(arr4[0]) # create tensor\n",
    "\n",
    "printInfo(arr4, 'arr4')\n",
    "print(arr4)\n",
    "print(f\"attribute size: {arr4.size}\")\n",
    "print(f\"attribute itemsize: {arr4.itemsize}\")\n",
    "print(f\"방향: {arr4.strides}\")\n",
    "printInfo(arr4_ts, 'arr4_ts')"
   ]
  },
  {
   "cell_type": "code",
   "execution_count": 28,
   "metadata": {},
   "outputs": [
    {
     "data": {
      "text/plain": [
       "(array([[1., 3., 3.],\n",
       "        [4., 5., 6.]], dtype=float32),\n",
       " tensor([1., 3., 3.]))"
      ]
     },
     "execution_count": 28,
     "metadata": {},
     "output_type": "execute_result"
    }
   ],
   "source": [
    "arr4_ts[1] = 3\n",
    "\n",
    "arr4, arr4_ts      # only view method? - yes. share the same memory"
   ]
  },
  {
   "cell_type": "markdown",
   "metadata": {},
   "source": [
    "- data sharing\n",
    "    - torch.as_tensor()\n",
    "    - torch.from_numpy()\n",
    "- data copy\n",
    "    - torch.tensor()\n",
    "    - torch.Tensor()"
   ]
  },
  {
   "cell_type": "code",
   "execution_count": null,
   "metadata": {},
   "outputs": [],
   "source": []
  }
 ],
 "metadata": {
  "kernelspec": {
   "display_name": "torch_38",
   "language": "python",
   "name": "python3"
  },
  "language_info": {
   "codemirror_mode": {
    "name": "ipython",
    "version": 3
   },
   "file_extension": ".py",
   "mimetype": "text/x-python",
   "name": "python",
   "nbconvert_exporter": "python",
   "pygments_lexer": "ipython3",
   "version": "3.8.19"
  }
 },
 "nbformat": 4,
 "nbformat_minor": 2
}
