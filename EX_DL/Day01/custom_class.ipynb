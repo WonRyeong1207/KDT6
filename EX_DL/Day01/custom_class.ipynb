{
 "cells": [
  {
   "cell_type": "markdown",
   "metadata": {},
   "source": [
    "### 사용자 정의 클래스와 상속\n",
    "- 사용자 정의 클래스: 개발자 필요에 의해서 생성한 클래스"
   ]
  },
  {
   "cell_type": "markdown",
   "metadata": {},
   "source": [
    "- 저장 데이터: 사람 정보 저장 클래스\n",
    "- 클래스 이름: Person\n",
    "- 클래스 속성: name, age, gender\n",
    "- 클래스 기능: sleep, eat"
   ]
  },
  {
   "cell_type": "code",
   "execution_count": 26,
   "metadata": {},
   "outputs": [],
   "source": [
    "class Person:\n",
    "    # class attribute\n",
    "    # don't need instance\n",
    "    born = 'Unknown'\n",
    "    \n",
    "    \n",
    "    # instance\n",
    "    # when create class instace, automatic calling\n",
    "    # callback method\n",
    "    def __init__(self, name, age, gender):\n",
    "        self.name = name\n",
    "        self.age = age\n",
    "        self.gender = gender\n",
    "        \n",
    "    \n",
    "    # print person\n",
    "    def printPerson(self):\n",
    "        print(f\"Name    : {self.name}\")\n",
    "        print(f\"Age     : {self.age}\")\n",
    "        print(f\"Gender  : {self.gender}\")\n",
    "        print(f\"Born    : {self.born}\\n\")\n",
    "        \n",
    "    # instance method\n",
    "    def eat(self, food):\n",
    "        print(f\"{self.name} ate {food}\\n\")\n",
    "    \n",
    "    # overriding: 부모 class로부터 상속받은 method 중에서 변결하고 싶은 method 구현부만 변경\n",
    "    def sleep(self, where):\n",
    "        print(f\"{self.name} sleeped to {where}\\n\")\n",
    "        \n",
    "    # class static method\n",
    "    @staticmethod   # 이런 것을 달아줘야함. 명확하게 하기 위해서\n",
    "    def test(msg):\n",
    "        print(msg)"
   ]
  },
  {
   "cell_type": "code",
   "execution_count": 17,
   "metadata": {},
   "outputs": [
    {
     "name": "stdout",
     "output_type": "stream",
     "text": [
      "Name    : Ryeong\n",
      "Age     : estimated 24\n",
      "Gender  : Unknown\n",
      "Born    : Unknown\n",
      "\n",
      "Ryeong sleeped to shcool\n",
      "\n",
      "Ryeong ate coffee\n",
      "\n"
     ]
    }
   ],
   "source": [
    "person = Person('Ryeong', 'estimated 24', 'Unknown')\n",
    "person.printPerson()\n",
    "person.sleep('shcool')\n",
    "person.eat('coffee')"
   ]
  },
  {
   "cell_type": "code",
   "execution_count": 13,
   "metadata": {},
   "outputs": [
    {
     "data": {
      "text/plain": [
       "'Unknown'"
      ]
     },
     "execution_count": 13,
     "metadata": {},
     "output_type": "execute_result"
    }
   ],
   "source": [
    "person.born"
   ]
  },
  {
   "cell_type": "code",
   "execution_count": 18,
   "metadata": {},
   "outputs": [
    {
     "name": "stdout",
     "output_type": "stream",
     "text": [
      "I wanna go to sleep...\n"
     ]
    }
   ],
   "source": [
    "person.test('I wanna go to sleep...')"
   ]
  },
  {
   "cell_type": "markdown",
   "metadata": {},
   "source": [
    "- 상속(Inheritance)\n",
    "    - 기존 class의 attribute와 method를 reuse\n",
    "    - 추가 attribute & method extand"
   ]
  },
  {
   "cell_type": "markdown",
   "metadata": {},
   "source": [
    "- 저장 데이터: 사람 정보 저장 클래스\n",
    "- 클래스 이름: Fireman\n",
    "- 클래스 속성: name, age, gender, group, position\n",
    "- 클래스 기능: sleep(), eat(), exfinguish()\n",
    "- 부모 클래스: Person"
   ]
  },
  {
   "cell_type": "code",
   "execution_count": 34,
   "metadata": {},
   "outputs": [],
   "source": [
    "class Fireman(Person):\n",
    "    def __init__(self, name, age, gender, group, position):\n",
    "        # 부보 class 생성\n",
    "        super().__init__(name, age, gender)\n",
    "        # 자식 class 생성\n",
    "        self.group = group\n",
    "        self.position = position\n",
    "        \n",
    "\n",
    "    def exfinguish(self, where):\n",
    "        print(f\"{self.name} exfinguished {where}\\n\")\n",
    "\n",
    "    # overriding: 부모 class로부터 상속받은 method 중에서 변경하고 싶은 method 구현부만 변경\n",
    "    def sleep(self, reason):\n",
    "        print(f\"{self.name} don't sleep to workplace. Because {self.name} {reason}\\n\")\n",
    "    \n",
    "    # class static method\n",
    "    @staticmethod   # 이런 것을 달아줘야함. 명확하게 하기 위해서\n",
    "    def test(msg):\n",
    "        print(msg)"
   ]
  },
  {
   "cell_type": "code",
   "execution_count": 35,
   "metadata": {},
   "outputs": [],
   "source": [
    "fireman = Fireman('Caterpilar', 35, 'None', 'fariy tale', 'guide')"
   ]
  },
  {
   "cell_type": "code",
   "execution_count": 24,
   "metadata": {},
   "outputs": [
    {
     "name": "stdout",
     "output_type": "stream",
     "text": [
      "Name    : Caterpilar\n",
      "Age     : 35\n",
      "Gender  : None\n",
      "Born    : Unknown\n",
      "\n"
     ]
    }
   ],
   "source": [
    "fireman.printPerson()"
   ]
  },
  {
   "cell_type": "code",
   "execution_count": 25,
   "metadata": {},
   "outputs": [
    {
     "name": "stdout",
     "output_type": "stream",
     "text": [
      "Caterpilar exfinguished kingdom\n"
     ]
    }
   ],
   "source": [
    "fireman.exfinguish('kingdom')"
   ]
  },
  {
   "cell_type": "code",
   "execution_count": 36,
   "metadata": {},
   "outputs": [
    {
     "name": "stdout",
     "output_type": "stream",
     "text": [
      "Caterpilar don't sleep to workplace. Because Caterpilar broken his leg\n",
      "\n"
     ]
    }
   ],
   "source": [
    "fireman.sleep('broken his leg') "
   ]
  },
  {
   "cell_type": "markdown",
   "metadata": {},
   "source": [
    "- python은 class를 여러개 상속 받을 수 있음 --> 다중 상속, 꼬이면 화이팅"
   ]
  }
 ],
 "metadata": {
  "kernelspec": {
   "display_name": "torch_38",
   "language": "python",
   "name": "python3"
  },
  "language_info": {
   "codemirror_mode": {
    "name": "ipython",
    "version": 3
   },
   "file_extension": ".py",
   "mimetype": "text/x-python",
   "name": "python",
   "nbconvert_exporter": "python",
   "pygments_lexer": "ipython3",
   "version": "3.8.19"
  }
 },
 "nbformat": 4,
 "nbformat_minor": 2
}
