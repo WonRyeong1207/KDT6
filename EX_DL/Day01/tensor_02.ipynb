{
 "cells": [
  {
   "cell_type": "markdown",
   "metadata": {},
   "source": [
    "### Tensor 이해_2\n",
    "- Tansor란?\n",
    "    - pytorch에서 데이터를 저장하는 객체\n",
    "    - model input/output data shape\n",
    "- torch version: 2.4.1"
   ]
  },
  {
   "cell_type": "code",
   "execution_count": 2,
   "metadata": {},
   "outputs": [
    {
     "data": {
      "text/plain": [
       "'2.4.1'"
      ]
     },
     "execution_count": 2,
     "metadata": {},
     "output_type": "execute_result"
    }
   ],
   "source": [
    "import torch\n",
    "\n",
    "torch.__version__"
   ]
  },
  {
   "cell_type": "code",
   "execution_count": 3,
   "metadata": {},
   "outputs": [],
   "source": [
    "# 텐서 속성 정보 추력 함수\n",
    "\n",
    "def printInfo(obj, obj_name):\n",
    "    print(f\"\\n[{obj_name}]\")\n",
    "    print(f\"shape: {obj.shape}\")\n",
    "    print(f\"ndim: {obj.ndim}D\")\n",
    "    print(f\"dtype: {obj.dtype}\")\n",
    "    print(f\"device: {obj.device}\")\n",
    "    print(f\"data:\\n{obj.data}\")"
   ]
  },
  {
   "cell_type": "code",
   "execution_count": 21,
   "metadata": {},
   "outputs": [
    {
     "name": "stdout",
     "output_type": "stream",
     "text": [
      "\n",
      "[rtend1]\n",
      "shape: torch.Size([2, 3])\n",
      "ndim: 2D\n",
      "dtype: torch.float32\n",
      "device: cpu\n",
      "data:\n",
      "tensor([[0.7219, 0.3854, 0.7279],\n",
      "        [0.1047, 0.6605, 0.7745]])\n"
     ]
    }
   ],
   "source": [
    "# - value range: 0 <= x < 1, [0, 1)\n",
    "# torch.rand(*size): 가변인자로 크기를 받음. 몇 차원인지 모르는까.\n",
    "\n",
    "torch.manual_seed(125)  # random.see(125)\n",
    "\n",
    "rten1 = torch.rand(2, 3)    # 숫자 1게: 1차원, 2개: 2차원, 3개: 3차원, ...\n",
    "\n",
    "printInfo(rten1, 'rtend1')"
   ]
  },
  {
   "cell_type": "code",
   "execution_count": 34,
   "metadata": {},
   "outputs": [
    {
     "name": "stdout",
     "output_type": "stream",
     "text": [
      "\n",
      "[rten2]\n",
      "shape: torch.Size([2, 3])\n",
      "ndim: 2D\n",
      "dtype: torch.float32\n",
      "device: cpu\n",
      "data:\n",
      "tensor([[-0.4099,  0.2912,  0.4471],\n",
      "        [ 0.8840,  0.5042, -1.3501]])\n"
     ]
    }
   ],
   "source": [
    "# - value range: mean(0), std(1)\n",
    "# torch.randn()\n",
    "torch.manual_seed(135)\n",
    "\n",
    "rten2 = torch.randn(2, 3)\n",
    "\n",
    "printInfo(rten2, 'rten2')"
   ]
  },
  {
   "cell_type": "code",
   "execution_count": 35,
   "metadata": {},
   "outputs": [
    {
     "name": "stdout",
     "output_type": "stream",
     "text": [
      "\n",
      "[rten3]\n",
      "shape: torch.Size([2, 4])\n",
      "ndim: 2D\n",
      "dtype: torch.int64\n",
      "device: cpu\n",
      "data:\n",
      "tensor([[4, 2, 3, 2],\n",
      "        [3, 2, 4, 3]])\n"
     ]
    }
   ],
   "source": [
    "# - value range: [low, high)\n",
    "# torch.randint(low, high, size(=shape))\n",
    "torch.manual_seed(136)\n",
    "\n",
    "rten3 = torch.randint(1, 5, (2, 4))\n",
    "\n",
    "printInfo(rten3, 'rten3')"
   ]
  },
  {
   "cell_type": "code",
   "execution_count": null,
   "metadata": {},
   "outputs": [],
   "source": []
  }
 ],
 "metadata": {
  "kernelspec": {
   "display_name": "torch_38",
   "language": "python",
   "name": "python3"
  },
  "language_info": {
   "codemirror_mode": {
    "name": "ipython",
    "version": 3
   },
   "file_extension": ".py",
   "mimetype": "text/x-python",
   "name": "python",
   "nbconvert_exporter": "python",
   "pygments_lexer": "ipython3",
   "version": "3.8.19"
  }
 },
 "nbformat": 4,
 "nbformat_minor": 2
}
