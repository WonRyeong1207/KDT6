{
 "cells": [
  {
   "cell_type": "markdown",
   "id": "7412801f",
   "metadata": {},
   "source": [
    "### [ torch.nn Module 활용 ]\n",
    "--- \n",
    "- 신경망 구축하기 위한 다양한 데이터 구조나 레이어, 활성화 함수, 손실 함수 등이 정의된 모듈\n",
    "- 선형회귀모델 => nn.Linear(입력, 출력)"
   ]
  },
  {
   "cell_type": "code",
   "execution_count": 1,
   "id": "8149113c",
   "metadata": {},
   "outputs": [],
   "source": [
    "# 모듈 로딩 ---------------------------------\n",
    "import torch\n",
    "import torch.nn as nn\n",
    "import torch.nn.functional as F"
   ]
  },
  {
   "cell_type": "markdown",
   "id": "6a40e6cc",
   "metadata": {},
   "source": [
    "#### [1] 단순 선형 회귀"
   ]
  },
  {
   "cell_type": "code",
   "execution_count": 2,
   "id": "fb6ff1b0",
   "metadata": {},
   "outputs": [
    {
     "data": {
      "text/plain": [
       "<torch._C.Generator at 0x2b35e5d7230>"
      ]
     },
     "execution_count": 2,
     "metadata": {},
     "output_type": "execute_result"
    }
   ],
   "source": [
    "# 랜덤 시드 설정 ----------------------------\n",
    "torch.manual_seed(1)"
   ]
  },
  {
   "cell_type": "code",
   "execution_count": 3,
   "id": "3da7103a",
   "metadata": {},
   "outputs": [],
   "source": [
    "# 학습 데이터 준비 --------------------------\n",
    "x_train=torch.FloatTensor([[1],[2],[3]])\n",
    "y_train=torch.FloatTensor([[2],[4],[6]])"
   ]
  },
  {
   "cell_type": "markdown",
   "id": "b1c07f11",
   "metadata": {},
   "source": [
    "### 모델 구축 ----------------------------------"
   ]
  },
  {
   "cell_type": "code",
   "execution_count": 4,
   "id": "028e378b",
   "metadata": {},
   "outputs": [],
   "source": [
    "# 모델 선언 및 초기화 ---------------------------------------\n",
    "# 단순 선형 회귀 => nn.Linear( nput_dim=1, output_dim=1)\n",
    "# 모델 객체 생성 시 랜덤 초기촤 W, B 저장되어 있음 => 확인: model.parameters()\n",
    "model = nn.Linear(1,1)\n"
   ]
  },
  {
   "cell_type": "code",
   "execution_count": 5,
   "id": "af7e695e",
   "metadata": {},
   "outputs": [
    {
     "name": "stdout",
     "output_type": "stream",
     "text": [
      "model => Linear(in_features=1, out_features=1, bias=True)\n",
      "BEFORE parameters =>\n",
      "[Parameter containing:\n",
      "tensor([[0.5153]], requires_grad=True), Parameter containing:\n",
      "tensor([-0.4414], requires_grad=True)]\n"
     ]
    }
   ],
   "source": [
    "# 생성 모델 확인 \n",
    "print(f'model => {model}')\n",
    "print(f'BEFORE parameters =>\\n{list(model.parameters())}')  # model.named_parameters(): parameter 이름이 같이 출력"
   ]
  },
  {
   "cell_type": "code",
   "execution_count": 6,
   "id": "41e2bdfe",
   "metadata": {},
   "outputs": [],
   "source": [
    "# optimizer 설정 ---------------------------------------\n",
    "# 경사 하강법 => SGD, learning rate lr : 0.01\n",
    "# model.parameters() 메서드 통해 W, b 전달 받음\n",
    "optimizer = torch.optim.SGD(model.parameters(), lr=0.01) "
   ]
  },
  {
   "cell_type": "code",
   "execution_count": 7,
   "id": "27929e57",
   "metadata": {
    "collapsed": true
   },
   "outputs": [
    {
     "name": "stdout",
     "output_type": "stream",
     "text": [
      "Epoch    0/2000 Cost: 13.103541 \n",
      "Epoch  100/2000 Cost: 0.002791 \n",
      "Epoch  200/2000 Cost: 0.001724 \n",
      "Epoch  300/2000 Cost: 0.001066 \n",
      "Epoch  400/2000 Cost: 0.000658 \n",
      "Epoch  500/2000 Cost: 0.000407 \n",
      "Epoch  600/2000 Cost: 0.000251 \n",
      "Epoch  700/2000 Cost: 0.000155 \n",
      "Epoch  800/2000 Cost: 0.000096 \n",
      "Epoch  900/2000 Cost: 0.000059 \n",
      "Epoch 1000/2000 Cost: 0.000037 \n",
      "Epoch 1100/2000 Cost: 0.000023 \n",
      "Epoch 1200/2000 Cost: 0.000014 \n",
      "Epoch 1300/2000 Cost: 0.000009 \n",
      "Epoch 1400/2000 Cost: 0.000005 \n",
      "Epoch 1500/2000 Cost: 0.000003 \n",
      "Epoch 1600/2000 Cost: 0.000002 \n",
      "Epoch 1700/2000 Cost: 0.000001 \n",
      "Epoch 1800/2000 Cost: 0.000001 \n",
      "Epoch 1900/2000 Cost: 0.000000 \n",
      "Epoch 2000/2000 Cost: 0.000000 \n"
     ]
    }
   ],
   "source": [
    "# 모델 학습 ---------------------------------------------\n",
    "# 전체 훈련 데이터에 대해 경사 하강법을 2,000회 반복\n",
    "\n",
    "nb_epochs = 2000\n",
    "\n",
    "for epoch in range(nb_epochs+1):\n",
    "\n",
    "    # H(x) 계산 : 학습 데이터에 대한 예측값 \n",
    "    prediction = model(x_train)\n",
    "\n",
    "    # cost 계산\n",
    "    # 파이토치 제공하는 평균 제곱 오차 함수 : mse_loss()\n",
    "    cost = F.mse_loss(prediction, y_train) \n",
    "    \n",
    "    \n",
    "    # cost로 H(x) 개선하는 부분\n",
    "    # gradient를 0으로 초기화\n",
    "    optimizer.zero_grad()\n",
    "    \n",
    "    # 비용 함수를 미분하여 gradient 계산\n",
    "    cost.backward() # backward 연산\n",
    "    \n",
    "    # W와 b를 업데이트\n",
    "    optimizer.step()\n",
    "    \n",
    "    # 100번마다 로그 출력\n",
    "    if epoch % 100 == 0:\n",
    "        print(f'Epoch {epoch:4d}/{nb_epochs} Cost: {cost.item():.6f} ')"
   ]
  },
  {
   "cell_type": "code",
   "execution_count": 8,
   "id": "0b643912",
   "metadata": {},
   "outputs": [
    {
     "name": "stdout",
     "output_type": "stream",
     "text": [
      "AFTER parameters =>\n",
      "[Parameter containing:\n",
      "tensor([[1.9994]], requires_grad=True), Parameter containing:\n",
      "tensor([0.0014], requires_grad=True)]\n",
      "1.999367117881775\n",
      "0.001438319799490273\n"
     ]
    }
   ],
   "source": [
    "# 학습 완료 후 모델의 W, b\n",
    "print(f'AFTER parameters =>\\n{list(model.parameters())}')\n",
    "params=list(model.parameters())\n",
    "for param in params: print(param.item())"
   ]
  },
  {
   "cell_type": "code",
   "execution_count": 9,
   "id": "ec559c8d",
   "metadata": {},
   "outputs": [
    {
     "name": "stdout",
     "output_type": "stream",
     "text": [
      "훈련 후 입력이 4일 때의 예측값 : tensor([[7.9989]], grad_fn=<AddmmBackward0>)\n"
     ]
    }
   ],
   "source": [
    "# 예측 --------------------------------------------\n",
    "# 임의의 입력 4를 선언\n",
    "new_var =  torch.FloatTensor([[4.0]]) \n",
    "\n",
    "# forward 연산\n",
    "pred_y = model(new_var) \n",
    "\n",
    "# y = 2x 이므로 입력이 4라면 y가 8에 가까운 값이 나와야 제대로 학습이 된 것\n",
    "print(\"훈련 후 입력이 4일 때의 예측값 :\", pred_y) "
   ]
  },
  {
   "cell_type": "markdown",
   "id": "648b812f",
   "metadata": {},
   "source": [
    "#### [2] 다중 선형 회귀 모델"
   ]
  },
  {
   "cell_type": "code",
   "execution_count": 10,
   "id": "63bba72a",
   "metadata": {},
   "outputs": [
    {
     "data": {
      "text/plain": [
       "<torch._C.Generator at 0x2b35e5d7230>"
      ]
     },
     "execution_count": 10,
     "metadata": {},
     "output_type": "execute_result"
    }
   ],
   "source": [
    "# 랜덤 시드 설정 ----------------------------\n",
    "torch.manual_seed(1)"
   ]
  },
  {
   "cell_type": "code",
   "execution_count": 11,
   "id": "d6ba9b3b",
   "metadata": {},
   "outputs": [],
   "source": [
    "# 데이터\n",
    "x_train = torch.FloatTensor([[73, 80, 75],\n",
    "                             [93, 88, 93],\n",
    "                             [89, 91, 90],\n",
    "                             [96, 98, 100],\n",
    "                             [73, 66, 70]])\n",
    "y_train = torch.FloatTensor([[152], [185], [180], [196], [142]])"
   ]
  },
  {
   "cell_type": "code",
   "execution_count": 12,
   "id": "54379f64",
   "metadata": {},
   "outputs": [],
   "source": [
    "# 모델 선언 및 초기화 -----------------------------------------\n",
    "# 다중 선형 회귀 =>  input_dim=3, output_dim=1\n",
    "model = nn.Linear(3,1)"
   ]
  },
  {
   "cell_type": "code",
   "execution_count": 13,
   "id": "bf25b454",
   "metadata": {},
   "outputs": [
    {
     "name": "stdout",
     "output_type": "stream",
     "text": [
      "params : [Parameter containing:\n",
      "tensor([[ 0.2975, -0.2548, -0.1119]], requires_grad=True), Parameter containing:\n",
      "tensor([0.2710], requires_grad=True)]\n"
     ]
    }
   ],
   "source": [
    "# 랜덤 초기화된 W, b 확인\n",
    "print(f'params : {list(model.parameters())}')"
   ]
  },
  {
   "cell_type": "code",
   "execution_count": 14,
   "id": "9cade635",
   "metadata": {},
   "outputs": [],
   "source": [
    "\n",
    "optimizer = torch.optim.SGD(model.parameters(), lr=1e-5) \n"
   ]
  },
  {
   "cell_type": "code",
   "execution_count": 15,
   "id": "86ce50f9",
   "metadata": {},
   "outputs": [
    {
     "name": "stdout",
     "output_type": "stream",
     "text": [
      "Epoch    0/2000 Cost: 31667.599609\n"
     ]
    },
    {
     "name": "stdout",
     "output_type": "stream",
     "text": [
      "Epoch  100/2000 Cost: 0.225993\n",
      "Epoch  200/2000 Cost: 0.223911\n",
      "Epoch  300/2000 Cost: 0.221941\n",
      "Epoch  400/2000 Cost: 0.220059\n",
      "Epoch  500/2000 Cost: 0.218271\n",
      "Epoch  600/2000 Cost: 0.216575\n",
      "Epoch  700/2000 Cost: 0.214950\n",
      "Epoch  800/2000 Cost: 0.213413\n",
      "Epoch  900/2000 Cost: 0.211952\n",
      "Epoch 1000/2000 Cost: 0.210559\n",
      "Epoch 1100/2000 Cost: 0.209230\n",
      "Epoch 1200/2000 Cost: 0.207967\n",
      "Epoch 1300/2000 Cost: 0.206762\n",
      "Epoch 1400/2000 Cost: 0.205618\n",
      "Epoch 1500/2000 Cost: 0.204529\n",
      "Epoch 1600/2000 Cost: 0.203481\n",
      "Epoch 1700/2000 Cost: 0.202486\n",
      "Epoch 1800/2000 Cost: 0.201539\n",
      "Epoch 1900/2000 Cost: 0.200634\n",
      "Epoch 2000/2000 Cost: 0.199770\n"
     ]
    }
   ],
   "source": [
    "# 학습 진행 ---------------------------------------------\n",
    "nb_epochs = 2000\n",
    "for epoch in range(nb_epochs+1):\n",
    "\n",
    "    # H(x) 계산\n",
    "    prediction = model(x_train)\n",
    "    # model(x_train)은 model.forward(x_train)와 동일함.\n",
    "\n",
    "    # cost 계산\n",
    "    cost = F.mse_loss(prediction, y_train) # <== 파이토치에서 제공하는 평균 제곱 오차 함수\n",
    "\n",
    "    # cost로 H(x) 개선하는 부분\n",
    "    # gradient를 0으로 초기화\n",
    "    optimizer.zero_grad()\n",
    "    # 비용 함수를 미분하여 gradient 계산\n",
    "    cost.backward()\n",
    "    # W와 b를 업데이트\n",
    "    optimizer.step()\n",
    "\n",
    "    # 100번마다 로그 출력\n",
    "    if epoch % 100 == 0:\n",
    "      print(f'Epoch {epoch:4d}/{nb_epochs} Cost: {cost.item():.6f}')"
   ]
  },
  {
   "cell_type": "code",
   "execution_count": 16,
   "id": "27c47ee7",
   "metadata": {},
   "outputs": [
    {
     "name": "stdout",
     "output_type": "stream",
     "text": [
      "훈련 후 입력이 73, 80, 75일 때의 예측값 : 151.23056030273438\n"
     ]
    }
   ],
   "source": [
    "# 예측 --------------------------------------------------------------------\n",
    "# 임의의 입력 [73, 80, 75] 선언\n",
    "new_var =  torch.FloatTensor([[73, 80, 75]]) \n",
    "\n",
    "# 입력한 값 [73, 80, 75]에 대해서 예측값 y를 리턴받아서 pred_y에 저장\n",
    "pred_y = model(new_var) \n",
    "print(\"훈련 후 입력이 73, 80, 75일 때의 예측값 :\", pred_y.item()) "
   ]
  },
  {
   "cell_type": "code",
   "execution_count": null,
   "id": "f5500fc9",
   "metadata": {},
   "outputs": [],
   "source": []
  }
 ],
 "metadata": {
  "kernelspec": {
   "display_name": "Python 3 (ipykernel)",
   "language": "python",
   "name": "python3"
  },
  "language_info": {
   "codemirror_mode": {
    "name": "ipython",
    "version": 3
   },
   "file_extension": ".py",
   "mimetype": "text/x-python",
   "name": "python",
   "nbconvert_exporter": "python",
   "pygments_lexer": "ipython3",
   "version": "3.8.19"
  }
 },
 "nbformat": 4,
 "nbformat_minor": 5
}
