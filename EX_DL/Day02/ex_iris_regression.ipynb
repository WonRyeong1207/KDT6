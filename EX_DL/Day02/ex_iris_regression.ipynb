{
 "cells": [
  {
   "cell_type": "markdown",
   "metadata": {},
   "source": [
    "### iris datasets 활용 꽃잎 너비 예측 모델\n",
    "- datasets: iris.csv에서 2개의 feature 사용\n",
    "- 구현프레임워크: Pytorch"
   ]
  },
  {
   "cell_type": "code",
   "execution_count": 16,
   "metadata": {},
   "outputs": [],
   "source": [
    "import pandas as pd\n",
    "import torch                        # tensor\n",
    "import torch.nn as nn               # ANN\n",
    "import torch.nn.functional as F        # loss, activation, distance rtc function\n",
    "import torch.optim as optimizer     # optimization"
   ]
  },
  {
   "cell_type": "code",
   "execution_count": 100,
   "metadata": {},
   "outputs": [],
   "source": [
    "import matplotlib.pyplot as plt\n",
    "from sklearn.model_selection import train_test_split"
   ]
  },
  {
   "cell_type": "code",
   "execution_count": 86,
   "metadata": {},
   "outputs": [
    {
     "data": {
      "text/html": [
       "<div>\n",
       "<style scoped>\n",
       "    .dataframe tbody tr th:only-of-type {\n",
       "        vertical-align: middle;\n",
       "    }\n",
       "\n",
       "    .dataframe tbody tr th {\n",
       "        vertical-align: top;\n",
       "    }\n",
       "\n",
       "    .dataframe thead th {\n",
       "        text-align: right;\n",
       "    }\n",
       "</style>\n",
       "<table border=\"1\" class=\"dataframe\">\n",
       "  <thead>\n",
       "    <tr style=\"text-align: right;\">\n",
       "      <th></th>\n",
       "      <th>sepal.length</th>\n",
       "      <th>sepal.width</th>\n",
       "      <th>petal.length</th>\n",
       "      <th>petal.width</th>\n",
       "    </tr>\n",
       "  </thead>\n",
       "  <tbody>\n",
       "    <tr>\n",
       "      <th>0</th>\n",
       "      <td>5.1</td>\n",
       "      <td>3.5</td>\n",
       "      <td>1.4</td>\n",
       "      <td>0.2</td>\n",
       "    </tr>\n",
       "    <tr>\n",
       "      <th>1</th>\n",
       "      <td>4.9</td>\n",
       "      <td>3.0</td>\n",
       "      <td>1.4</td>\n",
       "      <td>0.2</td>\n",
       "    </tr>\n",
       "    <tr>\n",
       "      <th>2</th>\n",
       "      <td>4.7</td>\n",
       "      <td>3.2</td>\n",
       "      <td>1.3</td>\n",
       "      <td>0.2</td>\n",
       "    </tr>\n",
       "    <tr>\n",
       "      <th>3</th>\n",
       "      <td>4.6</td>\n",
       "      <td>3.1</td>\n",
       "      <td>1.5</td>\n",
       "      <td>0.2</td>\n",
       "    </tr>\n",
       "    <tr>\n",
       "      <th>4</th>\n",
       "      <td>5.0</td>\n",
       "      <td>3.6</td>\n",
       "      <td>1.4</td>\n",
       "      <td>0.2</td>\n",
       "    </tr>\n",
       "  </tbody>\n",
       "</table>\n",
       "</div>"
      ],
      "text/plain": [
       "   sepal.length  sepal.width  petal.length  petal.width\n",
       "0           5.1          3.5           1.4          0.2\n",
       "1           4.9          3.0           1.4          0.2\n",
       "2           4.7          3.2           1.3          0.2\n",
       "3           4.6          3.1           1.5          0.2\n",
       "4           5.0          3.6           1.4          0.2"
      ]
     },
     "execution_count": 86,
     "metadata": {},
     "output_type": "execute_result"
    }
   ],
   "source": [
    "FILE_PATH = '../../EX_ML/data/iris.csv'\n",
    "\n",
    "iris_df = pd.read_csv(FILE_PATH, usecols=[0, 1, 2, 3])\n",
    "iris_df.head()"
   ]
  },
  {
   "cell_type": "code",
   "execution_count": 87,
   "metadata": {},
   "outputs": [
    {
     "name": "stdout",
     "output_type": "stream",
     "text": [
      "<class 'pandas.core.frame.DataFrame'>\n",
      "RangeIndex: 150 entries, 0 to 149\n",
      "Data columns (total 4 columns):\n",
      " #   Column        Non-Null Count  Dtype  \n",
      "---  ------        --------------  -----  \n",
      " 0   sepal.length  150 non-null    float64\n",
      " 1   sepal.width   150 non-null    float64\n",
      " 2   petal.length  150 non-null    float64\n",
      " 3   petal.width   150 non-null    float64\n",
      "dtypes: float64(4)\n",
      "memory usage: 4.8 KB\n"
     ]
    }
   ],
   "source": [
    "iris_df.info()"
   ]
  },
  {
   "cell_type": "markdown",
   "metadata": {},
   "source": [
    "- learning method: supervised learning, regression\n",
    "- learning algorithm: linear relation, linear model in nn.Linear"
   ]
  },
  {
   "cell_type": "code",
   "execution_count": 147,
   "metadata": {},
   "outputs": [],
   "source": [
    "# in_features: petal.length\n",
    "# out_teature: petal.width\n",
    "torch.manual_seed(59)\n",
    "model = nn.Linear(3, 1)"
   ]
  },
  {
   "cell_type": "code",
   "execution_count": 148,
   "metadata": {},
   "outputs": [
    {
     "name": "stdout",
     "output_type": "stream",
     "text": [
      "[weight] Parameter containing:\n",
      "tensor([[ 0.0612,  0.5564, -0.0983]], requires_grad=True)\n",
      "\n",
      "[bias] Parameter containing:\n",
      "tensor([-0.3698], requires_grad=True)\n",
      "\n"
     ]
    }
   ],
   "source": [
    "# weight & bais\n",
    "\n",
    "for name, param in model.named_parameters():\n",
    "    print(f\"[{name}] {param}\\n\")"
   ]
  },
  {
   "cell_type": "markdown",
   "metadata": {},
   "source": [
    "- optimization instance\n",
    "    - weight & bais optimaization"
   ]
  },
  {
   "cell_type": "code",
   "execution_count": 149,
   "metadata": {},
   "outputs": [],
   "source": [
    "adam_op = optimizer.Adam(model.parameters(), lr=0.1)"
   ]
  },
  {
   "cell_type": "markdown",
   "metadata": {},
   "source": [
    "- model learning\n",
    "    - developer to do..?"
   ]
  },
  {
   "cell_type": "markdown",
   "metadata": {},
   "source": [
    "- datasets to tensor: 데이터 준비 시 시행하거나 또는 학습 전에 진행"
   ]
  },
  {
   "cell_type": "code",
   "execution_count": 150,
   "metadata": {},
   "outputs": [
    {
     "data": {
      "text/plain": [
       "torch.Size([150, 3])"
      ]
     },
     "execution_count": 150,
     "metadata": {},
     "output_type": "execute_result"
    }
   ],
   "source": [
    "feature_ts = torch.from_numpy(iris_df[iris_df.columns[:-1]].values).float()\n",
    "feature_ts.shape"
   ]
  },
  {
   "cell_type": "code",
   "execution_count": 151,
   "metadata": {},
   "outputs": [
    {
     "data": {
      "text/plain": [
       "torch.Size([150, 1])"
      ]
     },
     "execution_count": 151,
     "metadata": {},
     "output_type": "execute_result"
    }
   ],
   "source": [
    "label_ts = torch.from_numpy(iris_df[['petal.width']].values).float()\n",
    "label_ts.shape"
   ]
  },
  {
   "cell_type": "code",
   "execution_count": 152,
   "metadata": {},
   "outputs": [
    {
     "name": "stdout",
     "output_type": "stream",
     "text": [
      "train: torch.Size([96, 3]), test: torch.Size([30, 3]), val: torch.Size([24, 3])\n",
      "train: torch.Size([96, 1]), test: torch.Size([30, 1]), val: torch.Size([24, 1])\n"
     ]
    }
   ],
   "source": [
    "# train & test\n",
    "X_train, X_test, y_train, y_test = train_test_split(feature_ts, label_ts, test_size=0.2)\n",
    "\n",
    "# train & val\n",
    "X_train, X_val, y_train, y_val = train_test_split(X_train, y_train, test_size=0.2)\n",
    "\n",
    "print(f\"train: {X_train.shape}, test: {X_test.shape}, val: {X_val.shape}\")\n",
    "print(f\"train: {y_train.shape}, test: {y_test.shape}, val: {y_val.shape}\")"
   ]
  },
  {
   "cell_type": "markdown",
   "metadata": {},
   "source": [
    "- model learning\n",
    "    - epoch: 100, 학습 횟수지정\n",
    "    - save learning result: loss_list = []"
   ]
  },
  {
   "cell_type": "code",
   "execution_count": 153,
   "metadata": {},
   "outputs": [],
   "source": [
    "epochs = 50\n",
    "loss_list = []"
   ]
  },
  {
   "cell_type": "code",
   "execution_count": 154,
   "metadata": {},
   "outputs": [],
   "source": [
    "# test & validation function\n",
    "# must not weight & bais update\n",
    "\n",
    "def testing(test_ts, label_ts, kind='Val'):\n",
    "    \n",
    "    with torch.no_grad():\n",
    "        \n",
    "        pre_y = model(test_ts)\n",
    "        \n",
    "        # 오차계산: loss function\n",
    "        loss = F.mse_loss(pre_y, label_ts)\n",
    "        # loss_list.append(loss.item())\n",
    "            \n",
    "    return loss"
   ]
  },
  {
   "cell_type": "code",
   "execution_count": 155,
   "metadata": {},
   "outputs": [],
   "source": [
    "# model learning function\n",
    "def training(feature_ts, label_ts, val_feature_ts, val_label_ts, kind='Val'):\n",
    "    loss_history = [[], []]\n",
    "    \n",
    "    for epoch in range(epochs+1):\n",
    "        # 학습진행: forward\n",
    "        pre_y = model(feature_ts)\n",
    "        \n",
    "        # 오차계산: loss function\n",
    "        train_loss = F.mse_loss(pre_y, label_ts)\n",
    "        loss_history[0].append(train_loss.item())\n",
    "        \n",
    "        # 최적화: optimization\n",
    "        adam_op.zero_grad()\n",
    "        train_loss.backward()\n",
    "        adam_op.step()\n",
    "        \n",
    "        # validation\n",
    "        val_loss = testing(val_feature_ts, val_label_ts, kind)\n",
    "        loss_history[1].append(val_loss)\n",
    "        \n",
    "        # 학습결과\n",
    "        if epoch%10 == 0:\n",
    "            print(f\"epoch: {epoch:5} loss: {train_loss.item():10.8f}\")\n",
    "            print(f\"epoch: {epoch:5} {kind}_loss: {val_loss.item():10.8f}\")\n",
    "            \n",
    "    return loss_history"
   ]
  },
  {
   "cell_type": "code",
   "execution_count": 156,
   "metadata": {},
   "outputs": [
    {
     "name": "stdout",
     "output_type": "stream",
     "text": [
      "epoch:     0 loss: 0.99946707\n",
      "epoch:     0 Val_loss: 0.83645415\n",
      "epoch:    10 loss: 0.07222796\n",
      "epoch:    10 Val_loss: 0.04463271\n",
      "epoch:    20 loss: 0.11251142\n",
      "epoch:    20 Val_loss: 0.10223877\n",
      "epoch:    30 loss: 0.05042241\n",
      "epoch:    30 Val_loss: 0.02849901\n",
      "epoch:    40 loss: 0.05219896\n",
      "epoch:    40 Val_loss: 0.02707594\n",
      "epoch:    50 loss: 0.04320991\n",
      "epoch:    50 Val_loss: 0.03563426\n"
     ]
    }
   ],
   "source": [
    "loss = training(X_train, y_train, X_val, y_val)"
   ]
  },
  {
   "cell_type": "code",
   "execution_count": 157,
   "metadata": {},
   "outputs": [
    {
     "data": {
      "image/png": "[encoded data removed]",
      "text/plain": [
       "<Figure size 640x480 with 1 Axes>"
      ]
     },
     "metadata": {},
     "output_type": "display_data"
    }
   ],
   "source": [
    "plt.plot(loss[0], label='train loss')\n",
    "plt.plot(loss[1], label='validation loss')\n",
    "\n",
    "plt.title('loss function value')\n",
    "plt.xlabel('epoch')\n",
    "plt.ylabel('loss value')\n",
    "plt.legend()\n",
    "plt.show()"
   ]
  },
  {
   "cell_type": "code",
   "execution_count": null,
   "metadata": {},
   "outputs": [],
   "source": []
  }
 ],
 "metadata": {
  "kernelspec": {
   "display_name": "ml_38",
   "language": "python",
   "name": "python3"
  },
  "language_info": {
   "codemirror_mode": {
    "name": "ipython",
    "version": 3
   },
   "file_extension": ".py",
   "mimetype": "text/x-python",
   "name": "python",
   "nbconvert_exporter": "python",
   "pygments_lexer": "ipython3",
   "version": "3.8.19"
  }
 },
 "nbformat": 4,
 "nbformat_minor": 2
}
