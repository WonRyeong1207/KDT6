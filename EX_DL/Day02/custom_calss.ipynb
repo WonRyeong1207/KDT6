{
 "cells": [
  {
   "cell_type": "markdown",
   "metadata": {},
   "source": [
    "### Class\n",
    "- 연산자 Overloading\n",
    "    - Overloading\n",
    "        - 함수명은 동일하지만 매개변수의 개수, 종류, 순서가 다른면 다른 함수로 인식\n",
    "        - 파이썬에서는 연산자(+, -, *, ...)에 대한 매직함수/메서드가 미리 정의 되어 있음\n",
    "        - 연산자 매직함수/메서드는 클래스별로 overloading하도록 되어있음"
   ]
  },
  {
   "cell_type": "markdown",
   "metadata": {},
   "source": [
    "- 저장데이터: 햄버거\n",
    "- 클래스이름: Bugger\n",
    "- 클래스속성: 번, 패티, 야채, 소스, 이름, 브랜드, 가격\n",
    "            - 브랜드: 클래스속성\n",
    "            - 브랜드 외 나머지: instance attribute\n",
    "- 클래스기능: 버거 정보 출력 기능"
   ]
  },
  {
   "cell_type": "code",
   "execution_count": 32,
   "metadata": {},
   "outputs": [],
   "source": [
    "class Bugger:\n",
    "    # class attribute\n",
    "    maker = '맘스터치'\n",
    "    \n",
    "    # instance attribute\n",
    "    def __init__(self, bun, patty, veg, sauce, name, price):\n",
    "        self.bun = bun\n",
    "        self.patty = patty\n",
    "        self.veg = veg\n",
    "        self.sauce = sauce\n",
    "        self.name = name\n",
    "        self.price = price\n",
    "        \n",
    "    \n",
    "    # instance method\n",
    "    def showBuggerInfo(self):\n",
    "        print(f\"\\n[{self.name}] Infomation\")\n",
    "        print('-'*30*3)\n",
    "        print(f\"price       : {self.price} ￦\")\n",
    "        print(f\"attribute   : {self.bun}, {self.patty}, {self.veg}, {self.sauce}\")\n",
    "        print('-'*30*3)\n",
    "        \n",
    "    # 연산자 overloading\n",
    "    def __add__(self, other):\n",
    "        # print('__add__')\n",
    "        result = self.price + other.price\n",
    "        print(f\"{self.name} + {other.name} = {result} ￦\")\n",
    "        return result\n",
    "    \n",
    "    def __sub__(self, other):\n",
    "        result =  self.price - other.price\n",
    "        print(f\"{self.name} - {other.name} = {result} ￦\")\n",
    "        return result\n",
    "        \n",
    "    def __mul__(self, other):\n",
    "        result = self.price * other\n",
    "        print(f\"{self.name} * {other} = {result} ￦\")\n",
    "        return result"
   ]
  },
  {
   "cell_type": "markdown",
   "metadata": {},
   "source": [
    "- create class instance: memory heap area"
   ]
  },
  {
   "cell_type": "code",
   "execution_count": 33,
   "metadata": {},
   "outputs": [],
   "source": [
    "bugger_1 = Bugger('bread', 'chicken', 'lettuce, tomato, onion', 'hot sauce', 'Chicken bugger', 4500)\n",
    "bugger_2 = Bugger('seed bun', 'beaf', 'lettuce, tomato, onion', 'garlic sauce', 'Garlic beaf bugger', 6000)"
   ]
  },
  {
   "cell_type": "code",
   "execution_count": 34,
   "metadata": {},
   "outputs": [
    {
     "name": "stdout",
     "output_type": "stream",
     "text": [
      "\n",
      "[Chicken bugger] Infomation\n",
      "------------------------------------------------------------------------------------------\n",
      "price       : 4500 ￦\n",
      "attribute   : bread, chicken, lettuce, tomato, onion, hot sauce\n",
      "------------------------------------------------------------------------------------------\n",
      "\n",
      "[Garlic beaf bugger] Infomation\n",
      "------------------------------------------------------------------------------------------\n",
      "price       : 6000 ￦\n",
      "attribute   : seed bun, beaf, lettuce, tomato, onion, garlic sauce\n",
      "------------------------------------------------------------------------------------------\n"
     ]
    }
   ],
   "source": [
    "bugger_1.showBuggerInfo()\n",
    "bugger_2.showBuggerInfo()"
   ]
  },
  {
   "cell_type": "code",
   "execution_count": 36,
   "metadata": {},
   "outputs": [
    {
     "name": "stdout",
     "output_type": "stream",
     "text": [
      "Chicken bugger + Garlic beaf bugger = 10500 ￦\n",
      "Chicken bugger - Garlic beaf bugger = -1500 ￦\n",
      "Chicken bugger * 2 = 9000 ￦\n"
     ]
    },
    {
     "data": {
      "text/plain": [
       "(10500, -1500, 9000)"
      ]
     },
     "execution_count": 36,
     "metadata": {},
     "output_type": "execute_result"
    }
   ],
   "source": [
    "# TypeError: unsupported operand type(s) for +: 'Bugger' and 'Bugger'\n",
    "bugger_1 + bugger_2, bugger_1 - bugger_2, bugger_1 * 2"
   ]
  },
  {
   "cell_type": "markdown",
   "metadata": {},
   "source": [
    "- 최상위 부모 클래스 ==> Object"
   ]
  },
  {
   "cell_type": "code",
   "execution_count": 46,
   "metadata": {},
   "outputs": [],
   "source": [
    "class A:\n",
    "    pass"
   ]
  },
  {
   "cell_type": "code",
   "execution_count": 47,
   "metadata": {},
   "outputs": [
    {
     "name": "stdout",
     "output_type": "stream",
     "text": [
      "<class '__main__.A'>\n"
     ]
    }
   ],
   "source": [
    "print(A)"
   ]
  },
  {
   "cell_type": "code",
   "execution_count": 52,
   "metadata": {},
   "outputs": [
    {
     "data": {
      "text/plain": [
       "['__repr__',\n",
       " '__call__',\n",
       " '__getattribute__',\n",
       " '__setattr__',\n",
       " '__delattr__',\n",
       " '__init__',\n",
       " '__new__',\n",
       " 'mro',\n",
       " '__subclasses__',\n",
       " '__prepare__',\n",
       " '__instancecheck__',\n",
       " '__subclasscheck__',\n",
       " '__dir__',\n",
       " '__sizeof__',\n",
       " '__basicsize__',\n",
       " '__itemsize__',\n",
       " '__flags__',\n",
       " '__weakrefoffset__',\n",
       " '__base__',\n",
       " '__dictoffset__',\n",
       " '__mro__',\n",
       " '__name__',\n",
       " '__qualname__',\n",
       " '__bases__',\n",
       " '__module__',\n",
       " '__abstractmethods__',\n",
       " '__dict__',\n",
       " '__doc__',\n",
       " '__text_signature__',\n",
       " '__hash__',\n",
       " '__str__',\n",
       " '__lt__',\n",
       " '__le__',\n",
       " '__eq__',\n",
       " '__ne__',\n",
       " '__gt__',\n",
       " '__ge__',\n",
       " '__reduce_ex__',\n",
       " '__reduce__',\n",
       " '__subclasshook__',\n",
       " '__init_subclass__',\n",
       " '__format__',\n",
       " '__class__']"
      ]
     },
     "execution_count": 52,
     "metadata": {},
     "output_type": "execute_result"
    }
   ],
   "source": [
    "A.__dir__(A)"
   ]
  },
  {
   "cell_type": "code",
   "execution_count": null,
   "metadata": {},
   "outputs": [],
   "source": []
  }
 ],
 "metadata": {
  "kernelspec": {
   "display_name": "torch_38",
   "language": "python",
   "name": "python3"
  },
  "language_info": {
   "codemirror_mode": {
    "name": "ipython",
    "version": 3
   },
   "file_extension": ".py",
   "mimetype": "text/x-python",
   "name": "python",
   "nbconvert_exporter": "python",
   "pygments_lexer": "ipython3",
   "version": "3.8.19"
  }
 },
 "nbformat": 4,
 "nbformat_minor": 2
}
