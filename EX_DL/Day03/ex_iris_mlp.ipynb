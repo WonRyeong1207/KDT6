{
 "cells": [
  {
   "cell_type": "markdown",
   "metadata": {},
   "source": [
    "### iris datasets 활용 꽃잎 너비 예측 모델\n",
    "- datasets: iris.csv에서 2개의 feature 사용\n",
    "- 구현프레임워크: Pytorch"
   ]
  },
  {
   "cell_type": "code",
   "execution_count": 1,
   "metadata": {},
   "outputs": [],
   "source": [
    "import pandas as pd\n",
    "import torch                        # tensor\n",
    "import torch.nn as nn               # ANN\n",
    "import torch.nn.functional as F        # loss, activation, distance rtc function\n",
    "import torch.optim as optimizer     # optimization"
   ]
  },
  {
   "cell_type": "code",
   "execution_count": 2,
   "metadata": {},
   "outputs": [],
   "source": [
    "import matplotlib.pyplot as plt\n",
    "from sklearn.model_selection import train_test_split"
   ]
  },
  {
   "cell_type": "code",
   "execution_count": 3,
   "metadata": {},
   "outputs": [],
   "source": [
    "from torchmetrics.regression import R2Score"
   ]
  },
  {
   "cell_type": "code",
   "execution_count": 4,
   "metadata": {},
   "outputs": [
    {
     "data": {
      "text/html": [
       "<div>\n",
       "<style scoped>\n",
       "    .dataframe tbody tr th:only-of-type {\n",
       "        vertical-align: middle;\n",
       "    }\n",
       "\n",
       "    .dataframe tbody tr th {\n",
       "        vertical-align: top;\n",
       "    }\n",
       "\n",
       "    .dataframe thead th {\n",
       "        text-align: right;\n",
       "    }\n",
       "</style>\n",
       "<table border=\"1\" class=\"dataframe\">\n",
       "  <thead>\n",
       "    <tr style=\"text-align: right;\">\n",
       "      <th></th>\n",
       "      <th>sepal.length</th>\n",
       "      <th>sepal.width</th>\n",
       "      <th>petal.length</th>\n",
       "      <th>petal.width</th>\n",
       "    </tr>\n",
       "  </thead>\n",
       "  <tbody>\n",
       "    <tr>\n",
       "      <th>0</th>\n",
       "      <td>5.1</td>\n",
       "      <td>3.5</td>\n",
       "      <td>1.4</td>\n",
       "      <td>0.2</td>\n",
       "    </tr>\n",
       "    <tr>\n",
       "      <th>1</th>\n",
       "      <td>4.9</td>\n",
       "      <td>3.0</td>\n",
       "      <td>1.4</td>\n",
       "      <td>0.2</td>\n",
       "    </tr>\n",
       "    <tr>\n",
       "      <th>2</th>\n",
       "      <td>4.7</td>\n",
       "      <td>3.2</td>\n",
       "      <td>1.3</td>\n",
       "      <td>0.2</td>\n",
       "    </tr>\n",
       "    <tr>\n",
       "      <th>3</th>\n",
       "      <td>4.6</td>\n",
       "      <td>3.1</td>\n",
       "      <td>1.5</td>\n",
       "      <td>0.2</td>\n",
       "    </tr>\n",
       "    <tr>\n",
       "      <th>4</th>\n",
       "      <td>5.0</td>\n",
       "      <td>3.6</td>\n",
       "      <td>1.4</td>\n",
       "      <td>0.2</td>\n",
       "    </tr>\n",
       "  </tbody>\n",
       "</table>\n",
       "</div>"
      ],
      "text/plain": [
       "   sepal.length  sepal.width  petal.length  petal.width\n",
       "0           5.1          3.5           1.4          0.2\n",
       "1           4.9          3.0           1.4          0.2\n",
       "2           4.7          3.2           1.3          0.2\n",
       "3           4.6          3.1           1.5          0.2\n",
       "4           5.0          3.6           1.4          0.2"
      ]
     },
     "execution_count": 4,
     "metadata": {},
     "output_type": "execute_result"
    }
   ],
   "source": [
    "FILE_PATH = '../../EX_ML/data/iris.csv'\n",
    "\n",
    "iris_df = pd.read_csv(FILE_PATH, usecols=[0, 1, 2, 3])\n",
    "iris_df.head()"
   ]
  },
  {
   "cell_type": "code",
   "execution_count": 5,
   "metadata": {},
   "outputs": [
    {
     "name": "stdout",
     "output_type": "stream",
     "text": [
      "<class 'pandas.core.frame.DataFrame'>\n",
      "RangeIndex: 150 entries, 0 to 149\n",
      "Data columns (total 4 columns):\n",
      " #   Column        Non-Null Count  Dtype  \n",
      "---  ------        --------------  -----  \n",
      " 0   sepal.length  150 non-null    float64\n",
      " 1   sepal.width   150 non-null    float64\n",
      " 2   petal.length  150 non-null    float64\n",
      " 3   petal.width   150 non-null    float64\n",
      "dtypes: float64(4)\n",
      "memory usage: 4.8 KB\n"
     ]
    }
   ],
   "source": [
    "iris_df.info()"
   ]
  },
  {
   "cell_type": "markdown",
   "metadata": {},
   "source": [
    "- learning method: supervised learning, regression\n",
    "- learning algorithm: linear relation, linear model in nn.Linear"
   ]
  },
  {
   "cell_type": "code",
   "execution_count": 6,
   "metadata": {},
   "outputs": [
    {
     "name": "stdout",
     "output_type": "stream",
     "text": [
      "device: cpu\n"
     ]
    }
   ],
   "source": [
    "# model weight & bais fixed\n",
    "torch.manual_seed(59)\n",
    "\n",
    "# 저장 및 실행 위치 설정\n",
    "DEVICE = 'gpu' if torch.cuda.is_available() else 'cpu'\n",
    "print(f\"device: {DEVICE}\")"
   ]
  },
  {
   "cell_type": "code",
   "execution_count": 71,
   "metadata": {},
   "outputs": [],
   "source": [
    "# in_features: petal.length, sepal.length, sepal.width\n",
    "# out_teature: petal.width\n",
    "\n",
    "# 그 전 층의 출력이 다음 층의 입력으로 들어옴. 이 숫자는 맞춰줘야함.\n",
    "# 지금 구조는 입력 3 -> 10 -> 5 -> 1 로 출력이 1이 되는 층이 3개인 perseptron\n",
    "\n",
    "model = nn.Sequential(nn.Linear(3, 10),     # input layer\n",
    "                      nn.ReLU(),            # activation function\n",
    "                      nn.Linear(10, 5),     # hidden layer, hidden 표시를 안해도 되는 걸까?\n",
    "                      nn.ReLU(),            # activation function\n",
    "                      nn.Linear(5, 1))      # output layer"
   ]
  },
  {
   "cell_type": "code",
   "execution_count": 72,
   "metadata": {},
   "outputs": [
    {
     "name": "stdout",
     "output_type": "stream",
     "text": [
      "Sequential(\n",
      "  (0): Linear(in_features=3, out_features=10, bias=True)\n",
      "  (1): ReLU()\n",
      "  (2): Linear(in_features=10, out_features=5, bias=True)\n",
      "  (3): ReLU()\n",
      "  (4): Linear(in_features=5, out_features=1, bias=True)\n",
      ")\n"
     ]
    }
   ],
   "source": [
    "# model structure\n",
    "print(model)"
   ]
  },
  {
   "cell_type": "code",
   "execution_count": 73,
   "metadata": {},
   "outputs": [],
   "source": [
    "from torchinfo import summary   # 모델 정보 관련 모듈 - 추가 설치"
   ]
  },
  {
   "cell_type": "code",
   "execution_count": 74,
   "metadata": {},
   "outputs": [
    {
     "name": "stdout",
     "output_type": "stream",
     "text": [
      "Sequential(\n",
      "  (0): Linear(in_features=3, out_features=10, bias=True)\n",
      "  (1): ReLU()\n",
      "  (2): Linear(in_features=10, out_features=5, bias=True)\n",
      "  (3): ReLU()\n",
      "  (4): Linear(in_features=5, out_features=1, bias=True)\n",
      ")\n"
     ]
    },
    {
     "data": {
      "text/plain": [
       "==========================================================================================\n",
       "Layer (type:depth-idx)                   Output Shape              Param #\n",
       "==========================================================================================\n",
       "Sequential                               [1, 1]                    --\n",
       "├─Linear: 1-1                            [1, 10]                   40\n",
       "├─ReLU: 1-2                              [1, 10]                   --\n",
       "├─Linear: 1-3                            [1, 5]                    55\n",
       "├─ReLU: 1-4                              [1, 5]                    --\n",
       "├─Linear: 1-5                            [1, 1]                    6\n",
       "==========================================================================================\n",
       "Total params: 101\n",
       "Trainable params: 101\n",
       "Non-trainable params: 0\n",
       "Total mult-adds (M): 0.00\n",
       "==========================================================================================\n",
       "Input size (MB): 0.00\n",
       "Forward/backward pass size (MB): 0.00\n",
       "Params size (MB): 0.00\n",
       "Estimated Total Size (MB): 0.00\n",
       "=========================================================================================="
      ]
     },
     "execution_count": 74,
     "metadata": {},
     "output_type": "execute_result"
    }
   ],
   "source": [
    "print(model)\n",
    "summary(model, input_size=(1,3))"
   ]
  },
  {
   "cell_type": "code",
   "execution_count": 75,
   "metadata": {},
   "outputs": [
    {
     "name": "stdout",
     "output_type": "stream",
     "text": [
      "[0.weight] Parameter containing:\n",
      "tensor([[ 0.5478, -0.0950,  0.1925],\n",
      "        [-0.5479,  0.4130, -0.5407],\n",
      "        [ 0.3541,  0.0599, -0.5730],\n",
      "        [ 0.4725, -0.3021,  0.5375],\n",
      "        [-0.2065,  0.2128,  0.0112],\n",
      "        [ 0.2909,  0.4402,  0.0040],\n",
      "        [ 0.1143, -0.1311,  0.2665],\n",
      "        [-0.2098, -0.4833,  0.5172],\n",
      "        [-0.3172,  0.1701, -0.0766],\n",
      "        [-0.3681,  0.1295,  0.1573]], requires_grad=True)\n",
      "\n",
      "[0.bias] Parameter containing:\n",
      "tensor([-0.0671,  0.0313,  0.2059, -0.1744,  0.4276, -0.3323,  0.4715,  0.3644,\n",
      "        -0.4438, -0.4062], requires_grad=True)\n",
      "\n",
      "[2.weight] Parameter containing:\n",
      "tensor([[ 0.1740, -0.0152,  0.2544,  0.1500,  0.2160,  0.2538,  0.1773, -0.2674,\n",
      "          0.0734,  0.1358],\n",
      "        [ 0.2150, -0.1305,  0.1738, -0.3007, -0.3029,  0.1523,  0.0144,  0.0073,\n",
      "         -0.3003, -0.2794],\n",
      "        [ 0.1138, -0.1915, -0.2946,  0.3129, -0.2886,  0.0406,  0.2004,  0.2214,\n",
      "          0.2060, -0.2977],\n",
      "        [-0.0593,  0.1292,  0.3118,  0.2501, -0.2255, -0.1562, -0.2696, -0.0149,\n",
      "          0.0894,  0.0079],\n",
      "        [-0.0112,  0.1833, -0.2290, -0.1012, -0.0787,  0.0221,  0.3108, -0.0372,\n",
      "         -0.0367, -0.2757]], requires_grad=True)\n",
      "\n",
      "[2.bias] Parameter containing:\n",
      "tensor([ 0.1080,  0.2337,  0.0927, -0.0951, -0.2682], requires_grad=True)\n",
      "\n",
      "[4.weight] Parameter containing:\n",
      "tensor([[-0.0676, -0.1223, -0.0177, -0.4016, -0.1634]], requires_grad=True)\n",
      "\n",
      "[4.bias] Parameter containing:\n",
      "tensor([0.0718], requires_grad=True)\n",
      "\n"
     ]
    }
   ],
   "source": [
    "# weight & bais\n",
    "\n",
    "for name, param in model.named_parameters():\n",
    "    print(f\"[{name}] {param}\\n\")"
   ]
  },
  {
   "cell_type": "markdown",
   "metadata": {},
   "source": [
    "- optimization instance\n",
    "    - weight & bais optimaization"
   ]
  },
  {
   "cell_type": "code",
   "execution_count": 76,
   "metadata": {},
   "outputs": [],
   "source": [
    "adam_op = optimizer.Adam(model.parameters(), lr=0.1)"
   ]
  },
  {
   "cell_type": "markdown",
   "metadata": {},
   "source": [
    "- model learning\n",
    "    - developer to do..?"
   ]
  },
  {
   "cell_type": "markdown",
   "metadata": {},
   "source": [
    "- datasets to tensor: 데이터 준비 시 시행하거나 또는 학습 전에 진행"
   ]
  },
  {
   "cell_type": "code",
   "execution_count": 77,
   "metadata": {},
   "outputs": [
    {
     "name": "stdout",
     "output_type": "stream",
     "text": [
      "(150, 3) (150, 1)\n"
     ]
    }
   ],
   "source": [
    "# feature & label\n",
    "feature_df = iris_df[iris_df.columns[:-1]]\n",
    "label_df = iris_df[['petal.width']]\n",
    "\n",
    "print(feature_df.shape, label_df.shape)"
   ]
  },
  {
   "cell_type": "code",
   "execution_count": 78,
   "metadata": {},
   "outputs": [
    {
     "name": "stdout",
     "output_type": "stream",
     "text": [
      "train: (96, 3), test: (30, 3), val: (24, 3)\n",
      "train: (96, 1), test: (30, 1), val: (24, 1)\n"
     ]
    }
   ],
   "source": [
    "# random_state: 39\n",
    "# train & test\n",
    "X_train, X_test, y_train, y_test = train_test_split(feature_df, label_df, test_size=0.2, random_state=39)\n",
    "\n",
    "# train & val\n",
    "X_train, X_val, y_train, y_val = train_test_split(X_train, y_train, test_size=0.2, random_state=39)\n",
    "\n",
    "print(f\"train: {X_train.shape}, test: {X_test.shape}, val: {X_val.shape}\")\n",
    "print(f\"train: {y_train.shape}, test: {y_test.shape}, val: {y_val.shape}\")"
   ]
  },
  {
   "cell_type": "markdown",
   "metadata": {},
   "source": [
    "- model learning\n",
    "    - epoch: 100, 학습 횟수지정\n",
    "    - 베치크기 와 개수 결정"
   ]
  },
  {
   "cell_type": "code",
   "execution_count": 79,
   "metadata": {},
   "outputs": [],
   "source": [
    "import math"
   ]
  },
  {
   "cell_type": "code",
   "execution_count": 80,
   "metadata": {},
   "outputs": [
    {
     "name": "stdout",
     "output_type": "stream",
     "text": [
      "Epoch: 1000, Batch Size: 12, Batch Count: 8\n"
     ]
    }
   ],
   "source": [
    "EPOCH = 1000                                    # leanring count\n",
    "BATCH_SIZE = 12                                 # in 1 epoch, learning size\n",
    "BATCH_CNT = X_train.shape[0] // BATCH_SIZE      # in 1 epoch, learning count and update count\n",
    "\n",
    "print(f\"Epoch: {EPOCH}, Batch Size: {BATCH_SIZE}, Batch Count: {BATCH_CNT}\")"
   ]
  },
  {
   "cell_type": "code",
   "execution_count": 81,
   "metadata": {},
   "outputs": [],
   "source": [
    "# test & validation function\n",
    "# must not weight & bais update\n",
    "\n",
    "def testing(test_ts, label_ts, kind='Val'):\n",
    "    \n",
    "    with torch.no_grad():\n",
    "        \n",
    "        pre_y = model(test_ts)\n",
    "        \n",
    "        # 오차계산: loss function\n",
    "        loss = F.mse_loss(pre_y, label_ts)\n",
    "        # loss_list.append(loss.item())\n",
    "        r2 = R2Score()(pre_y, label_ts)\n",
    "            \n",
    "    return loss, r2"
   ]
  },
  {
   "cell_type": "code",
   "execution_count": 82,
   "metadata": {},
   "outputs": [],
   "source": [
    "# model learning function\n",
    "def training(train_X_df, train_y_df, val_X_df, val_y_df, kind='Val'):\n",
    "    loss_history = [[], []]\n",
    "    r2_history = [[], []]\n",
    "    \n",
    "    for epoch in range(EPOCH+1):\n",
    "        bs_loss, bs_r2 = 0, 0\n",
    "        for i in range(BATCH_CNT):\n",
    "            start = i * BATCH_SIZE\n",
    "            end = start + BATCH_SIZE\n",
    "            # print(start, end)\n",
    "            \n",
    "            # batch size 만큼 데이터를 추출해서 teanser화\n",
    "            bs_X_train = torch.FloatTensor(train_X_df[start:end].values).to(DEVICE)\n",
    "            bs_y_train = torch.FloatTensor(train_y_df[start:end].values).to(DEVICE)\n",
    "            # print(bs_X_train.shape, bs_X_train.device, bs_X_train.dtype)\n",
    "            \n",
    "            # 학습진행: forward\n",
    "            pre_y = model(bs_X_train)\n",
    "            \n",
    "            # 오차계산: loss function\n",
    "            train_loss = F.mse_loss(pre_y, bs_y_train)\n",
    "            bs_loss += train_loss.item()\n",
    "            bs_r2 += R2Score()(pre_y, bs_y_train).item()\n",
    "            \n",
    "            \n",
    "            # 최적화: optimization\n",
    "            adam_op.zero_grad()\n",
    "            train_loss.backward()\n",
    "            adam_op.step()\n",
    "            \n",
    "        # validation\n",
    "        bs_X_val = torch.FloatTensor(val_X_df.values).to(DEVICE)\n",
    "        bs_y_val = torch.FloatTensor(val_y_df.values).to(DEVICE)\n",
    "        val_loss, val_r2 = testing(bs_X_val, bs_y_val)\n",
    "                \n",
    "        loss_history[0].append(bs_loss/BATCH_CNT)\n",
    "        r2_history[0].append(bs_r2/BATCH_CNT)\n",
    "        \n",
    "        loss_history[1].append(val_loss.item())\n",
    "        r2_history[1].append(val_r2.item())\n",
    "        \n",
    "        # 학습결과\n",
    "        if epoch%10 == 0:\n",
    "            print(f\"epoch: {epoch:5} train loss: {bs_loss:10.8f}\")\n",
    "            print(f\"epoch: {epoch:5} {kind} loss: {val_loss.item():10.8f}\")\n",
    "            print(f\"epoch: {epoch:5} {kind} R2 Score: {val_r2.item():10.8f}\")\n",
    "            \n",
    "    return loss_history, r2_history\n",
    "    # return 0"
   ]
  },
  {
   "cell_type": "code",
   "execution_count": 83,
   "metadata": {},
   "outputs": [
    {
     "name": "stdout",
     "output_type": "stream",
     "text": [
      "epoch:     0 train loss: 8.72864334\n",
      "epoch:     0 Val loss: 0.38899755\n",
      "epoch:     0 Val R2 Score: 0.28293073\n"
     ]
    },
    {
     "name": "stdout",
     "output_type": "stream",
     "text": [
      "epoch:    10 train loss: 0.47806793\n",
      "epoch:    10 Val loss: 0.08565270\n",
      "epoch:    10 Val R2 Score: 0.84210974\n",
      "epoch:    20 train loss: 0.51173370\n",
      "epoch:    20 Val loss: 0.04498241\n",
      "epoch:    20 Val R2 Score: 0.91708046\n",
      "epoch:    30 train loss: 0.41206592\n",
      "epoch:    30 Val loss: 0.04375869\n",
      "epoch:    30 Val R2 Score: 0.91933620\n",
      "epoch:    40 train loss: 0.31468309\n",
      "epoch:    40 Val loss: 0.03773163\n",
      "epoch:    40 Val R2 Score: 0.93044639\n",
      "epoch:    50 train loss: 0.27596770\n",
      "epoch:    50 Val loss: 0.03405785\n",
      "epoch:    50 Val R2 Score: 0.93721855\n",
      "epoch:    60 train loss: 0.26336411\n",
      "epoch:    60 Val loss: 0.03324164\n",
      "epoch:    60 Val R2 Score: 0.93872309\n",
      "epoch:    70 train loss: 0.26114062\n",
      "epoch:    70 Val loss: 0.03295371\n",
      "epoch:    70 Val R2 Score: 0.93925387\n",
      "epoch:    80 train loss: 0.26161381\n",
      "epoch:    80 Val loss: 0.03283706\n",
      "epoch:    80 Val R2 Score: 0.93946892\n",
      "epoch:    90 train loss: 0.26287649\n",
      "epoch:    90 Val loss: 0.03325616\n",
      "epoch:    90 Val R2 Score: 0.93869632\n",
      "epoch:   100 train loss: 0.26493825\n",
      "epoch:   100 Val loss: 0.03382574\n",
      "epoch:   100 Val R2 Score: 0.93764639\n",
      "epoch:   110 train loss: 0.26769213\n",
      "epoch:   110 Val loss: 0.03427436\n",
      "epoch:   110 Val R2 Score: 0.93681943\n",
      "epoch:   120 train loss: 0.27149781\n",
      "epoch:   120 Val loss: 0.03531720\n",
      "epoch:   120 Val R2 Score: 0.93489707\n",
      "epoch:   130 train loss: 0.27497159\n",
      "epoch:   130 Val loss: 0.03611502\n",
      "epoch:   130 Val R2 Score: 0.93342638\n",
      "epoch:   140 train loss: 0.27814017\n",
      "epoch:   140 Val loss: 0.03643665\n",
      "epoch:   140 Val R2 Score: 0.93283349\n",
      "epoch:   150 train loss: 0.28149031\n",
      "epoch:   150 Val loss: 0.03761957\n",
      "epoch:   150 Val R2 Score: 0.93065292\n",
      "epoch:   160 train loss: 0.28243654\n",
      "epoch:   160 Val loss: 0.03755477\n",
      "epoch:   160 Val R2 Score: 0.93077236\n",
      "epoch:   170 train loss: 0.28345989\n",
      "epoch:   170 Val loss: 0.03842027\n",
      "epoch:   170 Val R2 Score: 0.92917693\n",
      "epoch:   180 train loss: 0.28389590\n",
      "epoch:   180 Val loss: 0.03806818\n",
      "epoch:   180 Val R2 Score: 0.92982596\n",
      "epoch:   190 train loss: 0.28499343\n",
      "epoch:   190 Val loss: 0.03808387\n",
      "epoch:   190 Val R2 Score: 0.92979705\n",
      "epoch:   200 train loss: 0.28504680\n",
      "epoch:   200 Val loss: 0.03792389\n",
      "epoch:   200 Val R2 Score: 0.93009198\n",
      "epoch:   210 train loss: 0.28272152\n",
      "epoch:   210 Val loss: 0.03780809\n",
      "epoch:   210 Val R2 Score: 0.93030542\n",
      "epoch:   220 train loss: 0.28504882\n",
      "epoch:   220 Val loss: 0.03854841\n",
      "epoch:   220 Val R2 Score: 0.92894077\n",
      "epoch:   230 train loss: 0.28112739\n",
      "epoch:   230 Val loss: 0.03707640\n",
      "epoch:   230 Val R2 Score: 0.93165421\n",
      "epoch:   240 train loss: 0.28215818\n",
      "epoch:   240 Val loss: 0.03731405\n",
      "epoch:   240 Val R2 Score: 0.93121612\n",
      "epoch:   250 train loss: 0.28472524\n",
      "epoch:   250 Val loss: 0.03764191\n",
      "epoch:   250 Val R2 Score: 0.93061179\n",
      "epoch:   260 train loss: 0.28387144\n",
      "epoch:   260 Val loss: 0.03785003\n",
      "epoch:   260 Val R2 Score: 0.93022811\n",
      "epoch:   270 train loss: 0.28308592\n",
      "epoch:   270 Val loss: 0.03749097\n",
      "epoch:   270 Val R2 Score: 0.93089002\n",
      "epoch:   280 train loss: 0.28308778\n",
      "epoch:   280 Val loss: 0.03781322\n",
      "epoch:   280 Val R2 Score: 0.93029594\n",
      "epoch:   290 train loss: 0.28331728\n",
      "epoch:   290 Val loss: 0.03723317\n",
      "epoch:   290 Val R2 Score: 0.93136519\n",
      "epoch:   300 train loss: 0.27989175\n",
      "epoch:   300 Val loss: 0.03678462\n",
      "epoch:   300 Val R2 Score: 0.93219209\n",
      "epoch:   310 train loss: 0.28140286\n",
      "epoch:   310 Val loss: 0.03701321\n",
      "epoch:   310 Val R2 Score: 0.93177068\n",
      "epoch:   320 train loss: 0.28224474\n",
      "epoch:   320 Val loss: 0.03740207\n",
      "epoch:   320 Val R2 Score: 0.93105388\n",
      "epoch:   330 train loss: 0.28186140\n",
      "epoch:   330 Val loss: 0.03688969\n",
      "epoch:   330 Val R2 Score: 0.93199837\n",
      "epoch:   340 train loss: 0.28315639\n",
      "epoch:   340 Val loss: 0.03710148\n",
      "epoch:   340 Val R2 Score: 0.93160796\n",
      "epoch:   350 train loss: 0.28202116\n",
      "epoch:   350 Val loss: 0.03718342\n",
      "epoch:   350 Val R2 Score: 0.93145692\n",
      "epoch:   360 train loss: 0.28287311\n",
      "epoch:   360 Val loss: 0.03714769\n",
      "epoch:   360 Val R2 Score: 0.93152279\n",
      "epoch:   370 train loss: 0.28334717\n",
      "epoch:   370 Val loss: 0.03735429\n",
      "epoch:   370 Val R2 Score: 0.93114197\n",
      "epoch:   380 train loss: 0.28335987\n",
      "epoch:   380 Val loss: 0.03760180\n",
      "epoch:   380 Val R2 Score: 0.93068570\n",
      "epoch:   390 train loss: 0.28158544\n",
      "epoch:   390 Val loss: 0.03673638\n",
      "epoch:   390 Val R2 Score: 0.93228096\n",
      "epoch:   400 train loss: 0.28220734\n",
      "epoch:   400 Val loss: 0.03667064\n",
      "epoch:   400 Val R2 Score: 0.93240213\n",
      "epoch:   410 train loss: 0.28316361\n",
      "epoch:   410 Val loss: 0.03748691\n",
      "epoch:   410 Val R2 Score: 0.93089747\n",
      "epoch:   420 train loss: 0.28090552\n",
      "epoch:   420 Val loss: 0.03655478\n",
      "epoch:   420 Val R2 Score: 0.93261576\n",
      "epoch:   430 train loss: 0.28212484\n",
      "epoch:   430 Val loss: 0.03726104\n",
      "epoch:   430 Val R2 Score: 0.93131381\n",
      "epoch:   440 train loss: 0.28165480\n",
      "epoch:   440 Val loss: 0.03678959\n",
      "epoch:   440 Val R2 Score: 0.93218291\n",
      "epoch:   450 train loss: 0.28144775\n",
      "epoch:   450 Val loss: 0.03697753\n",
      "epoch:   450 Val R2 Score: 0.93183649\n",
      "epoch:   460 train loss: 0.27847885\n",
      "epoch:   460 Val loss: 0.03582472\n",
      "epoch:   460 Val R2 Score: 0.93396151\n",
      "epoch:   470 train loss: 0.27746382\n",
      "epoch:   470 Val loss: 0.03615763\n",
      "epoch:   470 Val R2 Score: 0.93334782\n",
      "epoch:   480 train loss: 0.27979408\n",
      "epoch:   480 Val loss: 0.03663141\n",
      "epoch:   480 Val R2 Score: 0.93247449\n",
      "epoch:   490 train loss: 0.28113177\n",
      "epoch:   490 Val loss: 0.03697934\n",
      "epoch:   490 Val R2 Score: 0.93183315\n",
      "epoch:   500 train loss: 0.28175706\n",
      "epoch:   500 Val loss: 0.03658628\n",
      "epoch:   500 Val R2 Score: 0.93255770\n",
      "epoch:   510 train loss: 0.27973584\n",
      "epoch:   510 Val loss: 0.03661512\n",
      "epoch:   510 Val R2 Score: 0.93250453\n",
      "epoch:   520 train loss: 0.27948495\n",
      "epoch:   520 Val loss: 0.03621924\n",
      "epoch:   520 Val R2 Score: 0.93323427\n",
      "epoch:   530 train loss: 0.27907818\n",
      "epoch:   530 Val loss: 0.03652095\n",
      "epoch:   530 Val R2 Score: 0.93267810\n",
      "epoch:   540 train loss: 0.28023554\n",
      "epoch:   540 Val loss: 0.03643496\n",
      "epoch:   540 Val R2 Score: 0.93283665\n",
      "epoch:   550 train loss: 0.27860864\n",
      "epoch:   550 Val loss: 0.03659395\n",
      "epoch:   550 Val R2 Score: 0.93254352\n",
      "epoch:   560 train loss: 0.27837225\n",
      "epoch:   560 Val loss: 0.03610008\n",
      "epoch:   560 Val R2 Score: 0.93345392\n",
      "epoch:   570 train loss: 0.27831720\n",
      "epoch:   570 Val loss: 0.03633675\n",
      "epoch:   570 Val R2 Score: 0.93301767\n",
      "epoch:   580 train loss: 0.27877590\n",
      "epoch:   580 Val loss: 0.03667751\n",
      "epoch:   580 Val R2 Score: 0.93238950\n",
      "epoch:   590 train loss: 0.27659206\n",
      "epoch:   590 Val loss: 0.03543283\n",
      "epoch:   590 Val R2 Score: 0.93468392\n",
      "epoch:   600 train loss: 0.27691461\n",
      "epoch:   600 Val loss: 0.03526513\n",
      "epoch:   600 Val R2 Score: 0.93499303\n",
      "epoch:   610 train loss: 0.27598593\n",
      "epoch:   610 Val loss: 0.03567902\n",
      "epoch:   610 Val R2 Score: 0.93423009\n",
      "epoch:   620 train loss: 0.27933022\n",
      "epoch:   620 Val loss: 0.03663894\n",
      "epoch:   620 Val R2 Score: 0.93246061\n",
      "epoch:   630 train loss: 0.27342958\n",
      "epoch:   630 Val loss: 0.03479221\n",
      "epoch:   630 Val R2 Score: 0.93586481\n",
      "epoch:   640 train loss: 0.27742033\n",
      "epoch:   640 Val loss: 0.03599457\n",
      "epoch:   640 Val R2 Score: 0.93364841\n",
      "epoch:   650 train loss: 0.27770462\n",
      "epoch:   650 Val loss: 0.03585637\n",
      "epoch:   650 Val R2 Score: 0.93390316\n",
      "epoch:   660 train loss: 0.27413946\n",
      "epoch:   660 Val loss: 0.03461581\n",
      "epoch:   660 Val R2 Score: 0.93619001\n",
      "epoch:   670 train loss: 0.27633670\n",
      "epoch:   670 Val loss: 0.03529901\n",
      "epoch:   670 Val R2 Score: 0.93493062\n",
      "epoch:   680 train loss: 0.27244247\n",
      "epoch:   680 Val loss: 0.03461710\n",
      "epoch:   680 Val R2 Score: 0.93618762\n",
      "epoch:   690 train loss: 0.27496306\n",
      "epoch:   690 Val loss: 0.03561261\n",
      "epoch:   690 Val R2 Score: 0.93435252\n",
      "epoch:   700 train loss: 0.27539357\n",
      "epoch:   700 Val loss: 0.03539051\n",
      "epoch:   700 Val R2 Score: 0.93476194\n",
      "epoch:   710 train loss: 0.27391004\n",
      "epoch:   710 Val loss: 0.03500954\n",
      "epoch:   710 Val R2 Score: 0.93546420\n",
      "epoch:   720 train loss: 0.27529269\n",
      "epoch:   720 Val loss: 0.03540568\n",
      "epoch:   720 Val R2 Score: 0.93473399\n",
      "epoch:   730 train loss: 0.27578777\n",
      "epoch:   730 Val loss: 0.03533693\n",
      "epoch:   730 Val R2 Score: 0.93486071\n",
      "epoch:   740 train loss: 0.27526638\n",
      "epoch:   740 Val loss: 0.03516576\n",
      "epoch:   740 Val R2 Score: 0.93517625\n",
      "epoch:   750 train loss: 0.27504153\n",
      "epoch:   750 Val loss: 0.03522306\n",
      "epoch:   750 Val R2 Score: 0.93507063\n",
      "epoch:   760 train loss: 0.27775183\n",
      "epoch:   760 Val loss: 0.03614865\n",
      "epoch:   760 Val R2 Score: 0.93336439\n",
      "epoch:   770 train loss: 0.27517571\n",
      "epoch:   770 Val loss: 0.03578047\n",
      "epoch:   770 Val R2 Score: 0.93404311\n",
      "epoch:   780 train loss: 0.27845414\n",
      "epoch:   780 Val loss: 0.03646063\n",
      "epoch:   780 Val R2 Score: 0.93278933\n",
      "epoch:   790 train loss: 0.27542251\n",
      "epoch:   790 Val loss: 0.03534462\n",
      "epoch:   790 Val R2 Score: 0.93484652\n",
      "epoch:   800 train loss: 0.27445329\n",
      "epoch:   800 Val loss: 0.03537536\n",
      "epoch:   800 Val R2 Score: 0.93478990\n",
      "epoch:   810 train loss: 0.27479458\n",
      "epoch:   810 Val loss: 0.03582631\n",
      "epoch:   810 Val R2 Score: 0.93395859\n",
      "epoch:   820 train loss: 0.27445233\n",
      "epoch:   820 Val loss: 0.03551993\n",
      "epoch:   820 Val R2 Score: 0.93452334\n",
      "epoch:   830 train loss: 0.27556489\n",
      "epoch:   830 Val loss: 0.03493256\n",
      "epoch:   830 Val R2 Score: 0.93560612\n",
      "epoch:   840 train loss: 0.27616433\n",
      "epoch:   840 Val loss: 0.03584383\n",
      "epoch:   840 Val R2 Score: 0.93392628\n",
      "epoch:   850 train loss: 0.27467385\n",
      "epoch:   850 Val loss: 0.03519519\n",
      "epoch:   850 Val R2 Score: 0.93512201\n",
      "epoch:   860 train loss: 0.27848621\n",
      "epoch:   860 Val loss: 0.03630083\n",
      "epoch:   860 Val R2 Score: 0.93308389\n",
      "epoch:   870 train loss: 0.27529043\n",
      "epoch:   870 Val loss: 0.03584035\n",
      "epoch:   870 Val R2 Score: 0.93393272\n",
      "epoch:   880 train loss: 0.27690873\n",
      "epoch:   880 Val loss: 0.03625231\n",
      "epoch:   880 Val R2 Score: 0.93317330\n",
      "epoch:   890 train loss: 0.27461002\n",
      "epoch:   890 Val loss: 0.03565449\n",
      "epoch:   890 Val R2 Score: 0.93427533\n",
      "epoch:   900 train loss: 0.27705451\n",
      "epoch:   900 Val loss: 0.03556938\n",
      "epoch:   900 Val R2 Score: 0.93443221\n",
      "epoch:   910 train loss: 0.27384776\n",
      "epoch:   910 Val loss: 0.03476852\n",
      "epoch:   910 Val R2 Score: 0.93590850\n",
      "epoch:   920 train loss: 0.27817250\n",
      "epoch:   920 Val loss: 0.03610620\n",
      "epoch:   920 Val R2 Score: 0.93344265\n",
      "epoch:   930 train loss: 0.27515463\n",
      "epoch:   930 Val loss: 0.03590292\n",
      "epoch:   930 Val R2 Score: 0.93381739\n",
      "epoch:   940 train loss: 0.27652229\n",
      "epoch:   940 Val loss: 0.03631055\n",
      "epoch:   940 Val R2 Score: 0.93306595\n",
      "epoch:   950 train loss: 0.27570816\n",
      "epoch:   950 Val loss: 0.03552005\n",
      "epoch:   950 Val R2 Score: 0.93452317\n",
      "epoch:   960 train loss: 0.27420445\n",
      "epoch:   960 Val loss: 0.03561084\n",
      "epoch:   960 Val R2 Score: 0.93435580\n",
      "epoch:   970 train loss: 0.27642407\n",
      "epoch:   970 Val loss: 0.03544557\n",
      "epoch:   970 Val R2 Score: 0.93466043\n",
      "epoch:   980 train loss: 0.27554506\n",
      "epoch:   980 Val loss: 0.03541499\n",
      "epoch:   980 Val R2 Score: 0.93471682\n",
      "epoch:   990 train loss: 0.27524328\n",
      "epoch:   990 Val loss: 0.03484422\n",
      "epoch:   990 Val R2 Score: 0.93576896\n",
      "epoch:  1000 train loss: 0.27783195\n",
      "epoch:  1000 Val loss: 0.03583863\n",
      "epoch:  1000 Val R2 Score: 0.93393588\n"
     ]
    }
   ],
   "source": [
    "loss, r2 = training(X_train, y_train, X_val, y_val)"
   ]
  },
  {
   "cell_type": "code",
   "execution_count": 99,
   "metadata": {},
   "outputs": [
    {
     "data": {
      "image/png": "[encoded data removed]",
      "text/plain": [
       "<Figure size 640x480 with 1 Axes>"
      ]
     },
     "metadata": {},
     "output_type": "display_data"
    }
   ],
   "source": [
    "plt.plot(loss[0][:100], label=f'train loss, min: {min(loss[0]):.8f}, max: {max(loss[0]):.8f}')\n",
    "plt.plot(loss[1][:100], label=f'validation loss, min: {max(loss[1]):.8f}, max: {max(loss[1]):.8f}')\n",
    "\n",
    "plt.title('loss function value')\n",
    "plt.xlabel('epoch')\n",
    "plt.ylabel('loss value')\n",
    "plt.legend(fontsize='small')\n",
    "plt.show()"
   ]
  },
  {
   "cell_type": "code",
   "execution_count": 104,
   "metadata": {},
   "outputs": [
    {
     "data": {
      "image/png": "[encoded data removed]",
      "text/plain": [
       "<Figure size 640x480 with 1 Axes>"
      ]
     },
     "metadata": {},
     "output_type": "display_data"
    }
   ],
   "source": [
    "plt.plot(r2[0][:100], label=f'train R2, min: {min(r2[0])*100:.2f} %, max: {max(r2[0])*100:.2f} %')\n",
    "plt.plot(r2[1][:100], label=f'validation R2, min: {min(r2[0])*100:.2f} %, max: {max(r2[1])*100:.2f} %')\n",
    "\n",
    "plt.title('R2 Score value')\n",
    "plt.xlabel('epoch')\n",
    "plt.ylabel('value')\n",
    "plt.legend(fontsize='small')\n",
    "plt.show()"
   ]
  },
  {
   "cell_type": "code",
   "execution_count": 103,
   "metadata": {},
   "outputs": [
    {
     "name": "stdout",
     "output_type": "stream",
     "text": [
      "test loss    : 0.05035932\n",
      "test R2 Score: 91.33 %\n"
     ]
    }
   ],
   "source": [
    "bs_X_test = torch.FloatTensor(X_test.values).to(DEVICE)\n",
    "bs_y_test = torch.FloatTensor(y_test.values).to(DEVICE)\n",
    "\n",
    "test_loss, test_r2 = testing(bs_X_test, bs_y_test)\n",
    "\n",
    "print(f\"test loss    : {test_loss.item():10.8f}\")\n",
    "print(f\"test R2 Score: {test_r2.item()*100:.2f} %\")"
   ]
  }
 ],
 "metadata": {
  "kernelspec": {
   "display_name": "ml_38",
   "language": "python",
   "name": "python3"
  },
  "language_info": {
   "codemirror_mode": {
    "name": "ipython",
    "version": 3
   },
   "file_extension": ".py",
   "mimetype": "text/x-python",
   "name": "python",
   "nbconvert_exporter": "python",
   "pygments_lexer": "ipython3",
   "version": "3.8.19"
  }
 },
 "nbformat": 4,
 "nbformat_minor": 2
}
