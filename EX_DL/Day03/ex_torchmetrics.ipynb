{
 "cells": [
  {
   "cell_type": "markdown",
   "metadata": {},
   "source": [
    "### torchmetrics\n",
    "- pytorch에서 model 성능평가 기능 제공 패키지\n",
    "- 추가 설치 필요\n",
    "    - pip: pip install torchmetrics\n",
    "    - conda: conda install -c conda-forge torchmetrics\n",
    "- 사용법\n",
    "    - class method: create instance\n",
    "    - function method: directly used"
   ]
  },
  {
   "cell_type": "markdown",
   "metadata": {},
   "source": [
    "- regression performance index"
   ]
  },
  {
   "cell_type": "code",
   "execution_count": 15,
   "metadata": {},
   "outputs": [],
   "source": [
    "from torchmetrics.functional.regression import mean_absolute_error, mean_squared_error, r2_score\n",
    "from torchmetrics.regression import R2Score, MeanSquaredError, MeanSquaredError"
   ]
  },
  {
   "cell_type": "code",
   "execution_count": 16,
   "metadata": {},
   "outputs": [],
   "source": [
    "import torch"
   ]
  },
  {
   "cell_type": "code",
   "execution_count": 17,
   "metadata": {},
   "outputs": [
    {
     "data": {
      "text/plain": [
       "tensor(0.9486)"
      ]
     },
     "execution_count": 17,
     "metadata": {},
     "output_type": "execute_result"
    }
   ],
   "source": [
    "# class mothod\n",
    "target = torch.tensor([3, -0.5, 2, 7])  # 1D (4,)\n",
    "preds = torch.tensor([2.5, 0.0, 2, 8])  # 1D (4,)\n",
    "\n",
    "# R2 Score: 0 ~ 1, 1에 근사할 수록 좋음\n",
    "r2score = R2Score()\n",
    "r2score(preds, target)"
   ]
  },
  {
   "cell_type": "code",
   "execution_count": 18,
   "metadata": {},
   "outputs": [
    {
     "data": {
      "text/plain": [
       "tensor([0.9486, 0.9486])"
      ]
     },
     "execution_count": 18,
     "metadata": {},
     "output_type": "execute_result"
    }
   ],
   "source": [
    "# class mothod\n",
    "target = torch.tensor([3, -0.5, 2, 7])  # 1D (4,)\n",
    "preds = torch.tensor([2.5, 0.0, 2, 8])  # 1D (4,)\n",
    "\n",
    "r2score = R2Score(num_outputs=2, multioutput='raw_values')\n",
    "r2score(preds, target)"
   ]
  },
  {
   "cell_type": "markdown",
   "metadata": {},
   "source": [
    "- class를 사용하면 상속받아서 나만의 class를 만들 수 있음.\n",
    "    - ANN과 activation function의 경우"
   ]
  },
  {
   "cell_type": "code",
   "execution_count": 19,
   "metadata": {},
   "outputs": [
    {
     "data": {
      "text/plain": [
       "tensor(0.9486)"
      ]
     },
     "execution_count": 19,
     "metadata": {},
     "output_type": "execute_result"
    }
   ],
   "source": [
    "# function method\n",
    "target = torch.tensor([3, -0.5, 2, 7])\n",
    "preds = torch.tensor([2.5, 0.0, 2, 8])\n",
    "\n",
    "r2_score(preds, target)"
   ]
  },
  {
   "cell_type": "code",
   "execution_count": 20,
   "metadata": {},
   "outputs": [
    {
     "data": {
      "text/plain": [
       "tensor(0.9486)"
      ]
     },
     "execution_count": 20,
     "metadata": {},
     "output_type": "execute_result"
    }
   ],
   "source": [
    "# function method\n",
    "target = torch.tensor([3, -0.5, 2, 7])\n",
    "preds = torch.tensor([2.5, 0.0, 2, 8])\n",
    "\n",
    "r2_score(preds, target, multioutput='raw_values')   # 왜 docu랑 다르게 2개로 안나오지?"
   ]
  },
  {
   "cell_type": "code",
   "execution_count": 21,
   "metadata": {},
   "outputs": [
    {
     "data": {
      "text/plain": [
       "tensor(0.8750)"
      ]
     },
     "execution_count": 21,
     "metadata": {},
     "output_type": "execute_result"
    }
   ],
   "source": [
    "# class method\n",
    "target = torch.tensor([2.5, 5.0, 4.0, 8.0])\n",
    "preds = torch.tensor([3.0, 5.0, 2.5, 7.0])\n",
    "\n",
    "mean_squared_error_c = MeanSquaredError()\n",
    "mean_squared_error_c(preds, target)"
   ]
  },
  {
   "cell_type": "code",
   "execution_count": 22,
   "metadata": {},
   "outputs": [
    {
     "data": {
      "text/plain": [
       "tensor(0.2500)"
      ]
     },
     "execution_count": 22,
     "metadata": {},
     "output_type": "execute_result"
    }
   ],
   "source": [
    "# function method\n",
    "x = torch.tensor([0., 1, 2, 3])\n",
    "y = torch.tensor([0., 1, 2, 2])\n",
    "\n",
    "mean_squared_error(x, y)"
   ]
  },
  {
   "cell_type": "markdown",
   "metadata": {},
   "source": [
    "- classification performance index"
   ]
  },
  {
   "cell_type": "markdown",
   "metadata": {},
   "source": [
    "- 평가지표 90 % 정도는 설명할 수 있을 정도로 복습 해둘 것!!!\n",
    "    - acuuracy\n",
    "    - precision\n",
    "    - recall\n",
    "    - F1 Score\n",
    "    - ROC-AUC"
   ]
  },
  {
   "cell_type": "code",
   "execution_count": 29,
   "metadata": {},
   "outputs": [],
   "source": [
    "from torchmetrics.functional.classification import accuracy, recall, precision, f1_score, confusion_matrix\n",
    "from torchmetrics.classification import Accuracy, Precision, Recall, F1Score, ConfusionMatrix"
   ]
  },
  {
   "cell_type": "markdown",
   "metadata": {},
   "source": [
    "- binary classification -> BinaryF1Score, binary_f1_score, BinaryAccuracy, binary_accuracy\n",
    "- multi classification -> MultiF1Score, multi_f1_score, MultiAccuracy, multi_accuracy\n",
    "- \n",
    "- if undetermind, use Accuracy, accuracy, and task determind either 'binary' or 'multiclass' or 'multilabel'\n",
    "- and 'average' also you have to determind."
   ]
  },
  {
   "cell_type": "markdown",
   "metadata": {},
   "source": [
    "- average는 평균내는 방식: micro, macro, samples, weighted, binary, None\n",
    "- binary는 따로 계산하나봄..."
   ]
  },
  {
   "cell_type": "markdown",
   "metadata": {},
   "source": [
    "average (Optional[Literal['micro', 'macro', 'weighted', 'none']]) –\n",
    "\n",
    "- Defines the reduction that is applied over labels. Should be one of the following:\n",
    "- micro: Sum statistics over all labels\n",
    "- macro: Calculate statistics for each label and average them\n",
    "- weighted: calculates statistics for each label and computes weighted average using their support\n",
    "- \"none\" or None: calculates statistic for each label and applies no reduction"
   ]
  },
  {
   "cell_type": "code",
   "execution_count": 24,
   "metadata": {},
   "outputs": [
    {
     "data": {
      "text/plain": [
       "tensor(0.3333)"
      ]
     },
     "execution_count": 24,
     "metadata": {},
     "output_type": "execute_result"
    }
   ],
   "source": [
    "# class method, multi classification\n",
    "target = torch.tensor([0, 1, 2, 0, 1, 2])\n",
    "preds = torch.tensor([0, 2, 1, 0, 0, 1])\n",
    "\n",
    "f1 = F1Score(task=\"multiclass\", num_classes=3)\n",
    "f1(preds, target)"
   ]
  },
  {
   "cell_type": "code",
   "execution_count": 25,
   "metadata": {},
   "outputs": [
    {
     "data": {
      "text/plain": [
       "tensor(0.3333)"
      ]
     },
     "execution_count": 25,
     "metadata": {},
     "output_type": "execute_result"
    }
   ],
   "source": [
    "# function method, multi classification\n",
    "arget = torch.tensor([0, 1, 2, 0, 1, 2])\n",
    "preds = torch.tensor([0, 2, 1, 0, 0, 1])\n",
    "\n",
    "f1_score(preds, target, task=\"multiclass\", num_classes=3)"
   ]
  },
  {
   "cell_type": "code",
   "execution_count": 35,
   "metadata": {},
   "outputs": [
    {
     "name": "stdout",
     "output_type": "stream",
     "text": [
      "tensor(0.2222)\n",
      "tensor(0.2222)\n",
      "tensor(0.3333)\n",
      "tensor(0.3333)\n"
     ]
    }
   ],
   "source": [
    "# class method, multi classification\n",
    "target = torch.tensor([0, 1, 2, 0, 1, 2])\n",
    "preds = torch.tensor([0, 2, 1, 0, 0, 1])\n",
    "\n",
    "precision = Precision(task=\"multiclass\", average='macro', num_classes=3)\n",
    "print(precision(preds, target))\n",
    "precision = Precision(task=\"multiclass\", average='macro', num_classes=3, threshold=0.9)\n",
    "print(precision(preds, target))\n",
    "\n",
    "precision = Precision(task=\"multiclass\", average='micro', num_classes=3)\n",
    "print(precision(preds, target))\n",
    "precision = Precision(task=\"multiclass\", average='micro', num_classes=3, threshold=0.9)\n",
    "print(precision(preds, target))"
   ]
  },
  {
   "cell_type": "code",
   "execution_count": 30,
   "metadata": {},
   "outputs": [
    {
     "name": "stdout",
     "output_type": "stream",
     "text": [
      "tensor(0.2222)\n",
      "tensor(0.3333)\n"
     ]
    }
   ],
   "source": [
    "# function method, multi classification\n",
    "arget = torch.tensor([0, 1, 2, 0, 1, 2])\n",
    "preds = torch.tensor([0, 2, 1, 0, 0, 1])\n",
    "\n",
    "print(precision(preds, target, task=\"multiclass\", average='macro', num_classes=3))\n",
    "\n",
    "print(precision(preds, target, task=\"multiclass\", average='micro', num_classes=3))"
   ]
  },
  {
   "cell_type": "code",
   "execution_count": null,
   "metadata": {},
   "outputs": [],
   "source": []
  }
 ],
 "metadata": {
  "kernelspec": {
   "display_name": "torch_38",
   "language": "python",
   "name": "python3"
  },
  "language_info": {
   "codemirror_mode": {
    "name": "ipython",
    "version": 3
   },
   "file_extension": ".py",
   "mimetype": "text/x-python",
   "name": "python",
   "nbconvert_exporter": "python",
   "pygments_lexer": "ipython3",
   "version": "3.8.19"
  }
 },
 "nbformat": 4,
 "nbformat_minor": 2
}
