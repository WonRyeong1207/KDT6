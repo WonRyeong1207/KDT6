{
 "cells": [
  {
   "cell_type": "markdown",
   "metadata": {},
   "source": [
    "### iris regression + 학습 진행 모니터링 + 학습된 parameter 저장\n",
    "- data: '../../EX_ML/data/iris.csv'\n",
    "- feature: sapal.lenth, sapal.width, petal.length\n",
    "- label: petal.width\n",
    "---\n",
    "- 모니터링\n",
    "    - 기준: validation data의 loss & score\n",
    "    - 평가: loss와 score를 비교해서 학습 중단 여부를 결정\n",
    "    - 선택: 현재까지 진행된 모델의 parameter(weight, bais) 저장 여부 또는 모델 전체 저장 여부"
   ]
  },
  {
   "cell_type": "markdown",
   "metadata": {},
   "source": [
    "- Regression model base on DNN\n",
    "---\n",
    "- dataset: '../../EX_ML/data/iris.csv\n",
    "- feature: sepal.length, sepal.width, petal.length\n",
    "- label: petal.width\n",
    "- learning method: superviesd learning, regression\n",
    "- learning algorithm: ANN\n",
    "- frame work: Pytorch"
   ]
  },
  {
   "cell_type": "code",
   "execution_count": 1,
   "metadata": {},
   "outputs": [],
   "source": [
    "import pandas as pd\n",
    "import numpy as np\n",
    "import matplotlib.pyplot as plt\n",
    "%matplotlib inline\n",
    "\n",
    "import torch\n",
    "import torch.nn as nn\n",
    "import torch.nn.functional as F\n",
    "import torch.optim as optima\n",
    "from torch.utils.data import Dataset, DataLoader\n",
    "\n",
    "from torchmetrics.regression import R2Score\n",
    "from torchinfo import summary\n",
    "\n",
    "from sklearn.model_selection import train_test_split\n",
    "from sklearn.preprocessing import StandardScaler\n",
    "import seaborn as sns"
   ]
  },
  {
   "cell_type": "code",
   "execution_count": 2,
   "metadata": {},
   "outputs": [
    {
     "name": "stdout",
     "output_type": "stream",
     "text": [
      "-- Notice --\n",
      "decvice: cpu\n",
      "torch ver: 2.4.1\n",
      "pandas ver: 2.0.3\n",
      "numpy ver: 1.24.3\n"
     ]
    }
   ],
   "source": [
    "# random_state: 16\n",
    "torch.manual_seed(16)\n",
    "DEVICE = 'cuda' if torch.cuda.is_available() else 'cpu'\n",
    "\n",
    "print('-- Notice --')\n",
    "print(f'decvice: {DEVICE}')\n",
    "print(f'torch ver: {torch.__version__}')\n",
    "print(f'pandas ver: {pd.__version__}')\n",
    "print(f'numpy ver: {np.__version__}')"
   ]
  },
  {
   "cell_type": "code",
   "execution_count": 3,
   "metadata": {},
   "outputs": [
    {
     "data": {
      "text/html": [
       "<div>\n",
       "<style scoped>\n",
       "    .dataframe tbody tr th:only-of-type {\n",
       "        vertical-align: middle;\n",
       "    }\n",
       "\n",
       "    .dataframe tbody tr th {\n",
       "        vertical-align: top;\n",
       "    }\n",
       "\n",
       "    .dataframe thead th {\n",
       "        text-align: right;\n",
       "    }\n",
       "</style>\n",
       "<table border=\"1\" class=\"dataframe\">\n",
       "  <thead>\n",
       "    <tr style=\"text-align: right;\">\n",
       "      <th></th>\n",
       "      <th>sepal.length</th>\n",
       "      <th>sepal.width</th>\n",
       "      <th>petal.length</th>\n",
       "      <th>petal.width</th>\n",
       "    </tr>\n",
       "  </thead>\n",
       "  <tbody>\n",
       "    <tr>\n",
       "      <th>0</th>\n",
       "      <td>5.1</td>\n",
       "      <td>3.5</td>\n",
       "      <td>1.4</td>\n",
       "      <td>0.2</td>\n",
       "    </tr>\n",
       "    <tr>\n",
       "      <th>1</th>\n",
       "      <td>4.9</td>\n",
       "      <td>3.0</td>\n",
       "      <td>1.4</td>\n",
       "      <td>0.2</td>\n",
       "    </tr>\n",
       "    <tr>\n",
       "      <th>2</th>\n",
       "      <td>4.7</td>\n",
       "      <td>3.2</td>\n",
       "      <td>1.3</td>\n",
       "      <td>0.2</td>\n",
       "    </tr>\n",
       "    <tr>\n",
       "      <th>3</th>\n",
       "      <td>4.6</td>\n",
       "      <td>3.1</td>\n",
       "      <td>1.5</td>\n",
       "      <td>0.2</td>\n",
       "    </tr>\n",
       "    <tr>\n",
       "      <th>4</th>\n",
       "      <td>5.0</td>\n",
       "      <td>3.6</td>\n",
       "      <td>1.4</td>\n",
       "      <td>0.2</td>\n",
       "    </tr>\n",
       "  </tbody>\n",
       "</table>\n",
       "</div>"
      ],
      "text/plain": [
       "   sepal.length  sepal.width  petal.length  petal.width\n",
       "0           5.1          3.5           1.4          0.2\n",
       "1           4.9          3.0           1.4          0.2\n",
       "2           4.7          3.2           1.3          0.2\n",
       "3           4.6          3.1           1.5          0.2\n",
       "4           5.0          3.6           1.4          0.2"
      ]
     },
     "execution_count": 3,
     "metadata": {},
     "output_type": "execute_result"
    }
   ],
   "source": [
    "FILE_PATH = '../../EX_ML/data/iris.csv'\n",
    "\n",
    "iris_df = pd.read_csv(FILE_PATH, usecols=['sepal.length', 'sepal.width', 'petal.length', 'petal.width'])\n",
    "iris_df.head()"
   ]
  },
  {
   "cell_type": "markdown",
   "metadata": {},
   "source": [
    "- model class\n",
    "---\n",
    "- `class perpose: iris data learning & regression`\n",
    "- class name: IrisRegModel\n",
    "- parents class: nn.Module\n",
    "- parameter: None\n",
    "- attiribute field: undetermind\n",
    "- class function: create model structure, forward learning model\n",
    "- `class structure`\n",
    "    - input layer: input 3, output 20, activation function: sigmoid or ReLU or LeakyReLU\n",
    "    - hidden layer: input 20, output 10, activation function: sigmoid or ReLU or LeakyReLU\n",
    "    - output layer: input 10, output 1, activation function: None"
   ]
  },
  {
   "cell_type": "code",
   "execution_count": 4,
   "metadata": {},
   "outputs": [],
   "source": [
    "class IrisRegModel(nn.Module):\n",
    "    def __init__(self):\n",
    "        super().__init__()\n",
    "        \n",
    "        # functional method\n",
    "        self.input_layer = nn.Linear(3, 20)\n",
    "        self.hidden_layer = nn.Linear(20, 10)\n",
    "        self.output_layer = nn.Linear(10, 1)\n",
    "        \n",
    "        # class method\n",
    "        # self.input_layer = nn.Sequential(nn.Linear(3, 20),\n",
    "        #                                 nn.ReLU())\n",
    "        # self.hidden_layer = nn.Sequential(nn.Linear(20, 10),\n",
    "        #                                   nn.ReLU())\n",
    "        \n",
    "    \n",
    "    def forward(self, X):\n",
    "        \n",
    "        # functional method\n",
    "        y = F.relu(self.input_layer(X))\n",
    "        y = F.relu(self.hidden_layer(y))\n",
    "        y = self.output_layer(y)\n",
    "        \n",
    "        # class method\n",
    "        # y = self.input_layer(X)\n",
    "        # y = self.hidden_layer(y)\n",
    "        # y = self.output_layer(y)\n",
    "        \n",
    "        return y"
   ]
  },
  {
   "cell_type": "code",
   "execution_count": 5,
   "metadata": {},
   "outputs": [
    {
     "name": "stdout",
     "output_type": "stream",
     "text": [
      "IrisRegModel(\n",
      "  (input_layer): Linear(in_features=3, out_features=20, bias=True)\n",
      "  (hidden_layer): Linear(in_features=20, out_features=10, bias=True)\n",
      "  (output_layer): Linear(in_features=10, out_features=1, bias=True)\n",
      ")\n",
      "\n"
     ]
    },
    {
     "data": {
      "text/plain": [
       "==========================================================================================\n",
       "Layer (type:depth-idx)                   Output Shape              Param #\n",
       "==========================================================================================\n",
       "IrisRegModel                             [150, 1]                  --\n",
       "├─Linear: 1-1                            [150, 20]                 80\n",
       "├─Linear: 1-2                            [150, 10]                 210\n",
       "├─Linear: 1-3                            [150, 1]                  11\n",
       "==========================================================================================\n",
       "Total params: 301\n",
       "Trainable params: 301\n",
       "Non-trainable params: 0\n",
       "Total mult-adds (M): 0.05\n",
       "==========================================================================================\n",
       "Input size (MB): 0.00\n",
       "Forward/backward pass size (MB): 0.04\n",
       "Params size (MB): 0.00\n",
       "Estimated Total Size (MB): 0.04\n",
       "=========================================================================================="
      ]
     },
     "execution_count": 5,
     "metadata": {},
     "output_type": "execute_result"
    }
   ],
   "source": [
    "model_class_test = IrisRegModel()\n",
    "\n",
    "print(model_class_test, end='\\n\\n')\n",
    "summary(model_class_test, input_size=(150, 3))"
   ]
  },
  {
   "cell_type": "markdown",
   "metadata": {},
   "source": [
    "- dataset class\n",
    "---\n",
    "- dataset: '../../EX_ML/data/iris.csv'\n",
    "- parents class: torch.utils.data.Dataset\n",
    "- `class name: IrisDataset`\n",
    "- feature: sepal.length, sepal.width, petal.lenrth\n",
    "- label: petal.width\n",
    "- parameter: data_df\n",
    "- attirbute flied: feature_df, label_df, X_train_df, X_val_ts, y_train_df, y_val_ts, n_rows, features, n_features, labels, n_labels\n",
    "- class function: create dataset structure, length dataset, get dataset batch size\n",
    "- `class structure`\n",
    "    - __ init __(self)\n",
    "    - __ len __(self)\n",
    "    - __ getitem __(self)"
   ]
  },
  {
   "cell_type": "code",
   "execution_count": 6,
   "metadata": {},
   "outputs": [],
   "source": [
    "class IrisDataSet(Dataset):\n",
    "    def __init__(self, data_df):\n",
    "        super().__init__()\n",
    "        self.data_df = data_df\n",
    "\n",
    "        self.feature_df = self.data_df[data_df.columns[:-1]]\n",
    "        self.label_df = self.data_df[[data_df.columns[3]]]\n",
    "        \n",
    "        # random_state: 16\n",
    "        # train : val = 8 : 2\n",
    "        X_train, X_val, y_train, y_val = train_test_split(self.feature_df, self.label_df, random_state=16, test_size=0.2)\n",
    "        scaler = StandardScaler()\n",
    "        scaler.fit(X_train, y_train)\n",
    "        X_train = scaler.transform(X_train)\n",
    "        X_val = scaler.transform(X_val)\n",
    "        \n",
    "        self.X_train_df = X_train\n",
    "        self.X_val_ts = torch.FloatTensor(X_val)\n",
    "        self.y_train_df = y_train\n",
    "        self.y_val_ts = torch.FloatTensor(y_val.values)\n",
    "        \n",
    "        self.n_rows = self.X_train_df.shape[0]\n",
    "        self.features = self.feature_df.columns\n",
    "        self.n_features = self.feature_df.shape[1]\n",
    "        self.labels = self.data_df.iloc[:, 0].unique()\n",
    "        self.n_labels = len(self.labels)\n",
    "        \n",
    "    def __len__(self):\n",
    "        return self.n_rows\n",
    "    \n",
    "    def __getitem__(self, idx):\n",
    "        \n",
    "        X_train_ts = torch.FloatTensor(self.X_train_df[idx])\n",
    "        y_train_ts = torch.FloatTensor(self.y_train_df.iloc[idx].values)\n",
    "        \n",
    "        return X_train_ts, y_train_ts      "
   ]
  },
  {
   "cell_type": "code",
   "execution_count": 7,
   "metadata": {},
   "outputs": [],
   "source": [
    "iris_test_dataset = IrisDataSet(iris_df)"
   ]
  },
  {
   "cell_type": "code",
   "execution_count": 8,
   "metadata": {},
   "outputs": [
    {
     "data": {
      "text/plain": [
       "(Index(['sepal.length', 'sepal.width', 'petal.length'], dtype='object'),\n",
       " 3,\n",
       " array([5.1, 4.9, 4.7, 4.6, 5. , 5.4, 4.4, 4.8, 4.3, 5.8, 5.7, 5.2, 5.5,\n",
       "        4.5, 5.3, 7. , 6.4, 6.9, 6.5, 6.3, 6.6, 5.9, 6. , 6.1, 5.6, 6.7,\n",
       "        6.2, 6.8, 7.1, 7.6, 7.3, 7.2, 7.7, 7.4, 7.9]),\n",
       " 35,\n",
       " 120)"
      ]
     },
     "execution_count": 8,
     "metadata": {},
     "output_type": "execute_result"
    }
   ],
   "source": [
    "iris_test_dataset.features, iris_test_dataset.n_features, iris_test_dataset.labels, iris_test_dataset.n_labels, iris_test_dataset.n_rows"
   ]
  },
  {
   "cell_type": "markdown",
   "metadata": {},
   "source": [
    "- prepare learning model\n",
    "---\n",
    "- learning count: EPOCHS 100\n",
    "- learning rate: lr [0.001, 0.01, 0.1]\n",
    "- batch size: BATCH_SIZE [16, 32, 64]\n",
    "- data location: DEVICE"
   ]
  },
  {
   "cell_type": "markdown",
   "metadata": {},
   "source": [
    "- validation & test function\n",
    "---\n",
    "- function name: testing\n",
    "- parameter: model, x, y\n",
    "- function return: loss, score\n",
    "- `must not update weight & bais`"
   ]
  },
  {
   "cell_type": "code",
   "execution_count": 9,
   "metadata": {},
   "outputs": [],
   "source": [
    "def testing(model, X_ts, y_ts):\n",
    "    with torch.no_grad():\n",
    "        \n",
    "        pred = model(X_ts)\n",
    "        \n",
    "        loss = F.mse_loss(pred, y_ts)\n",
    "        \n",
    "        score = R2Score()(pred, y_ts)\n",
    "    \n",
    "    return loss, score"
   ]
  },
  {
   "cell_type": "markdown",
   "metadata": {},
   "source": [
    "- model learning\n",
    "---\n",
    "- function name: training\n",
    "- parameter: model, epochs, lr, batch_size, dataset\n",
    "- function return: loss, score"
   ]
  },
  {
   "cell_type": "code",
   "execution_count": 10,
   "metadata": {},
   "outputs": [],
   "source": [
    "def tarining_1(dataset, model, epochs, lr, batch):\n",
    "    train_val_loss = {'train':[], 'val':[]}\n",
    "    train_val_score = {'train':[], 'val':[]}\n",
    "    optmizer = optima.Adam(model.parameters(), lr=lr)\n",
    "    data_dl = DataLoader(dataset, batch_size=batch)\n",
    "    \n",
    "    for epoch in range(1, epochs+1):\n",
    "        total_train_loss, total_train_score = 0, 0\n",
    "        \n",
    "        # 학습 모드로 모델 설정\n",
    "        model.train()\n",
    "        \n",
    "        for X_train, y_train in data_dl:\n",
    "            batch_cnt = dataset.n_rows / batch\n",
    "            \n",
    "            pred = model(X_train)\n",
    "            \n",
    "            loss = F.mse_loss(pred, y_train)\n",
    "            total_train_loss += loss\n",
    "            \n",
    "            score = R2Score()(pred, y_train)\n",
    "            total_train_score += score\n",
    "            \n",
    "            optmizer.zero_grad()\n",
    "            loss.backward()\n",
    "            optmizer.step()\n",
    "        \n",
    "        # 모델 검증 모드 설정\n",
    "        model.eval()\n",
    "        \n",
    "        X_val, y_val = dataset.X_val_ts, dataset.y_val_ts\n",
    "        \n",
    "        with torch.no_grad():\n",
    "        \n",
    "            pred_val = model(X_val)\n",
    "            \n",
    "            loss_val = F.mse_loss(pred_val, y_val)\n",
    "            \n",
    "            score_val = R2Score()(pred_val, y_val)\n",
    "        \n",
    "        \n",
    "        loss_train = (total_train_loss/batch_cnt).item()\n",
    "        score_train = (total_train_score/batch_cnt).item()\n",
    "        \n",
    "        train_val_loss['train'].append(loss_train)\n",
    "        train_val_score['train'].append(score_train)\n",
    "        train_val_loss['val'].append(loss_val.item())\n",
    "        train_val_score['val'].append(score_val.item())\n",
    "        \n",
    "        if epoch%5 == 0:\n",
    "            print(f\"[{epoch:5}/{epochs:5}]  [Train]      loss: {loss_train:.6f}, score: {score_train:.6f}\")\n",
    "            print(f\"[{epoch:5}/{epochs:5}]  [Validation] loss: {loss_val.item():.6f}, score: {score_val.item():.6f}\\n\")\n",
    "    \n",
    "    return train_val_loss, train_val_score"
   ]
  },
  {
   "cell_type": "markdown",
   "metadata": {},
   "source": [
    "- 모델 저장 준비\n",
    "---\n",
    "- 경로지정 없으면 경로에 폴더 만들어..."
   ]
  },
  {
   "cell_type": "code",
   "execution_count": 11,
   "metadata": {},
   "outputs": [],
   "source": [
    "import os\n",
    "save_path = '../model/iris/'\n",
    "\n",
    "# 파일 경로가 없으면 폴더 만듦\n",
    "if not os.path.exists(save_path):\n",
    "    os.makedirs(save_path)  # 하위 폴더 까지 생성.. 그래서 쭉 적을 필요는 없었.."
   ]
  },
  {
   "cell_type": "code",
   "execution_count": 36,
   "metadata": {},
   "outputs": [],
   "source": [
    "def tarining(dataset, model, epochs, lr, batch, threshold):\n",
    "    train_val_loss = {'train':[], 'val':[]}\n",
    "    train_val_score = {'train':[], 'val':[]}\n",
    "    optmizer = optima.Adam(model.parameters(), lr=lr)\n",
    "    data_dl = DataLoader(dataset, batch_size=batch)\n",
    "    save_file = '../model/iris/iris_regression_parameter.pth'   # 저장소만 많다면 epoch마다 저장하는 것도 가능!\n",
    "    save_model_file = '../model/iris/iris_regerssion_model.pth' # 모델과 파라미터 같이 저장\n",
    "\n",
    "    \n",
    "    # learning 모니터링/스케쥴링 \n",
    "    # train_val_loss, train_val_score 활용\n",
    "    # 임계기준: threshold\n",
    "    break_cnt = 0\n",
    "    \n",
    "    for epoch in range(1, epochs+1):\n",
    "        total_train_loss, total_train_score = 0, 0\n",
    "        \n",
    "        for X_train, y_train in data_dl:\n",
    "            batch_cnt = dataset.n_rows / batch\n",
    "            \n",
    "            pred = model(X_train)\n",
    "            \n",
    "            loss = F.mse_loss(pred, y_train)\n",
    "            total_train_loss += loss\n",
    "            \n",
    "            score = R2Score()(pred, y_train)\n",
    "            total_train_score += score\n",
    "            \n",
    "            optmizer.zero_grad()\n",
    "            loss.backward()\n",
    "            optmizer.step()\n",
    "\n",
    "        X_val, y_val = dataset.X_val_ts, dataset.y_val_ts\n",
    "        val_loss, val_score = testing(model, X_val, y_val)\n",
    "        \n",
    "        \n",
    "        loss_train = (total_train_loss/batch_cnt).item()\n",
    "        score_train = (total_train_score/batch_cnt).item()\n",
    "        \n",
    "        train_val_loss['train'].append(loss_train)\n",
    "        train_val_score['train'].append(score_train)\n",
    "        train_val_loss['val'].append(val_loss.item())\n",
    "        train_val_score['val'].append(val_score.item())\n",
    "        \n",
    "        if epoch%5 == 0:\n",
    "            print(f\"[{epoch:5}/{epochs:5}]  [Train] loss: {loss_train:.6f}, score: {score_train:.6f}\")\n",
    "            print(f\"[{epoch:5}/{epochs:5}]  [Test]  loss: {val_loss.item():.6f}, score: {val_score.item():.6f}\\n\")\n",
    "        \n",
    "        \n",
    "        # 학습 진행 모니터링/스케쥴링\n",
    "        # loss value\n",
    "        if len(train_val_loss['val']) >= 2:\n",
    "            if train_val_loss['val'][-1] >= train_val_loss['val'][-2]:\n",
    "                break_cnt += 1\n",
    "                \n",
    "        # # score value\n",
    "        # if len(train_val_score['val']) >= 2:\n",
    "        #     if train_val_score['val'][-1] <= train_val_score['val'][-2]:\n",
    "        #         break_cnt += 1\n",
    "        \n",
    "        # 학습된 파라미터 저장 여부 결정.. \n",
    "        # 성능이 좋은 학습 파라미터 저장..\n",
    "        if len(train_val_score['val']) == 1:\n",
    "            torch.save(model.state_dict(), save_file)\n",
    "        elif len(train_val_score['val']) > 1:\n",
    "            if train_val_score['val'][-1] > max(train_val_score['val']):\n",
    "                torch.save(model.state_dict(), save_file)\n",
    "                torch.save(model, save_model_file)\n",
    "        \n",
    "        # 학습 중단 여부 설정\n",
    "        if break_cnt > threshold:\n",
    "            print(\"성능 및 손실의 개선이 없어서 학습을 중단합니다.\\n\")\n",
    "            print(f\"[{epoch:5}/{epochs:5}]  [Train] loss: {loss_train:.6f}, score: {score_train:.6f}\")\n",
    "            print(f\"[{epoch:5}/{epochs:5}]  [Test]  loss: {val_loss.item():.6f}, score: {val_score.item():.6f}\\n\")\n",
    "            break\n",
    "        \n",
    "        \n",
    "    \n",
    "    return train_val_loss, train_val_score"
   ]
  },
  {
   "cell_type": "code",
   "execution_count": 37,
   "metadata": {},
   "outputs": [],
   "source": [
    "iris_ds = IrisDataSet(iris_df)\n",
    "iris_reg_model = IrisRegModel()\n",
    "\n",
    "# print(iris_reg_model)\n",
    "# summary(iris_reg_model, input_size=(120, 3))"
   ]
  },
  {
   "cell_type": "code",
   "execution_count": 38,
   "metadata": {},
   "outputs": [
    {
     "name": "stdout",
     "output_type": "stream",
     "text": [
      "[    5/   30]  [Train] loss: 0.070586, score: 0.867228\n",
      "[    5/   30]  [Test]  loss: 0.046791, score: 0.910608\n",
      "\n",
      "[   10/   30]  [Train] loss: 0.035861, score: 0.930252\n",
      "[   10/   30]  [Test]  loss: 0.034002, score: 0.935040\n",
      "\n",
      "성능 및 손실의 개선이 없어서 학습을 중단합니다.\n",
      "\n",
      "[   13/   30]  [Train] loss: 0.033880, score: 0.934421\n",
      "[   13/   30]  [Test]  loss: 0.035619, score: 0.931951\n",
      "\n"
     ]
    }
   ],
   "source": [
    "# dataset, model, epochs, lr, batch\n",
    "# dataset: iris_ds\n",
    "# model: iris_reg_model\n",
    "# epochs: 10\n",
    "# learning rate: 0.01\n",
    "# batch: 10\n",
    "\n",
    "loss_dict, score_dict = tarining(iris_ds, iris_reg_model, 30, 0.01, 10, 3)"
   ]
  },
  {
   "cell_type": "code",
   "execution_count": 39,
   "metadata": {},
   "outputs": [],
   "source": [
    "def draw_two_plot(loss, r2, title):\n",
    "    \n",
    "    # 축을 2개 사용하고 싶음.\n",
    "    fig, ax1 = plt.subplots(figsize=(7, 7))\n",
    "    ax2 = ax1.twinx()\n",
    "    \n",
    "    ax1.plot(loss['train'], label=f\"train loss mean: {sum(loss['train'])/len(loss['train']):.6f}\", color='#5587ED')\n",
    "    ax1.plot(loss['val'], label=f\"test loss mean: {sum(loss['val'])/len(loss['val']):.6f}\", color='#F361A6')\n",
    "    ax2.plot(r2['train'], label=f\"train score max: {max(r2['train'])*100:.2f} %\", color='#00007F')\n",
    "    ax2.plot(r2['val'], label=f\"test score max: {max(r2['val'])*100:.2f} %\", color='#99004C')\n",
    "    \n",
    "    fig.suptitle(f'{title} iris ANN regression', fontsize=15)\n",
    "    ax1.set_ylabel('loss', fontsize=10, color='#5587ED')\n",
    "    ax2.set_ylabel('score', fontsize=10, color='#00007F')\n",
    "    \n",
    "    fig.legend(loc='center')\n",
    "    plt.show()"
   ]
  },
  {
   "cell_type": "code",
   "execution_count": 40,
   "metadata": {},
   "outputs": [
    {
     "data": {
      "image/png": "[encoded data removed]",
      "text/plain": [
       "<Figure size 700x700 with 2 Axes>"
      ]
     },
     "metadata": {},
     "output_type": "display_data"
    }
   ],
   "source": [
    "draw_two_plot(loss_dict, score_dict, 'Loss & R2 Score')"
   ]
  },
  {
   "cell_type": "markdown",
   "metadata": {},
   "source": [
    "- model save method\n",
    "---\n",
    "1. model's parameters save\n",
    "2. model save"
   ]
  },
  {
   "cell_type": "code",
   "execution_count": 42,
   "metadata": {},
   "outputs": [],
   "source": [
    "# 모델의 전신을 저장.\n",
    "# 왜 ... 함수에서 저장 안된겨?\n",
    "\n",
    "save_model_file = '../model/iris/iris_regerssion_model.pth'\n",
    "\n",
    "torch.save(iris_reg_model, save_model_file)"
   ]
  }
 ],
 "metadata": {
  "kernelspec": {
   "display_name": "torch_38",
   "language": "python",
   "name": "python3"
  },
  "language_info": {
   "codemirror_mode": {
    "name": "ipython",
    "version": 3
   },
   "file_extension": ".py",
   "mimetype": "text/x-python",
   "name": "python",
   "nbconvert_exporter": "python",
   "pygments_lexer": "ipython3",
   "version": "3.8.19"
  }
 },
 "nbformat": 4,
 "nbformat_minor": 2
}
