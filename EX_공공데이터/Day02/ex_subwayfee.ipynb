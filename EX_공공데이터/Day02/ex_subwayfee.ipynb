{
 "cells": [
  {
   "cell_type": "markdown",
   "metadata": {},
   "source": [
    "대중교통 데이터"
   ]
  },
  {
   "cell_type": "code",
   "execution_count": 1,
   "metadata": {},
   "outputs": [],
   "source": [
    "import csv"
   ]
  },
  {
   "cell_type": "code",
   "execution_count": 2,
   "metadata": {},
   "outputs": [
    {
     "name": "stdout",
     "output_type": "stream",
     "text": [
      "['사용월', '호선명', '역ID', '지하철역', '유임승차', '유임하차', '무임승차', '무임하차']\n",
      "['Jun.24', '1호선', '150', '서울역', '1375235 ', '1312172 ', '217760 ', '208410 ']\n",
      "['Jun.24', '1호선', '151', '시청', '623388 ', '630661 ', '97573 ', '95530 ']\n",
      "['Jun.24', '1호선', '152', '종각', '914353 ', '912364 ', '146932 ', '137905 ']\n",
      "['Jun.24', '1호선', '153', '종로3가', '471522 ', '426339 ', '287153 ', '264801 ']\n",
      "['Jun.24', '1호선', '154', '종로5가', '440595 ', '432871 ', '248630 ', '242504 ']\n",
      "['Jun.24', '1호선', '155', '동대문', '231365 ', '226540 ', '129109 ', '130444 ']\n"
     ]
    }
   ],
   "source": [
    "f = open('../data/subwayfee.csv', encoding='utf-8-sig')\n",
    "data = csv.reader(f)\n",
    "header = next(data)\n",
    "print(header)\n",
    "\n",
    "i = 1\n",
    "for row in data:\n",
    "    print(row)\n",
    "    if i > 5:\n",
    "        break\n",
    "    i += 1\n",
    "f.close()"
   ]
  },
  {
   "cell_type": "code",
   "execution_count": 3,
   "metadata": {},
   "outputs": [
    {
     "name": "stdout",
     "output_type": "stream",
     "text": [
      "['Jun.24', '일산선', '1949', '지축', 61, 0, 0, 0]\n",
      "['Jun.24', '경의선', '1296', '계양', 2, 0, 0, 0]\n",
      "['Jun.24', '6호선', '2649', '신내', 10, 0, 0, 0]\n",
      "['Jun.24', '7호선', '2756', '신중동', 1, 0, 0, 0]\n",
      "['Jun.24', '7호선', '2761', '부평구청', 2, 0, 0, 0]\n",
      "1.0\n"
     ]
    }
   ],
   "source": [
    "f = open('../data/subwayfee.csv', encoding='utf-8-sig')\n",
    "data = csv.reader(f)\n",
    "header = next(data)\n",
    "\n",
    "max_rate = 0\n",
    "rate = 0\n",
    "\n",
    "for row in data:\n",
    "    for i in range(4, 8):\n",
    "        row[i] = int(row[i])\n",
    "    rate = row[4] / (row[4] + row[6])  # 역별 무임승차/(유임승차 + 무임승차)\n",
    "    \n",
    "    if row[6] == 0:\n",
    "        print(row)      # 에러를 찾기 위해서\n",
    "        \n",
    "    if rate > max_rate:\n",
    "        max_rate = rate\n",
    "print(max_rate)\n",
    "f.close()"
   ]
  },
  {
   "cell_type": "code",
   "execution_count": 4,
   "metadata": {},
   "outputs": [
    {
     "name": "stdout",
     "output_type": "stream",
     "text": [
      "['Jun.24', '신림선', '4411', '관악산(서울대)', 62342, 64618, 43040, 42392] 40.84 &\n"
     ]
    }
   ],
   "source": [
    "f = open('../data/subwayfee.csv', encoding='utf-8-sig')\n",
    "data = csv.reader(f)\n",
    "header = next(data)\n",
    "\n",
    "max_rate = 0\n",
    "\n",
    "for i in range(4,8):\n",
    "    row[i] = int(row[i])\n",
    "if row[6] != 0:\n",
    "    rate = (row[6] * 100) / (row[4] + row[6])\n",
    "    if rate > max_rate:\n",
    "        max_rate = rate\n",
    "        print(row, round(rate, 2) ,'&')"
   ]
  },
  {
   "cell_type": "code",
   "execution_count": 5,
   "metadata": {},
   "outputs": [
    {
     "name": "stdout",
     "output_type": "stream",
     "text": [
      "역이름: 서울역, 전체인원: 1,592,995명,  유임승차인원: 1,375,235명, 유임승차 비율: 86.3%\n",
      "역이름: 시청, 전체인원: 720,961명,  유임승차인원: 623,388명, 유임승차 비율: 86.5%\n",
      "역이름: 시청, 전체인원: 708,238명,  유임승차인원: 648,953명, 유임승차 비율: 91.6%\n",
      "역이름: 을지로입구, 전체인원: 1,375,810명,  유임승차인원: 1,274,944명, 유임승차 비율: 92.7%\n",
      "역이름: 한양대, 전체인원: 314,730명,  유임승차인원: 301,414명, 유임승차 비율: 95.8%\n",
      "--------------------------------------------------------------------------------\n",
      "최대 유임 승차역\n",
      "역이름: 한양대, 전체인원: 314,730명, 유임승차인원: 301,414명, 유임승차 비율: 95.8%\n"
     ]
    }
   ],
   "source": [
    "f = open('../data/subwayfee.csv', encoding='utf-8-sig')\n",
    "data = csv.reader(f)\n",
    "header = next(data)\n",
    "\n",
    "max_rate = 0\n",
    "rate = 0\n",
    "max_row = []\n",
    "max_total_num = 0\n",
    "\n",
    "for row in data:\n",
    "    for i in range(4,8):\n",
    "        row[i] = int(row[i])\n",
    "    total_count = row[4] + row[6]\n",
    "    \n",
    "    if (row[4] != 0) and (total_count > 100000):\n",
    "        rate = row[4] / total_count\n",
    "        \n",
    "        if rate > max_rate:\n",
    "            max_rate = rate\n",
    "            max_row = row\n",
    "            max_total_num = total_count\n",
    "            print(f\"역이름: {max_row[3]}, 전체인원: {max_total_num:,}명, \",\n",
    "                  f\"유임승차인원: {max_row[4]:,}명,\",\n",
    "                  f\"유임승차 비율: {round(max_rate*100,1):,}%\")\n",
    "print('-'*80)\n",
    "print(\"최대 유임 승차역\")\n",
    "print(f\"역이름: {max_row[3]}, 전체인원: {max_total_num:,}명,\",\n",
    "        f\"유임승차인원: {max_row[4]:,}명,\",\n",
    "        f\"유임승차 비율: {round(max_rate*100,1):,}%\")\n",
    "f.close()"
   ]
  },
  {
   "cell_type": "code",
   "execution_count": 6,
   "metadata": {},
   "outputs": [],
   "source": [
    "import matplotlib.pyplot as plt\n",
    "import koreanize_matplotlib"
   ]
  },
  {
   "cell_type": "code",
   "execution_count": 7,
   "metadata": {},
   "outputs": [
    {
     "name": "stdout",
     "output_type": "stream",
     "text": [
      "['사용월', '호선명', '역ID', '지하철역', '유임승차', '유임하차', '무임승차', '무임하차']\n",
      "['Jun.24', '1호선', '157', '제기동', 230693, '220271 ', 262223, '280041 '] 0.47\n",
      "['Jun.24', '1호선', '159', '동묘앞', 156165, '161457 ', 163273, '162912 '] 0.49\n",
      "['Jun.24', '경원선', '1916', '소요산', 14819, '14625 ', 51268, '50124 '] 0.22\n",
      "['Jun.24', '경원선', '1919', '연천', 14505, '13769 ', 26975, '27796 '] 0.35\n",
      "['Jun.24', '중앙선', '1218', '원덕', 4839, '4651 ', 6889, '6686 '] 0.41\n",
      "['Jun.24', '중앙선', '1219', '용문', 33375, '33488 ', 41628, '41155 '] 0.44\n",
      "['Jun.24', '경춘선', '1322', '상천', 5200, '4887 ', 6041, '6054 '] 0.46\n",
      "['Jun.24', '우이신설선', '4707', '삼양사거리', 38157, '38113 ', 40060, '39854 '] 0.49\n",
      "\n",
      "--------------------------------------------------------------------------------\n",
      "유임 승차 비율이 가장 낮은 역: 소요산\n",
      "전체 인원: 66,087명,  유임승차인원: 14,819명,  유임승차 비율: 22.4%\n"
     ]
    },
    {
     "data": {
      "image/png": "[encoded data removed]",
      "text/plain": [
       "<Figure size 640x480 with 1 Axes>"
      ]
     },
     "metadata": {},
     "output_type": "display_data"
    }
   ],
   "source": [
    "f = open('../data/subwayfee.csv', encoding='utf-8-sig')\n",
    "data = csv.reader(f)\n",
    "header = next(data)\n",
    "print(header)\n",
    "\n",
    "min_rate = 100\n",
    "min_row = []\n",
    "min_total_num = 0\n",
    "\n",
    "for row in data:\n",
    "    for i in [4,6]:\n",
    "        row[i] = int(row[i])\n",
    "    total_count = row[4] + row[6]\n",
    "    \n",
    "    if (row[6] != 0) and (total_count >= 10000):\n",
    "        rate = row[4] / total_count\n",
    "        if rate <= 0.5:\n",
    "            print(row, round(rate, 2))\n",
    "            if rate< min_rate:\n",
    "                min_rate = rate\n",
    "                min_row = row\n",
    "                min_total_num = total_count\n",
    "f.close()\n",
    "\n",
    "print()\n",
    "print('-'*80)\n",
    "print(f\"유임 승차 비율이 가장 낮은 역: {min_row[3]}\")\n",
    "print(f\"전체 인원: {min_total_num:,}명, \",\n",
    "      f\"유임승차인원: {min_row[4]:,}명, \",\n",
    "      f\"유임승차 비율: {round(min_rate*100, 1)}%\")\n",
    "\n",
    "plt.title(min_row[3] + \"역, 유/무임 승차 비율\")\n",
    "label = [\"유임승차\", \"무임승차\"]\n",
    "values = [min_row[4], min_row[6]]\n",
    "plt.pie(values, labels=label, autopct=\"%.1f%%\")\n",
    "plt.legend()\n",
    "plt.show()"
   ]
  },
  {
   "cell_type": "code",
   "execution_count": 8,
   "metadata": {},
   "outputs": [
    {
     "name": "stdout",
     "output_type": "stream",
     "text": [
      "유임승차: 잠실(송파구청) 2호선 2,083,604명\n",
      "유임하차: 홍대입구 2호선 2,213,946명\n",
      "무임승차: 영등포 경부선 313,931명\n",
      "무임하차: 영등포 경부선 314,891명\n"
     ]
    }
   ],
   "source": [
    "max = [0] * 4\n",
    "max_station = [''] * 4\n",
    "label = [\"유임승차\", \"유임하차\", \"무임승차\", \"무임하차\"]\n",
    "\n",
    "with open('../data/subwayfee.csv', encoding=\"utf-8-sig\") as f:\n",
    "    data = csv.reader(f)\n",
    "    next(data)\n",
    "    \n",
    "    for row in data:\n",
    "        for i in range(4, 8):\n",
    "            row[i] = int(row[i])\n",
    "            if row[i] > max[i-4]:\n",
    "                max[i-4] = row[i]\n",
    "                max_station[i-4] = row[3] + ' ' + row[1]\n",
    "            \n",
    "for i in range(4):\n",
    "    print(f\"{label[i]}: {max_station[i]} {max[i]:,}명\")"
   ]
  },
  {
   "cell_type": "code",
   "execution_count": 9,
   "metadata": {},
   "outputs": [
    {
     "name": "stdout",
     "output_type": "stream",
     "text": [
      "['Jun.24', '1호선', '150', '서울역', 1375235, 1312172, 217760, 208410]\n",
      "['Jun.24', '1호선', '151', '시청', 623388, 630661, 97573, 95530]\n",
      "['Jun.24', '1호선', '152', '종각', 914353, 912364, 146932, 137905]\n",
      "['Jun.24', '1호선', '153', '종로3가', 471522, 426339, 287153, 264801]\n",
      "['Jun.24', '1호선', '154', '종로5가', 440595, 432871, 248630, 242504]\n",
      "['Jun.24', '1호선', '155', '동대문', 231365, 226540, 129109, 130444]\n",
      "['Jun.24', '1호선', '156', '신설동', 287903, 276799, 122597, 118990]\n",
      "['Jun.24', '1호선', '157', '제기동', 230693, 220271, 262223, 280041]\n",
      "['Jun.24', '1호선', '158', '청량리(서울시립대입구)', 397655, 379680, 287057, 290189]\n",
      "['Jun.24', '1호선', '159', '동묘앞', 156165, 161457, 163273, 162912]\n"
     ]
    }
   ],
   "source": [
    "label = ['유임승차', '유임하차', '무임승차', '무임하차']\n",
    "color_list = ['#ff9999', '#ffc000', '#8fd9b6', '#d395d0']\n",
    "pic_count = 0\n",
    "\n",
    "with open('../data/subwayfee.csv', encoding='utf-8-sig') as f:\n",
    "    data = csv.reader(f)\n",
    "    next(data)\n",
    "    \n",
    "    for row in data:\n",
    "        for i in range(4, 8):\n",
    "            row[i] = int(row[i])\n",
    "        print(row)\n",
    "        \n",
    "        plt.figure(dpi=100)\n",
    "        plt.title(row[3]+' '+row[1])\n",
    "        plt.pie(row[4:8], labels=label, colors=color_list, autopct='%.1f%%', shadow=True)\n",
    "        plt.savefig('../image/'+row[3]+' '+row[1]+'.png')   # 그래프 저장 옵션\n",
    "        plt.close()\n",
    "        \n",
    "        pic_count += 1\n",
    "        if pic_count >= 10:\n",
    "            break"
   ]
  },
  {
   "cell_type": "code",
   "execution_count": null,
   "metadata": {},
   "outputs": [],
   "source": []
  }
 ],
 "metadata": {
  "kernelspec": {
   "display_name": "kdt6",
   "language": "python",
   "name": "python3"
  },
  "language_info": {
   "codemirror_mode": {
    "name": "ipython",
    "version": 3
   },
   "file_extension": ".py",
   "mimetype": "text/x-python",
   "name": "python",
   "nbconvert_exporter": "python",
   "pygments_lexer": "ipython3",
   "version": "3.11.9"
  }
 },
 "nbformat": 4,
 "nbformat_minor": 2
}
