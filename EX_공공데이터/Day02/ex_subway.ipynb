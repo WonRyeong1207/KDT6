{
 "cells": [
  {
   "cell_type": "markdown",
   "metadata": {},
   "source": [
    "지하철 판다스 이용"
   ]
  },
  {
   "cell_type": "code",
   "execution_count": 20,
   "metadata": {},
   "outputs": [],
   "source": [
    "import pandas as pd\n",
    "import matplotlib.pyplot as plt\n",
    "import koreanize_matplotlib\n",
    "import numpy as np"
   ]
  },
  {
   "cell_type": "code",
   "execution_count": 21,
   "metadata": {},
   "outputs": [],
   "source": [
    "from tabulate import tabulate       # 일단 import가 되어있어서?"
   ]
  },
  {
   "cell_type": "code",
   "execution_count": 22,
   "metadata": {},
   "outputs": [
    {
     "name": "stdout",
     "output_type": "stream",
     "text": [
      "<class 'pandas.core.frame.DataFrame'>\n",
      "RangeIndex: 622 entries, 0 to 621\n",
      "Data columns (total 53 columns):\n",
      " #   Column                       Non-Null Count  Dtype \n",
      "---  ------                       --------------  ----- \n",
      " 0   (사용월, Unnamed: 0_level_1)    622 non-null    object\n",
      " 1   (호선명, Unnamed: 1_level_1)    622 non-null    object\n",
      " 2   (역ID, Unnamed: 2_level_1)    622 non-null    int64 \n",
      " 3   (지하철역, Unnamed: 3_level_1)   622 non-null    object\n",
      " 4   (04:00:00~04:59:59, 승차)      622 non-null    object\n",
      " 5   (04:00:00~04:59:59, 하차)      622 non-null    int64 \n",
      " 6   (05:00:00~05:59:59, 승차)      622 non-null    object\n",
      " 7   (05:00:00~05:59:59, 하차)      622 non-null    object\n",
      " 8   (06:00:00~06:59:59, 승차)      622 non-null    object\n",
      " 9   (06:00:00~06:59:59, 하차)      622 non-null    object\n",
      " 10  (07:00:00~07:59:59, 승차)      622 non-null    object\n",
      " 11  (07:00:00~07:59:59, 하차)      622 non-null    object\n",
      " 12  (08:00:00~08:59:59, 승차)      622 non-null    object\n",
      " 13  (08:00:00~08:59:59, 하차)      622 non-null    object\n",
      " 14  (09:00:00~09:59:59, 승차)      622 non-null    object\n",
      " 15  (09:00:00~09:59:59, 하차)      622 non-null    object\n",
      " 16  (10:00:00~10:59:59, 승차)      622 non-null    object\n",
      " 17  (10:00:00~10:59:59, 하차)      622 non-null    object\n",
      " 18  (11:00:00~11:59:59, 승차)      622 non-null    object\n",
      " 19  (11:00:00~11:59:59, 하차)      622 non-null    object\n",
      " 20  (12:00:00~12:59:59, 승차)      622 non-null    object\n",
      " 21  (12:00:00~12:59:59, 하차)      622 non-null    object\n",
      " 22  (13:00:00~13:59:59, 승차)      622 non-null    object\n",
      " 23  (13:00:00~13:59:59, 하차)      622 non-null    object\n",
      " 24  (14:00:00~14:59:59, 승차)      622 non-null    object\n",
      " 25  (14:00:00~14:59:59, 하차)      622 non-null    object\n",
      " 26  (15:00:00~15:59:59, 승차)      622 non-null    object\n",
      " 27  (15:00:00~15:59:59, 하차)      622 non-null    object\n",
      " 28  (16:00:00~16:59:59, 승차)      622 non-null    object\n",
      " 29  (16:00:00~16:59:59, 하차)      622 non-null    object\n",
      " 30  (17:00:00~17:59:59, 승차)      622 non-null    object\n",
      " 31  (17:00:00~17:59:59, 하차)      622 non-null    object\n",
      " 32  (18:00:00~18:59:59, 승차)      622 non-null    object\n",
      " 33  (18:00:00~18:59:59, 하차)      622 non-null    object\n",
      " 34  (19:00:00~19:59:59, 승차)      622 non-null    object\n",
      " 35  (19:00:00~19:59:59, 하차)      622 non-null    object\n",
      " 36  (20:00:00~20:59:59, 승차)      622 non-null    object\n",
      " 37  (20:00:00~20:59:59, 하차)      622 non-null    object\n",
      " 38  (21:00:00~21:59:59, 승차)      622 non-null    object\n",
      " 39  (21:00:00~21:59:59, 하차)      622 non-null    object\n",
      " 40  (22:00:00~22:59:59, 승차)      622 non-null    object\n",
      " 41  (22:00:00~22:59:59, 하차)      622 non-null    object\n",
      " 42  (23:00:00~23:59:59, 승차)      622 non-null    object\n",
      " 43  (23:00:00~23:59:59, 하차)      622 non-null    object\n",
      " 44  (00:00:00~00:59:59, 승차)      622 non-null    object\n",
      " 45  (00:00:00~00:59:59, 하차)      622 non-null    object\n",
      " 46  (01:00:00~01:59:59, 승차)      622 non-null    int64 \n",
      " 47  (01:00:00~01:59:59, 하차)      622 non-null    object\n",
      " 48  (02:00:00~02:59:59, 승차)      622 non-null    int64 \n",
      " 49  (02:00:00~02:59:59, 하차)      622 non-null    int64 \n",
      " 50  (03:00:00~03:59:59, 승차)      622 non-null    int64 \n",
      " 51  (03:00:00~03:59:59, 하차)      622 non-null    int64 \n",
      " 52  (작업일시, Unnamed: 52_level_1)  622 non-null    object\n",
      "dtypes: int64(7), object(46)\n",
      "memory usage: 257.7+ KB\n",
      "None\n"
     ]
    }
   ],
   "source": [
    "df = pd.read_excel('../data/subway.xls', sheet_name='지하철 시간대별 이용현황', header=[0,1])\n",
    "print(df.info())\n",
    "# print(tabulate(df.head(), headers='kyes', tablefmt='pretty'))\n",
    "# 이쁘게 생략 없이 출력"
   ]
  },
  {
   "cell_type": "code",
   "execution_count": 23,
   "metadata": {},
   "outputs": [
    {
     "data": {
      "text/plain": [
       "MultiIndex([(              '사용월',  'Unnamed: 0_level_1'),\n",
       "            (              '호선명',  'Unnamed: 1_level_1'),\n",
       "            (              '역ID',  'Unnamed: 2_level_1'),\n",
       "            (             '지하철역',  'Unnamed: 3_level_1'),\n",
       "            ('04:00:00~04:59:59',                  '승차'),\n",
       "            ('04:00:00~04:59:59',                  '하차'),\n",
       "            ('05:00:00~05:59:59',                  '승차'),\n",
       "            ('05:00:00~05:59:59',                  '하차'),\n",
       "            ('06:00:00~06:59:59',                  '승차'),\n",
       "            ('06:00:00~06:59:59',                  '하차'),\n",
       "            ('07:00:00~07:59:59',                  '승차'),\n",
       "            ('07:00:00~07:59:59',                  '하차'),\n",
       "            ('08:00:00~08:59:59',                  '승차'),\n",
       "            ('08:00:00~08:59:59',                  '하차'),\n",
       "            ('09:00:00~09:59:59',                  '승차'),\n",
       "            ('09:00:00~09:59:59',                  '하차'),\n",
       "            ('10:00:00~10:59:59',                  '승차'),\n",
       "            ('10:00:00~10:59:59',                  '하차'),\n",
       "            ('11:00:00~11:59:59',                  '승차'),\n",
       "            ('11:00:00~11:59:59',                  '하차'),\n",
       "            ('12:00:00~12:59:59',                  '승차'),\n",
       "            ('12:00:00~12:59:59',                  '하차'),\n",
       "            ('13:00:00~13:59:59',                  '승차'),\n",
       "            ('13:00:00~13:59:59',                  '하차'),\n",
       "            ('14:00:00~14:59:59',                  '승차'),\n",
       "            ('14:00:00~14:59:59',                  '하차'),\n",
       "            ('15:00:00~15:59:59',                  '승차'),\n",
       "            ('15:00:00~15:59:59',                  '하차'),\n",
       "            ('16:00:00~16:59:59',                  '승차'),\n",
       "            ('16:00:00~16:59:59',                  '하차'),\n",
       "            ('17:00:00~17:59:59',                  '승차'),\n",
       "            ('17:00:00~17:59:59',                  '하차'),\n",
       "            ('18:00:00~18:59:59',                  '승차'),\n",
       "            ('18:00:00~18:59:59',                  '하차'),\n",
       "            ('19:00:00~19:59:59',                  '승차'),\n",
       "            ('19:00:00~19:59:59',                  '하차'),\n",
       "            ('20:00:00~20:59:59',                  '승차'),\n",
       "            ('20:00:00~20:59:59',                  '하차'),\n",
       "            ('21:00:00~21:59:59',                  '승차'),\n",
       "            ('21:00:00~21:59:59',                  '하차'),\n",
       "            ('22:00:00~22:59:59',                  '승차'),\n",
       "            ('22:00:00~22:59:59',                  '하차'),\n",
       "            ('23:00:00~23:59:59',                  '승차'),\n",
       "            ('23:00:00~23:59:59',                  '하차'),\n",
       "            ('00:00:00~00:59:59',                  '승차'),\n",
       "            ('00:00:00~00:59:59',                  '하차'),\n",
       "            ('01:00:00~01:59:59',                  '승차'),\n",
       "            ('01:00:00~01:59:59',                  '하차'),\n",
       "            ('02:00:00~02:59:59',                  '승차'),\n",
       "            ('02:00:00~02:59:59',                  '하차'),\n",
       "            ('03:00:00~03:59:59',                  '승차'),\n",
       "            ('03:00:00~03:59:59',                  '하차'),\n",
       "            (             '작업일시', 'Unnamed: 52_level_1')],\n",
       "           )"
      ]
     },
     "execution_count": 23,
     "metadata": {},
     "output_type": "execute_result"
    }
   ],
   "source": [
    "df.columns"
   ]
  },
  {
   "cell_type": "code",
   "execution_count": 24,
   "metadata": {},
   "outputs": [
    {
     "data": {
      "text/plain": [
       "0      1호선\n",
       "1      1호선\n",
       "2      1호선\n",
       "3      1호선\n",
       "4      1호선\n",
       "      ... \n",
       "617    신림선\n",
       "618    신림선\n",
       "619    신림선\n",
       "620    신림선\n",
       "621    신림선\n",
       "Name: (호선명, Unnamed: 1_level_1), Length: 622, dtype: object"
      ]
     },
     "execution_count": 24,
     "metadata": {},
     "output_type": "execute_result"
    }
   ],
   "source": [
    "df[('호선명', 'Unnamed: 1_level_1')]"
   ]
  },
  {
   "cell_type": "code",
   "execution_count": 25,
   "metadata": {},
   "outputs": [
    {
     "data": {
      "text/plain": [
       "0           서울역\n",
       "1            시청\n",
       "2            종각\n",
       "3          종로3가\n",
       "4          종로5가\n",
       "         ...   \n",
       "617          당곡\n",
       "618          신림\n",
       "619          서원\n",
       "620     서울대벤처타운\n",
       "621    관악산(서울대)\n",
       "Name: (지하철역, Unnamed: 3_level_1), Length: 622, dtype: object"
      ]
     },
     "execution_count": 25,
     "metadata": {},
     "output_type": "execute_result"
    }
   ],
   "source": [
    "df[('지하철역', 'Unnamed: 3_level_1')]"
   ]
  },
  {
   "cell_type": "code",
   "execution_count": 26,
   "metadata": {},
   "outputs": [
    {
     "name": "stdout",
     "output_type": "stream",
     "text": [
      "+----+------------------------------------+--------------------------------------+---------------------------------+---------------------------------+---------------------------------+\n",
      "|    | ('호선명', 'Unnamed: 1_level_1')   | ('지하철역', 'Unnamed: 3_level_1')   | ('07:00:00~07:59:59', '승차')   | ('08:00:00~08:59:59', '승차')   | ('09:00:00~09:59:59', '승차')   |\n",
      "|----+------------------------------------+--------------------------------------+---------------------------------+---------------------------------+---------------------------------|\n",
      "|  0 | 1호선                              | 서울역                               | 40,205                          | 68,945                          | 68,501                          |\n",
      "|  1 | 1호선                              | 시청                                 | 7,703                           | 10,616                          | 12,972                          |\n",
      "|  2 | 1호선                              | 종각                                 | 6,588                           | 10,892                          | 13,378                          |\n",
      "|  3 | 1호선                              | 종로3가                              | 5,968                           | 10,284                          | 15,280                          |\n",
      "|  4 | 1호선                              | 종로5가                              | 5,783                           | 10,330                          | 15,744                          |\n",
      "+----+------------------------------------+--------------------------------------+---------------------------------+---------------------------------+---------------------------------+\n"
     ]
    }
   ],
   "source": [
    "commute_time_df = df.iloc[:, [1, 3, 10, 12, 14]]\n",
    "print(tabulate(commute_time_df.head(), headers='keys', tablefmt='psql'))\n",
    "# 진짜 생략이 안되네"
   ]
  },
  {
   "cell_type": "code",
   "execution_count": 27,
   "metadata": {},
   "outputs": [
    {
     "data": {
      "text/plain": [
       "호선명                Unnamed: 1_level_1    object\n",
       "지하철역               Unnamed: 3_level_1    object\n",
       "07:00:00~07:59:59  승차                    object\n",
       "08:00:00~08:59:59  승차                    object\n",
       "09:00:00~09:59:59  승차                    object\n",
       "dtype: object"
      ]
     },
     "execution_count": 27,
     "metadata": {},
     "output_type": "execute_result"
    }
   ],
   "source": [
    "commute_time_df.dtypes"
   ]
  },
  {
   "cell_type": "code",
   "execution_count": 28,
   "metadata": {},
   "outputs": [
    {
     "name": "stdout",
     "output_type": "stream",
     "text": [
      "+----+------------------------------------+--------------------------------------+---------------------------------+---------------------------------+---------------------------------+\n",
      "|    | ('호선명', 'Unnamed: 1_level_1')   | ('지하철역', 'Unnamed: 3_level_1')   |   ('07:00:00~07:59:59', '승차') |   ('08:00:00~08:59:59', '승차') |   ('09:00:00~09:59:59', '승차') |\n",
      "|----+------------------------------------+--------------------------------------+---------------------------------+---------------------------------+---------------------------------|\n",
      "|  0 | 1호선                              | 서울역                               |                           40205 |                           68945 |                           68945 |\n",
      "|  1 | 1호선                              | 시청                                 |                            7703 |                           10616 |                           10616 |\n",
      "|  2 | 1호선                              | 종각                                 |                            6588 |                           10892 |                           10892 |\n",
      "|  3 | 1호선                              | 종로3가                              |                            5968 |                           10284 |                           10284 |\n",
      "|  4 | 1호선                              | 종로5가                              |                            5783 |                           10330 |                           10330 |\n",
      "+----+------------------------------------+--------------------------------------+---------------------------------+---------------------------------+---------------------------------+\n"
     ]
    },
    {
     "name": "stderr",
     "output_type": "stream",
     "text": [
      "C:\\Users\\Public\\Documents\\ESTsoft\\CreatorTemp\\ipykernel_27144\\3024639207.py:1: SettingWithCopyWarning: \n",
      "A value is trying to be set on a copy of a slice from a DataFrame.\n",
      "Try using .loc[row_indexer,col_indexer] = value instead\n",
      "\n",
      "See the caveats in the documentation: https://pandas.pydata.org/pandas-docs/stable/user_guide/indexing.html#returning-a-view-versus-a-copy\n",
      "  commute_time_df[('07:00:00~07:59:59', '승차')] = commute_time_df[('07:00:00~07:59:59', '승차')].apply(lambda x: x.replace(',',''))\n",
      "C:\\Users\\Public\\Documents\\ESTsoft\\CreatorTemp\\ipykernel_27144\\3024639207.py:2: SettingWithCopyWarning: \n",
      "A value is trying to be set on a copy of a slice from a DataFrame.\n",
      "Try using .loc[row_indexer,col_indexer] = value instead\n",
      "\n",
      "See the caveats in the documentation: https://pandas.pydata.org/pandas-docs/stable/user_guide/indexing.html#returning-a-view-versus-a-copy\n",
      "  commute_time_df[('08:00:00~08:59:59', '승차')] = commute_time_df[('08:00:00~08:59:59', '승차')].apply(lambda x: x.replace(',',''))\n",
      "C:\\Users\\Public\\Documents\\ESTsoft\\CreatorTemp\\ipykernel_27144\\3024639207.py:3: SettingWithCopyWarning: \n",
      "A value is trying to be set on a copy of a slice from a DataFrame.\n",
      "Try using .loc[row_indexer,col_indexer] = value instead\n",
      "\n",
      "See the caveats in the documentation: https://pandas.pydata.org/pandas-docs/stable/user_guide/indexing.html#returning-a-view-versus-a-copy\n",
      "  commute_time_df[('09:00:00~09:59:59', '승차')] = commute_time_df[('08:00:00~08:59:59', '승차')].apply(lambda x: x.replace(',',''))\n"
     ]
    }
   ],
   "source": [
    "commute_time_df[('07:00:00~07:59:59', '승차')] = commute_time_df[('07:00:00~07:59:59', '승차')].apply(lambda x: x.replace(',',''))\n",
    "commute_time_df[('08:00:00~08:59:59', '승차')] = commute_time_df[('08:00:00~08:59:59', '승차')].apply(lambda x: x.replace(',',''))\n",
    "commute_time_df[('09:00:00~09:59:59', '승차')] = commute_time_df[('08:00:00~08:59:59', '승차')].apply(lambda x: x.replace(',',''))\n",
    "\n",
    "print(tabulate(commute_time_df.head(), headers='keys', tablefmt='psql'))"
   ]
  },
  {
   "cell_type": "code",
   "execution_count": 29,
   "metadata": {},
   "outputs": [
    {
     "name": "stdout",
     "output_type": "stream",
     "text": [
      "호선명                Unnamed: 1_level_1    object\n",
      "지하철역               Unnamed: 3_level_1    object\n",
      "07:00:00~07:59:59  승차                     int64\n",
      "08:00:00~08:59:59  승차                     int64\n",
      "09:00:00~09:59:59  승차                     int64\n",
      "dtype: object\n"
     ]
    }
   ],
   "source": [
    "commute_time_df = commute_time_df.astype({('07:00:00~07:59:59', '승차'): 'int64'})\n",
    "commute_time_df = commute_time_df.astype({('08:00:00~08:59:59', '승차'): 'int64'})\n",
    "commute_time_df = commute_time_df.astype({('09:00:00~09:59:59', '승차'): 'int64'})\n",
    "print(commute_time_df.dtypes)"
   ]
  },
  {
   "cell_type": "code",
   "execution_count": 30,
   "metadata": {},
   "outputs": [
    {
     "name": "stdout",
     "output_type": "stream",
     "text": [
      "0      178095\n",
      "1       28935\n",
      "2       28372\n",
      "3       26536\n",
      "4       26443\n",
      "        ...  \n",
      "617     51015\n",
      "618     17293\n",
      "619     50126\n",
      "620    112893\n",
      "621     18985\n",
      "Length: 622, dtype: int64\n"
     ]
    }
   ],
   "source": [
    "row_sum_df = commute_time_df.sum(axis=1, numeric_only=True)\n",
    "passenger_number_list = row_sum_df.to_list()\n",
    "print(row_sum_df)"
   ]
  },
  {
   "cell_type": "code",
   "execution_count": 31,
   "metadata": {},
   "outputs": [
    {
     "name": "stdout",
     "output_type": "stream",
     "text": [
      "673126\n"
     ]
    }
   ],
   "source": [
    "max_number = row_sum_df.max(axis=0)\n",
    "print(max_number)"
   ]
  },
  {
   "cell_type": "code",
   "execution_count": 32,
   "metadata": {},
   "outputs": [
    {
     "name": "stdout",
     "output_type": "stream",
     "text": [
      "출근 시간대 최대 승차 인원역: 2호선 신림, 673,126명\n"
     ]
    }
   ],
   "source": [
    "max_index = row_sum_df.idxmax()\n",
    "max_line, max_station = df.iloc[max_index, [1, 3]]\n",
    "# 원본 데이터를 찾아감\n",
    "\n",
    "print(f\"출근 시간대 최대 승차 인원역: {max_line} {max_station}, {max_number:,}명\")"
   ]
  },
  {
   "cell_type": "code",
   "execution_count": 33,
   "metadata": {},
   "outputs": [
    {
     "data": {
      "image/png": "[encoded data removed]",
      "text/plain": [
       "<Figure size 640x480 with 1 Axes>"
      ]
     },
     "metadata": {},
     "output_type": "display_data"
    }
   ],
   "source": [
    "passenger_number_list.sort(reverse=True)\n",
    "\n",
    "plt.figure(dpi=100)\n",
    "plt.bar(range(len(passenger_number_list)), passenger_number_list)\n",
    "plt.show()"
   ]
  },
  {
   "cell_type": "code",
   "execution_count": null,
   "metadata": {},
   "outputs": [],
   "source": []
  }
 ],
 "metadata": {
  "kernelspec": {
   "display_name": "kdt6",
   "language": "python",
   "name": "python3"
  },
  "language_info": {
   "codemirror_mode": {
    "name": "ipython",
    "version": 3
   },
   "file_extension": ".py",
   "mimetype": "text/x-python",
   "name": "python",
   "nbconvert_exporter": "python",
   "pygments_lexer": "ipython3",
   "version": "3.11.9"
  }
 },
 "nbformat": 4,
 "nbformat_minor": 2
}
