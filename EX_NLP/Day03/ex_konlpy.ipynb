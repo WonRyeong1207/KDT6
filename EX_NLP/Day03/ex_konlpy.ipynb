{
 "cells": [
  {
   "cell_type": "markdown",
   "metadata": {},
   "source": [
    "### 한국어 형태소 분석\n",
    "- konlpy 패키지 활용\n",
    "    - 내부에 5가지 형태소 분석 패티지 포함\n",
    "    - 5가지 형태소 분석기 사용법 동일, 쉬움 (ex) sklearn"
   ]
  },
  {
   "cell_type": "code",
   "execution_count": 2,
   "metadata": {},
   "outputs": [],
   "source": [
    "from konlpy.tag import *"
   ]
  },
  {
   "cell_type": "markdown",
   "metadata": {},
   "source": [
    "- 다양한 형태소 분석기\n",
    "---"
   ]
  },
  {
   "cell_type": "code",
   "execution_count": 21,
   "metadata": {},
   "outputs": [],
   "source": [
    "text = \"\"\"\n",
    "누구와 먹고 살지?\n",
    " - 나랑 먹고 살지\n",
    "누구의 손을 잡지?\n",
    " - 나랑 손을 잡지\n",
    "\n",
    "지금은 아니되오.\n",
    "아직은 할 수 없어.\n",
    " - 어서 내 손을 잡아.\n",
    " \n",
    " - 함께 가자\n",
    " - 혼인하자\n",
    "\"\"\""
   ]
  },
  {
   "cell_type": "code",
   "execution_count": 22,
   "metadata": {},
   "outputs": [],
   "source": [
    "# 한나눔 형태소 분석기\n",
    "han = Hannanum()"
   ]
  },
  {
   "cell_type": "code",
   "execution_count": 28,
   "metadata": {},
   "outputs": [
    {
     "name": "stdout",
     "output_type": "stream",
     "text": [
      "['누구', '와', '먹', '고', '살', '지', '?', '-', '나', '랑', '먹', '고', '살', '지', '누구', '의', '손', '을', '잡', '지', '?', '-', '나', '랑', '손', '을', '잡지', '지금', '은', '아니되', '오', '.', '아직', '은', '하', 'ㄹ', '수', '없', '어', '.', '-', '어서', '내', '어', '손', '을', '잡', '어', '.', '-', '함께', '가', '자', '-', '혼인하자']\n",
      "['누구', '나', '누구', '손', '나', '손', '잡지', '지금', '수', '손', '혼인하자']\n",
      "[('누구', 'N'), ('와', 'J'), ('먹', 'P'), ('고', 'E'), ('살', 'P'), ('지', 'E'), ('?', 'S'), ('-', 'S'), ('나', 'N'), ('랑', 'J'), ('먹', 'P'), ('고', 'E'), ('살', 'P'), ('지', 'E'), ('누구', 'N'), ('의', 'J'), ('손', 'N'), ('을', 'J'), ('잡', 'P'), ('지', 'E'), ('?', 'S'), ('-', 'S'), ('나', 'N'), ('랑', 'J'), ('손', 'N'), ('을', 'J'), ('잡지', 'N'), ('지금', 'N'), ('은', 'J'), ('아니되', 'P'), ('오', 'E'), ('.', 'S'), ('아직', 'M'), ('은', 'J'), ('하', 'P'), ('ㄹ', 'E'), ('수', 'N'), ('없', 'P'), ('어', 'E'), ('.', 'S'), ('-', 'S'), ('어서', 'M'), ('내', 'P'), ('어', 'E'), ('손', 'N'), ('을', 'J'), ('잡', 'P'), ('어', 'E'), ('.', 'S'), ('-', 'S'), ('함께', 'M'), ('가', 'P'), ('자', 'E'), ('-', 'S'), ('혼인하자', 'N')]\n"
     ]
    }
   ],
   "source": [
    "# 형태소 분석\n",
    "print(han.morphs(text))\n",
    "\n",
    "# 명사 추출\n",
    "print(han.nouns(text))\n",
    "\n",
    "# 품사 태깅\n",
    "print(han.pos(text))"
   ]
  },
  {
   "cell_type": "code",
   "execution_count": 26,
   "metadata": {},
   "outputs": [],
   "source": [
    "# 꼬꼬마 형태소 분석기\n",
    "kkma = Kkma()"
   ]
  },
  {
   "cell_type": "code",
   "execution_count": 27,
   "metadata": {},
   "outputs": [
    {
     "name": "stdout",
     "output_type": "stream",
     "text": [
      "['누구', '와', '먹', '고', '살', 'ㄹ지', '?', '-', '나랑', '먹', '고', '살', 'ㄹ지', '누구', '의', '손', '을', '잡', '지', '?', '-', '나랑', '손', '을', '잡', '지', '지금', '은', '알', '니', '되', '오', '.', '아직', '은', '하', 'ㄹ', '수', '없', '어', '.', '-', '어', '어서', '내', '손', '을', '잡', '아', '.', '-', '함께', '가자', '-', '혼인', '하', '자']\n",
      "['누구', '손', '지금', '수', '내', '가자', '혼인']\n",
      "[('누구', 'NP'), ('와', 'JKM'), ('먹', 'VV'), ('고', 'ECE'), ('살', 'VV'), ('ㄹ지', 'ECD'), ('?', 'SF'), ('-', 'SW'), ('나랑', 'MAG'), ('먹', 'VV'), ('고', 'ECE'), ('살', 'VV'), ('ㄹ지', 'ECD'), ('누구', 'NP'), ('의', 'JKG'), ('손', 'NNG'), ('을', 'JKO'), ('잡', 'VV'), ('지', 'ECD'), ('?', 'SF'), ('-', 'SW'), ('나랑', 'MAG'), ('손', 'NNG'), ('을', 'JKO'), ('잡', 'VV'), ('지', 'ECD'), ('지금', 'NNG'), ('은', 'JX'), ('알', 'VV'), ('니', 'ECD'), ('되', 'VV'), ('오', 'EFN'), ('.', 'SF'), ('아직', 'MAG'), ('은', 'JX'), ('하', 'VV'), ('ㄹ', 'ETD'), ('수', 'NNB'), ('없', 'VA'), ('어', 'ECD'), ('.', 'SF'), ('-', 'SW'), ('어', 'VV'), ('어서', 'ECD'), ('내', 'NP'), ('손', 'NNG'), ('을', 'JKO'), ('잡', 'VV'), ('아', 'ECD'), ('.', 'SF'), ('-', 'SW'), ('함께', 'MAG'), ('가자', 'NNG'), ('-', 'SW'), ('혼인', 'NNG'), ('하', 'XSV'), ('자', 'ECE')]\n"
     ]
    }
   ],
   "source": [
    "# 형태소 분석\n",
    "print(kkma.morphs(text))\n",
    "\n",
    "# 명사만 추출\n",
    "print(kkma.nouns(text))\n",
    "\n",
    "# 품사 태깅\n",
    "print(kkma.pos(text))"
   ]
  },
  {
   "cell_type": "code",
   "execution_count": 29,
   "metadata": {},
   "outputs": [],
   "source": [
    "# 코모란 형태소 분석기\n",
    "komo = Komoran()    # java 가 없다는 예외가 뜸"
   ]
  },
  {
   "cell_type": "code",
   "execution_count": 36,
   "metadata": {},
   "outputs": [],
   "source": [
    "# # 형태소 분석\n",
    "# print(komo.morphs(text))\n",
    "\n",
    "# # 명사만 추출\n",
    "# print(komo.nouns(text))\n",
    "\n",
    "# # 품사 태깅\n",
    "# print(komo.pos(text))"
   ]
  },
  {
   "cell_type": "code",
   "execution_count": 33,
   "metadata": {},
   "outputs": [],
   "source": [
    "# Okt 형태소 분석기\n",
    "okt = Okt()"
   ]
  },
  {
   "cell_type": "code",
   "execution_count": 34,
   "metadata": {},
   "outputs": [
    {
     "name": "stdout",
     "output_type": "stream",
     "text": [
      "['\\n', '누구', '와', '먹고', '살', '지', '?', '\\n ', '-', '나', '랑', '먹고', '살', '지', '\\n', '누구', '의', '손', '을', '잡지', '?', '\\n ', '-', '나', '랑', '손', '을', '잡지', '\\n\\n', '지금', '은', '아니되', '오', '.', '\\n', '아직', '은', '할', '수', '없어', '.', '\\n ', '-', '어서', '내', '손', '을', '잡아', '.', '\\n \\n ', '-', '함께', '가자', '\\n ', '-', '혼인', '하자', '\\n']\n",
      "['누구', '살', '나', '살', '누구', '손', '잡지', '나', '손', '잡지', '지금', '오', '은', '수', '어서', '내', '손', '혼인']\n",
      "[('\\n', 'Foreign'), ('누구', 'Noun'), ('와', 'Josa'), ('먹고', 'Verb'), ('살', 'Noun'), ('지', 'Josa'), ('?', 'Punctuation'), ('\\n ', 'Foreign'), ('-', 'Punctuation'), ('나', 'Noun'), ('랑', 'Josa'), ('먹고', 'Verb'), ('살', 'Noun'), ('지', 'Josa'), ('\\n', 'Foreign'), ('누구', 'Noun'), ('의', 'Josa'), ('손', 'Noun'), ('을', 'Josa'), ('잡지', 'Noun'), ('?', 'Punctuation'), ('\\n ', 'Foreign'), ('-', 'Punctuation'), ('나', 'Noun'), ('랑', 'Josa'), ('손', 'Noun'), ('을', 'Josa'), ('잡지', 'Noun'), ('\\n\\n', 'Foreign'), ('지금', 'Noun'), ('은', 'Josa'), ('아니되', 'Adjective'), ('오', 'Noun'), ('.', 'Punctuation'), ('\\n', 'Foreign'), ('아직', 'Adverb'), ('은', 'Noun'), ('할', 'Verb'), ('수', 'Noun'), ('없어', 'Adjective'), ('.', 'Punctuation'), ('\\n ', 'Foreign'), ('-', 'Punctuation'), ('어서', 'Noun'), ('내', 'Noun'), ('손', 'Noun'), ('을', 'Josa'), ('잡아', 'Verb'), ('.', 'Punctuation'), ('\\n \\n ', 'Foreign'), ('-', 'Punctuation'), ('함께', 'Adverb'), ('가자', 'Verb'), ('\\n ', 'Foreign'), ('-', 'Punctuation'), ('혼인', 'Noun'), ('하자', 'Verb'), ('\\n', 'Foreign')]\n"
     ]
    }
   ],
   "source": [
    "# 형태소 분석\n",
    "print(okt.morphs(text))\n",
    "\n",
    "# 명사 추출\n",
    "print(okt.nouns(text))\n",
    "\n",
    "# 품사 태깅\n",
    "print(okt.pos(text))"
   ]
  },
  {
   "cell_type": "code",
   "execution_count": null,
   "metadata": {},
   "outputs": [],
   "source": []
  }
 ],
 "metadata": {
  "kernelspec": {
   "display_name": "nlp_38_018",
   "language": "python",
   "name": "python3"
  },
  "language_info": {
   "codemirror_mode": {
    "name": "ipython",
    "version": 3
   },
   "file_extension": ".py",
   "mimetype": "text/x-python",
   "name": "python",
   "nbconvert_exporter": "python",
   "pygments_lexer": "ipython3",
   "version": "3.8.19"
  }
 },
 "nbformat": 4,
 "nbformat_minor": 2
}
