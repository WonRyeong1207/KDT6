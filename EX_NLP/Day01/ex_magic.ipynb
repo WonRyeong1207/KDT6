{
 "cells": [
  {
   "cell_type": "markdown",
   "metadata": {},
   "source": [
    "### magic code\n",
    "- 파이썬 시스템에서 특정 기능을 부여해서 미리 정의해둔 코드들\n",
    "- 종류\n",
    "    - 매직 변수: _ _ 변수명 _ _()\n",
    "    - 매직 메서드: _ _ 함수명 _ _ ()\n",
    "\n",
    "- `문자열은 반복이 가능하니까 관련 custom class를 만들려고 하는 것`"
   ]
  },
  {
   "cell_type": "code",
   "execution_count": 4,
   "metadata": {},
   "outputs": [],
   "source": [
    "class A:\n",
    "    def __init__(self, vlaue):\n",
    "        self.value = vlaue\n",
    "        self.position = 0   # 0 이면 순방향, len(self.value)-1 이면 역방향\n",
    "        # 전부 주석 처리하고 pass를 해도 class instance는 생성가능. default 값으로\n",
    "    \n",
    "    # 인스턴스 객체에 호출 시 시행되는 메서드\n",
    "    # 없으면 부모클래스를 상속받아서 추가\n",
    "    def __call__(self, data):\n",
    "        print('__call__')\n",
    "        return self.value*data\n",
    "\n",
    "\n",
    "    # create iterater\n",
    "    def __iter__(self):\n",
    "        return self\n",
    "    \n",
    "    def __next__(self):\n",
    "        # 순방향을 기준으로 구축\n",
    "        if self.posiion >= len(self.value): raise StopIteration\n",
    "        result = self.data[self.posiion]\n",
    "        self.posiion += 1\n",
    "        return result"
   ]
  },
  {
   "cell_type": "code",
   "execution_count": 5,
   "metadata": {},
   "outputs": [],
   "source": [
    "# class instance\n",
    "a = A(10)"
   ]
  },
  {
   "cell_type": "code",
   "execution_count": 6,
   "metadata": {},
   "outputs": [
    {
     "name": "stdout",
     "output_type": "stream",
     "text": [
      "__call__\n"
     ]
    },
    {
     "data": {
      "text/plain": [
       "100"
      ]
     },
     "execution_count": 6,
     "metadata": {},
     "output_type": "execute_result"
    }
   ],
   "source": [
    "# 인스턴스 변수명으로 실행하기\n",
    "a(10)"
   ]
  },
  {
   "cell_type": "markdown",
   "metadata": {},
   "source": [
    "- generater는 잠시 멈추는 yeid를 가지고 있음. 사용하는 이유는 메모리 문제 때문에\n",
    "- 기능은 위의 custom과 유사함.\n",
    "- `torchtext`는 `generater`로 `이루어`져있음."
   ]
  }
 ],
 "metadata": {
  "kernelspec": {
   "display_name": "nlp_38_018",
   "language": "python",
   "name": "python3"
  },
  "language_info": {
   "codemirror_mode": {
    "name": "ipython",
    "version": 3
   },
   "file_extension": ".py",
   "mimetype": "text/x-python",
   "name": "python",
   "nbconvert_exporter": "python",
   "pygments_lexer": "ipython3",
   "version": "3.8.19"
  }
 },
 "nbformat": 4,
 "nbformat_minor": 2
}
