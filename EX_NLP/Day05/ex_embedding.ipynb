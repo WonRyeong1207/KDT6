{
 "cells": [
  {
   "cell_type": "markdown",
   "metadata": {},
   "source": [
    "### 텍스트 전처리\n",
    "- 토큰화                                          => 최적의 토큰화 패키지\n",
    "- 정제(불용어, 구두점, 개발자 지정 제거 문자)       => 불용어, 구두점\n",
    "- 단어사전(정수)\n",
    "- 문장 => 수치화\n",
    "- 문장 길이 통일, 패딩\n",
    "- 정수 수치화 => one-hot-encoding 변환: 파이토치는 필요 없음\n",
    "---\n",
    "### 모델\n",
    "- 임베딩 층: 차원 축소 (예: 샘플 5개 3000개 피쳐 --> 샘플 5개, 30개 피쳐)\n",
    "- RNN/LSTM/GRU 층\n",
    "---"
   ]
  },
  {
   "cell_type": "markdown",
   "metadata": {},
   "source": [
    "### 임베딩층\n",
    "- 임베딩 층의 입력으로 사용하기 위해서 입력 시퀀스의 각 단어~~\n",
    "- 임베딩층\n",
    "- 룩업 테이블"
   ]
  },
  {
   "cell_type": "code",
   "execution_count": 1,
   "metadata": {},
   "outputs": [
    {
     "data": {
      "text/plain": [
       "{'know': 2, 'code': 3, 'you': 4, 'need': 5, 'to': 6, '<pad>': 0, '<unk>': 1}"
      ]
     },
     "execution_count": 1,
     "metadata": {},
     "output_type": "execute_result"
    }
   ],
   "source": [
    "train_data = 'you need to know to code'\n",
    "\n",
    "word_set = set(train_data.split())\n",
    "\n",
    "vocab = {word : i+2 for i, word in enumerate(word_set)}\n",
    "vocab['<pad>'] = 0\n",
    "vocab['<unk>'] = 1\n",
    "\n",
    "vocab"
   ]
  },
  {
   "cell_type": "code",
   "execution_count": 2,
   "metadata": {},
   "outputs": [],
   "source": [
    "import torch\n",
    "import torch.nn as nn"
   ]
  },
  {
   "cell_type": "code",
   "execution_count": 3,
   "metadata": {},
   "outputs": [],
   "source": [
    "# 임의의 임베딩 룩업 테이블\n",
    "embedding_table = torch.FloatTensor([\n",
    "    [0.0, 0.0, 0.0],\n",
    "    [0.0, 0.0, 0.0],\n",
    "    [0.2, 0.9, 0.3],\n",
    "    [0.1, 0.5, 0.7],\n",
    "    [0.2, 0.1, 0.8],\n",
    "    [0.4, 0.1, 0.1],\n",
    "    [0.1, 0.8, 0.9],\n",
    "    [0.6, 0.1, 0.1]\n",
    "])\n",
    "# 내부적으로 이러한 embedding_table을 가지고 있고 학습할때마다 업데이트 됨"
   ]
  },
  {
   "cell_type": "code",
   "execution_count": 4,
   "metadata": {},
   "outputs": [
    {
     "name": "stdout",
     "output_type": "stream",
     "text": [
      "idxes: tensor([4, 5, 6, 1])\n",
      "tensor([[0.2000, 0.1000, 0.8000],\n",
      "        [0.4000, 0.1000, 0.1000],\n",
      "        [0.1000, 0.8000, 0.9000],\n",
      "        [0.0000, 0.0000, 0.0000]])\n"
     ]
    }
   ],
   "source": [
    "sample = 'you need to run'.split()\n",
    "idxes = []\n",
    "\n",
    "for word in sample:\n",
    "    try:\n",
    "        idxes.append(vocab[word])\n",
    "    # 사전에 없으면 대체\n",
    "    except KeyError:\n",
    "        idxes.append(vocab['<unk>'])\n",
    "\n",
    "idxes = torch.LongTensor(idxes)\n",
    "print(f\"idxes: {idxes}\")\n",
    "\n",
    "lookup_result = embedding_table[idxes, :]\n",
    "print(lookup_result)"
   ]
  },
  {
   "cell_type": "code",
   "execution_count": 5,
   "metadata": {},
   "outputs": [],
   "source": [
    "# pytorch embedding layer\n",
    "embedding_layer = nn.Embedding(num_embeddings=len(vocab), embedding_dim=3, padding_idx=0)"
   ]
  },
  {
   "cell_type": "code",
   "execution_count": 6,
   "metadata": {},
   "outputs": [
    {
     "name": "stdout",
     "output_type": "stream",
     "text": [
      "Parameter containing:\n",
      "tensor([[ 0.0000,  0.0000,  0.0000],\n",
      "        [-0.1005,  0.2933, -0.4081],\n",
      "        [-1.3331,  0.4955,  0.3751],\n",
      "        [-0.5585,  1.1060, -0.1101],\n",
      "        [ 1.4247, -1.9491, -1.2115],\n",
      "        [ 1.1857, -0.1579,  0.6790],\n",
      "        [-1.0438,  1.9485,  0.8314]], requires_grad=True)\n"
     ]
    }
   ],
   "source": [
    "print(embedding_layer.weight)"
   ]
  },
  {
   "cell_type": "code",
   "execution_count": null,
   "metadata": {},
   "outputs": [],
   "source": []
  }
 ],
 "metadata": {
  "kernelspec": {
   "display_name": "nlp_38_018",
   "language": "python",
   "name": "python3"
  },
  "language_info": {
   "codemirror_mode": {
    "name": "ipython",
    "version": 3
   },
   "file_extension": ".py",
   "mimetype": "text/x-python",
   "name": "python",
   "nbconvert_exporter": "python",
   "pygments_lexer": "ipython3",
   "version": "3.8.19"
  }
 },
 "nbformat": 4,
 "nbformat_minor": 2
}
