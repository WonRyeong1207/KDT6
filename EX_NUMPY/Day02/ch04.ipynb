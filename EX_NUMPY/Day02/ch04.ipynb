{
 "cells": [
  {
   "cell_type": "markdown",
   "metadata": {},
   "source": [
    "### 넘파이 Chapter 4\n",
    "- 산술연산\n",
    "- 브로드캐스팅 이해하기\n",
    "- 행렬의 연산\n",
    "- 행렬식(determineant), 역행렬(Inverse Matrix) 처리하기\n",
    "- Tensordot 연산 확인하기 223\n",
    "- einsum 연산 확인하기"
   ]
  },
  {
   "cell_type": "code",
   "execution_count": 1,
   "metadata": {},
   "outputs": [],
   "source": [
    "import numpy as np"
   ]
  },
  {
   "cell_type": "markdown",
   "metadata": {},
   "source": [
    "- 산술 연산\n",
    "    - 벡터 산술연산"
   ]
  },
  {
   "cell_type": "code",
   "execution_count": 2,
   "metadata": {},
   "outputs": [
    {
     "name": "stdout",
     "output_type": "stream",
     "text": [
      "[ 8 10]\n",
      "\n",
      "[ 8 10]\n",
      "operands could not be broadcast together with shapes (3,) (2,) \n"
     ]
    }
   ],
   "source": [
    "# 벡터 간의 덧셈\n",
    "d = np.array([3, 4])\n",
    "e = np.array([5, 6])\n",
    "\n",
    "print(d+e)\n",
    "print()\n",
    "\n",
    "print(np.add(d, e))\n",
    "print\n",
    "\n",
    "f = np.array([1, 2, 3])\n",
    "try:\n",
    "    f + e\n",
    "except Exception as ex:\n",
    "    print(ex)"
   ]
  },
  {
   "cell_type": "code",
   "execution_count": 3,
   "metadata": {},
   "outputs": [
    {
     "name": "stdout",
     "output_type": "stream",
     "text": [
      "[-2 -2]\n",
      "\n",
      "[-2 -2]\n",
      "\n",
      "[-2 -2]\n",
      "\n",
      "[-2 -2]\n"
     ]
    }
   ],
   "source": [
    "# 벡터 간의 뺄셈\n",
    "d = np.array([3, 4])\n",
    "e = np.array([5, 6])\n",
    "\n",
    "print(d-e)\n",
    "print()\n",
    "\n",
    "print(np.subtract(d, e))\n",
    "print()\n",
    "\n",
    "print(d+(-e))\n",
    "print()\n",
    "\n",
    "print(np.add(d, np.negative(e)))"
   ]
  },
  {
   "cell_type": "code",
   "execution_count": 4,
   "metadata": {},
   "outputs": [
    {
     "name": "stdout",
     "output_type": "stream",
     "text": [
      "[6 9]\n",
      "\n",
      "[27 27]\n",
      "\n",
      "[6 9]\n",
      "\n",
      "[6 9]\n",
      "\n",
      "[0.66666667 1.        ]\n",
      "\n",
      "[0.66666667 1.        ]\n",
      "\n",
      "[0.66666667 1.        ]\n"
     ]
    }
   ],
   "source": [
    "# 스칼라 값을 벡터에 곱하기\n",
    "d = np.array([2, 3])\n",
    "\n",
    "print(3 * d)\n",
    "print()\n",
    "\n",
    "print(np.array([3, 3]) * 9)\n",
    "print()\n",
    "\n",
    "print(np.multiply(3, d))\n",
    "print()\n",
    "\n",
    "print(np.multiply(np.array([3, 3]), d))\n",
    "print()\n",
    "\n",
    "print(1/3 * d)\n",
    "print()\n",
    "\n",
    "print(np.divide(d, 3))\n",
    "print()\n",
    "\n",
    "print(np.multiply(d, (1/3)))"
   ]
  },
  {
   "cell_type": "markdown",
   "metadata": {},
   "source": [
    "- 산술 연산\n",
    "    - 행렬의 산술연산"
   ]
  },
  {
   "cell_type": "code",
   "execution_count": 5,
   "metadata": {},
   "outputs": [
    {
     "name": "stdout",
     "output_type": "stream",
     "text": [
      "[[3 4]\n",
      " [4 5]]\n",
      "\n",
      "[[2 4]\n",
      " [2 5]]\n",
      "\n",
      "[[ 5  8]\n",
      " [ 6 10]]\n",
      "\n",
      "[[1 0]\n",
      " [2 0]]\n",
      "\n",
      "[[ 6 16]\n",
      " [ 8 25]]\n",
      "\n",
      "[[1.5 1. ]\n",
      " [2.  1. ]]\n",
      "\n",
      "[[1 1]\n",
      " [2 1]]\n",
      "\n",
      "(array([[1, 1],\n",
      "       [2, 1]]), array([[1, 0],\n",
      "       [0, 0]]))\n"
     ]
    }
   ],
   "source": [
    "# 행렬의 산술연산\n",
    "a = np.array([[3, 4], [4, 5]], dtype=np.int64)\n",
    "print(a)\n",
    "print()\n",
    "\n",
    "b = np.array([[2, 4], [2, 5]], dtype='i8')\n",
    "print(b)\n",
    "print()\n",
    "\n",
    "print(np.add(a, b))\n",
    "print()\n",
    "\n",
    "print(np.subtract(a, b))\n",
    "print()\n",
    "\n",
    "print(np.multiply(a, b))\n",
    "print()\n",
    "\n",
    "print(np.divide(a, b))\n",
    "print()\n",
    "\n",
    "print(np.floor_divide(a, b))\n",
    "print()\n",
    "\n",
    "print(np.divmod(a,b))"
   ]
  },
  {
   "cell_type": "code",
   "execution_count": 6,
   "metadata": {},
   "outputs": [
    {
     "name": "stdout",
     "output_type": "stream",
     "text": [
      "[[ 3  6  9]\n",
      " [12 15 18]\n",
      " [21 24 27]]\n",
      "\n",
      "[[3 3 3]\n",
      " [3 3 3]\n",
      " [3 3 3]]\n",
      "\n",
      "[[ 3  6  9]\n",
      " [12 15 18]\n",
      " [21 24 27]]\n",
      "\n",
      "[[3.         1.5        1.        ]\n",
      " [0.75       0.6        0.5       ]\n",
      " [0.42857143 0.375      0.33333333]]\n",
      "\n",
      "[[0 0 1]\n",
      " [1 1 2]\n",
      " [2 2 3]]\n"
     ]
    }
   ],
   "source": [
    "# 행렬에 스칼라 곱셈과 나눗셈 처리\n",
    "d = np.array([[1, 2, 3], [4, 5, 6], [7, 8, 9]])\n",
    "print(np.multiply(3, d))\n",
    "print()\n",
    "\n",
    "s = np.full((3, 3), 3)\n",
    "print(s)\n",
    "print()\n",
    "\n",
    "print(np.multiply(s, d))\n",
    "print()\n",
    "\n",
    "print(np.divide(3, d))\n",
    "print()\n",
    "\n",
    "print(np.floor_divide(d, 3))"
   ]
  },
  {
   "cell_type": "markdown",
   "metadata": {},
   "source": [
    "- 산술 연산\n",
    "    - 대수의 법칙(law of algebra)"
   ]
  },
  {
   "cell_type": "code",
   "execution_count": 10,
   "metadata": {},
   "outputs": [
    {
     "name": "stdout",
     "output_type": "stream",
     "text": [
      "[[0. 1.]\n",
      " [2. 3.]]\n",
      "\n",
      "[[6. 7.]\n",
      " [8. 9.]]\n",
      "\n",
      "[[12. 13.]\n",
      " [14. 15.]]\n",
      "\n",
      "[[ True  True]\n",
      " [ True  True]]\n"
     ]
    }
   ],
   "source": [
    "# 결합법칙\n",
    "x = np.reshape(np.arange(4.0), (2, 2))\n",
    "print(x)\n",
    "print()\n",
    "\n",
    "y = np.reshape(np.arange(6.0, 10.), (2, 2))\n",
    "print(y)\n",
    "print()\n",
    "\n",
    "z = np.reshape(np.arange(12., 16.), (2, 2))\n",
    "print(z)\n",
    "print()\n",
    "\n",
    "a = (x + y) + z\n",
    "b = x + (y + z)\n",
    "print(a == b)"
   ]
  },
  {
   "cell_type": "code",
   "execution_count": 12,
   "metadata": {},
   "outputs": [
    {
     "data": {
      "text/plain": [
       "array([[ True,  True],\n",
       "       [ True,  True]])"
      ]
     },
     "execution_count": 12,
     "metadata": {},
     "output_type": "execute_result"
    }
   ],
   "source": [
    "# 분베법칙\n",
    "c = x*(y+z)\n",
    "d = (y+z)*x\n",
    "c==d"
   ]
  },
  {
   "cell_type": "code",
   "execution_count": 13,
   "metadata": {},
   "outputs": [
    {
     "name": "stdout",
     "output_type": "stream",
     "text": [
      "[[ True  True]\n",
      " [ True  True]]\n",
      "\n",
      "[[ True  True]\n",
      " [ True  True]]\n"
     ]
    }
   ],
   "source": [
    "# 교환법칙\n",
    "f = x + y\n",
    "g = y + x\n",
    "print(f == g)\n",
    "print()\n",
    "\n",
    "i = x * y\n",
    "j = y * x\n",
    "print(i == j)"
   ]
  },
  {
   "cell_type": "markdown",
   "metadata": {},
   "source": [
    "- 브로드캐스팅 이해하기\n",
    "    - 브로드캐스팅(broadcasting) 이해하기"
   ]
  },
  {
   "cell_type": "code",
   "execution_count": 14,
   "metadata": {},
   "outputs": [
    {
     "name": "stdout",
     "output_type": "stream",
     "text": [
      "[[0 1 2 3 4]\n",
      " [5 6 7 8 9]]\n",
      "\n",
      "[0 1 2 3 4]\n",
      "\n",
      "<class 'numpy.broadcast'>\n",
      "<class 'type'>\n",
      "\n",
      "<numpy.broadcast object at 0x000001E255488140>\n",
      "\n",
      "<class 'numpy.broadcast'>\n",
      "(2, 5) 2\n",
      "\n",
      "(np.int64(0), np.int64(0))\n",
      "(np.int64(1), np.int64(1))\n",
      "(np.int64(2), np.int64(2))\n",
      "(np.int64(3), np.int64(3))\n",
      "(np.int64(4), np.int64(4))\n",
      "(np.int64(5), np.int64(0))\n",
      "(np.int64(6), np.int64(1))\n",
      "(np.int64(7), np.int64(2))\n",
      "(np.int64(8), np.int64(3))\n",
      "(np.int64(9), np.int64(4))\n"
     ]
    }
   ],
   "source": [
    "# 브로드캐스팅 내장함수 사용\n",
    "x = np.arange(10).reshape(2, 5)\n",
    "print(x)\n",
    "print()\n",
    "\n",
    "y = np.arange(5)\n",
    "print(y)\n",
    "print()\n",
    "\n",
    "print(np.broadcast)\n",
    "print(type(np.broadcast))\n",
    "print()\n",
    "\n",
    "z = np.broadcast(x, y)\n",
    "print(z)\n",
    "print()\n",
    "\n",
    "print(type(z))\n",
    "print(z.shape, z.ndim)\n",
    "print()\n",
    "\n",
    "for i in z:\n",
    "    print(i)"
   ]
  },
  {
   "cell_type": "code",
   "execution_count": 15,
   "metadata": {},
   "outputs": [
    {
     "name": "stdout",
     "output_type": "stream",
     "text": [
      "<numpy.flatiter object at 0x000001E2568EEDE0>\n",
      "\n",
      "[[0 1 2 3 4]\n",
      " [0 1 2 3 4]]\n",
      "\n",
      "[[ 0  2  4  6  8]\n",
      " [ 5  7  9 11 13]]\n",
      "\n",
      "[[ 0  2  4  6  8]\n",
      " [ 5  7  9 11 13]]\n"
     ]
    }
   ],
   "source": [
    "z = np.broadcast(x, y)\n",
    "b = np.empty(z.shape, int)\n",
    "print(b.flat)\n",
    "print()\n",
    "\n",
    "b.flat = [i for _,i in z]\n",
    "print(b)\n",
    "print()\n",
    "\n",
    "print(x+b)\n",
    "print()\n",
    "print(x+y)"
   ]
  },
  {
   "cell_type": "code",
   "execution_count": 16,
   "metadata": {},
   "outputs": [
    {
     "name": "stdout",
     "output_type": "stream",
     "text": [
      "[[1 2 3]\n",
      " [1 2 3]\n",
      " [1 2 3]]\n"
     ]
    }
   ],
   "source": [
    "# 브로드캐스팅 내장함수 사용\n",
    "a = np.array([1, 2, 3])\n",
    "ax = np.broadcast_to(a, (3, 3))\n",
    "print(ax)"
   ]
  },
  {
   "cell_type": "code",
   "execution_count": 17,
   "metadata": {},
   "outputs": [
    {
     "name": "stdout",
     "output_type": "stream",
     "text": [
      "operands could not be broadcast together with remapped shapes [original->remapped]: (3,)  and requested shape (3,4)\n"
     ]
    }
   ],
   "source": [
    "try:\n",
    "    np.broadcast_to(a, (3, 4))\n",
    "except Exception as e:\n",
    "    print(e)"
   ]
  },
  {
   "cell_type": "code",
   "execution_count": 20,
   "metadata": {},
   "outputs": [
    {
     "name": "stdout",
     "output_type": "stream",
     "text": [
      "(array([1, 2, 3, 4]), array([5, 6, 7, 8]))\n",
      "\n",
      "(array([[1, 2, 3, 4],\n",
      "       [1, 2, 3, 4]]), array([[ 5,  6,  7,  8],\n",
      "       [ 7,  8,  9, 10]]))\n"
     ]
    }
   ],
   "source": [
    "a = np.broadcast_arrays(np.array([1, 2, 3, 4]), np.array([5, 6, 7, 8]))\n",
    "print(a)\n",
    "print()\n",
    "\n",
    "b = np.broadcast_arrays(np.array([1, 2, 3, 4]), np.array([[5, 6, 7, 8], [7, 8, 9, 10]]))\n",
    "print(b)"
   ]
  },
  {
   "cell_type": "code",
   "execution_count": 21,
   "metadata": {},
   "outputs": [
    {
     "name": "stdout",
     "output_type": "stream",
     "text": [
      "shape mismatch: objects cannot be broadcast to a single shape.  Mismatch is between arg 0 with shape (4,) and arg 1 with shape (2, 3).\n"
     ]
    }
   ],
   "source": [
    "try:\n",
    "    c = np.broadcast_arrays(np.array([1, 2, 3,4]), np.array([[5, 6, 7], [7, 8, 9]]))\n",
    "except Exception as e:\n",
    "    print(e)"
   ]
  },
  {
   "cell_type": "code",
   "execution_count": 22,
   "metadata": {},
   "outputs": [
    {
     "data": {
      "text/plain": [
       "(array([[0, 1, 2],\n",
       "        [0, 1, 2],\n",
       "        [0, 1, 2]]),\n",
       " array([[0, 0, 0],\n",
       "        [1, 1, 1],\n",
       "        [2, 2, 2]]))"
      ]
     },
     "execution_count": 22,
     "metadata": {},
     "output_type": "execute_result"
    }
   ],
   "source": [
    "c = np.broadcast_arrays(np.arange(3).reshape(1, 3), np.arange(3).reshape(3, 1), )\n",
    "c"
   ]
  },
  {
   "cell_type": "code",
   "execution_count": 23,
   "metadata": {},
   "outputs": [
    {
     "name": "stdout",
     "output_type": "stream",
     "text": [
      "[[1. 1. 1.]\n",
      " [1. 1. 1.]]\n",
      "\n",
      "[1. 1. 1.]\n",
      "\n",
      "(3,) (2, 3)\n",
      "True\n",
      "\n",
      "(1, 3)\n",
      "\n",
      "[[1. 1. 1.]\n",
      " [1. 1. 1.]]\n",
      "\n",
      "True\n",
      "[[2. 2. 2.]\n",
      " [2. 2. 2.]]\n"
     ]
    }
   ],
   "source": [
    "# 브로드캐스팅 규칙 이해하기\n",
    "x2 = np.ones((2, 3))\n",
    "print(x2)\n",
    "print()\n",
    "\n",
    "x1 = np.ones(3)\n",
    "print(x1)\n",
    "print()\n",
    "\n",
    "print(x1.shape, x2.shape)\n",
    "print(x1.shape[0] == x2.shape[1])\n",
    "print()\n",
    "\n",
    "x1 = x1[np.newaxis, ]\n",
    "print(x1.shape)\n",
    "print()\n",
    "\n",
    "x1 = np.vstack((x1[0], x1[0]))\n",
    "print(x1)\n",
    "print()\n",
    "\n",
    "print(x1.shape == x2.shape)\n",
    "print(x1 + x2)"
   ]
  },
  {
   "cell_type": "markdown",
   "metadata": {},
   "source": [
    "- 브로드캐스팅 이해하기\n",
    "    - 함수를 사용해서 브로드캐스팅"
   ]
  },
  {
   "cell_type": "code",
   "execution_count": 25,
   "metadata": {},
   "outputs": [
    {
     "name": "stdout",
     "output_type": "stream",
     "text": [
      "[[1 2 3]\n",
      " [4 5 6]]\n",
      "\n",
      "[1 2 3]\n",
      "\n",
      "True\n",
      "2\n",
      "1\n",
      "\n",
      "(array([[1, 2, 3],\n",
      "       [4, 5, 6]]), array([[1, 2, 3],\n",
      "       [1, 2, 3]]))\n",
      "\n",
      "[[2 4 6]\n",
      " [5 7 9]]\n",
      "\n",
      "[[2 4 6]\n",
      " [5 7 9]]\n"
     ]
    }
   ],
   "source": [
    "# 상위차원의 다른 경우\n",
    "x = np.arange(1, 7).reshape(2, 3)\n",
    "print(x)\n",
    "print()\n",
    "\n",
    "y = np.arange(1, 4)\n",
    "print(y)\n",
    "print()\n",
    "\n",
    "print(x.ndim > y.ndim)\n",
    "print(np.linalg.matrix_rank(x))\n",
    "print(np.linalg.matrix_rank(y))\n",
    "print()\n",
    "\n",
    "z = np.broadcast_arrays(x, y)\n",
    "print(z)\n",
    "print()\n",
    "print(z[0] + z[1])\n",
    "print()\n",
    "print(x + y)"
   ]
  },
  {
   "cell_type": "code",
   "execution_count": 26,
   "metadata": {},
   "outputs": [
    {
     "name": "stdout",
     "output_type": "stream",
     "text": [
      "[[1 2]\n",
      " [3 4]]\n",
      "\n",
      "[[1 2]]\n",
      "\n",
      "True\n",
      "(array([[1, 2],\n",
      "       [3, 4]]), array([[1, 2],\n",
      "       [1, 2]]))\n",
      "\n",
      "[[1]\n",
      " [2]]\n",
      "\n",
      "(array([[1, 2],\n",
      "       [3, 4]]), array([[1, 1],\n",
      "       [2, 2]]))\n"
     ]
    }
   ],
   "source": [
    "# 배열의 내부 형상에서 1이 존재\n",
    "x = np.arange(1, 5).reshape(2, 2)\n",
    "print(x)\n",
    "print()\n",
    "\n",
    "y = np.arange(1,3).reshape(1, 2)\n",
    "print(y)\n",
    "print()\n",
    "\n",
    "z = np.broadcast_arrays(x, y)\n",
    "print(z[0].shape == z[1].shape)\n",
    "print(z)\n",
    "print()\n",
    "\n",
    "b = np.arange(1, 3).reshape(2, 1)\n",
    "print(b)\n",
    "print()\n",
    "\n",
    "zb = np.broadcast_arrays(x, b)\n",
    "print(zb)"
   ]
  },
  {
   "cell_type": "markdown",
   "metadata": {},
   "source": [
    "- 브로드캐스팅 이해하기\n",
    "    - 스칼라 브로드캐스팅 확장"
   ]
  },
  {
   "cell_type": "code",
   "execution_count": 27,
   "metadata": {},
   "outputs": [
    {
     "name": "stdout",
     "output_type": "stream",
     "text": [
      "[[1. 1. 1.]\n",
      " [1. 1. 1.]]\n",
      "\n",
      "10\n",
      "\n",
      "(2, 3) ()\n",
      "\n",
      "[10]\n",
      "(1,)\n",
      "\n",
      "[[10]]\n",
      "(1, 1)\n",
      "\n",
      "[[10 10 10]\n",
      " [10 10 10]]\n",
      "\n",
      "[[11. 11. 11.]\n",
      " [11. 11. 11.]]\n",
      "\n",
      "[[11. 11. 11.]\n",
      " [11. 11. 11.]]\n"
     ]
    }
   ],
   "source": [
    "# 스칼라에 대한 확장 처리\n",
    "x = np.ones((2, 3))\n",
    "print(x)\n",
    "print()\n",
    "\n",
    "y = np.array(10)\n",
    "print(y)\n",
    "print()\n",
    "\n",
    "print(x.shape, y.shape)\n",
    "print()\n",
    "\n",
    "y = y[np.newaxis]\n",
    "print(y)\n",
    "print(y.shape)\n",
    "print()\n",
    "\n",
    "y = y[np.newaxis, :]\n",
    "print(y)\n",
    "print(y.shape)\n",
    "print()\n",
    "\n",
    "y = np.broadcast_to(y, (2,3))\n",
    "print(y)\n",
    "print()\n",
    "\n",
    "print(x + y)\n",
    "print()\n",
    "\n",
    "print(10 + x)"
   ]
  },
  {
   "cell_type": "markdown",
   "metadata": {},
   "source": [
    "- 브로드캐스팅 이해하기\n",
    "    - 행벡터와 열벡터 브로드캐스팅 확장"
   ]
  },
  {
   "cell_type": "code",
   "execution_count": 28,
   "metadata": {},
   "outputs": [
    {
     "name": "stdout",
     "output_type": "stream",
     "text": [
      "[1 2 3]\n",
      "\n",
      "[[1 2 3]]\n",
      "\n",
      "[[1 2 3]]\n",
      "\n",
      "[1 2 3]\n",
      "\n",
      "[[1]\n",
      " [2]\n",
      " [3]]\n",
      "\n",
      "[[1]\n",
      " [2]\n",
      " [3]]\n",
      "\n",
      "(array([[1, 2, 3],\n",
      "       [1, 2, 3],\n",
      "       [1, 2, 3]]), array([[1, 1, 1],\n",
      "       [2, 2, 2],\n",
      "       [3, 3, 3]]))\n",
      "\n",
      "[[2 3 4]\n",
      " [3 4 5]\n",
      " [4 5 6]]\n"
     ]
    }
   ],
   "source": [
    "# 행벡터와 열벡터 확장 처리\n",
    "x = np.arange(1, 4)\n",
    "print(x)\n",
    "print()\n",
    "\n",
    "x1 = x.reshape(1, 3)\n",
    "print(x1)\n",
    "print()\n",
    "\n",
    "x2 = x[np.newaxis, ]\n",
    "print(x2)\n",
    "print()\n",
    "\n",
    "y = np.arange(1, 4)\n",
    "print(y)\n",
    "print()\n",
    "\n",
    "y1 = y.reshape(3, 1)\n",
    "print(y1)\n",
    "print()\n",
    "\n",
    "y2 = y[:, np.newaxis]\n",
    "print(y2)\n",
    "print()\n",
    "\n",
    "print(np.broadcast_arrays(x1, y1))\n",
    "print()\n",
    "\n",
    "print(x1 + y1)"
   ]
  },
  {
   "cell_type": "markdown",
   "metadata": {},
   "source": [
    "- 행렬의 연산\n",
    "    - 벡터 내적 및 외적 구하기"
   ]
  },
  {
   "cell_type": "code",
   "execution_count": 29,
   "metadata": {},
   "outputs": [
    {
     "name": "stdout",
     "output_type": "stream",
     "text": [
      "39\n",
      "\n",
      "39\n",
      "\n",
      "39\n"
     ]
    }
   ],
   "source": [
    "# 벡터의 내적 이해하기\n",
    "a = np.array([3, 4])\n",
    "b = np.array([5, 6])\n",
    "\n",
    "print(a@b)\n",
    "print()\n",
    "print(np.dot(a, b))\n",
    "print()\n",
    "print(np.inner(a,b))"
   ]
  },
  {
   "cell_type": "code",
   "execution_count": 33,
   "metadata": {},
   "outputs": [
    {
     "name": "stdout",
     "output_type": "stream",
     "text": [
      "-6\n",
      "\n",
      "[ 8  4 -8]\n",
      "\n",
      "[[ 3  6]\n",
      " [12 24]]\n",
      "\n",
      "[[ 3  4  5]\n",
      " [12 16 20]\n",
      " [ 9 12 15]]\n"
     ]
    },
    {
     "name": "stderr",
     "output_type": "stream",
     "text": [
      "C:\\Users\\Public\\Documents\\ESTsoft\\CreatorTemp\\ipykernel_27364\\1608519651.py:5: DeprecationWarning: Arrays of 2-dimensional vectors are deprecated. Use arrays of 3-dimensional vectors instead. (deprecated in NumPy 2.0)\n",
      "  print(np.cross(a, b))\n"
     ]
    }
   ],
   "source": [
    "# 벡터의 외적 이해하기\n",
    "a = np.array([1, 4])\n",
    "b = np.array([3, 6])\n",
    "\n",
    "print(np.cross(a, b))\n",
    "print()\n",
    "\n",
    "c = np.array([1, 4, 3])\n",
    "d = np.array([3, 4, 5])\n",
    "print(np.cross(c, d))\n",
    "print()\n",
    "\n",
    "print(np.outer(a, b))\n",
    "print()\n",
    "print(np.outer(c, d))"
   ]
  },
  {
   "cell_type": "markdown",
   "metadata": {},
   "source": [
    "- 행렬의 연산\n",
    "    - 행렬곱 연산: dot product"
   ]
  },
  {
   "cell_type": "code",
   "execution_count": 34,
   "metadata": {},
   "outputs": [
    {
     "name": "stdout",
     "output_type": "stream",
     "text": [
      "[[3 4]\n",
      " [5 6]]\n",
      "\n",
      "[[5 6]\n",
      " [6 7]]\n",
      "\n",
      "(2, 2)\n",
      "(2, 2)\n",
      "True\n",
      "\n",
      "[[39 46]\n",
      " [61 72]]\n",
      "\n",
      "[[39 46]\n",
      " [61 72]]\n",
      "\n",
      "[[39 46]\n",
      " [61 72]]\n"
     ]
    }
   ],
   "source": [
    "# 행렬의 닷연산\n",
    "a = np.array([[3, 4], [5, 6]])\n",
    "print(a)\n",
    "print()\n",
    "\n",
    "b = np.array([[5, 6], [6, 7]])\n",
    "print(b)\n",
    "print()\n",
    "\n",
    "print(a.shape)\n",
    "print(b.shape)\n",
    "print(a.shape[1] == b.shape[0])\n",
    "print()\n",
    "\n",
    "print(np.dot(a, b))\n",
    "print()\n",
    "print(a.dot(b))\n",
    "print()\n",
    "print(a @ b)"
   ]
  },
  {
   "cell_type": "code",
   "execution_count": 35,
   "metadata": {},
   "outputs": [
    {
     "name": "stdout",
     "output_type": "stream",
     "text": [
      "[[ 30  36  39]\n",
      " [ 66  81  90]\n",
      " [102 126 141]]\n",
      "\n",
      "[[1]\n",
      " [4]\n",
      " [7]]\n",
      "\n",
      "[[ 30]\n",
      " [ 66]\n",
      " [102]]\n",
      "\n",
      "[[ 30  36  39]\n",
      " [ 66  81  90]\n",
      " [102 126 141]]\n",
      "\n",
      "[[ 30  36  39]\n",
      " [ 66  81  90]\n",
      " [102 126 141]]\n",
      "\n",
      "matmul: Input operand 1 does not have enough dimensions (has 0, gufunc core with signature (n?,k),(k,m?)->(n?,m?) requires 1)\n",
      "\n",
      "[[ 2  4  6]\n",
      " [ 8 10 12]\n",
      " [14 16 18]]\n"
     ]
    }
   ],
   "source": [
    "# 행렬을 분해해서 닷연산 하기\n",
    "a = np.array([[1, 2, 3], [4, 5, 6], [7, 8, 9]])\n",
    "b = np.array([[1, 2, 3], [4, 5, 6], [7, 8, 8]])\n",
    "\n",
    "print(np.dot(a, b))\n",
    "print()\n",
    "\n",
    "c = b[:, 0]\n",
    "d = b[:, 1]\n",
    "e = b[:, 2]\n",
    "\n",
    "c = c[:, np.newaxis]\n",
    "d = d[:, np.newaxis]\n",
    "e = e[:, np.newaxis]\n",
    "\n",
    "print(c)\n",
    "print()\n",
    "\n",
    "f = a @ c\n",
    "g = a @ d\n",
    "h = a @ e\n",
    "\n",
    "print(f)\n",
    "print()\n",
    "\n",
    "i = np.concatenate([f, g, h], axis=1)\n",
    "print(i)\n",
    "print()\n",
    "\n",
    "print(np.matmul(a, b))\n",
    "print()\n",
    "\n",
    "try:\n",
    "    np.matmul(a, 2)\n",
    "except Exception as e:\n",
    "    print(e)\n",
    "    \n",
    "print()\n",
    "print(np.dot(a,2))"
   ]
  },
  {
   "cell_type": "code",
   "execution_count": 36,
   "metadata": {},
   "outputs": [
    {
     "name": "stdout",
     "output_type": "stream",
     "text": [
      "109\n",
      "\n",
      "109\n",
      "\n",
      "(133+10j)\n",
      "(133-10j)\n"
     ]
    }
   ],
   "source": [
    "# 행렬의 수직으로 닷연산을 하기\n",
    "x = np.array([[3, 4], [5, 6]])\n",
    "y = np.array([[2, 5], [7, 8]])\n",
    "print(np.vdot(x, y))\n",
    "print()\n",
    "\n",
    "v1 = x[0, 0] * y[0, 0]\n",
    "v2 = x[0, 1] * y[0, 1]\n",
    "v3 = x[1, 0] * y[1, 0]\n",
    "v4 = x[1, 1] * y[1, 1]\n",
    "print(v1 + v2 + v3 + v4)\n",
    "print()\n",
    "\n",
    "a1 = np.array([[3+2j, 4+2j], [5+2j, 6+2j]])\n",
    "a2 = np.array([[2+3j, 5+3j], [7+3j, 8+3j]])\n",
    "print(np.vdot(a1, a2))\n",
    "print(np.vdot(a2, a1))"
   ]
  },
  {
   "cell_type": "markdown",
   "metadata": {},
   "source": [
    "- 행렬의 연산\n",
    "    - 행렬 연산: inner/outer/cross"
   ]
  },
  {
   "cell_type": "code",
   "execution_count": 37,
   "metadata": {},
   "outputs": [
    {
     "name": "stdout",
     "output_type": "stream",
     "text": [
      "[[3 4]\n",
      " [5 6]]\n",
      "\n",
      "[[5 6]\n",
      " [6 7]]\n",
      "\n",
      "[39 61]\n",
      "\n",
      "[[39]\n",
      " [61]]\n",
      "\n",
      "[46 72]\n",
      "\n",
      "[[46]\n",
      " [72]]\n",
      "\n",
      "[[39 46]\n",
      " [61 72]]\n",
      "\n",
      "[[39 46]\n",
      " [61 72]]\n"
     ]
    }
   ],
   "source": [
    "# 행렬의 inner 연산\n",
    "a = np.array([[3, 4], [5, 6]])\n",
    "print(a)\n",
    "print()\n",
    "\n",
    "b = np.array([[5, 6], [6, 7]])\n",
    "print(b)\n",
    "print()\n",
    "\n",
    "print(np.dot(a, b[0]))\n",
    "print()\n",
    "\n",
    "print(np.dot(a, b[0].reshape(2,1)))\n",
    "print()\n",
    "\n",
    "print(np.dot(a, b[1]))\n",
    "print()\n",
    "\n",
    "print(np.dot(a, b[1].reshape(2, 1)))\n",
    "print()\n",
    "\n",
    "print(np.inner(a,b))\n",
    "print()\n",
    "\n",
    "print(np.dot(a,b))"
   ]
  },
  {
   "cell_type": "code",
   "execution_count": 38,
   "metadata": {},
   "outputs": [
    {
     "name": "stdout",
     "output_type": "stream",
     "text": [
      "[[ 3  2  3  4]\n",
      " [ 6  4  6  8]\n",
      " [ 9  6  9 12]\n",
      " [12  8 12 16]]\n",
      "\n",
      "[[ 3  2  3  4]\n",
      " [ 6  4  6  8]\n",
      " [ 9  6  9 12]\n",
      " [12  8 12 16]]\n"
     ]
    }
   ],
   "source": [
    "# 행렬의 outer 연산\n",
    "a = np.array([[1, 2], [3, 4]])\n",
    "b = np.array([[3, 2], [3, 4]])\n",
    "\n",
    "print(np.outer(a, b))\n",
    "print()\n",
    "\n",
    "c = np.outer(a, b[0])\n",
    "d = np.outer(a, b[1])\n",
    "print(np.concatenate([c, d], axis=1))"
   ]
  },
  {
   "cell_type": "code",
   "execution_count": 39,
   "metadata": {},
   "outputs": [
    {
     "name": "stdout",
     "output_type": "stream",
     "text": [
      "[ 7 -2]\n",
      "7\n",
      "-2\n",
      "\n",
      "[ 7 -2]\n"
     ]
    },
    {
     "name": "stderr",
     "output_type": "stream",
     "text": [
      "C:\\Users\\Public\\Documents\\ESTsoft\\CreatorTemp\\ipykernel_27364\\4279843495.py:5: DeprecationWarning: Arrays of 2-dimensional vectors are deprecated. Use arrays of 3-dimensional vectors instead. (deprecated in NumPy 2.0)\n",
      "  print(np.cross(x, y))\n",
      "C:\\Users\\Public\\Documents\\ESTsoft\\CreatorTemp\\ipykernel_27364\\4279843495.py:6: DeprecationWarning: Arrays of 2-dimensional vectors are deprecated. Use arrays of 3-dimensional vectors instead. (deprecated in NumPy 2.0)\n",
      "  print(np.cross(x[0], y[0]))\n",
      "C:\\Users\\Public\\Documents\\ESTsoft\\CreatorTemp\\ipykernel_27364\\4279843495.py:7: DeprecationWarning: Arrays of 2-dimensional vectors are deprecated. Use arrays of 3-dimensional vectors instead. (deprecated in NumPy 2.0)\n",
      "  print(np.cross(x[1], y[1]))\n",
      "C:\\Users\\Public\\Documents\\ESTsoft\\CreatorTemp\\ipykernel_27364\\4279843495.py:10: DeprecationWarning: Arrays of 2-dimensional vectors are deprecated. Use arrays of 3-dimensional vectors instead. (deprecated in NumPy 2.0)\n",
      "  z1 = np.cross(x[0], y[0]).reshape(1)\n",
      "C:\\Users\\Public\\Documents\\ESTsoft\\CreatorTemp\\ipykernel_27364\\4279843495.py:11: DeprecationWarning: Arrays of 2-dimensional vectors are deprecated. Use arrays of 3-dimensional vectors instead. (deprecated in NumPy 2.0)\n",
      "  z2 = np.cross(x[1], y[1]).reshape(1)\n"
     ]
    }
   ],
   "source": [
    "# 행렬의 cross 연산\n",
    "x = np.array([[3, 4], [5, 6]])\n",
    "y = np.array([[2, 5], [7, 8]])\n",
    "\n",
    "print(np.cross(x, y))\n",
    "print(np.cross(x[0], y[0]))\n",
    "print(np.cross(x[1], y[1]))\n",
    "print()\n",
    "\n",
    "z1 = np.cross(x[0], y[0]).reshape(1)\n",
    "z2 = np.cross(x[1], y[1]).reshape(1)\n",
    "print(np.concatenate([z1, z2]))"
   ]
  },
  {
   "cell_type": "markdown",
   "metadata": {},
   "source": [
    "- 행렬식, 역행렬 처리하기\n",
    "    - 행렬식(determinant)"
   ]
  },
  {
   "cell_type": "code",
   "execution_count": 40,
   "metadata": {},
   "outputs": [
    {
     "name": "stdout",
     "output_type": "stream",
     "text": [
      "4.000000000000001\n",
      "True\n"
     ]
    }
   ],
   "source": [
    "# 행렬식 구하기\n",
    "a = np.array([[3, 1], [2, 2]])\n",
    "print(np.linalg.det(a))\n",
    "print(np.allclose(4.0, np.linalg.det(a)))"
   ]
  },
  {
   "cell_type": "code",
   "execution_count": 41,
   "metadata": {},
   "outputs": [
    {
     "name": "stdout",
     "output_type": "stream",
     "text": [
      "[[3 1 3]\n",
      " [2 2 3]\n",
      " [1 1 1]]\n",
      "\n",
      "-3.0\n",
      "-1.0\n",
      "0.0\n",
      "-2.0\n",
      "-2\n"
     ]
    }
   ],
   "source": [
    "# 소행렬식 구하기\n",
    "b = np.array([[3, 1, 3], [2, 2, 3], [1, 1, 1]])\n",
    "print(b)\n",
    "print()\n",
    "\n",
    "print(3 * np.linalg.det(b[1:, 1:]))\n",
    "print(np.linalg.det(b[1:, ::2]))\n",
    "print(3 * np.linalg.det(b[1:, :2]))\n",
    "print(np.linalg.det(b))\n",
    "print(-3+1+0)"
   ]
  },
  {
   "cell_type": "markdown",
   "metadata": {},
   "source": [
    "- 행렬식, 역행렬 처리하기\n",
    "    - 역행렬(Inverse Matrix)"
   ]
  },
  {
   "cell_type": "code",
   "execution_count": 42,
   "metadata": {},
   "outputs": [
    {
     "name": "stdout",
     "output_type": "stream",
     "text": [
      "0.0\n",
      "\n",
      "-9.000000000000002\n",
      "\n",
      "True\n"
     ]
    }
   ],
   "source": [
    "# 역행렬 구하기\n",
    "a = np.array([[3, 2], [6, 4]])\n",
    "print(np.linalg.det(a))\n",
    "print()\n",
    "\n",
    "b = np.array([[1, 2, 3], [4, 5, 6], [3, 2, 4]])\n",
    "print(np.linalg.det(b))\n",
    "print()\n",
    "\n",
    "bi = np.linalg.inv(b)\n",
    "bb = np.dot(b, bi)\n",
    "print(np.allclose(np.eye(3), bb))"
   ]
  },
  {
   "cell_type": "code",
   "execution_count": 43,
   "metadata": {},
   "outputs": [
    {
     "name": "stdout",
     "output_type": "stream",
     "text": [
      "[[1 2]\n",
      " [3 4]]\n",
      "\n",
      "[[1 2]\n",
      " [3 4]]\n",
      "\n",
      "[[1.00000000e+00 1.11022302e-16]\n",
      " [0.00000000e+00 1.00000000e+00]]\n",
      "\n",
      "True\n",
      "\n",
      "[[1.0000000e+00 4.4408921e-16]\n",
      " [0.0000000e+00 1.0000000e+00]]\n",
      "\n",
      "True\n",
      "\n",
      "True\n"
     ]
    }
   ],
   "source": [
    "# 역행렬의 교환법칙\n",
    "a = np.array([[1, 2], [3, 4]])\n",
    "print(a)\n",
    "print()\n",
    "\n",
    "ai = np.linalg.inv(a)\n",
    "print(a)\n",
    "print()\n",
    "\n",
    "x = np.dot(a, ai)\n",
    "print(x)\n",
    "print()\n",
    "\n",
    "print(np.allclose(np.eye(2), x))\n",
    "print()\n",
    "\n",
    "y = np.dot(ai, a)\n",
    "print(y)\n",
    "print()\n",
    "\n",
    "print(np.allclose(np.eye(2), y))\n",
    "print()\n",
    "\n",
    "print(np.allclose(x, y))"
   ]
  },
  {
   "cell_type": "markdown",
   "metadata": {},
   "source": [
    "- 행렬식, 역행렬 처리하기\n",
    "    - 역행렬에 대한 분배 처리"
   ]
  },
  {
   "cell_type": "code",
   "execution_count": 46,
   "metadata": {},
   "outputs": [
    {
     "name": "stdout",
     "output_type": "stream",
     "text": [
      "-2.0000000000000004\n",
      "\n",
      "2.0000000000000004\n",
      "\n",
      "True\n"
     ]
    }
   ],
   "source": [
    "# 역행렬기호 분배하기\n",
    "a = np.array([[1, 2], [3, 4]])\n",
    "print(np.linalg.det(a))\n",
    "print()\n",
    "\n",
    "b = np.array([[3, 4], [1, 2]])\n",
    "print(np.linalg.det(b))\n",
    "print()\n",
    "\n",
    "ai = np.linalg.inv(a)\n",
    "bi = np.linalg.inv(b)\n",
    "\n",
    "ab = np.linalg.inv(np.dot(a, b))\n",
    "ba = np.dot(bi, ai)\n",
    "print(np.allclose(ab, ba))"
   ]
  },
  {
   "cell_type": "code",
   "execution_count": 47,
   "metadata": {},
   "outputs": [
    {
     "name": "stdout",
     "output_type": "stream",
     "text": [
      "[[1 2]\n",
      " [3 4]]\n",
      "\n",
      "[[3 4]\n",
      " [1 2]]\n",
      "\n",
      "[[ 1.  -2. ]\n",
      " [-0.5  1.5]]\n",
      "\n",
      "[[-2.   1. ]\n",
      " [ 1.5 -0.5]]\n",
      "\n",
      "[[1. 0.]\n",
      " [0. 1.]]\n"
     ]
    }
   ],
   "source": [
    "# 두 행렬 처리 알아보기\n",
    "print(a)\n",
    "print()\n",
    "\n",
    "print(b)\n",
    "print()\n",
    "\n",
    "c = np.dot(a, b)\n",
    "\n",
    "print(bi)\n",
    "print()\n",
    "print(ai)\n",
    "print()\n",
    "\n",
    "d = np.dot(bi, ai)\n",
    "e = np.dot(c, d)\n",
    "print(e)"
   ]
  },
  {
   "cell_type": "markdown",
   "metadata": {},
   "source": [
    "- 행렬식, 역행렬 처리하기\n",
    "    - 수반행렬(Adjoint, Adjugated Matrix)"
   ]
  },
  {
   "cell_type": "code",
   "execution_count": 48,
   "metadata": {},
   "outputs": [
    {
     "name": "stdout",
     "output_type": "stream",
     "text": [
      "[[1 2 3]\n",
      " [4 5 6]\n",
      " [7 8 9]]\n",
      "\n",
      "[0, 1, 2, 3, 4, 5, 6, 7, 8, 9]\n",
      "\n",
      "[[1]\n",
      " [2]]\n",
      "\n",
      "[1 2]\n",
      "\n",
      "[[5 6]\n",
      " [8 9]]\n",
      "\n",
      "-2.9999999999999996\n"
     ]
    }
   ],
   "source": [
    "# 소행렬식\n",
    "ma = np.arange(1, 10).reshape(3, 3)\n",
    "print(ma)\n",
    "print()\n",
    "\n",
    "print(list(range(10)))\n",
    "print()\n",
    "\n",
    "a = np.array(list(range(0)) + list(range(1, 3)))[:, np.newaxis]\n",
    "print(a)\n",
    "print()\n",
    "\n",
    "b = np.array(list(range(0)) + list(range(1, 3)))\n",
    "print(b)\n",
    "print()\n",
    "\n",
    "ja = ma[a, b]\n",
    "print(ja)\n",
    "print()\n",
    "\n",
    "print(np.linalg.det(ja))"
   ]
  },
  {
   "cell_type": "code",
   "execution_count": 49,
   "metadata": {},
   "outputs": [
    {
     "name": "stdout",
     "output_type": "stream",
     "text": [
      "-2.9999999999999996\n"
     ]
    }
   ],
   "source": [
    "# 여인수 알아보기: 역행렬을 구하기위해서 계산\n",
    "cofactor = (-1)**(0+0) * np.linalg.det(ja)\n",
    "print(cofactor)"
   ]
  },
  {
   "cell_type": "markdown",
   "metadata": {},
   "source": [
    "- 행렬식, 역행렬 처리하기\n",
    "    - 의사 역행렬"
   ]
  },
  {
   "cell_type": "code",
   "execution_count": 50,
   "metadata": {},
   "outputs": [
    {
     "name": "stdout",
     "output_type": "stream",
     "text": [
      "0.0\n",
      "\n",
      "[[0.11111111 0.11111111 0.11111111]\n",
      " [0.11111111 0.11111111 0.11111111]\n",
      " [0.11111111 0.11111111 0.11111111]]\n",
      "\n",
      "Singular matrix\n"
     ]
    }
   ],
   "source": [
    "# 의사 역행렬\n",
    "a = np.ones((3, 3))\n",
    "\n",
    "print(np.linalg.det(a))\n",
    "print()\n",
    "\n",
    "print(np.linalg.pinv(a))\n",
    "print()\n",
    "\n",
    "try:\n",
    "    np.linalg.inv(a)\n",
    "except Exception as e:\n",
    "    print(e)"
   ]
  },
  {
   "cell_type": "markdown",
   "metadata": {},
   "source": [
    "- Tensordot 연산 확인하기\n",
    "    - 벡터와 행렬연산을 tesordot 연산 확인하기"
   ]
  },
  {
   "cell_type": "code",
   "execution_count": 51,
   "metadata": {},
   "outputs": [
    {
     "name": "stdout",
     "output_type": "stream",
     "text": [
      "[[1 6]\n",
      " [3 1]]\n",
      "\n",
      "[[8 8]\n",
      " [2 4]]\n",
      "\n",
      "[[20 32]\n",
      " [26 28]]\n",
      "\n",
      "[[20 32]\n",
      " [26 28]]\n",
      "\n",
      "[[56 26]\n",
      " [32 10]]\n",
      "\n",
      "[[56 26]\n",
      " [32 10]]\n"
     ]
    }
   ],
   "source": [
    "# 닷 연산 확인하기\n",
    "x = np.random.randint(1, 10, (2, 2))\n",
    "print(x)\n",
    "print()\n",
    "\n",
    "y = np.random.randint(1, 10, (2, 2))\n",
    "print(y)\n",
    "print()\n",
    "\n",
    "print(np.dot(x, y))\n",
    "print()\n",
    "\n",
    "print(np.tensordot(x, y, axes=1))\n",
    "print()\n",
    "\n",
    "print(np.inner(x, y))\n",
    "print()\n",
    "\n",
    "print(np.tensordot(x, y, axes=(-1, -1)))"
   ]
  },
  {
   "cell_type": "markdown",
   "metadata": {},
   "source": [
    "- Tensordot 연산 확인하기\n",
    "    - 확장하는 텐서곱 연산"
   ]
  },
  {
   "cell_type": "code",
   "execution_count": 53,
   "metadata": {},
   "outputs": [
    {
     "name": "stdout",
     "output_type": "stream",
     "text": [
      "[[5 4]\n",
      " [7 8]]\n",
      "\n",
      "[[4 2]\n",
      " [9 3]]\n",
      "\n",
      "(2, 2, 2, 2)\n",
      "\n",
      "[[[[20 10]\n",
      "   [45 15]]\n",
      "\n",
      "  [[16  8]\n",
      "   [36 12]]]\n",
      "\n",
      "\n",
      " [[[28 14]\n",
      "   [63 21]]\n",
      "\n",
      "  [[32 16]\n",
      "   [72 24]]]]\n"
     ]
    }
   ],
   "source": [
    "# 텐서 프로덕트\n",
    "x = np.random.randint(1, 10, (2, 2))\n",
    "\n",
    "print(x)\n",
    "print()\n",
    "\n",
    "y = np.random.randint(1, 10, (2, 2))\n",
    "print(y)\n",
    "print()\n",
    "\n",
    "a = np.tensordot(x, y, axes=0)\n",
    "print(a.shape)\n",
    "print()\n",
    "print(a)"
   ]
  },
  {
   "cell_type": "markdown",
   "metadata": {},
   "source": [
    "- Tensordot 연산 확인하기\n",
    "    - 축소하는 텐서곱 연산(tensor double contraction)"
   ]
  },
  {
   "cell_type": "code",
   "execution_count": 54,
   "metadata": {},
   "outputs": [
    {
     "name": "stdout",
     "output_type": "stream",
     "text": [
      "[[9 2]\n",
      " [5 3]]\n",
      "\n",
      "[[9 4]\n",
      " [7 5]]\n",
      "\n",
      "()\n",
      "139\n"
     ]
    }
   ],
   "source": [
    "# 텐서 더블 컨트랙트\n",
    "x = np.random.randint(1, 10, (2, 2))\n",
    "print(x)\n",
    "print()\n",
    "\n",
    "y = np.random.randint(1, 10, (2, 2))\n",
    "print(y)\n",
    "print()\n",
    "\n",
    "a = np.tensordot(x, y, axes=2)\n",
    "print(a.shape)\n",
    "print(a)"
   ]
  },
  {
   "cell_type": "code",
   "execution_count": 55,
   "metadata": {},
   "outputs": [
    {
     "name": "stdout",
     "output_type": "stream",
     "text": [
      "[[[7 7]\n",
      "  [4 2]]\n",
      "\n",
      " [[1 6]\n",
      "  [5 5]]]\n",
      "\n",
      "[[[5 7]\n",
      "  [1 4]]\n",
      "\n",
      " [[3 7]\n",
      "  [5 6]]]\n",
      "\n",
      "[[ 64 117]\n",
      " [ 51  96]]\n",
      "\n",
      "[[ 64 117]\n",
      " [ 51  96]]\n"
     ]
    }
   ],
   "source": [
    "c = np.random.randint(1, 10, (2, 2, 2))\n",
    "print(c)\n",
    "print()\n",
    "\n",
    "d = np.random.randint(1, 10, (2, 2, 2))\n",
    "print(d)\n",
    "print()\n",
    "\n",
    "print(np.dot(c.reshape(2, 4), d.reshape(4, 2)))\n",
    "print()\n",
    "\n",
    "b = np.tensordot(c, d, axes=2)\n",
    "print(b)"
   ]
  },
  {
   "cell_type": "markdown",
   "metadata": {},
   "source": [
    "- Tensordot 연산 확인하기\n",
    "    - kron 연산 처리하기"
   ]
  },
  {
   "cell_type": "code",
   "execution_count": 57,
   "metadata": {},
   "outputs": [
    {
     "name": "stdout",
     "output_type": "stream",
     "text": [
      "[10 20 30 20 40 60 30 60 90]\n",
      "\n",
      "[1 1 1 2 2 2 3 3 3]\n",
      "\n",
      "[10 20 30 10 20 30 10 20 30]\n",
      "[10 20 30 20 40 60 30 60 90]\n",
      "\n",
      "[[10 20 30]\n",
      " [20 40 60]\n",
      " [30 60 90]]\n"
     ]
    }
   ],
   "source": [
    "# kron 함수 처리하기\n",
    "ll = np.arange(1, 4)\n",
    "ls = np.array([10, 20, 30])\n",
    "\n",
    "print(np.kron(ll, ls))\n",
    "print()\n",
    "\n",
    "ll_ = np.repeat(ll, 3)\n",
    "print(ll_)\n",
    "print()\n",
    "\n",
    "ls_ = np.tile(ls, 3)\n",
    "print(ls_)\n",
    "print(ll_ * ls_)\n",
    "print()\n",
    "print(np.outer(ll, ls))"
   ]
  },
  {
   "cell_type": "code",
   "execution_count": 58,
   "metadata": {},
   "outputs": [
    {
     "name": "stdout",
     "output_type": "stream",
     "text": [
      "[[1 2]\n",
      " [3 4]]\n",
      "\n",
      "[[1. 0.]\n",
      " [0. 1.]]\n",
      "\n",
      "[[1. 0. 2. 0.]\n",
      " [0. 1. 0. 2.]\n",
      " [3. 0. 4. 0.]\n",
      " [0. 3. 0. 4.]]\n",
      "\n",
      "[[1 2]\n",
      " [1 2]\n",
      " [3 4]\n",
      " [3 4]]\n",
      "\n",
      "[[1 1 2 2]\n",
      " [1 1 2 2]\n",
      " [3 3 4 4]\n",
      " [3 3 4 4]]\n",
      "\n",
      "[[1. 0. 1. 0.]\n",
      " [0. 1. 0. 1.]\n",
      " [1. 0. 1. 0.]\n",
      " [0. 1. 0. 1.]]\n",
      "\n"
     ]
    }
   ],
   "source": [
    "x = np.array([1, 2, 3, 4]).reshape(2, 2)\n",
    "print(x)\n",
    "print()\n",
    "\n",
    "y = np.eye(2)\n",
    "print(y)\n",
    "print()\n",
    "\n",
    "print(np.kron(x, y))\n",
    "print()\n",
    "\n",
    "x_ = np.repeat(x, 2, axis=0)\n",
    "print(x_)\n",
    "print()\n",
    "\n",
    "x_ = np.repeat(x_, 2, axis=1)\n",
    "print(x_)\n",
    "print()\n",
    "\n",
    "y_ = np.tile(y, (2, 2))\n",
    "print(y_)\n",
    "print()"
   ]
  },
  {
   "cell_type": "code",
   "execution_count": 59,
   "metadata": {},
   "outputs": [
    {
     "name": "stdout",
     "output_type": "stream",
     "text": [
      "[[1. 0. 2. 0.]\n",
      " [0. 1. 0. 2.]\n",
      " [3. 0. 4. 0.]\n",
      " [0. 3. 0. 4.]]\n",
      "\n",
      "[[1]\n",
      " [2]\n",
      " [3]\n",
      " [4]]\n",
      "\n",
      "[[1. 0. 0. 1.]]\n",
      "\n",
      "[[1. 0. 0. 1.]\n",
      " [2. 0. 0. 2.]\n",
      " [3. 0. 0. 3.]\n",
      " [4. 0. 0. 4.]]\n",
      "\n",
      "[[1. 0. 0. 1.]\n",
      " [2. 0. 0. 2.]\n",
      " [3. 0. 0. 3.]\n",
      " [4. 0. 0. 4.]]\n"
     ]
    }
   ],
   "source": [
    "print(np.multiply(x_, y_))\n",
    "print()\n",
    "\n",
    "print(x.reshape(4, 1))\n",
    "print()\n",
    "print(y.reshape(1, 4))\n",
    "print()\n",
    "print(np.outer(x, y))\n",
    "print()\n",
    "print(np.dot(x.reshape(4, 1), y.reshape(1, 4)))"
   ]
  },
  {
   "cell_type": "markdown",
   "metadata": {},
   "source": [
    "- einsum 연산 확인하기\n",
    "    - 하나의 배열을 변경하기"
   ]
  },
  {
   "cell_type": "code",
   "execution_count": 60,
   "metadata": {},
   "outputs": [
    {
     "name": "stdout",
     "output_type": "stream",
     "text": [
      "[[1 2 3]\n",
      " [4 5 6]]\n",
      "\n",
      "[[1 4]\n",
      " [2 5]\n",
      " [3 6]]\n",
      "\n",
      "[[1 4]\n",
      " [2 5]\n",
      " [3 6]]\n",
      "\n"
     ]
    }
   ],
   "source": [
    "# 하나 배열의 연산 처리하기\n",
    "A = np.array([[1, 2, 3], [4, 5, 6]])\n",
    "print(A)\n",
    "print()\n",
    "print(A.T)\n",
    "print()\n",
    "print(np.einsum(\"ij->ji\", A))\n",
    "print()"
   ]
  },
  {
   "cell_type": "code",
   "execution_count": 61,
   "metadata": {},
   "outputs": [
    {
     "name": "stdout",
     "output_type": "stream",
     "text": [
      "45\n",
      "\n",
      "45\n"
     ]
    }
   ],
   "source": [
    "AA = np.arange(10)\n",
    "print(np.einsum('i->', AA))\n",
    "print()\n",
    "print(np.sum(AA))"
   ]
  },
  {
   "cell_type": "code",
   "execution_count": 62,
   "metadata": {},
   "outputs": [
    {
     "name": "stdout",
     "output_type": "stream",
     "text": [
      "32\n",
      "32\n"
     ]
    }
   ],
   "source": [
    "A__ = np.array([[1, 1, 1], [3, 2, 4], [7, 5, 8]])\n",
    "print(np.einsum(\"ij->\", A__))\n",
    "print(np.sum(A__))"
   ]
  },
  {
   "cell_type": "code",
   "execution_count": 63,
   "metadata": {},
   "outputs": [
    {
     "name": "stdout",
     "output_type": "stream",
     "text": [
      "[ 3  9 20]\n",
      "\n",
      "[ 3  9 20]\n",
      "\n",
      "[11  8 13]\n",
      "\n",
      "[11  8 13]\n"
     ]
    }
   ],
   "source": [
    "print(np.einsum(\"ij->i\", A__))\n",
    "print()\n",
    "print(np.sum(A__, axis=1))\n",
    "print()\n",
    "\n",
    "print(np.einsum(\"ij->j\", A__))\n",
    "print()\n",
    "print(np.sum(A__, axis=0))"
   ]
  },
  {
   "cell_type": "code",
   "execution_count": 64,
   "metadata": {},
   "outputs": [
    {
     "name": "stdout",
     "output_type": "stream",
     "text": [
      "11\n",
      "11\n",
      "11\n"
     ]
    }
   ],
   "source": [
    "print(np.einsum(\"ii\", A__))\n",
    "print(np.einsum(\"ii->\", A__))\n",
    "print(np.trace(A__))"
   ]
  },
  {
   "cell_type": "code",
   "execution_count": 65,
   "metadata": {},
   "outputs": [
    {
     "name": "stdout",
     "output_type": "stream",
     "text": [
      "[1 2 8]\n",
      "[1 2 8]\n"
     ]
    }
   ],
   "source": [
    "print(np.einsum(\"ii->i\", A__))\n",
    "print(np.diag(A__))"
   ]
  },
  {
   "cell_type": "markdown",
   "metadata": {},
   "source": [
    "- einsum 연산 확인하기\n",
    "    - 두 개의 1차원 배열 연산을 알아보기"
   ]
  },
  {
   "cell_type": "code",
   "execution_count": 66,
   "metadata": {},
   "outputs": [
    {
     "name": "stdout",
     "output_type": "stream",
     "text": [
      "[  0   6  14  24  36  50  66  84 104 126]\n",
      "510\n",
      "510\n",
      "4275\n"
     ]
    }
   ],
   "source": [
    "# 두 개 1차원 배열의 연산 처리하기\n",
    "C = np.arange(10)\n",
    "D = np.arange(5, 15)\n",
    "\n",
    "print(np.einsum('i,i->i', C, D))\n",
    "print(np.einsum('i,i->', C, D))\n",
    "print(np.dot(C, D))\n",
    "print(np.einsum('i,j->', C, D))"
   ]
  },
  {
   "cell_type": "code",
   "execution_count": 68,
   "metadata": {},
   "outputs": [
    {
     "name": "stdout",
     "output_type": "stream",
     "text": [
      "[[0 0 0 0 0 0 0 0 0 0]\n",
      " [1 1 1 1 1 1 1 1 1 1]\n",
      " [2 2 2 2 2 2 2 2 2 2]\n",
      " [3 3 3 3 3 3 3 3 3 3]\n",
      " [4 4 4 4 4 4 4 4 4 4]\n",
      " [5 5 5 5 5 5 5 5 5 5]\n",
      " [6 6 6 6 6 6 6 6 6 6]\n",
      " [7 7 7 7 7 7 7 7 7 7]\n",
      " [8 8 8 8 8 8 8 8 8 8]\n",
      " [9 9 9 9 9 9 9 9 9 9]]\n",
      "\n",
      "[  0  95 190 285 380 475 570 665 760 855]\n",
      "\n",
      "[225 270 315 360 405 450 495 540 585 630]\n",
      "\n",
      "[[ 5  6  7  8  9 10 11 12 13 14]\n",
      " [ 5  6  7  8  9 10 11 12 13 14]\n",
      " [ 5  6  7  8  9 10 11 12 13 14]\n",
      " [ 5  6  7  8  9 10 11 12 13 14]\n",
      " [ 5  6  7  8  9 10 11 12 13 14]\n",
      " [ 5  6  7  8  9 10 11 12 13 14]\n",
      " [ 5  6  7  8  9 10 11 12 13 14]\n",
      " [ 5  6  7  8  9 10 11 12 13 14]\n",
      " [ 5  6  7  8  9 10 11 12 13 14]\n",
      " [ 5  6  7  8  9 10 11 12 13 14]]\n",
      "\n",
      "[225 270 315 360 405 450 495 540 585 630]\n"
     ]
    }
   ],
   "source": [
    "print(C.reshape(10, 1).repeat(10, axis=1))\n",
    "print()\n",
    "\n",
    "print(np.dot(C.reshape(10,1).repeat(10, axis=1), D.reshape(10,1)).T[0])\n",
    "print()\n",
    "\n",
    "print(np.einsum('i,j->j', C, D))\n",
    "print()\n",
    "\n",
    "print(D.reshape(1, 10).repeat(10, axis=0))\n",
    "print()\n",
    "print(np.dot(C.reshape(1, 10), D.reshape(1, 10).repeat(10, axis=0))[0])"
   ]
  },
  {
   "cell_type": "code",
   "execution_count": 70,
   "metadata": {},
   "outputs": [
    {
     "name": "stdout",
     "output_type": "stream",
     "text": [
      "[[  0   0   0   0   0   0   0   0   0   0]\n",
      " [  5   6   7   8   9  10  11  12  13  14]\n",
      " [ 10  12  14  16  18  20  22  24  26  28]\n",
      " [ 15  18  21  24  27  30  33  36  39  42]\n",
      " [ 20  24  28  32  36  40  44  48  52  56]\n",
      " [ 25  30  35  40  45  50  55  60  65  70]\n",
      " [ 30  36  42  48  54  60  66  72  78  84]\n",
      " [ 35  42  49  56  63  70  77  84  91  98]\n",
      " [ 40  48  56  64  72  80  88  96 104 112]\n",
      " [ 45  54  63  72  81  90  99 108 117 126]]\n",
      "\n",
      "[[  0   0   0   0   0   0   0   0   0   0]\n",
      " [  5   6   7   8   9  10  11  12  13  14]\n",
      " [ 10  12  14  16  18  20  22  24  26  28]\n",
      " [ 15  18  21  24  27  30  33  36  39  42]\n",
      " [ 20  24  28  32  36  40  44  48  52  56]\n",
      " [ 25  30  35  40  45  50  55  60  65  70]\n",
      " [ 30  36  42  48  54  60  66  72  78  84]\n",
      " [ 35  42  49  56  63  70  77  84  91  98]\n",
      " [ 40  48  56  64  72  80  88  96 104 112]\n",
      " [ 45  54  63  72  81  90  99 108 117 126]]\n",
      "\n",
      "[[  0   0   0   0   0   0   0   0   0   0]\n",
      " [  5   6   7   8   9  10  11  12  13  14]\n",
      " [ 10  12  14  16  18  20  22  24  26  28]\n",
      " [ 15  18  21  24  27  30  33  36  39  42]\n",
      " [ 20  24  28  32  36  40  44  48  52  56]\n",
      " [ 25  30  35  40  45  50  55  60  65  70]\n",
      " [ 30  36  42  48  54  60  66  72  78  84]\n",
      " [ 35  42  49  56  63  70  77  84  91  98]\n",
      " [ 40  48  56  64  72  80  88  96 104 112]\n",
      " [ 45  54  63  72  81  90  99 108 117 126]]\n",
      "\n",
      "[[  0   5  10  15  20  25  30  35  40  45]\n",
      " [  0   6  12  18  24  30  36  42  48  54]\n",
      " [  0   7  14  21  28  35  42  49  56  63]\n",
      " [  0   8  16  24  32  40  48  56  64  72]\n",
      " [  0   9  18  27  36  45  54  63  72  81]\n",
      " [  0  10  20  30  40  50  60  70  80  90]\n",
      " [  0  11  22  33  44  55  66  77  88  99]\n",
      " [  0  12  24  36  48  60  72  84  96 108]\n",
      " [  0  13  26  39  52  65  78  91 104 117]\n",
      " [  0  14  28  42  56  70  84  98 112 126]]\n",
      "\n",
      "[[  0   5  10  15  20  25  30  35  40  45]\n",
      " [  0   6  12  18  24  30  36  42  48  54]\n",
      " [  0   7  14  21  28  35  42  49  56  63]\n",
      " [  0   8  16  24  32  40  48  56  64  72]\n",
      " [  0   9  18  27  36  45  54  63  72  81]\n",
      " [  0  10  20  30  40  50  60  70  80  90]\n",
      " [  0  11  22  33  44  55  66  77  88  99]\n",
      " [  0  12  24  36  48  60  72  84  96 108]\n",
      " [  0  13  26  39  52  65  78  91 104 117]\n",
      " [  0  14  28  42  56  70  84  98 112 126]]\n"
     ]
    }
   ],
   "source": [
    "print(np.einsum('i,j->ij', C, D))\n",
    "print()\n",
    "\n",
    "print(np.outer(C, D))\n",
    "print()\n",
    "\n",
    "print(np.dot(C.reshape(10,1), D.reshape(1, 10)))\n",
    "print()\n",
    "\n",
    "print(np.einsum('i,j->ji', C, D))\n",
    "print()\n",
    "\n",
    "print(np.outer(D.reshape(10, 1), C.reshape(1, 10)))"
   ]
  },
  {
   "cell_type": "markdown",
   "metadata": {},
   "source": [
    "- einsum 연산 확인하기\n",
    "    - 두 개의 2차원 배열 연산을 알아보기"
   ]
  },
  {
   "cell_type": "code",
   "execution_count": 72,
   "metadata": {},
   "outputs": [
    {
     "name": "stdout",
     "output_type": "stream",
     "text": [
      "[[  0   6  14  24  36]\n",
      " [ 50  66  84 104 126]]\n",
      "\n",
      "[[ 80 130]\n",
      " [255 430]]\n",
      "\n",
      "[[ 80 130]\n",
      " [255 430]]\n"
     ]
    }
   ],
   "source": [
    "# 두 개의 2차원 배열 연산 처리하기\n",
    "E = np.arange(10).reshape(2, 5)\n",
    "F = np.arange(5, 15).reshape(2, 5)\n",
    "\n",
    "print(np.einsum('ij,ij->ij', E, F))\n",
    "print()\n",
    "\n",
    "print(np.einsum('ij,jk->ik', E, F.T))\n",
    "print()\n",
    "\n",
    "print(np.dot(E, F.T))"
   ]
  },
  {
   "cell_type": "code",
   "execution_count": 74,
   "metadata": {},
   "outputs": [
    {
     "name": "stdout",
     "output_type": "stream",
     "text": [
      "98\n",
      "\n",
      "69\n",
      "\n",
      "98\n",
      "\n",
      "[[0]\n",
      " [1]\n",
      " [2]]\n"
     ]
    }
   ],
   "source": [
    "A_ = np.array([0, 1, 2])\n",
    "B_ = np.array([[0, 1, 2, 3], [4, 5, 6, 7], [8, 9, 10, 11]])\n",
    "\n",
    "print(np.einsum('i,ij->', A_, B_))\n",
    "print()\n",
    "\n",
    "print(np.sum(A_) + np.sum(B_))\n",
    "print()\n",
    "\n",
    "print((A_.reshape(3, 1) * B_).sum())\n",
    "print()\n",
    "\n",
    "print(A_[:, np.newaxis])"
   ]
  },
  {
   "cell_type": "code",
   "execution_count": 75,
   "metadata": {},
   "outputs": [
    {
     "name": "stdout",
     "output_type": "stream",
     "text": [
      "[[ 0  0  0  0]\n",
      " [ 4  5  6  7]\n",
      " [16 18 20 22]]\n",
      "\n",
      "98\n",
      "\n",
      "[ 0 22 76]\n",
      "\n",
      "98\n",
      "\n",
      "[20 23 26 29]\n",
      "\n",
      "[20 23 26 29]\n"
     ]
    }
   ],
   "source": [
    "print(A_[:, np.newaxis] * B_)\n",
    "print()\n",
    "\n",
    "print((A_[:, np.newaxis] * B_).sum())\n",
    "print()\n",
    "\n",
    "print(np.einsum('i,ij->i', A_, B_))\n",
    "print()\n",
    "\n",
    "print((A_[:, np.newaxis]*B_).sum())\n",
    "print()\n",
    "\n",
    "print(np.einsum('i,ij->j', A_, B_))\n",
    "print()\n",
    "\n",
    "print((A_[:, np.newaxis] * B_).sum(axis=0))"
   ]
  },
  {
   "cell_type": "code",
   "execution_count": 76,
   "metadata": {},
   "outputs": [
    {
     "name": "stdout",
     "output_type": "stream",
     "text": [
      "[[1 3]\n",
      " [2 4]]\n",
      "\n",
      "einstein sum subscripts string includes output subscript 'i' multiple times\n"
     ]
    }
   ],
   "source": [
    "x = np.array([1, 2, 3, 4]).reshape(2, 2)\n",
    "print(x.T)\n",
    "print()\n",
    "\n",
    "try:\n",
    "    np.einsum('ii,ii->ii', x, x)\n",
    "except Exception as e:\n",
    "    print(e)"
   ]
  },
  {
   "cell_type": "code",
   "execution_count": 77,
   "metadata": {},
   "outputs": [
    {
     "name": "stdout",
     "output_type": "stream",
     "text": [
      "[[ 1  4]\n",
      " [ 9 16]]\n",
      "\n",
      "[[ 1  4]\n",
      " [ 9 16]]\n",
      "\n",
      "[[ 1  4]\n",
      " [ 9 16]]\n",
      "\n",
      "[[ 1  6]\n",
      " [ 6 16]]\n",
      "\n",
      "[[ 5 11]\n",
      " [11 25]]\n",
      "\n",
      "[[ 5 11]\n",
      " [11 25]]\n",
      "\n"
     ]
    }
   ],
   "source": [
    "print(np.einsum('ij, ij->ij', x, x))\n",
    "print()\n",
    "\n",
    "print(x * x)\n",
    "print()\n",
    "\n",
    "print(np.einsum('ij, ij->ij', x, x))\n",
    "print()\n",
    "\n",
    "print(x * x.T)\n",
    "print()\n",
    "\n",
    "print(np.einsum('ij,jk->ik', x, x.T))\n",
    "print()\n",
    "\n",
    "print(np.dot(x, x.T))\n",
    "print()"
   ]
  },
  {
   "cell_type": "code",
   "execution_count": null,
   "metadata": {},
   "outputs": [],
   "source": []
  }
 ],
 "metadata": {
  "kernelspec": {
   "display_name": "kdt6",
   "language": "python",
   "name": "python3"
  },
  "language_info": {
   "codemirror_mode": {
    "name": "ipython",
    "version": 3
   },
   "file_extension": ".py",
   "mimetype": "text/x-python",
   "name": "python",
   "nbconvert_exporter": "python",
   "pygments_lexer": "ipython3",
   "version": "3.11.9"
  }
 },
 "nbformat": 4,
 "nbformat_minor": 2
}
