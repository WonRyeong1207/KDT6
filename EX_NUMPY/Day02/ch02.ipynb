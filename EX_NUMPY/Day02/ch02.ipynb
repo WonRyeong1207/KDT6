{
 "cells": [
  {
   "cell_type": "markdown",
   "metadata": {},
   "source": [
    "### 넘파이 Chapter 2\n",
    "- 스칼라와 벡터 알아보기\n",
    "- 행렬(Matrix) 알아보기\n",
    "- 행렬(Matrix) 종류 알아보기"
   ]
  },
  {
   "cell_type": "code",
   "execution_count": 1,
   "metadata": {},
   "outputs": [],
   "source": [
    "import numpy as np"
   ]
  },
  {
   "cell_type": "markdown",
   "metadata": {},
   "source": [
    "- 스칼라와 벡터 알아보기\n",
    "    - 스칼라(scalar) 이해하기"
   ]
  },
  {
   "cell_type": "code",
   "execution_count": 2,
   "metadata": {},
   "outputs": [
    {
     "name": "stdout",
     "output_type": "stream",
     "text": [
      "<class 'numpy.ndarray'>\n",
      "43\n",
      "0\n",
      "()\n",
      "int64\n",
      "True\n"
     ]
    }
   ],
   "source": [
    "# 스칼라 알아보기\n",
    "a = np.array(43)\n",
    "print(type(a))\n",
    "print(a)\n",
    "print(a.ndim)\n",
    "print(a.shape)\n",
    "print(a.dtype)\n",
    "print(a == 43)"
   ]
  },
  {
   "cell_type": "code",
   "execution_count": 3,
   "metadata": {},
   "outputs": [
    {
     "name": "stdout",
     "output_type": "stream",
     "text": [
      "'int' object has no attribute 'ndim'\n"
     ]
    }
   ],
   "source": [
    "i = int(43)\n",
    "try:\n",
    "    i.ndim\n",
    "except Exception as e:\n",
    "    print(e)"
   ]
  },
  {
   "cell_type": "markdown",
   "metadata": {},
   "source": [
    "- 스칼라와 벡터 알아보기\n",
    "    - 벡터(Vector) 이해하기"
   ]
  },
  {
   "cell_type": "code",
   "execution_count": 4,
   "metadata": {},
   "outputs": [
    {
     "name": "stdout",
     "output_type": "stream",
     "text": [
      "<class 'numpy.ndarray'>\n",
      "[43]\n"
     ]
    }
   ],
   "source": [
    "# 벡터 알아보기\n",
    "v = np.array([43])\n",
    "print(type(v))\n",
    "print(v)"
   ]
  },
  {
   "cell_type": "code",
   "execution_count": 5,
   "metadata": {},
   "outputs": [
    {
     "name": "stdout",
     "output_type": "stream",
     "text": [
      "1\n",
      "(1,)\n"
     ]
    }
   ],
   "source": [
    "print(v.ndim)\n",
    "print(v.shape)"
   ]
  },
  {
   "cell_type": "markdown",
   "metadata": {},
   "source": [
    "- 스칼라와 벡터 이해하기\n",
    "    - 1차원 배열 전용 생성 함수"
   ]
  },
  {
   "cell_type": "code",
   "execution_count": 7,
   "metadata": {},
   "outputs": [
    {
     "name": "stdout",
     "output_type": "stream",
     "text": [
      "[0 1 2 3 4 5 6 7 8 9]\n",
      "int64\n",
      "\n",
      "[10.5 11.  11.5 12.  12.5 13.  13.5 14.  14.5 15.  15.5 16.  16.5 17.\n",
      " 17.5 18.  18.5 19.  19.5 20. ]\n",
      "float64\n",
      "20\n"
     ]
    }
   ],
   "source": [
    "# arange 함수로 벡터 생성하기\n",
    "v = np.arange(10)\n",
    "print(v)\n",
    "print(v.dtype)\n",
    "print()\n",
    "v1 = np.arange(10.5, 20.5, 0.5)\n",
    "print(v1)\n",
    "print(v1.dtype)\n",
    "print(v1.size)"
   ]
  },
  {
   "cell_type": "code",
   "execution_count": 8,
   "metadata": {},
   "outputs": [
    {
     "name": "stdout",
     "output_type": "stream",
     "text": [
      "(6, 10)\n",
      "\n",
      "(3, 4, 5)\n"
     ]
    }
   ],
   "source": [
    "v3 = np.arange(60).reshape(6, 10)\n",
    "print(v3.shape)\n",
    "print()\n",
    "v4 = np.arange(60).reshape(3, 4, 5)\n",
    "print(v4.shape)"
   ]
  },
  {
   "cell_type": "code",
   "execution_count": 9,
   "metadata": {},
   "outputs": [
    {
     "name": "stdout",
     "output_type": "stream",
     "text": [
      "[ 1.  2.  3.  4.  5.  6.  7.  8.  9. 10.]\n",
      "float64\n"
     ]
    }
   ],
   "source": [
    "# linspace 함수로 벡터 생성하기\n",
    "la = np.linspace(1, 10, 10)\n",
    "print(la)\n",
    "print(la.dtype)"
   ]
  },
  {
   "cell_type": "code",
   "execution_count": 10,
   "metadata": {},
   "outputs": [
    {
     "name": "stdout",
     "output_type": "stream",
     "text": [
      "(array([1.        , 1.11111111, 1.22222222, 1.33333333, 1.44444444,\n",
      "       1.55555556, 1.66666667, 1.77777778, 1.88888889, 2.        ]), np.float64(0.1111111111111111))\n",
      "10\n"
     ]
    }
   ],
   "source": [
    "la2 = np.linspace(1, 2, 10, retstep=True)\n",
    "print(la2)\n",
    "print(la2[0].size)"
   ]
  },
  {
   "cell_type": "code",
   "execution_count": 11,
   "metadata": {},
   "outputs": [
    {
     "name": "stdout",
     "output_type": "stream",
     "text": [
      "(array([1. , 1.9, 2.8, 3.7, 4.6, 5.5, 6.4, 7.3, 8.2, 9.1]), np.float64(0.9))\n"
     ]
    }
   ],
   "source": [
    "la1 = np.linspace(1, 10, 10, endpoint=False, retstep=True)\n",
    "print(la1)"
   ]
  },
  {
   "cell_type": "code",
   "execution_count": 12,
   "metadata": {},
   "outputs": [
    {
     "name": "stdout",
     "output_type": "stream",
     "text": [
      "[  1.           4.64158883  21.5443469  100.        ]\n",
      "\n",
      "[0.         0.66666667 1.33333333 2.        ]\n"
     ]
    }
   ],
   "source": [
    "lo = m=np.logspace(0, 2, 4)\n",
    "print(lo)\n",
    "print()\n",
    "\n",
    "la2 = np.linspace(0, 2, 4)\n",
    "print(la2)"
   ]
  },
  {
   "cell_type": "code",
   "execution_count": 13,
   "metadata": {},
   "outputs": [
    {
     "name": "stdout",
     "output_type": "stream",
     "text": [
      "1.0\n",
      "4.641588833612778\n",
      "21.544346900318832\n",
      "100.0\n"
     ]
    }
   ],
   "source": [
    "for i in la2:\n",
    "    print(np.power(10, i))"
   ]
  },
  {
   "cell_type": "markdown",
   "metadata": {},
   "source": [
    "- 스칼라와 벡터 알아보기\n",
    "    - 벡터 크기 및 단위 벡터 구하기"
   ]
  },
  {
   "cell_type": "code",
   "execution_count": 14,
   "metadata": {},
   "outputs": [
    {
     "data": {
      "text/plain": [
       "array([3, 4])"
      ]
     },
     "execution_count": 14,
     "metadata": {},
     "output_type": "execute_result"
    }
   ],
   "source": [
    "# 벡터 크기 계산하기\n",
    "v = np.arange(3, 5)\n",
    "v"
   ]
  },
  {
   "cell_type": "code",
   "execution_count": 15,
   "metadata": {},
   "outputs": [
    {
     "data": {
      "text/plain": [
       "np.float64(5.0)"
      ]
     },
     "execution_count": 15,
     "metadata": {},
     "output_type": "execute_result"
    }
   ],
   "source": [
    "v_p = np.power(v, 2)\n",
    "v_r = np.sqrt(np.sum(v_p))\n",
    "v_r"
   ]
  },
  {
   "cell_type": "code",
   "execution_count": 16,
   "metadata": {},
   "outputs": [
    {
     "data": {
      "text/plain": [
       "np.float64(5.0)"
      ]
     },
     "execution_count": 16,
     "metadata": {},
     "output_type": "execute_result"
    }
   ],
   "source": [
    "np.hypot(v[0], v[1])"
   ]
  },
  {
   "cell_type": "code",
   "execution_count": 18,
   "metadata": {},
   "outputs": [
    {
     "data": {
      "text/plain": [
       "np.float64(5.0)"
      ]
     },
     "execution_count": 18,
     "metadata": {},
     "output_type": "execute_result"
    }
   ],
   "source": [
    "np.linalg.norm(v)   # 벡터의 크기? 고유값?"
   ]
  },
  {
   "cell_type": "code",
   "execution_count": 19,
   "metadata": {},
   "outputs": [
    {
     "name": "stdout",
     "output_type": "stream",
     "text": [
      "1.0\n",
      "\n",
      "1.0\n",
      "\n",
      "1.0\n"
     ]
    }
   ],
   "source": [
    "# 단위벡터 계산하기\n",
    "e1 = np.array([1, 0, 0])\n",
    "print(np.linalg.norm(e1))\n",
    "print()\n",
    "\n",
    "e2 = np.array([0, 1, 0])\n",
    "print(np.linalg.norm(e2))\n",
    "print()\n",
    "\n",
    "e3 = np.array([0, 0, 1])\n",
    "print(np.linalg.norm(e3))"
   ]
  },
  {
   "cell_type": "code",
   "execution_count": 20,
   "metadata": {},
   "outputs": [
    {
     "data": {
      "text/plain": [
       "np.float64(3.7416573867739413)"
      ]
     },
     "execution_count": 20,
     "metadata": {},
     "output_type": "execute_result"
    }
   ],
   "source": [
    "# 벡터의 표준화\n",
    "v_3 = np.array([1, 2, 3])\n",
    "v_3_n = np.linalg.norm(v_3)\n",
    "v_3_n"
   ]
  },
  {
   "cell_type": "code",
   "execution_count": 23,
   "metadata": {},
   "outputs": [
    {
     "name": "stdout",
     "output_type": "stream",
     "text": [
      "[0.26726124 0.53452248 0.80178373]\n",
      "1.0\n"
     ]
    }
   ],
   "source": [
    "v_3_u = v_3 / v_3_n\n",
    "print(v_3_u)\n",
    "print(np.linalg.norm(v_3_u))"
   ]
  },
  {
   "cell_type": "code",
   "execution_count": 24,
   "metadata": {},
   "outputs": [],
   "source": [
    "# 단위 벡터를 구하는 함수?\n",
    "def normal(v):\n",
    "    return v / np.sqrt(np.dot(v, v))"
   ]
  },
  {
   "cell_type": "code",
   "execution_count": 25,
   "metadata": {},
   "outputs": [
    {
     "name": "stdout",
     "output_type": "stream",
     "text": [
      "[0.18257419 0.36514837 0.54772256 0.73029674]\n",
      "0.9999999999999999\n",
      "1.0\n"
     ]
    }
   ],
   "source": [
    "v_4 = np.array([1, 2, 3, 4])\n",
    "v_4_u = normal(v_4)\n",
    "print(v_4_u)\n",
    "print(np.linalg.norm(v_4_u))\n",
    "print(np.round(np.linalg.norm(v_4_u), 10))"
   ]
  },
  {
   "cell_type": "markdown",
   "metadata": {},
   "source": [
    "- 스칼라와 벡터 알아보기\n",
    "    - 두 벡터 상등과 두 벡터간 거리 구하기"
   ]
  },
  {
   "cell_type": "code",
   "execution_count": 26,
   "metadata": {},
   "outputs": [
    {
     "data": {
      "text/plain": [
       "True"
      ]
     },
     "execution_count": 26,
     "metadata": {},
     "output_type": "execute_result"
    }
   ],
   "source": [
    "# 두 벡터가 동일하다\n",
    "a = np.arange(3, 5)\n",
    "b = np.arange(3, 5)\n",
    "np.array_equal(a, b)"
   ]
  },
  {
   "cell_type": "code",
   "execution_count": 27,
   "metadata": {},
   "outputs": [
    {
     "data": {
      "text/plain": [
       "np.True_"
      ]
     },
     "execution_count": 27,
     "metadata": {},
     "output_type": "execute_result"
    }
   ],
   "source": [
    "a_1 = np.linalg.norm(a)\n",
    "b_1 = np.linalg.norm(b)\n",
    "a_1 == b_1"
   ]
  },
  {
   "cell_type": "code",
   "execution_count": 28,
   "metadata": {},
   "outputs": [
    {
     "data": {
      "text/plain": [
       "np.False_"
      ]
     },
     "execution_count": 28,
     "metadata": {},
     "output_type": "execute_result"
    }
   ],
   "source": [
    "b_2 = -1 * np.linalg.norm(b)\n",
    "a_1 == b_2"
   ]
  },
  {
   "cell_type": "code",
   "execution_count": 29,
   "metadata": {},
   "outputs": [
    {
     "name": "stdout",
     "output_type": "stream",
     "text": [
      "17.320508075688775\n",
      "17.320508075688775\n"
     ]
    }
   ],
   "source": [
    "# 두 벡터의 거리 구하기\n",
    "c = np.arange(10, 13)\n",
    "d = np.arange(0, 3)\n",
    "print(np.sqrt(np.sum(np.square(c-d))))\n",
    "print(np.linalg.norm(c-d))"
   ]
  },
  {
   "cell_type": "markdown",
   "metadata": {},
   "source": [
    "- 행렬 알아보기\n",
    "    - 행렬(Matrix) 이해하기"
   ]
  },
  {
   "cell_type": "code",
   "execution_count": 30,
   "metadata": {},
   "outputs": [
    {
     "name": "stdout",
     "output_type": "stream",
     "text": [
      "<class 'numpy.ndarray'>\n",
      "[[43]\n",
      " [44]]\n"
     ]
    }
   ],
   "source": [
    "# 행렬 알아보기\n",
    "A = np.array([[43], [44]])\n",
    "print(type(A))\n",
    "print(A)"
   ]
  },
  {
   "cell_type": "code",
   "execution_count": 31,
   "metadata": {},
   "outputs": [
    {
     "name": "stdout",
     "output_type": "stream",
     "text": [
      "int64\n",
      "2\n",
      "(2, 1)\n"
     ]
    }
   ],
   "source": [
    "print(A.dtype)\n",
    "print(A.ndim)\n",
    "print(A.shape)"
   ]
  },
  {
   "cell_type": "code",
   "execution_count": 35,
   "metadata": {},
   "outputs": [
    {
     "name": "stdout",
     "output_type": "stream",
     "text": [
      "[[7 7 7 7]\n",
      " [7 7 7 7]\n",
      " [7 7 7 7]]\n",
      "int64\n"
     ]
    }
   ],
   "source": [
    "shape = (3, 4)\n",
    "dtype = np.int64\n",
    "B = np.full(shape, 7, dtype)\n",
    "print(B)\n",
    "print(B.dtype)"
   ]
  },
  {
   "cell_type": "markdown",
   "metadata": {},
   "source": [
    "- 행렬 알아보기\n",
    "    - 행렬의 랭크 이해하기"
   ]
  },
  {
   "cell_type": "code",
   "execution_count": 37,
   "metadata": {},
   "outputs": [
    {
     "data": {
      "text/plain": [
       "1"
      ]
     },
     "execution_count": 37,
     "metadata": {},
     "output_type": "execute_result"
    }
   ],
   "source": [
    "# 랭크 알아보기\n",
    "v1 = np.array([1, 2, 3, 4])\n",
    "np.linalg.matrix_rank(v1)"
   ]
  },
  {
   "cell_type": "code",
   "execution_count": 49,
   "metadata": {},
   "outputs": [
    {
     "name": "stdout",
     "output_type": "stream",
     "text": [
      "[[1 2 4]\n",
      " [2 4 8]]\n",
      "1\n"
     ]
    }
   ],
   "source": [
    "c = np.array([[1, 2, 4], [2, 4, 8]])\n",
    "print(c)\n",
    "print(np.linalg.matrix_rank(c))"
   ]
  },
  {
   "cell_type": "code",
   "execution_count": 50,
   "metadata": {},
   "outputs": [
    {
     "data": {
      "text/plain": [
       "np.int64(2)"
      ]
     },
     "execution_count": 50,
     "metadata": {},
     "output_type": "execute_result"
    }
   ],
   "source": [
    "c1 = np.array([[1, 2, 4], [2, 4, 8], [3, 4, 5]])\n",
    "np.linalg.matrix_rank(c1)"
   ]
  },
  {
   "cell_type": "code",
   "execution_count": 52,
   "metadata": {},
   "outputs": [
    {
     "name": "stdout",
     "output_type": "stream",
     "text": [
      "0.0\n",
      "[0 0 0]\n"
     ]
    }
   ],
   "source": [
    "print(np.linalg.det(c1))    # 선형독립 여부\n",
    "print(c1[0] * 2 - c1[1])    # 선형종속 여부"
   ]
  },
  {
   "cell_type": "code",
   "execution_count": 53,
   "metadata": {},
   "outputs": [
    {
     "data": {
      "text/plain": [
       "np.int64(3)"
      ]
     },
     "execution_count": 53,
     "metadata": {},
     "output_type": "execute_result"
    }
   ],
   "source": [
    "c2 = np.array([[1, 3, 4], [1, 8, 5], [2, 3, 4]])\n",
    "np.linalg.matrix_rank(c2)"
   ]
  },
  {
   "cell_type": "code",
   "execution_count": 54,
   "metadata": {},
   "outputs": [
    {
     "name": "stdout",
     "output_type": "stream",
     "text": [
      "-17.0\n",
      "3\n"
     ]
    }
   ],
   "source": [
    "print(np.linalg.det(c2))\n",
    "print(np.linalg.matrix_rank(c2.T))"
   ]
  },
  {
   "cell_type": "code",
   "execution_count": 55,
   "metadata": {},
   "outputs": [
    {
     "name": "stdout",
     "output_type": "stream",
     "text": [
      "[[1 2 3]\n",
      " [4 5 6]\n",
      " [0 0 0]]\n",
      "2\n",
      "0.0\n"
     ]
    }
   ],
   "source": [
    "c3 = np.array([[1, 2, 3], [4, 5, 6], [0, 0, 0]])\n",
    "print(c3)\n",
    "print(np.linalg.matrix_rank(c3))\n",
    "print(np.linalg.det(c3))"
   ]
  },
  {
   "cell_type": "markdown",
   "metadata": {},
   "source": [
    "- 행렬 알아보기\n",
    "    - 축(Axis) 이해하기"
   ]
  },
  {
   "cell_type": "code",
   "execution_count": 57,
   "metadata": {},
   "outputs": [
    {
     "name": "stdout",
     "output_type": "stream",
     "text": [
      "45\n",
      "45\n"
     ]
    }
   ],
   "source": [
    "# 배열 축 알아보기\n",
    "a = np.arange(1, 10)\n",
    "print(a.sum())\n",
    "print(np.sum(a))"
   ]
  },
  {
   "cell_type": "code",
   "execution_count": 58,
   "metadata": {},
   "outputs": [
    {
     "name": "stdout",
     "output_type": "stream",
     "text": [
      "45\n",
      "45\n"
     ]
    }
   ],
   "source": [
    "print(a.sum(axis=0))\n",
    "print(np.sum(a, axis=0))"
   ]
  },
  {
   "cell_type": "code",
   "execution_count": 60,
   "metadata": {},
   "outputs": [
    {
     "name": "stdout",
     "output_type": "stream",
     "text": [
      "14\n",
      "[6 8]\n",
      "[5 9]\n"
     ]
    }
   ],
   "source": [
    "A = np.array([[2, 3], [4, 5]])\n",
    "print(A.sum())\n",
    "print(A.sum(axis=0))\n",
    "print(A.sum(axis=1))"
   ]
  },
  {
   "cell_type": "code",
   "execution_count": 61,
   "metadata": {},
   "outputs": [
    {
     "name": "stdout",
     "output_type": "stream",
     "text": [
      "3\n",
      "(2, 2, 2)\n",
      "\n",
      "[[1 2]\n",
      " [3 4]]\n",
      "[[5 6]\n",
      " [7 8]]\n",
      "\n",
      "[[ 6  8]\n",
      " [10 12]]\n",
      "[[ 4  6]\n",
      " [12 14]]\n",
      "[[ 3  7]\n",
      " [11 15]]\n"
     ]
    }
   ],
   "source": [
    "C = np.array([[[1, 2], [3, 4]],\n",
    "              [[5, 6], [7, 8]]])\n",
    "print(C.ndim)\n",
    "print(C.shape)\n",
    "print()\n",
    "\n",
    "print(C[0])\n",
    "print(C[1])\n",
    "print()\n",
    "\n",
    "print(C.sum(axis=0))\n",
    "print(C.sum(axis=1))\n",
    "print(C.sum(axis=2))"
   ]
  },
  {
   "cell_type": "code",
   "execution_count": 62,
   "metadata": {},
   "outputs": [
    {
     "name": "stdout",
     "output_type": "stream",
     "text": [
      "[ 0  1  2  3  4  5  6  7  8  9 10 11 12 13 14 15 16 17 18 19 20 21 22 23]\n",
      "\n",
      "[[[ 0  1]\n",
      "  [ 2  3]\n",
      "  [ 4  5]\n",
      "  [ 6  7]]\n",
      "\n",
      " [[ 8  9]\n",
      "  [10 11]\n",
      "  [12 13]\n",
      "  [14 15]]\n",
      "\n",
      " [[16 17]\n",
      "  [18 19]\n",
      "  [20 21]\n",
      "  [22 23]]]\n"
     ]
    }
   ],
   "source": [
    "# 배열의 툭 변환 알아보기\n",
    "t = np.arange(3*4*2)\n",
    "print(t)\n",
    "print()\n",
    "\n",
    "t1 = np.reshape(t, (3, 4, 2))\n",
    "print(t1)"
   ]
  },
  {
   "cell_type": "code",
   "execution_count": 63,
   "metadata": {},
   "outputs": [
    {
     "name": "stdout",
     "output_type": "stream",
     "text": [
      "(3, 4, 2)\n",
      "\n",
      "(3, 2, 4)\n",
      "\n",
      "[[[ 0  2  4  6]\n",
      "  [ 1  3  5  7]]\n",
      "\n",
      " [[ 8 10 12 14]\n",
      "  [ 9 11 13 15]]\n",
      "\n",
      " [[16 18 20 22]\n",
      "  [17 19 21 23]]]\n"
     ]
    }
   ],
   "source": [
    "print(t1.shape)\n",
    "print()\n",
    "\n",
    "t2 = t1.transpose(0, 2, 1)\n",
    "print(t2.shape)\n",
    "print()\n",
    "\n",
    "print(t2)"
   ]
  },
  {
   "cell_type": "code",
   "execution_count": 64,
   "metadata": {},
   "outputs": [
    {
     "name": "stdout",
     "output_type": "stream",
     "text": [
      "(3, 4, 5, 3)\n",
      "3\n",
      "(3, 3, 4, 5)\n"
     ]
    }
   ],
   "source": [
    "ra = np.ones((3, 4, 5, 3))\n",
    "print(ra.shape)\n",
    "print(ra.shape[3])\n",
    "print(np.rollaxis(ra, 3, 1).shape)"
   ]
  },
  {
   "cell_type": "code",
   "execution_count": 66,
   "metadata": {},
   "outputs": [
    {
     "name": "stdout",
     "output_type": "stream",
     "text": [
      "[[1]\n",
      " [2]\n",
      " [3]]\n",
      "\n",
      "[[1]\n",
      " [2]\n",
      " [3]]\n"
     ]
    }
   ],
   "source": [
    "x = np.array([[1, 2, 3]])\n",
    "print(x.T)\n",
    "print()\n",
    "print(np.swapaxes(x, 0, 1))"
   ]
  },
  {
   "cell_type": "code",
   "execution_count": 67,
   "metadata": {},
   "outputs": [
    {
     "name": "stdout",
     "output_type": "stream",
     "text": [
      "(3, 4, 5, 3)\n",
      "(3, 5, 4, 3)\n"
     ]
    }
   ],
   "source": [
    "print(ra.shape)\n",
    "\n",
    "ra21 = np.swapaxes(ra, 2, 1)\n",
    "print(ra21.shape)"
   ]
  },
  {
   "cell_type": "markdown",
   "metadata": {},
   "source": [
    "- 행렬 알아보기\n",
    "    - 배열 확장 및 축소하기"
   ]
  },
  {
   "cell_type": "code",
   "execution_count": 68,
   "metadata": {},
   "outputs": [
    {
     "data": {
      "text/plain": [
       "array([1, 2])"
      ]
     },
     "execution_count": 68,
     "metadata": {},
     "output_type": "execute_result"
    }
   ],
   "source": [
    "# 배열 확장 및 축소하기\n",
    "x = np.array([1, 2])\n",
    "x"
   ]
  },
  {
   "cell_type": "code",
   "execution_count": 69,
   "metadata": {},
   "outputs": [
    {
     "data": {
      "text/plain": [
       "array([[1],\n",
       "       [2]])"
      ]
     },
     "execution_count": 69,
     "metadata": {},
     "output_type": "execute_result"
    }
   ],
   "source": [
    "y = np.expand_dims(x, axis=1)\n",
    "y"
   ]
  },
  {
   "cell_type": "code",
   "execution_count": 70,
   "metadata": {},
   "outputs": [
    {
     "data": {
      "text/plain": [
       "array([[1, 2]])"
      ]
     },
     "execution_count": 70,
     "metadata": {},
     "output_type": "execute_result"
    }
   ],
   "source": [
    "z = np.expand_dims(x, axis=0)\n",
    "z"
   ]
  },
  {
   "cell_type": "code",
   "execution_count": 71,
   "metadata": {},
   "outputs": [
    {
     "name": "stdout",
     "output_type": "stream",
     "text": [
      "[[1 4 5]\n",
      " [4 5 6]\n",
      " [7 8 9]]\n",
      "\n",
      "[1 4 5 4 5 6 7 8 9]\n",
      "[1 4 5 4 5 6 7 8 9]\n",
      "\n",
      "False\n",
      "True\n"
     ]
    }
   ],
   "source": [
    "# 차원 배열로 데이터 보기\n",
    "x = np.array([[1, 4, 5], [4, 5, 6], [7, 8, 9]])\n",
    "print(x)\n",
    "print()\n",
    "\n",
    "print(x.flatten())\n",
    "print(x.ravel())\n",
    "print()\n",
    "\n",
    "print(np.may_share_memory(x.flatten(), x))\n",
    "print(np.may_share_memory(x.ravel(), x))"
   ]
  },
  {
   "cell_type": "markdown",
   "metadata": {},
   "source": [
    "- 행렬종류 알아보기\n",
    "    - 정사각행렬 이해하기: Square Matrix"
   ]
  },
  {
   "cell_type": "code",
   "execution_count": 73,
   "metadata": {},
   "outputs": [
    {
     "name": "stdout",
     "output_type": "stream",
     "text": [
      "[[1 2 3]\n",
      " [4 5 6]\n",
      " [7 8 8]]\n",
      "\n",
      "(3, 3)\n",
      "14\n",
      "14\n"
     ]
    }
   ],
   "source": [
    "# 행렬의 궤적 알아보기\n",
    "a = np.array([[1, 2, 3], [4, 5, 6], [7, 8, 8]])\n",
    "print(a)\n",
    "print()\n",
    "print(a.shape)\n",
    "print(np.trace(a))\n",
    "print(a.trace())"
   ]
  },
  {
   "cell_type": "code",
   "execution_count": 74,
   "metadata": {},
   "outputs": [
    {
     "name": "stdout",
     "output_type": "stream",
     "text": [
      "[[1 0 0]\n",
      " [0 3 0]\n",
      " [0 0 5]]\n",
      "\n",
      "[1 3 5]\n",
      "[1 3 5]\n"
     ]
    }
   ],
   "source": [
    "# 대각행렬 알아보기: Diagonal Matrirx\n",
    "b = np.array([[1, 0, 0], [0, 3, 0], [0, 0, 5]])\n",
    "print(b)\n",
    "print()\n",
    "\n",
    "print(b.diagonal())\n",
    "print(np.diagonal(b))"
   ]
  },
  {
   "cell_type": "code",
   "execution_count": 76,
   "metadata": {},
   "outputs": [
    {
     "name": "stdout",
     "output_type": "stream",
     "text": [
      "[[1 0 0]\n",
      " [0 2 0]\n",
      " [0 0 3]]\n",
      "\n",
      "[[0 1 0 0]\n",
      " [0 0 2 0]\n",
      " [0 0 0 3]\n",
      " [0 0 0 0]]\n",
      "\n",
      "[[0 0 0 0]\n",
      " [1 0 0 0]\n",
      " [0 2 0 0]\n",
      " [0 0 3 0]]\n",
      "\n",
      "[1 4]\n",
      "\n",
      "[1 4]\n"
     ]
    }
   ],
   "source": [
    "# 대각행렬 만들기\n",
    "c = np.diag(np.arange(1, 4))\n",
    "print(c)\n",
    "print()\n",
    "\n",
    "d = np.diag(np.arange(1, 4), k=1)\n",
    "print(d)\n",
    "print()\n",
    "\n",
    "e = np.diag(np.arange(1, 4), k=-1)\n",
    "print(e)\n",
    "print()\n",
    "\n",
    "f = np.diag([[1, 2], [3, 4]])\n",
    "print(f)\n",
    "print()\n",
    "\n",
    "g = np.diagonal([[1, 2], [3, 4]])\n",
    "print(g)"
   ]
  },
  {
   "cell_type": "code",
   "execution_count": 77,
   "metadata": {},
   "outputs": [
    {
     "name": "stdout",
     "output_type": "stream",
     "text": [
      "[[1. 0. 0.]\n",
      " [0. 1. 0.]\n",
      " [0. 0. 1.]]\n",
      "\n",
      "[[0. 1. 0.]\n",
      " [0. 0. 1.]\n",
      " [0. 0. 0.]]\n",
      "\n",
      "[[0. 0. 0.]\n",
      " [1. 0. 0.]\n",
      " [0. 1. 0.]]\n",
      "\n",
      "[[4 0 0]\n",
      " [0 4 0]\n",
      " [0 0 4]]\n",
      "\n"
     ]
    },
    {
     "data": {
      "text/plain": [
       "array([[1., 0., 0.],\n",
       "       [0., 1., 0.],\n",
       "       [0., 0., 1.]])"
      ]
     },
     "execution_count": 77,
     "metadata": {},
     "output_type": "execute_result"
    }
   ],
   "source": [
    "# 단위행렬 만들기: Unit Matrix\n",
    "h = np.eye(3, 3)\n",
    "print(h)\n",
    "print()\n",
    "\n",
    "i = np.eye(3, 3, k=1)\n",
    "print(i)\n",
    "print()\n",
    "\n",
    "j = np.eye(3, 3, k=-1)\n",
    "print(j)\n",
    "print()\n",
    "\n",
    "k = np.diag([4, 4, 4])\n",
    "print(k)\n",
    "print()\n",
    "\n",
    "k * 1 /4"
   ]
  },
  {
   "cell_type": "code",
   "execution_count": 78,
   "metadata": {},
   "outputs": [
    {
     "name": "stdout",
     "output_type": "stream",
     "text": [
      "[[1. 0. 0.]\n",
      " [0. 1. 0.]\n",
      " [0. 0. 1.]]\n",
      "\n",
      "[[1 2 3]\n",
      " [4 5 6]\n",
      " [7 8 9]]\n",
      "[[1. 2. 3.]\n",
      " [4. 5. 6.]\n",
      " [7. 8. 9.]]\n"
     ]
    }
   ],
   "source": [
    "# 항등행렬 만들기\n",
    "l = np.identity(3)\n",
    "print(l)\n",
    "print()\n",
    "\n",
    "s = np.arange(1, 10).reshape(3, 3)\n",
    "print(s)\n",
    "print(s.dot(l))"
   ]
  },
  {
   "cell_type": "markdown",
   "metadata": {},
   "source": [
    "- 행렬종류 알아보기\n",
    "    - 삼각행렬 이해하기"
   ]
  },
  {
   "cell_type": "code",
   "execution_count": 79,
   "metadata": {},
   "outputs": [
    {
     "name": "stdout",
     "output_type": "stream",
     "text": [
      "[[1 2 3]\n",
      " [4 5 6]\n",
      " [7 8 9]]\n",
      "\n",
      "[[1 0 0]\n",
      " [4 5 0]\n",
      " [7 8 9]]\n",
      "[[0 0 0]\n",
      " [4 0 0]\n",
      " [7 8 0]]\n"
     ]
    }
   ],
   "source": [
    "# 하삼각행렬 알아보기: Lower Trianglular Matrix\n",
    "a = np.arange(1, 10).reshape(3, 3)\n",
    "print(a)\n",
    "print()\n",
    "\n",
    "print(np.tril(a))\n",
    "print(np.tril(a, k=-1))"
   ]
  },
  {
   "cell_type": "code",
   "execution_count": 80,
   "metadata": {},
   "outputs": [
    {
     "name": "stdout",
     "output_type": "stream",
     "text": [
      "[[1 2 3]\n",
      " [4 5 6]\n",
      " [7 8 9]]\n",
      "\n",
      "[[1 2 3]\n",
      " [0 5 6]\n",
      " [0 0 9]]\n",
      "\n",
      "[[0 2 3]\n",
      " [0 0 6]\n",
      " [0 0 0]]\n"
     ]
    }
   ],
   "source": [
    "# 상삼각행렬 알아보기: Upper Triangular Matrix\n",
    "b = np.arange(1, 10).reshape(3, 3)\n",
    "print(b)\n",
    "print()\n",
    "\n",
    "print(np.triu(b))\n",
    "print()\n",
    "\n",
    "print(np.triu(b, k=1))"
   ]
  },
  {
   "cell_type": "code",
   "execution_count": 81,
   "metadata": {},
   "outputs": [
    {
     "name": "stdout",
     "output_type": "stream",
     "text": [
      "[[1 2 3]\n",
      " [0 5 6]\n",
      " [0 0 9]]\n",
      "\n",
      "[[1 0 0]\n",
      " [2 5 0]\n",
      " [3 6 9]]\n",
      "\n",
      "[[1 4 7]\n",
      " [0 5 8]\n",
      " [0 0 9]]\n",
      "\n",
      "[[ 1  0  0]\n",
      " [16 25  0]\n",
      " [49 64 81]]\n",
      "\n",
      "[[ 1  4  9]\n",
      " [ 0 25 36]\n",
      " [ 0  0 81]]\n",
      "\n",
      "[[ 1  0  0]\n",
      " [ 0 25  0]\n",
      " [ 0  0 81]]\n"
     ]
    }
   ],
   "source": [
    "# 삼각행렬 전치관계 알아보기\n",
    "c = np.triu(b)\n",
    "print(c)\n",
    "print()\n",
    "\n",
    "print(c.T)\n",
    "print()\n",
    "\n",
    "d = np.tril(b)\n",
    "print(d.T)\n",
    "print()\n",
    "\n",
    "print(d*d)\n",
    "print()\n",
    "\n",
    "print(c*c)\n",
    "print()\n",
    "\n",
    "print(d*c)"
   ]
  },
  {
   "cell_type": "markdown",
   "metadata": {},
   "source": [
    "- 행렬종류 이해하기\n",
    "    - 영행렬 이해하기: Null Matrix, Zero Matrix"
   ]
  },
  {
   "cell_type": "code",
   "execution_count": 82,
   "metadata": {},
   "outputs": [
    {
     "name": "stdout",
     "output_type": "stream",
     "text": [
      "[[0. 0. 0.]\n",
      " [0. 0. 0.]\n",
      " [0. 0. 0.]]\n",
      "\n",
      "[0. 0. 0.]\n",
      "\n",
      "[[0 0 0]\n",
      " [0 0 0]\n",
      " [0 0 0]]\n"
     ]
    }
   ],
   "source": [
    "# 영행렬 만들기\n",
    "z = np.zeros((3, 3))\n",
    "print(z)\n",
    "print()\n",
    "\n",
    "z0 = np.zeros(3)\n",
    "print(z0)\n",
    "print()\n",
    "\n",
    "z1 = np.zeros_like(np.arange(1, 10).reshape(3, 3))\n",
    "print(z1)"
   ]
  },
  {
   "cell_type": "code",
   "execution_count": 83,
   "metadata": {},
   "outputs": [
    {
     "name": "stdout",
     "output_type": "stream",
     "text": [
      "[0. 0. 0.]\n",
      "\n",
      "[[4.9e-324 9.9e-324 1.5e-323]\n",
      " [2.0e-323 2.5e-323 3.0e-323]\n",
      " [3.5e-323 4.0e-323 4.4e-323]]\n"
     ]
    }
   ],
   "source": [
    "# 임의의 행렬 만들기\n",
    "e = np.empty(3)\n",
    "print(e)\n",
    "print()\n",
    "\n",
    "e33 = np.empty((3, 3))\n",
    "print(e33)"
   ]
  },
  {
   "cell_type": "markdown",
   "metadata": {},
   "source": [
    "- 행렬종류 알아보기\n",
    "    - 대칭행렬 이해하기: Symmetric Matrix"
   ]
  },
  {
   "cell_type": "code",
   "execution_count": 84,
   "metadata": {},
   "outputs": [
    {
     "name": "stdout",
     "output_type": "stream",
     "text": [
      "[[1 2 3]\n",
      " [2 3 5]\n",
      " [3 5 6]]\n",
      "\n",
      "[[1 2 3]\n",
      " [2 3 5]\n",
      " [3 5 6]]\n",
      "\n",
      "True\n",
      "True\n"
     ]
    }
   ],
   "source": [
    "# 대칭행렬 확인하기\n",
    "X = np.array([[1, 2, 3], [2, 3, 5], [3, 5, 6]])\n",
    "print(X)\n",
    "print()\n",
    "\n",
    "print(X.T)\n",
    "print()\n",
    "\n",
    "print(np.array_equal(X, X.T))\n",
    "print(np.array_equiv(X, X.T))"
   ]
  },
  {
   "cell_type": "code",
   "execution_count": 86,
   "metadata": {},
   "outputs": [
    {
     "name": "stdout",
     "output_type": "stream",
     "text": [
      "[[ 2  4  6]\n",
      " [ 4  6 10]\n",
      " [ 6 10 12]]\n",
      "\n",
      "[[14 23 31]\n",
      " [23 38 51]\n",
      " [31 51 70]]\n",
      "\n",
      "[[ True  True  True]\n",
      " [ True  True  True]\n",
      " [ True  True  True]]\n"
     ]
    }
   ],
   "source": [
    "print(X + X.T)\n",
    "print()\n",
    "\n",
    "print(np.dot(X, X.T))\n",
    "print()\n",
    "\n",
    "a = np.transpose(np.dot(X, X.T))\n",
    "b = np.dot(X.T, X)\n",
    "print(a == b)"
   ]
  },
  {
   "cell_type": "code",
   "execution_count": 87,
   "metadata": {},
   "outputs": [
    {
     "name": "stdout",
     "output_type": "stream",
     "text": [
      "[[ 0  2 -3]\n",
      " [-2  0  5]\n",
      " [ 3 -5  0]]\n",
      "\n",
      "[[0 0 0]\n",
      " [0 0 0]\n",
      " [0 0 0]]\n",
      "\n",
      "[[ True False False]\n",
      " [False  True False]\n",
      " [False False  True]]\n",
      "\n",
      "[[  0   4  -6]\n",
      " [ -4   0  10]\n",
      " [  6 -10   0]]\n",
      "\n",
      "[[ 13 -15 -10]\n",
      " [-15  29  -6]\n",
      " [-10  -6  34]]\n",
      "\n",
      "[[ 13 -15 -10]\n",
      " [-15  29  -6]\n",
      " [-10  -6  34]]\n"
     ]
    }
   ],
   "source": [
    "# 반 대칭행렬(Skew Symmetric Matrix) 확인하기\n",
    "Y = np.array([[0, 2, -3], [-2, 0, 5], [3, -5, 0]])\n",
    "print(Y)\n",
    "print()\n",
    "\n",
    "print(Y + Y.T)\n",
    "print()\n",
    "\n",
    "print(Y.T == Y)\n",
    "print()\n",
    "\n",
    "print(Y - Y.T)\n",
    "print()\n",
    "\n",
    "print(np.dot(Y, Y.T))\n",
    "print()\n",
    "\n",
    "print(np.dot(Y.T, Y))"
   ]
  },
  {
   "cell_type": "markdown",
   "metadata": {},
   "source": [
    "- 행렬종류 알아보기\n",
    "    - 치환행렬(Permutation Matrix)"
   ]
  },
  {
   "cell_type": "code",
   "execution_count": 88,
   "metadata": {},
   "outputs": [
    {
     "name": "stdout",
     "output_type": "stream",
     "text": [
      "[[1 2 3]\n",
      " [4 5 6]\n",
      " [7 8 9]]\n",
      "\n",
      "[[1 0 0]\n",
      " [0 1 0]\n",
      " [0 0 1]]\n",
      "\n",
      "[[1 2 3]\n",
      " [4 5 6]\n",
      " [7 8 9]]\n",
      "\n",
      "[[2 1 3]\n",
      " [5 4 6]\n",
      " [8 7 9]]\n"
     ]
    }
   ],
   "source": [
    "# 행 바꿈 알아보기\n",
    "a = np.arange(1, 10).reshape(3, 3)\n",
    "print(a)\n",
    "print()\n",
    "\n",
    "b = np.eye(3, dtype='int')\n",
    "print(b)\n",
    "print()\n",
    "\n",
    "print(np.dot(a, b))\n",
    "print()\n",
    "\n",
    "c = np.array([[0, 1, 0], [1, 0, 0], [0, 0, 1]])\n",
    "print(np.dot(a, c))"
   ]
  },
  {
   "cell_type": "markdown",
   "metadata": {},
   "source": [
    "- 행렬종류 알아보기\n",
    "    - 직교행렬(Orthogonal Matrix)"
   ]
  },
  {
   "cell_type": "code",
   "execution_count": 89,
   "metadata": {},
   "outputs": [],
   "source": [
    "# 직교행렬 알아보기\n",
    "from scipy.stats import ortho_group"
   ]
  },
  {
   "cell_type": "code",
   "execution_count": 90,
   "metadata": {},
   "outputs": [
    {
     "name": "stdout",
     "output_type": "stream",
     "text": [
      "[[ 0.78806096 -0.40664297 -0.46217034]\n",
      " [-0.61117229 -0.42696981 -0.66645721]\n",
      " [-0.07367735 -0.80767461  0.58500716]]\n",
      "\n",
      "[[ 1.00000000e+00  2.38847623e-17 -4.55084314e-17]\n",
      " [ 2.38847623e-17  1.00000000e+00 -2.33641910e-16]\n",
      " [-4.55084314e-17 -2.33641910e-16  1.00000000e+00]]\n"
     ]
    }
   ],
   "source": [
    "X = ortho_group.rvs(3)\n",
    "print(X)\n",
    "print()\n",
    "\n",
    "i3 = np.dot(X, X.T)\n",
    "print(i3)"
   ]
  },
  {
   "cell_type": "code",
   "execution_count": 91,
   "metadata": {},
   "outputs": [
    {
     "name": "stdout",
     "output_type": "stream",
     "text": [
      "True\n",
      "0.9999999999999996\n"
     ]
    }
   ],
   "source": [
    "C = np.eye(3)\n",
    "print(np.allclose(C, i3))\n",
    "print(np.fabs(np.linalg.det(X)))"
   ]
  },
  {
   "cell_type": "markdown",
   "metadata": {},
   "source": [
    "- 행렬종류 알아보기\n",
    "    - 전치행렬(Transpose Matrix)"
   ]
  },
  {
   "cell_type": "code",
   "execution_count": 92,
   "metadata": {},
   "outputs": [
    {
     "name": "stdout",
     "output_type": "stream",
     "text": [
      "[[1 2]\n",
      " [3 4]]\n",
      "\n",
      "[[1 3]\n",
      " [2 4]]\n",
      "\n",
      "[[1 3]\n",
      " [2 4]]\n",
      "\n",
      "[[1 3]\n",
      " [2 4]]\n"
     ]
    }
   ],
   "source": [
    "# 전치행렬 알아보기\n",
    "a = np.array([[1, 2], [3, 4]])\n",
    "print(a)\n",
    "print()\n",
    "\n",
    "print(a.T)\n",
    "print()\n",
    "\n",
    "print(a.transpose())\n",
    "print()\n",
    "\n",
    "print(np.transpose(a))"
   ]
  }
 ],
 "metadata": {
  "kernelspec": {
   "display_name": "kdt6",
   "language": "python",
   "name": "python3"
  },
  "language_info": {
   "codemirror_mode": {
    "name": "ipython",
    "version": 3
   },
   "file_extension": ".py",
   "mimetype": "text/x-python",
   "name": "python",
   "nbconvert_exporter": "python",
   "pygments_lexer": "ipython3",
   "version": "3.11.9"
  }
 },
 "nbformat": 4,
 "nbformat_minor": 2
}
