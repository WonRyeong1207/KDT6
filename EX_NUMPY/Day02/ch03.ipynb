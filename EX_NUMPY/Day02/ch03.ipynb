{
 "cells": [
  {
   "cell_type": "markdown",
   "metadata": {},
   "source": [
    "### 넘파이 Chapter 3\n",
    "- 배열의 일반 검색\n",
    "- 논리식 검색(logical indexing)\n",
    "- 팬시 검색(fancy indexing)\n",
    "- 메소드나 함수로 검색하기"
   ]
  },
  {
   "cell_type": "code",
   "execution_count": 1,
   "metadata": {},
   "outputs": [],
   "source": [
    "import numpy as np"
   ]
  },
  {
   "cell_type": "markdown",
   "metadata": {},
   "source": [
    "- 배열의 일반 검색\n",
    "    - 색인검색(Scalar Selection)"
   ]
  },
  {
   "cell_type": "code",
   "execution_count": 2,
   "metadata": {},
   "outputs": [
    {
     "name": "stdout",
     "output_type": "stream",
     "text": [
      "1\n",
      "5\n"
     ]
    }
   ],
   "source": [
    "# 색인검색\n",
    "v = np.array([1, 2, 3, 4, 5])\n",
    "print(v[0])\n",
    "print(v[-1])"
   ]
  },
  {
   "cell_type": "code",
   "execution_count": 3,
   "metadata": {},
   "outputs": [
    {
     "name": "stdout",
     "output_type": "stream",
     "text": [
      "[1 2 3 4 5]\n",
      "[ 6  7  8  9 10]\n",
      "\n",
      "2\n",
      "10\n",
      "\n",
      "9\n",
      "9\n"
     ]
    }
   ],
   "source": [
    "A = np.array([[1, 2, 3, 4, 5], [6, 7, 8, 9, 10]])\n",
    "print(A[0])\n",
    "print(A[-1])\n",
    "print()\n",
    "\n",
    "print(A[0, 1])\n",
    "print(A[-1, -1])\n",
    "print()\n",
    "\n",
    "print(A[(1, 3)])\n",
    "print(A.__getitem__((1, 3)))"
   ]
  },
  {
   "cell_type": "markdown",
   "metadata": {},
   "source": [
    "- 배열의 일반 검색\n",
    "    - 슬라이스검색(Slice Selection)"
   ]
  },
  {
   "cell_type": "code",
   "execution_count": 4,
   "metadata": {},
   "outputs": [
    {
     "name": "stdout",
     "output_type": "stream",
     "text": [
      "[[0 1 2]\n",
      " [3 4 5]\n",
      " [6 7 8]]\n",
      "\n",
      "(3, 3)\n",
      "[0 1 2]\n",
      "[0 1 2]\n",
      "[0 3 6]\n"
     ]
    }
   ],
   "source": [
    "# 슬라이스검색\n",
    "B = np.arange(9).reshape(3, 3)\n",
    "print(B)\n",
    "print()\n",
    "\n",
    "print(B.shape)\n",
    "print(B[0,:])\n",
    "print(B[0])\n",
    "print(B[:, 0])"
   ]
  },
  {
   "cell_type": "code",
   "execution_count": 5,
   "metadata": {},
   "outputs": [
    {
     "name": "stdout",
     "output_type": "stream",
     "text": [
      "[[1 2]\n",
      " [4 5]]\n",
      "[[0 2]\n",
      " [6 8]]\n",
      "<numpy.flatiter object at 0x00000265211F7720>\n",
      "[0 1 2 3 4 5 6 7 8]\n",
      "[0 2 4 6 8]\n"
     ]
    }
   ],
   "source": [
    "print(B[:2, 1:])\n",
    "print(B[::2, ::2])\n",
    "print(B.flat)\n",
    "print(B.flat[:])\n",
    "print(B.flat[::2])"
   ]
  },
  {
   "cell_type": "markdown",
   "metadata": {},
   "source": [
    "- 배열의 일반 검색\n",
    "    - 생략기호를 사용한 접근"
   ]
  },
  {
   "cell_type": "code",
   "execution_count": 6,
   "metadata": {},
   "outputs": [
    {
     "name": "stdout",
     "output_type": "stream",
     "text": [
      "[[ 1  6 11 16]\n",
      " [21 26 31 36]\n",
      " [41 46 51 56]]\n",
      "\n",
      "Ellipsis\n",
      "<class 'ellipsis'>\n",
      "\n",
      "[[ 1  6 11 16]\n",
      " [21 26 31 36]\n",
      " [41 46 51 56]]\n",
      "\n",
      "[[ 1  6 11 16]\n",
      " [21 26 31 36]]\n",
      "\n",
      "[[ 1  6]\n",
      " [21 26]\n",
      " [41 46]]\n"
     ]
    }
   ],
   "source": [
    "# 생략기호를 사용해서 검색하기\n",
    "A = np.arange(1, 60, 5).reshape(3, 4)\n",
    "print(A)\n",
    "print()\n",
    "\n",
    "print(...)  # 생략기호\n",
    "print(type(...))\n",
    "print()\n",
    "\n",
    "print(A[...])\n",
    "print()\n",
    "\n",
    "print(A[:2, ...])\n",
    "print()\n",
    "\n",
    "print(A[..., :2])"
   ]
  },
  {
   "cell_type": "code",
   "execution_count": 7,
   "metadata": {},
   "outputs": [
    {
     "name": "stdout",
     "output_type": "stream",
     "text": [
      "[[[[ 0  1]\n",
      "   [ 2  3]]\n",
      "\n",
      "  [[ 4  5]\n",
      "   [ 6  7]]]\n",
      "\n",
      "\n",
      " [[[ 8  9]\n",
      "   [10 11]]\n",
      "\n",
      "  [[12 13]\n",
      "   [14 15]]]]\n",
      "\n",
      "[[[ 0  2]\n",
      "  [ 4  6]]\n",
      "\n",
      " [[ 8 10]\n",
      "  [12 14]]]\n",
      "\n",
      "[ 0  2  4  6  8 10 12 14]\n",
      "\n",
      "[[[ 0  2]\n",
      "  [ 4  6]]\n",
      "\n",
      " [[ 8 10]\n",
      "  [12 14]]]\n",
      "\n",
      "[ 0  2  4  6  8 10 12 14]\n"
     ]
    }
   ],
   "source": [
    "B = np.arange(16).reshape(2, 2, 2, 2)\n",
    "print(B)\n",
    "print()\n",
    "\n",
    "print(B[..., 0])\n",
    "print()\n",
    "\n",
    "print(B[..., 0].flatten())\n",
    "print()\n",
    "\n",
    "print(B[:, :, :, 0])\n",
    "print()\n",
    "\n",
    "print(B[:, :, :, 0].flatten())"
   ]
  },
  {
   "cell_type": "markdown",
   "metadata": {},
   "source": [
    "- 논리식 검색\n",
    "    - 논리식 접근"
   ]
  },
  {
   "cell_type": "code",
   "execution_count": 8,
   "metadata": {},
   "outputs": [
    {
     "name": "stdout",
     "output_type": "stream",
     "text": [
      "[[ 0.4834878  -1.11399548 -0.42085448 -0.6684847 ]\n",
      " [-0.96963528 -0.09834069  1.71426358 -0.79843642]\n",
      " [-0.57549069 -0.84239972  0.06796588  1.10389359]\n",
      " [ 0.99191325 -0.18089914  1.13537406 -1.73125573]\n",
      " [ 0.94556586  0.52745701  0.0678981   0.48139326]\n",
      " [ 2.01153153  1.77141638 -0.98600729  1.5726753 ]\n",
      " [-0.21710032 -0.64317422 -0.27806295 -1.64803585]]\n",
      "\n",
      "[[False  True  True  True]\n",
      " [ True  True False  True]\n",
      " [ True  True False False]\n",
      " [False  True False  True]\n",
      " [False False False False]\n",
      " [False False  True False]\n",
      " [ True  True  True  True]]\n",
      "\n",
      "[-1.11399548 -0.42085448 -0.6684847  -0.96963528 -0.09834069 -0.79843642\n",
      " -0.57549069 -0.84239972 -0.18089914 -1.73125573 -0.98600729 -0.21710032\n",
      " -0.64317422 -0.27806295 -1.64803585]\n",
      "\n",
      "[[4.83487803e-01 9.99000000e+02 9.99000000e+02 9.99000000e+02]\n",
      " [9.99000000e+02 9.99000000e+02 1.71426358e+00 9.99000000e+02]\n",
      " [9.99000000e+02 9.99000000e+02 6.79658833e-02 1.10389359e+00]\n",
      " [9.91913254e-01 9.99000000e+02 1.13537406e+00 9.99000000e+02]\n",
      " [9.45565865e-01 5.27457010e-01 6.78981044e-02 4.81393257e-01]\n",
      " [2.01153153e+00 1.77141638e+00 9.99000000e+02 1.57267530e+00]\n",
      " [9.99000000e+02 9.99000000e+02 9.99000000e+02 9.99000000e+02]]\n",
      "\n",
      "[999. 999. 999. 999. 999. 999. 999. 999. 999. 999. 999. 999. 999. 999.\n",
      " 999.]\n",
      "\n",
      "[1000.  999.  999.  999.  999.  999.  999.  999.  999.  999.  999.  999.\n",
      "  999.  999.  999.]\n",
      "\n",
      "[[False False False False]\n",
      " [False False False False]\n",
      " [False False False False]\n",
      " [False False False False]\n",
      " [False False False False]\n",
      " [False False False False]\n",
      " [False False False False]]\n",
      "\n",
      "False\n",
      "True\n"
     ]
    }
   ],
   "source": [
    "# 논리식으로 접근하기\n",
    "L = np.random.randn(7, 4)\n",
    "print(L)\n",
    "print()\n",
    "\n",
    "print(L < 0)\n",
    "print()\n",
    "\n",
    "print(L[L < 0])\n",
    "print()\n",
    "\n",
    "L[L < 0] = 999\n",
    "print(L)\n",
    "print()\n",
    "\n",
    "LC = L[L == 999]\n",
    "print(LC)\n",
    "print()\n",
    "\n",
    "LC[0] = 1000\n",
    "print(LC)\n",
    "print()\n",
    "\n",
    "print(L == 1000)\n",
    "print()\n",
    "\n",
    "LL = L\n",
    "print(np.may_share_memory(LC, L))\n",
    "print(np.may_share_memory(LL, L))"
   ]
  },
  {
   "cell_type": "markdown",
   "metadata": {},
   "source": [
    "- 논리식 검색\n",
    "    - 다양한 논리식 검색"
   ]
  },
  {
   "cell_type": "code",
   "execution_count": 9,
   "metadata": {},
   "outputs": [
    {
     "name": "stdout",
     "output_type": "stream",
     "text": [
      "[[ 0  1  2  3]\n",
      " [ 4  5  6  7]\n",
      " [ 8  9 10 11]]\n",
      "\n",
      "[0 1 2 3 4]\n"
     ]
    }
   ],
   "source": [
    "# 다양한 논리식 적용하기\n",
    "L = np.arange(0, 12).reshape(3, 4)\n",
    "print(L)\n",
    "print()\n",
    "\n",
    "print(L[L < 5])"
   ]
  },
  {
   "cell_type": "code",
   "execution_count": 10,
   "metadata": {},
   "outputs": [
    {
     "name": "stdout",
     "output_type": "stream",
     "text": [
      "[[0 1 2 0]\n",
      " [1 2 0 1]\n",
      " [2 0 1 2]]\n",
      "\n",
      "[ 1  2  4  5  7  8 10 11]\n",
      "\n",
      "(array([0, 0, 0, 1, 1, 1, 1, 2, 2, 2, 2]), array([1, 2, 3, 0, 1, 2, 3, 0, 1, 2, 3]))\n",
      "[ 1  2  3  4  5  6  7  8  9 10 11]\n"
     ]
    }
   ],
   "source": [
    "print(L % 3)\n",
    "print()\n",
    "\n",
    "print(L[L%3 > 0])\n",
    "print()\n",
    "\n",
    "print(L.nonzero())\n",
    "print(L[L.nonzero()])"
   ]
  },
  {
   "cell_type": "markdown",
   "metadata": {},
   "source": [
    "- 논리식 검색\n",
    "    - 논리식 접근 시 주의 사항\n"
   ]
  },
  {
   "cell_type": "code",
   "execution_count": 11,
   "metadata": {},
   "outputs": [
    {
     "name": "stdout",
     "output_type": "stream",
     "text": [
      "[ 0  1  2  3  4  5  6  7  8  9 10 11]\n"
     ]
    }
   ],
   "source": [
    "# 논리연산 사용상 주의\n",
    "L = np.arange(0, 12)\n",
    "print(L)"
   ]
  },
  {
   "cell_type": "code",
   "execution_count": 12,
   "metadata": {},
   "outputs": [
    {
     "name": "stdout",
     "output_type": "stream",
     "text": [
      "The truth value of an array with more than one element is ambiguous. Use a.any() or a.all()\n"
     ]
    }
   ],
   "source": [
    "try:\n",
    "    L and L\n",
    "except Exception as e:\n",
    "    print(e)"
   ]
  },
  {
   "cell_type": "code",
   "execution_count": 13,
   "metadata": {},
   "outputs": [
    {
     "name": "stdout",
     "output_type": "stream",
     "text": [
      "[False  True  True  True  True  True  True  True  True  True  True  True]\n",
      "[ 1  2  3  4  5  6  7  8  9 10 11]\n"
     ]
    }
   ],
   "source": [
    "print(np.logical_and(L, L))\n",
    "print(L[np.logical_and(L, L)])"
   ]
  },
  {
   "cell_type": "code",
   "execution_count": 14,
   "metadata": {},
   "outputs": [
    {
     "name": "stdout",
     "output_type": "stream",
     "text": [
      "[False  True  True  True  True  True  True  True  True  True  True  True]\n",
      "[ 1  2  3  4  5  6  7  8  9 10 11]\n",
      "[ True False False False False False False False False False False False]\n",
      "[0]\n"
     ]
    }
   ],
   "source": [
    "print(np.logical_or(L, L))\n",
    "print(L[np.logical_or(L, L)])\n",
    "print(np.logical_not(L))\n",
    "print(L[np.logical_not(L)])"
   ]
  },
  {
   "cell_type": "code",
   "execution_count": 17,
   "metadata": {},
   "outputs": [
    {
     "name": "stdout",
     "output_type": "stream",
     "text": [
      "[False  True  True  True  True  True  True  True  True  True  True  True]\n",
      "[False  True  True  True  True  True  True  True  True  True  True  True]\n",
      "[False  True  True  True  True  True  True  True  True  True  True  True]\n",
      "[ True False False False False False False False False False False False]\n"
     ]
    }
   ],
   "source": [
    "LL = np.arange(0, 12).astype(np.bool)\n",
    "print(LL)\n",
    "print(LL & LL)\n",
    "print(LL | LL)\n",
    "print(~ LL)"
   ]
  },
  {
   "cell_type": "markdown",
   "metadata": {},
   "source": [
    "- 팬시검색\n",
    "    - 1차원 배열로 원소만 추출"
   ]
  },
  {
   "cell_type": "code",
   "execution_count": 18,
   "metadata": {},
   "outputs": [
    {
     "data": {
      "text/plain": [
       "array([ 1,  2,  3,  4,  5,  6,  7,  8,  9, 10, 11, 12, 13, 14])"
      ]
     },
     "execution_count": 18,
     "metadata": {},
     "output_type": "execute_result"
    }
   ],
   "source": [
    "# 배열로 원소 검색하기\n",
    "x = np.arange(1, 15)\n",
    "x"
   ]
  },
  {
   "cell_type": "code",
   "execution_count": 20,
   "metadata": {},
   "outputs": [
    {
     "name": "stdout",
     "output_type": "stream",
     "text": [
      "[10]\n",
      "1\n",
      "[11]\n"
     ]
    }
   ],
   "source": [
    "pos = np.array([10])\n",
    "print(pos)\n",
    "print(x[0])\n",
    "print(x[pos])"
   ]
  },
  {
   "cell_type": "code",
   "execution_count": 21,
   "metadata": {},
   "outputs": [
    {
     "name": "stdout",
     "output_type": "stream",
     "text": [
      "[2 3 3 3]\n",
      "\n",
      "False\n",
      "\n",
      "True\n"
     ]
    }
   ],
   "source": [
    "pos2 = np.array([1, 2, 2, 2])\n",
    "print(x[pos2])\n",
    "print()\n",
    "\n",
    "c = x[pos2]\n",
    "print(np.may_share_memory(x, c))\n",
    "print()\n",
    "\n",
    "y = x[:4]\n",
    "print(np.may_share_memory(x, y))\n"
   ]
  },
  {
   "cell_type": "code",
   "execution_count": 22,
   "metadata": {},
   "outputs": [
    {
     "name": "stdout",
     "output_type": "stream",
     "text": [
      "14\n",
      "index 15 is out of bounds for axis 0 with size 14\n"
     ]
    }
   ],
   "source": [
    "print(len(x))\n",
    "\n",
    "try:\n",
    "    x[[15]]\n",
    "except Exception as e:\n",
    "    print(e)"
   ]
  },
  {
   "cell_type": "code",
   "execution_count": 23,
   "metadata": {},
   "outputs": [
    {
     "name": "stdout",
     "output_type": "stream",
     "text": [
      "[10 11 12 13 14]\n",
      "\n",
      "10\n"
     ]
    }
   ],
   "source": [
    "d = x[[-5, -4, -3, -2, -1]]\n",
    "print(d)\n",
    "print()\n",
    "\n",
    "d[0] = 100\n",
    "print(x[-5])"
   ]
  },
  {
   "cell_type": "code",
   "execution_count": 24,
   "metadata": {},
   "outputs": [
    {
     "data": {
      "text/plain": [
       "np.int64(100)"
      ]
     },
     "execution_count": 24,
     "metadata": {},
     "output_type": "execute_result"
    }
   ],
   "source": [
    "d[0]"
   ]
  },
  {
   "cell_type": "code",
   "execution_count": 25,
   "metadata": {},
   "outputs": [
    {
     "data": {
      "text/plain": [
       "np.int64(11)"
      ]
     },
     "execution_count": 25,
     "metadata": {},
     "output_type": "execute_result"
    }
   ],
   "source": [
    "d[1]"
   ]
  },
  {
   "cell_type": "code",
   "execution_count": 26,
   "metadata": {},
   "outputs": [
    {
     "data": {
      "text/plain": [
       "np.int64(100)"
      ]
     },
     "execution_count": 26,
     "metadata": {},
     "output_type": "execute_result"
    }
   ],
   "source": [
    "d[-5]"
   ]
  },
  {
   "cell_type": "code",
   "execution_count": 27,
   "metadata": {},
   "outputs": [
    {
     "name": "stdout",
     "output_type": "stream",
     "text": [
      "[[ 0  1  2  3]\n",
      " [ 4  5  6  7]\n",
      " [ 8  9 10 11]\n",
      " [12 13 14 15]]\n",
      "\n",
      "[[12 13 14 15]\n",
      " [ 0  1  2  3]]\n",
      "\n",
      "[[12 13 14 15]\n",
      " [ 8  9 10 11]]\n",
      "\n",
      "[ 6 11]\n"
     ]
    }
   ],
   "source": [
    "# 2차원 배열의 우너소를 검색하기\n",
    "x = np.arange(16).reshape(4, 4)\n",
    "print(x)\n",
    "print()\n",
    "\n",
    "print(x[[3, 0]])\n",
    "print()\n",
    "\n",
    "print(x[[-1, -2]])\n",
    "print()\n",
    "\n",
    "print(x[[1, 2], [2, 3]])"
   ]
  },
  {
   "cell_type": "code",
   "execution_count": 28,
   "metadata": {},
   "outputs": [
    {
     "name": "stdout",
     "output_type": "stream",
     "text": [
      "[[2 3 4 5]\n",
      " [8 9 0 1]]\n",
      "\n",
      "[2 9]\n",
      "\n",
      "[2 9]\n",
      "\n",
      "<class 'numpy._ArrayFunctionDispatcher'>\n",
      "[[2 3]\n",
      " [8 9]]\n"
     ]
    }
   ],
   "source": [
    "# ix_를 사용해서 검색하기\n",
    "a = np.array([[2, 3, 4, 5], [8, 9, 0, 1]])\n",
    "print(a)\n",
    "print()\n",
    "\n",
    "print(a[[0, 1], [0, 1]])\n",
    "print()\n",
    "\n",
    "print(a[tuple([[0, 1], [0, 1]])])\n",
    "print()\n",
    "\n",
    "print(type(np.ix_))\n",
    "print(a[np.ix_([0, 1], [0, 1])])"
   ]
  },
  {
   "cell_type": "markdown",
   "metadata": {},
   "source": [
    "- 팬시검색\n",
    "    - 다차원 배열로 팬시검색하기"
   ]
  },
  {
   "cell_type": "code",
   "execution_count": 29,
   "metadata": {},
   "outputs": [
    {
     "name": "stdout",
     "output_type": "stream",
     "text": [
      "[[0 1 2 3 4]\n",
      " [5 6 7 8 9]]\n",
      "\n",
      "[0 6]\n",
      "\n",
      "[[0 6]\n",
      " [0 6]]\n"
     ]
    }
   ],
   "source": [
    "# 다차원 배열로 조회하기\n",
    "x = np.arange(10).reshape(2, 5)\n",
    "print(x)\n",
    "print()\n",
    "\n",
    "print(x[tuple([[0, 1], [0, 1]])])\n",
    "print()\n",
    "\n",
    "print(x[[[0, 1], [0, 1]], [0, 1]])"
   ]
  },
  {
   "cell_type": "markdown",
   "metadata": {},
   "source": [
    "- 팬시검색\n",
    "    - 다른 검색과 팬시검색 혼용하기"
   ]
  },
  {
   "cell_type": "code",
   "execution_count": 30,
   "metadata": {},
   "outputs": [
    {
     "name": "stdout",
     "output_type": "stream",
     "text": [
      "[[0 1 2 3 4]\n",
      " [5 6 7 8 9]]\n",
      "\n",
      "[0 1]\n",
      "\n",
      "[5 6]\n",
      "\n",
      "1 (0, 1)\n",
      "\n",
      "[[0 1 2 3 4]\n",
      " [5 6 7 8 9]]\n",
      "\n",
      "[0 5]\n",
      "\n",
      "False\n"
     ]
    }
   ],
   "source": [
    "# 인덱스 검색과 혼용하기\n",
    "x = np.arange(10).reshape(2, 5)\n",
    "print(x)\n",
    "print()\n",
    "\n",
    "print(x[0, [0,1]])\n",
    "print()\n",
    "\n",
    "print(x[1, [0, 1]])\n",
    "print()\n",
    "\n",
    "print(1, tuple([0, 1]))\n",
    "print()\n",
    "\n",
    "print(x[[0, 1]])\n",
    "print()\n",
    "\n",
    "print(x[[0, 1], 0])\n",
    "print()\n",
    "\n",
    "a = x[[0, 1], 0]\n",
    "print(np.may_share_memory(x, a))"
   ]
  },
  {
   "cell_type": "code",
   "execution_count": 31,
   "metadata": {},
   "outputs": [
    {
     "name": "stdout",
     "output_type": "stream",
     "text": [
      "[[0 1 2 3 4]\n",
      " [5 6 7 8 9]]\n",
      "\n",
      "[[0 1]\n",
      " [5 6]]\n",
      "\n",
      "[[0 1]\n",
      " [5 6]]\n",
      "\n",
      "[[3 4]\n",
      " [8 9]]\n",
      "\n",
      "[[0 1]\n",
      " [5 6]]\n"
     ]
    }
   ],
   "source": [
    "# 슬라이스검색과 혼용하기\n",
    "y = np.arange(10).reshape(2, 5)\n",
    "print(y)\n",
    "print()\n",
    "\n",
    "print(y[[0, 1], :2])\n",
    "print()\n",
    "\n",
    "print(y[:2, [0, 1]])\n",
    "print()\n",
    "\n",
    "print(y[[0, 1], -2:])\n",
    "print()\n",
    "\n",
    "print(y[-2:, [0, 1]])"
   ]
  },
  {
   "cell_type": "code",
   "execution_count": 33,
   "metadata": {},
   "outputs": [
    {
     "name": "stdout",
     "output_type": "stream",
     "text": [
      "[0 1 2 3 4 5]\n",
      "\n",
      "[[ 0]\n",
      " [10]\n",
      " [20]\n",
      " [30]\n",
      " [40]\n",
      " [50]]\n",
      "\n",
      "[[ 0  1  2  3  4  5]\n",
      " [10 11 12 13 14 15]\n",
      " [20 21 22 23 24 25]\n",
      " [30 31 32 33 34 35]\n",
      " [40 41 42 43 44 45]\n",
      " [50 51 52 53 54 55]]\n",
      "\n",
      "[13 34 45]\n",
      "\n",
      "[[ 0  2  5]\n",
      " [10 12 15]\n",
      " [20 22 25]\n",
      " [30 32 35]\n",
      " [40 42 45]\n",
      " [50 52 55]]\n"
     ]
    }
   ],
   "source": [
    "# 다양한 검색조건 확인하기\n",
    "a = np.arange(6)\n",
    "print(a)\n",
    "print()\n",
    "\n",
    "b = np.arange(0, 51, 10)[:, np.newaxis]\n",
    "print(b)\n",
    "print()\n",
    "\n",
    "c = a + b\n",
    "print(c)\n",
    "print()\n",
    "\n",
    "print(c[tuple([[1, 3, 4], [3, 4, 5]])])\n",
    "print()\n",
    "\n",
    "print(c[:, [0, 2, 5]])"
   ]
  },
  {
   "cell_type": "code",
   "execution_count": 34,
   "metadata": {},
   "outputs": [
    {
     "name": "stdout",
     "output_type": "stream",
     "text": [
      "[ True False  True False False  True]\n",
      "\n",
      "[[ 0  1  2  3  4  5]\n",
      " [20 21 22 23 24 25]\n",
      " [50 51 52 53 54 55]]\n",
      "\n",
      "False\n",
      "\n",
      "[[ 0  1  2  3  4  5]\n",
      " [20 21 22 23 24 25]\n",
      " [50 51 52 53 54 55]]\n",
      "\n",
      "shape mismatch: indexing arrays could not be broadcast together with shapes (3,) (2,) \n",
      "[[ 0  1  2  3  4  5]\n",
      " [20 21 22 23 24 25]]\n"
     ]
    }
   ],
   "source": [
    "mask = np.array([1, 0, 1, 0, 0, 1], dtype=bool)\n",
    "print(mask)\n",
    "print()\n",
    "\n",
    "d = c[mask]\n",
    "print(d)\n",
    "print()\n",
    "\n",
    "print(np.may_share_memory(c, d))\n",
    "print()\n",
    "\n",
    "print(c[mask])\n",
    "print()\n",
    "\n",
    "try:\n",
    "    c[mask, tuple([0, 1])]\n",
    "except Exception as e:\n",
    "    print(e)\n",
    "    \n",
    "print(c[mask][[0, 1]])"
   ]
  },
  {
   "cell_type": "markdown",
   "metadata": {},
   "source": [
    "- 팬시검색\n",
    "    - 배열을 축소 및 확대하기"
   ]
  },
  {
   "cell_type": "code",
   "execution_count": 35,
   "metadata": {},
   "outputs": [
    {
     "name": "stdout",
     "output_type": "stream",
     "text": [
      "[[0 1 2]\n",
      " [3 4 5]\n",
      " [6 7 8]]\n",
      "\n",
      "[[4 5]\n",
      " [7 8]]\n",
      "\n",
      "True\n",
      "\n",
      "[[4 5]\n",
      " [7 8]]\n",
      "\n",
      "False\n"
     ]
    }
   ],
   "source": [
    "# 차원의 축소\n",
    "x = np.arange(9).reshape(3, 3)\n",
    "print(x)\n",
    "print()\n",
    "\n",
    "a = x[1:, 1:]\n",
    "print(a)\n",
    "print()\n",
    "\n",
    "print(np.may_share_memory(x, a))\n",
    "print()\n",
    "\n",
    "b = x[1:, [1, 2]]\n",
    "print(b)\n",
    "print()\n",
    "\n",
    "print(np.may_share_memory(x,b))"
   ]
  },
  {
   "cell_type": "code",
   "execution_count": 37,
   "metadata": {},
   "outputs": [
    {
     "name": "stdout",
     "output_type": "stream",
     "text": [
      "[[0 1 2 3 4]\n",
      " [5 6 7 8 9]]\n",
      "\n",
      "(3, 5)\n",
      "[[5 6 7 8 9]\n",
      " [5 6 7 8 9]\n",
      " [5 6 7 8 9]]\n"
     ]
    }
   ],
   "source": [
    "# 확대 검색하기\n",
    "a = np.reshape(np.arange(10), (2, 5))\n",
    "print(a)\n",
    "print()\n",
    "\n",
    "b = a[[1, 1, 1]]\n",
    "print(b.shape)\n",
    "print(b)"
   ]
  },
  {
   "cell_type": "code",
   "execution_count": 38,
   "metadata": {},
   "outputs": [
    {
     "name": "stdout",
     "output_type": "stream",
     "text": [
      "(3, 1, 5)\n",
      "[[[5 6 7 8 9]]\n",
      "\n",
      " [[5 6 7 8 9]]\n",
      "\n",
      " [[5 6 7 8 9]]]\n",
      "\n",
      "(1, 3, 5)\n",
      "[[[5 6 7 8 9]\n",
      "  [5 6 7 8 9]\n",
      "  [5 6 7 8 9]]]\n",
      "\n"
     ]
    }
   ],
   "source": [
    "c = a[[1, 1, 1], np.newaxis]\n",
    "print(c.shape)\n",
    "print(c)\n",
    "print()\n",
    "\n",
    "d = a[np.newaxis, [1, 1, 1]]\n",
    "print(d.shape)\n",
    "print(d)\n",
    "print()"
   ]
  },
  {
   "cell_type": "code",
   "execution_count": 39,
   "metadata": {},
   "outputs": [
    {
     "name": "stdout",
     "output_type": "stream",
     "text": [
      "([1, 1], [0, 1])\n",
      "([1, 1], [0, 1])\n",
      "([[1, 1], [0, 1]],)\n",
      "\n",
      "[[[5 6 7 8 9]\n",
      "  [5 6 7 8 9]]\n",
      "\n",
      " [[0 1 2 3 4]\n",
      "  [5 6 7 8 9]]]\n"
     ]
    }
   ],
   "source": [
    "print(tuple([[1, 1], [0, 1]]))\n",
    "print(tuple([[1, 1], [0, 1]]))\n",
    "print(tuple([[[1, 1], [0, 1]]]))\n",
    "print()\n",
    "\n",
    "print(a[tuple([[[1, 1], [0, 1]]])])"
   ]
  },
  {
   "cell_type": "code",
   "execution_count": 41,
   "metadata": {},
   "outputs": [
    {
     "name": "stdout",
     "output_type": "stream",
     "text": [
      "(2, 2, 5)\n",
      "[[[5 6 7 8 9]\n",
      "  [5 6 7 8 9]]\n",
      "\n",
      " [[0 1 2 3 4]\n",
      "  [5 6 7 8 9]]]\n"
     ]
    }
   ],
   "source": [
    "e = a[[[1, 1], [0, 1]], :]\n",
    "print(e.shape)\n",
    "print(e)"
   ]
  },
  {
   "cell_type": "code",
   "execution_count": 42,
   "metadata": {},
   "outputs": [
    {
     "name": "stdout",
     "output_type": "stream",
     "text": [
      "(2, 2, 1)\n",
      "[[[5]\n",
      "  [5]]\n",
      "\n",
      " [[0]\n",
      "  [5]]]\n",
      "\n",
      "(2, 2)\n",
      "[[5 5]\n",
      " [0 5]]\n"
     ]
    }
   ],
   "source": [
    "f = a[[[1, 1], [0, 1]], :1]\n",
    "print(f.shape)\n",
    "print(f)\n",
    "print()\n",
    "\n",
    "g = a[[[1, 1], [0, 1]], [0]]\n",
    "print(g.shape)\n",
    "print(g)"
   ]
  },
  {
   "cell_type": "markdown",
   "metadata": {},
   "source": [
    "- 메소드나 함수로 검색하기\n",
    "    - 메소드 사용하기"
   ]
  },
  {
   "cell_type": "code",
   "execution_count": 43,
   "metadata": {},
   "outputs": [
    {
     "name": "stdout",
     "output_type": "stream",
     "text": [
      "[[0 1 2]\n",
      " [3 4 5]\n",
      " [6 7 8]]\n",
      "\n",
      "1\n",
      "5\n",
      "5\n",
      "8\n"
     ]
    }
   ],
   "source": [
    "# 배열의 원소 검색\n",
    "x = np.arange(9).reshape(3, 3)\n",
    "print(x)\n",
    "print()\n",
    "\n",
    "print(x.item(1))\n",
    "print(x.item(5))\n",
    "print(x.item(1, 2))\n",
    "print(x.item((2, 2)))"
   ]
  },
  {
   "cell_type": "code",
   "execution_count": 47,
   "metadata": {},
   "outputs": [
    {
     "name": "stdout",
     "output_type": "stream",
     "text": [
      "[[ 0  1 20]\n",
      " [ 3  4 20]\n",
      " [20 20 20]]\n",
      "\n",
      "[[ 0  1 20]\n",
      " [ 3  4 20]\n",
      " [20 20 20]]\n",
      "\n",
      "<built-in method view of numpy.ndarray object at 0x0000026523A3A6D0>\n"
     ]
    }
   ],
   "source": [
    "x[2] = 20\n",
    "print(x)\n",
    "print()\n",
    "\n",
    "x[1 ,2] = 20\n",
    "print(x)\n",
    "print()\n",
    "\n",
    "print(x.view)"
   ]
  },
  {
   "cell_type": "code",
   "execution_count": 48,
   "metadata": {},
   "outputs": [
    {
     "name": "stdout",
     "output_type": "stream",
     "text": [
      "[[ 1.  2.  3.  4.  5.]\n",
      " [ 6.  7.  8.  9. 10.]]\n",
      "\n",
      "[4. 5.]\n",
      "[[1. 2.]\n",
      " [4. 5.]]\n"
     ]
    }
   ],
   "source": [
    "# 배열의 원소를 배열조건으로 검색\n",
    "b = np.linspace(1, 10, 10).reshape(2, 5)\n",
    "print(b)\n",
    "print()\n",
    "\n",
    "pos1 = [3, 4]\n",
    "print(b.take(pos1))\n",
    "pos2 = [[0, 1], [3, 4]]\n",
    "print(b.take(pos2))"
   ]
  },
  {
   "cell_type": "code",
   "execution_count": 49,
   "metadata": {},
   "outputs": [
    {
     "name": "stdout",
     "output_type": "stream",
     "text": [
      "False\n",
      "\n",
      "None\n",
      "[[ 1.  2.  3. 30. 30.]\n",
      " [ 6.  7.  8.  9. 10.]]\n",
      "\n",
      "None\n",
      "[[ 1.  2.  3. 50. 50.]\n",
      " [ 6.  7.  8.  9. 10.]]\n"
     ]
    }
   ],
   "source": [
    "c = b.copy()\n",
    "print(np.may_share_memory(c, b))\n",
    "print()\n",
    "\n",
    "print(c.put(pos1, 30))\n",
    "print(c)\n",
    "print()\n",
    "\n",
    "print(c.put(pos1, [50,50]))\n",
    "print(c)"
   ]
  },
  {
   "cell_type": "markdown",
   "metadata": {},
   "source": [
    "- 메소드나 함수로 검색하기\n",
    "    - 질의(Query) 함수를 사용하기"
   ]
  },
  {
   "cell_type": "code",
   "execution_count": 50,
   "metadata": {},
   "outputs": [
    {
     "name": "stdout",
     "output_type": "stream",
     "text": [
      "[[0 1 2]\n",
      " [3 4 5]\n",
      " [6 7 8]]\n",
      "\n",
      "[0 1 2]\n",
      "[0 1 2]\n",
      "[3 4 5]\n",
      "[6 7 8]\n"
     ]
    }
   ],
   "source": [
    "# 질의 함수 사용하기\n",
    "x = np.arange(9).reshape(3, 3)\n",
    "print(x)\n",
    "print()\n",
    "\n",
    "print(np.choose(0, x))\n",
    "print(np.choose([0], x))\n",
    "print(np.choose(1, x))\n",
    "print(np.choose(2, x))"
   ]
  },
  {
   "cell_type": "code",
   "execution_count": 51,
   "metadata": {},
   "outputs": [
    {
     "name": "stdout",
     "output_type": "stream",
     "text": [
      "invalid entry in choice array\n"
     ]
    }
   ],
   "source": [
    "try:\n",
    "    np.choose(3, x)\n",
    "except Exception as e:\n",
    "    print(e)"
   ]
  },
  {
   "cell_type": "code",
   "execution_count": 52,
   "metadata": {},
   "outputs": [
    {
     "name": "stdout",
     "output_type": "stream",
     "text": [
      "(0, 1, 2)\n",
      "[0 4 8]\n",
      "[6 4 2]\n",
      "\n",
      "([0], [1], [2])\n",
      "[[0 1 2]\n",
      " [3 4 5]\n",
      " [6 7 8]]\n",
      "\n",
      "[[0 1 2]\n",
      " [3 4 5]\n",
      " [6 7 8]\n",
      " [6 7 8]]\n"
     ]
    }
   ],
   "source": [
    "print(tuple([0, 1, 2]))\n",
    "print(np.choose(tuple([0, 1, 2]), x))\n",
    "print(np.choose(tuple([2, 1, 0]), x))\n",
    "print()\n",
    "\n",
    "print(tuple([[0], [1], [2]]))\n",
    "print(np.choose(tuple([[0], [1], [2]]), x))\n",
    "print()\n",
    "print(np.choose(tuple([[0], [1], [2], [2]]), x))"
   ]
  },
  {
   "cell_type": "code",
   "execution_count": 53,
   "metadata": {},
   "outputs": [
    {
     "name": "stdout",
     "output_type": "stream",
     "text": [
      "(array([1, 2, 2, 2]), array([2, 0, 1, 2]))\n",
      "[5 6 7 8]\n",
      "[[0 1 2]\n",
      " [3 4 5]\n",
      " [6 7 8]]\n",
      "\n",
      "[[False False False]\n",
      " [False False False]\n",
      " [ True  True  True]]\n",
      "[6 7 8]\n"
     ]
    }
   ],
   "source": [
    "print(np.where(x > 4))\n",
    "print(x[np.where(x > 4)])\n",
    "print(x)\n",
    "print()\n",
    "print(x > 5)\n",
    "print(np.select(x > 5, x))\n"
   ]
  },
  {
   "cell_type": "code",
   "execution_count": 54,
   "metadata": {},
   "outputs": [
    {
     "data": {
      "text/plain": [
       "array([6, 7, 8])"
      ]
     },
     "execution_count": 54,
     "metadata": {},
     "output_type": "execute_result"
    }
   ],
   "source": [
    "a = np.select(x>5, x)\n",
    "a"
   ]
  },
  {
   "cell_type": "code",
   "execution_count": 55,
   "metadata": {},
   "outputs": [
    {
     "data": {
      "text/plain": [
       "array([5, 6, 7, 8])"
      ]
     },
     "execution_count": 55,
     "metadata": {},
     "output_type": "execute_result"
    }
   ],
   "source": [
    "np.extract(x>4, x)"
   ]
  }
 ],
 "metadata": {
  "kernelspec": {
   "display_name": "kdt6",
   "language": "python",
   "name": "python3"
  },
  "language_info": {
   "codemirror_mode": {
    "name": "ipython",
    "version": 3
   },
   "file_extension": ".py",
   "mimetype": "text/x-python",
   "name": "python",
   "nbconvert_exporter": "python",
   "pygments_lexer": "ipython3",
   "version": "3.11.9"
  }
 },
 "nbformat": 4,
 "nbformat_minor": 2
}
