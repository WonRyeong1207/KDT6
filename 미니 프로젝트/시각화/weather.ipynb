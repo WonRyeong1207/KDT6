{
 "cells": [
  {
   "cell_type": "code",
   "execution_count": 1,
   "metadata": {},
   "outputs": [],
   "source": [
    "import pandas as pd"
   ]
  },
  {
   "cell_type": "code",
   "execution_count": 4,
   "metadata": {},
   "outputs": [],
   "source": [
    "# 파일 경로\n",
    "HW2206_path = './data/HW2206.csv'\n",
    "HW2207_path = './data/HW2207.csv'\n",
    "HW2208_path = './data/HW2208.csv'\n",
    "HW2306_path = './data/HW2306.csv'\n",
    "HW2307_path = './data/HW2307.csv'\n",
    "HW2308_path = './data/HW2308.csv'\n",
    "HW2406_path = './data/HW2406.csv'\n",
    "HW2407_path = './data/HW2407.csv'\n",
    "\n",
    "\n",
    "HW2206_df = pd.read_csv(HW2206_path)\n",
    "HW2207_df = pd.read_csv(HW2207_path)\n",
    "HW2208_df = pd.read_csv(HW2208_path)\n",
    "HW2306_df = pd.read_csv(HW2306_path)\n",
    "HW2307_df = pd.read_csv(HW2307_path)\n",
    "HW2308_df = pd.read_csv(HW2308_path)\n",
    "HW2406_df = pd.read_csv(HW2406_path)\n",
    "HW2407_df = pd.read_csv(HW2407_path)"
   ]
  },
  {
   "cell_type": "code",
   "execution_count": 6,
   "metadata": {},
   "outputs": [],
   "source": [
    "# 특정 지역의 데이터만 뽑아주는 함수\n",
    "def make_city_df(df, city):\n",
    "    # 지점 컬럼에서 지역명만 빼기\n",
    "    list_data = []\n",
    "\n",
    "    for i in df['지점']:\n",
    "        list_data.append(i.split('(')[0])\n",
    "\n",
    "    df['지점'] = list_data\n",
    "    return df[df['지점'] == city]\n",
    "\n",
    "def concat_data(city):\n",
    "    data = pd.concat(\n",
    "            [make_city_df(HW2206_df, city), \n",
    "             make_city_df(HW2207_df, city),\n",
    "             make_city_df(HW2208_df, city), \n",
    "             make_city_df(HW2306_df, city),\n",
    "             make_city_df(HW2307_df, city),\n",
    "             make_city_df(HW2308_df, city),\n",
    "             make_city_df(HW2406_df, city),\n",
    "             make_city_df(HW2407_df, city)], ignore_index = True)\n",
    "    return data"
   ]
  },
  {
   "cell_type": "code",
   "execution_count": 8,
   "metadata": {},
   "outputs": [],
   "source": [
    "seoul_df = concat_data('서울')\n",
    "deagu_df = concat_data('대구')\n",
    "deajeon_df = concat_data('대전')\n",
    "gwangju_df = concat_data('광주')\n",
    "ulsan_df = concat_data('울산')\n",
    "incheon_df = concat_data('인천')\n",
    "busan_df = concat_data('부산')"
   ]
  },
  {
   "cell_type": "code",
   "execution_count": 10,
   "metadata": {},
   "outputs": [
    {
     "data": {
      "text/plain": [
       "일시            0\n",
       "지점            0\n",
       "폭염여부(O/X)     0\n",
       "최고체감온도(°C)    0\n",
       "최고기온(°C)      1\n",
       "평균기온(°C)      1\n",
       "최저기온(°C)      0\n",
       "평균상대습도(%)     0\n",
       "폭염특보(O/X)     0\n",
       "폭염영향예보(단계)    0\n",
       "열대야(O/X)      0\n",
       "자외선지수(단계)     0\n",
       "dtype: int64"
      ]
     },
     "execution_count": 10,
     "metadata": {},
     "output_type": "execute_result"
    }
   ],
   "source": [
    "deagu_df.isna().sum()"
   ]
  },
  {
   "cell_type": "code",
   "execution_count": 11,
   "metadata": {},
   "outputs": [
    {
     "data": {
      "text/plain": [
       "일시            0\n",
       "지점            0\n",
       "폭염여부(O/X)     0\n",
       "최고체감온도(°C)    0\n",
       "최고기온(°C)      0\n",
       "평균기온(°C)      1\n",
       "최저기온(°C)      1\n",
       "평균상대습도(%)     0\n",
       "폭염특보(O/X)     0\n",
       "폭염영향예보(단계)    0\n",
       "열대야(O/X)      0\n",
       "자외선지수(단계)     0\n",
       "dtype: int64"
      ]
     },
     "execution_count": 11,
     "metadata": {},
     "output_type": "execute_result"
    }
   ],
   "source": [
    "deajeon_df.isna().sum()"
   ]
  },
  {
   "cell_type": "markdown",
   "metadata": {},
   "source": [
    "- 데이터는 효준님의 도움을 받아 22.6 ~ 24.7 까지 서울, 인천, 대전, 광주, 대구, 부산, 울산의 데이터를 받아서 정리함.\n",
    "- \n",
    "- 나의 목표는 24.8의 폭염예측\n",
    "    - 일단은 대구 먼저\n",
    "    - 22.8, 23.8 의 데이터에서 어떤 컬럼을 써야할까?"
   ]
  }
 ],
 "metadata": {
  "kernelspec": {
   "display_name": "kdt6",
   "language": "python",
   "name": "python3"
  },
  "language_info": {
   "codemirror_mode": {
    "name": "ipython",
    "version": 3
   },
   "file_extension": ".py",
   "mimetype": "text/x-python",
   "name": "python",
   "nbconvert_exporter": "python",
   "pygments_lexer": "ipython3",
   "version": "3.11.9"
  }
 },
 "nbformat": 4,
 "nbformat_minor": 2
}
