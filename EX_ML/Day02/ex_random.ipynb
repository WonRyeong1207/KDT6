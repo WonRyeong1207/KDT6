{
 "cells": [
  {
   "cell_type": "markdown",
   "metadata": {},
   "source": [
    "### 임의의 숫자, 난수 추출\n",
    "- random 모듈 존재\n",
    "- 0.0 ~ 1.0 실수 추출: random\n",
    "- n ~ m 정수 추출: randint\n",
    "- random 값 고정: seed"
   ]
  },
  {
   "cell_type": "code",
   "execution_count": 2,
   "metadata": {},
   "outputs": [],
   "source": [
    "import random"
   ]
  },
  {
   "cell_type": "code",
   "execution_count": 3,
   "metadata": {},
   "outputs": [
    {
     "name": "stdout",
     "output_type": "stream",
     "text": [
      "50\n",
      "34\n",
      "34\n",
      "75\n",
      "97\n",
      "9\n",
      "57\n",
      "84\n",
      "55\n",
      "76\n"
     ]
    }
   ],
   "source": [
    "for _ in range(10):\n",
    "    \n",
    "    print(random.randint(1, 100))"
   ]
  },
  {
   "cell_type": "code",
   "execution_count": 4,
   "metadata": {},
   "outputs": [
    {
     "name": "stdout",
     "output_type": "stream",
     "text": [
      "0.15785510406774006\n",
      "0.5590706119250392\n",
      "0.09396420508229097\n",
      "0.9142946578966769\n",
      "0.016848433539505825\n",
      "0.13266101431896637\n",
      "0.2714770820114635\n",
      "0.8800198950214203\n",
      "0.6909396766864355\n",
      "0.25995958469192837\n"
     ]
    }
   ],
   "source": [
    "for _ in range(10):\n",
    "    print(random.random())"
   ]
  },
  {
   "cell_type": "code",
   "execution_count": 5,
   "metadata": {},
   "outputs": [
    {
     "name": "stdout",
     "output_type": "stream",
     "text": [
      "0.6771258268002703\n",
      "0.7849113560871108\n",
      "0.5204661572030815\n",
      "0.5114917024932601\n",
      "0.39353466292596484\n",
      "0.996816937097899\n",
      "0.2893649457745707\n",
      "0.14825979318469462\n",
      "0.2610785745655583\n",
      "0.260437193601329\n"
     ]
    }
   ],
   "source": [
    "random.seed(19)\n",
    "for _ in range(10):\n",
    "    print(random.random())"
   ]
  },
  {
   "cell_type": "code",
   "execution_count": 6,
   "metadata": {},
   "outputs": [],
   "source": [
    "X = [[10], [3], [9], [5], [8], \n",
    "     [7], [12], [67], [91], [45],\n",
    "     [2], [17]]\n",
    "y = [x for x in range(1, 13)]"
   ]
  },
  {
   "cell_type": "code",
   "execution_count": 7,
   "metadata": {},
   "outputs": [],
   "source": [
    "from sklearn.model_selection import train_test_split"
   ]
  },
  {
   "cell_type": "code",
   "execution_count": 8,
   "metadata": {},
   "outputs": [],
   "source": [
    "# 섞지 않고 train, test 분리\n",
    "X_train, X_test, y_train, y_test = train_test_split(X, y, shuffle=False)"
   ]
  },
  {
   "cell_type": "code",
   "execution_count": 9,
   "metadata": {},
   "outputs": [
    {
     "name": "stdout",
     "output_type": "stream",
     "text": [
      "X: [[10], [3], [9], [5], [8], [7], [12], [67], [91], [45], [2], [17]]\n",
      "X_train: [[10], [3], [9], [5], [8], [7], [12], [67], [91]]\n",
      "X_test: [[45], [2], [17]]\n"
     ]
    }
   ],
   "source": [
    "print(f\"X: {X}\")\n",
    "print(f\"X_train: {X_train}\")\n",
    "print(f\"X_test: {X_test}\")"
   ]
  },
  {
   "cell_type": "code",
   "execution_count": 12,
   "metadata": {},
   "outputs": [],
   "source": [
    "# 섞어서 train, test split\n",
    "# random state\n",
    "X_train, X_test, y_train, y_test = train_test_split(X, y, random_state=3)"
   ]
  },
  {
   "cell_type": "code",
   "execution_count": 11,
   "metadata": {},
   "outputs": [
    {
     "name": "stdout",
     "output_type": "stream",
     "text": [
      "X: [[10], [3], [9], [5], [8], [7], [12], [67], [91], [45], [2], [17]]\n",
      "X_train: [[9], [17], [12], [67], [10], [5], [45], [91], [2]]\n",
      "X_test: [[7], [8], [3]]\n"
     ]
    }
   ],
   "source": [
    "print(f\"X: {X}\")\n",
    "print(f\"X_train: {X_train}\")\n",
    "print(f\"X_test: {X_test}\")"
   ]
  },
  {
   "cell_type": "code",
   "execution_count": 24,
   "metadata": {},
   "outputs": [
    {
     "name": "stdout",
     "output_type": "stream",
     "text": [
      "X: [[10], [3], [9], [5], [8], [7], [12], [67], [91], [45], [2], [17]]\n",
      "X_train: [[7], [91], [5], [17], [2], [8], [45], [9], [67]]\n",
      "X_test: [[10], [12], [3]]\n"
     ]
    }
   ],
   "source": [
    "# shuffle: True\n",
    "# random sate: None\n",
    "X_train, X_test, y_train, y_test = train_test_split(X, y)\n",
    "\n",
    "print(f\"X: {X}\")\n",
    "print(f\"X_train: {X_train}\")\n",
    "print(f\"X_test: {X_test}\")"
   ]
  },
  {
   "cell_type": "code",
   "execution_count": null,
   "metadata": {},
   "outputs": [],
   "source": []
  }
 ],
 "metadata": {
  "kernelspec": {
   "display_name": "ml_38",
   "language": "python",
   "name": "python3"
  },
  "language_info": {
   "codemirror_mode": {
    "name": "ipython",
    "version": 3
   },
   "file_extension": ".py",
   "mimetype": "text/x-python",
   "name": "python",
   "nbconvert_exporter": "python",
   "pygments_lexer": "ipython3",
   "version": "3.8.19"
  }
 },
 "nbformat": 4,
 "nbformat_minor": 2
}
