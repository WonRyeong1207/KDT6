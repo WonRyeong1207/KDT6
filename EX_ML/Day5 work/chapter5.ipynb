{
 "cells": [
  {
   "cell_type": "markdown",
   "metadata": {},
   "source": [
    "### 파이선 머신러닝 완벽가이드: Chapter5 - Regression\n",
    "- Linear Regression\n",
    "- Ridge\n",
    "- Lasso\n",
    "- ElasticNet\n",
    "- Logistic Regression"
   ]
  },
  {
   "cell_type": "markdown",
   "metadata": {},
   "source": [
    "- 01. 회귀 소개\n",
    "    - 회귀 분석은 데이터 값이 평균과 같은 일정한 값으로 돌아가려는 경향을 이용한 통계학 기법\n",
    "    - 회귀는 여러개의 독립변수와 한 개의 종속변수 간의 상관관계를 모델링하는 기법"
   ]
  },
  {
   "cell_type": "code",
   "execution_count": null,
   "metadata": {},
   "outputs": [],
   "source": []
  }
 ],
 "metadata": {
  "kernelspec": {
   "display_name": "ml_38",
   "language": "python",
   "name": "python3"
  },
  "language_info": {
   "name": "python",
   "version": "undefined.undefined.undefined"
  }
 },
 "nbformat": 4,
 "nbformat_minor": 2
}
