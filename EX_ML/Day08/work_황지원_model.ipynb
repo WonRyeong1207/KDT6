{
 "cells": [
  {
   "cell_type": "markdown",
   "metadata": {},
   "source": [
    "### 언어 분류 모델 만들기\n",
    "- datasets: train, test csv\n",
    "- feature: all columns\n",
    "- label: en, fr, id, tl\n",
    "-\n",
    "- learning method: supervised learning, classification\n",
    "- learning algorithm: decisontree? support vactor machine? undetermined\n",
    "- encoding: true\n",
    "    - encoding method: label incoding"
   ]
  },
  {
   "cell_type": "code",
   "execution_count": 1,
   "metadata": {},
   "outputs": [],
   "source": [
    "import pandas as pd\n",
    "import numpy as np\n",
    "import matplotlib.pyplot as plt"
   ]
  },
  {
   "cell_type": "code",
   "execution_count": 41,
   "metadata": {},
   "outputs": [],
   "source": [
    "# datasets\n",
    "train_en_df = pd.read_csv('../data/Language/train_en_df.csv', encoding='utf-8')\n",
    "train_fr_df = pd.read_csv('../data/Language/train_fr_df.csv', encoding='utf-8')\n",
    "train_id_df = pd.read_csv('../data/Language/train_id_df.csv', encoding='utf-8')\n",
    "train_tl_df = pd.read_csv('../data/Language/train_tl_df.csv', encoding='utf-8')\n",
    "\n",
    "test_en_df = pd.read_csv('../data/Language/test_en_df.csv', encoding='utf-8')\n",
    "test_fr_df = pd.read_csv('../data/Language/test_fr_df.csv', encoding='utf-8')\n",
    "test_id_df = pd.read_csv('../data/Language/test_id_df.csv', encoding='utf-8')\n",
    "test_tl_df = pd.read_csv('../data/Language/test_tl_df.csv', encoding='utf-8')"
   ]
  },
  {
   "cell_type": "code",
   "execution_count": 42,
   "metadata": {},
   "outputs": [],
   "source": [
    "# datasets\n",
    "train_en_df2 = pd.read_csv('../data/Language/train_en_df2.csv', encoding='utf-8')\n",
    "train_fr_df2 = pd.read_csv('../data/Language/train_fr_df2.csv', encoding='utf-8')\n",
    "train_id_df2 = pd.read_csv('../data/Language/train_id_df2.csv', encoding='utf-8')\n",
    "train_tl_df2 = pd.read_csv('../data/Language/train_tl_df2.csv', encoding='utf-8')\n",
    "\n",
    "test_en_df2 = pd.read_csv('../data/Language/test_en_df2.csv', encoding='utf-8')\n",
    "test_fr_df2 = pd.read_csv('../data/Language/test_fr_df2.csv', encoding='utf-8')\n",
    "test_id_df2 = pd.read_csv('../data/Language/test_id_df2.csv', encoding='utf-8')\n",
    "test_tl_df2 = pd.read_csv('../data/Language/test_tl_df2.csv', encoding='utf-8')"
   ]
  },
  {
   "cell_type": "code",
   "execution_count": 43,
   "metadata": {},
   "outputs": [
    {
     "name": "stdout",
     "output_type": "stream",
     "text": [
      "train: (874, 20), 2D\n",
      "test: (1080, 8), 2D\n"
     ]
    }
   ],
   "source": [
    "train_df = pd.concat([train_en_df, train_fr_df, train_id_df, train_tl_df], axis=1)\n",
    "test_df = pd.concat([test_en_df, test_fr_df, test_id_df, test_tl_df], axis=1)\n",
    "label_sr = pd.Series(['en', 'fr', 'id', 'tl'])\n",
    "\n",
    "print(f\"train: {train_df.shape}, {train_df.ndim}D\")\n",
    "print(f\"test: {test_df.shape}, {test_df.ndim}D\")"
   ]
  },
  {
   "cell_type": "code",
   "execution_count": 44,
   "metadata": {},
   "outputs": [
    {
     "name": "stdout",
     "output_type": "stream",
     "text": [
      "train: (1490, 4), 2D\n",
      "test: (1770, 4), 2D\n"
     ]
    }
   ],
   "source": [
    "train_df2 = pd.concat([train_en_df2, train_fr_df2, train_id_df2, train_tl_df2], axis=1)\n",
    "test_df2 = pd.concat([test_en_df2, test_fr_df2, test_id_df2, test_tl_df2], axis=1)\n",
    "# label_sr = pd.Series(['en', 'fr', 'id', 'tl'])\n",
    "\n",
    "print(f\"train: {train_df2.shape}, {train_df2.ndim}D\")\n",
    "print(f\"test: {test_df2.shape}, {test_df2.ndim}D\")"
   ]
  },
  {
   "cell_type": "code",
   "execution_count": 45,
   "metadata": {},
   "outputs": [
    {
     "name": "stdout",
     "output_type": "stream",
     "text": [
      "<class 'pandas.core.frame.DataFrame'>\n",
      "RangeIndex: 874 entries, 0 to 873\n",
      "Data columns (total 20 columns):\n",
      " #   Column      Non-Null Count  Dtype \n",
      "---  ------      --------------  ----- \n",
      " 0   train_en_1  175 non-null    object\n",
      " 1   train_en_2  180 non-null    object\n",
      " 2   train_en_3  92 non-null     object\n",
      " 3   train_en_4  168 non-null    object\n",
      " 4   train_en_5  124 non-null    object\n",
      " 5   train_fr_1  241 non-null    object\n",
      " 6   train_fr_2  172 non-null    object\n",
      " 7   train_fr_3  168 non-null    object\n",
      " 8   train_fr_4  143 non-null    object\n",
      " 9   train_fr_5  192 non-null    object\n",
      " 10  train_id_1  40 non-null     object\n",
      " 11  train_id_2  107 non-null    object\n",
      " 12  train_id_3  232 non-null    object\n",
      " 13  train_id_4  237 non-null    object\n",
      " 14  train_id_5  874 non-null    object\n",
      " 15  train_tl_1  309 non-null    object\n",
      " 16  train_tl_2  204 non-null    object\n",
      " 17  train_tl_3  174 non-null    object\n",
      " 18  train_tl_4  215 non-null    object\n",
      " 19  train_tl_5  225 non-null    object\n",
      "dtypes: object(20)\n",
      "memory usage: 136.7+ KB\n"
     ]
    }
   ],
   "source": [
    "train_df.info()"
   ]
  },
  {
   "cell_type": "code",
   "execution_count": 46,
   "metadata": {},
   "outputs": [
    {
     "name": "stdout",
     "output_type": "stream",
     "text": [
      "<class 'pandas.core.frame.DataFrame'>\n",
      "RangeIndex: 1490 entries, 0 to 1489\n",
      "Data columns (total 4 columns):\n",
      " #   Column    Non-Null Count  Dtype \n",
      "---  ------    --------------  ----- \n",
      " 0   train_en  739 non-null    object\n",
      " 1   train_fr  916 non-null    object\n",
      " 2   train_id  1490 non-null   object\n",
      " 3   train_tl  1127 non-null   object\n",
      "dtypes: object(4)\n",
      "memory usage: 46.7+ KB\n"
     ]
    }
   ],
   "source": [
    "train_df2.info()"
   ]
  },
  {
   "cell_type": "code",
   "execution_count": 47,
   "metadata": {},
   "outputs": [
    {
     "data": {
      "text/plain": [
       "train_en_1    699\n",
       "train_en_2    694\n",
       "train_en_3    782\n",
       "train_en_4    706\n",
       "train_en_5    750\n",
       "train_fr_1    633\n",
       "train_fr_2    702\n",
       "train_fr_3    706\n",
       "train_fr_4    731\n",
       "train_fr_5    682\n",
       "train_id_1    834\n",
       "train_id_2    767\n",
       "train_id_3    642\n",
       "train_id_4    637\n",
       "train_id_5      0\n",
       "train_tl_1    565\n",
       "train_tl_2    670\n",
       "train_tl_3    700\n",
       "train_tl_4    659\n",
       "train_tl_5    649\n",
       "dtype: int64"
      ]
     },
     "execution_count": 47,
     "metadata": {},
     "output_type": "execute_result"
    }
   ],
   "source": [
    "train_df.isna().sum()"
   ]
  },
  {
   "cell_type": "code",
   "execution_count": 48,
   "metadata": {},
   "outputs": [
    {
     "data": {
      "text/plain": [
       "train_en    751\n",
       "train_fr    574\n",
       "train_id      0\n",
       "train_tl    363\n",
       "dtype: int64"
      ]
     },
     "execution_count": 48,
     "metadata": {},
     "output_type": "execute_result"
    }
   ],
   "source": [
    "train_df2.isna().sum()"
   ]
  },
  {
   "cell_type": "code",
   "execution_count": 135,
   "metadata": {},
   "outputs": [
    {
     "name": "stdout",
     "output_type": "stream",
     "text": [
      "<class 'pandas.core.frame.DataFrame'>\n",
      "RangeIndex: 1770 entries, 0 to 1769\n",
      "Data columns (total 4 columns):\n",
      " #   Column   Non-Null Count  Dtype \n",
      "---  ------   --------------  ----- \n",
      " 0   test_en  1770 non-null   object\n",
      " 1   test_fr  1101 non-null   object\n",
      " 2   test_id  529 non-null    object\n",
      " 3   test_tl  321 non-null    object\n",
      "dtypes: object(4)\n",
      "memory usage: 55.4+ KB\n"
     ]
    }
   ],
   "source": [
    "test_df2.info()"
   ]
  },
  {
   "cell_type": "code",
   "execution_count": 134,
   "metadata": {},
   "outputs": [
    {
     "data": {
      "text/plain": [
       "test_en       0\n",
       "test_fr     669\n",
       "test_id    1241\n",
       "test_tl    1449\n",
       "dtype: int64"
      ]
     },
     "execution_count": 134,
     "metadata": {},
     "output_type": "execute_result"
    }
   ],
   "source": [
    "test_df2.isna().sum()"
   ]
  },
  {
   "cell_type": "markdown",
   "metadata": {},
   "source": [
    "- 결측치는 무시하자..\n",
    "- unicode를 이용하는 방법으로 진행 ㄱㄱ"
   ]
  },
  {
   "cell_type": "code",
   "execution_count": 172,
   "metadata": {},
   "outputs": [],
   "source": [
    "# data를 unicode 값으로 변환해주는 함수\n",
    "def count_uni(col):\n",
    "    carry = []\n",
    "    \n",
    "    for i in range(len(col)):\n",
    "        word = col[i]\n",
    "        # counter = np.zeros(65535)\n",
    "        counter = 0   # unicode 한 평면이 가지는 크기: 65535\n",
    "        \n",
    "        if type(word) == str:\n",
    "            # print(word)\n",
    "            for j in range(len(word)):\n",
    "                code_point = ord(word[j])\n",
    "                # print(code_point)\n",
    "                # counter[code_point] += 1\n",
    "                counter += code_point\n",
    "                # print(counter)\n",
    "                \n",
    "            # frequency\n",
    "            # counter = counter / len(word)\n",
    "            carry.append(counter/len(word))\n",
    "            # carry.append(counter)\n",
    "        else:\n",
    "            carry.append(0)\n",
    "        \n",
    "        # print(counter)\n",
    "    return carry"
   ]
  },
  {
   "cell_type": "code",
   "execution_count": 173,
   "metadata": {},
   "outputs": [],
   "source": [
    "train_en_uni = count_uni(train_df2['train_en'])\n",
    "train_fr_uni = count_uni(train_df2['train_fr'])\n",
    "train_id_uni = count_uni(train_df2['train_id'])\n",
    "train_tl_uni = count_uni(train_df2['train_tl'])\n",
    "\n",
    "train_uni = pd.DataFrame(columns=['en', 'fr', 'id', 'tl'])\n",
    "\n",
    "train_uni['en'] = train_en_uni\n",
    "train_uni['fr'] = train_fr_uni\n",
    "train_uni['id'] = train_id_uni\n",
    "train_uni['tl'] = train_tl_uni\n",
    "\n",
    "train_uni = train_uni.iloc[:550, :]    #... test에 맞춰야하는 구나..\n",
    "train_uni = train_uni.T"
   ]
  },
  {
   "cell_type": "code",
   "execution_count": 174,
   "metadata": {},
   "outputs": [],
   "source": [
    "test_en_uni = count_uni(test_df2['test_en'])\n",
    "test_fr_uni = count_uni(test_df2['test_fr'])\n",
    "test_id_uni = count_uni(test_df2['test_id'])\n",
    "test_tl_uni = count_uni(test_df2['test_tl'])\n",
    "\n",
    "test_uni = pd.DataFrame(columns=['en', 'fr', 'id', 'tl'])\n",
    "\n",
    "test_uni['en'] = test_en_uni\n",
    "test_uni['fr'] = test_fr_uni\n",
    "test_uni['id'] = test_id_uni\n",
    "test_uni['tl'] = test_tl_uni\n",
    "\n",
    "test_uni = test_uni.iloc[:550, :]   # GaussianNB의 크기제한... en 때문에 너무 많은 결측치를 좀 줄일수 있을까...\n",
    "test_uni = test_uni.T"
   ]
  },
  {
   "cell_type": "code",
   "execution_count": 175,
   "metadata": {},
   "outputs": [],
   "source": [
    "from sklearn.tree import DecisionTreeClassifier"
   ]
  },
  {
   "cell_type": "code",
   "execution_count": 176,
   "metadata": {},
   "outputs": [
    {
     "data": {
      "text/html": [
       "<style>#sk-container-id-7 {color: black;}#sk-container-id-7 pre{padding: 0;}#sk-container-id-7 div.sk-toggleable {background-color: white;}#sk-container-id-7 label.sk-toggleable__label {cursor: pointer;display: block;width: 100%;margin-bottom: 0;padding: 0.3em;box-sizing: border-box;text-align: center;}#sk-container-id-7 label.sk-toggleable__label-arrow:before {content: \"▸\";float: left;margin-right: 0.25em;color: #696969;}#sk-container-id-7 label.sk-toggleable__label-arrow:hover:before {color: black;}#sk-container-id-7 div.sk-estimator:hover label.sk-toggleable__label-arrow:before {color: black;}#sk-container-id-7 div.sk-toggleable__content {max-height: 0;max-width: 0;overflow: hidden;text-align: left;background-color: #f0f8ff;}#sk-container-id-7 div.sk-toggleable__content pre {margin: 0.2em;color: black;border-radius: 0.25em;background-color: #f0f8ff;}#sk-container-id-7 input.sk-toggleable__control:checked~div.sk-toggleable__content {max-height: 200px;max-width: 100%;overflow: auto;}#sk-container-id-7 input.sk-toggleable__control:checked~label.sk-toggleable__label-arrow:before {content: \"▾\";}#sk-container-id-7 div.sk-estimator input.sk-toggleable__control:checked~label.sk-toggleable__label {background-color: #d4ebff;}#sk-container-id-7 div.sk-label input.sk-toggleable__control:checked~label.sk-toggleable__label {background-color: #d4ebff;}#sk-container-id-7 input.sk-hidden--visually {border: 0;clip: rect(1px 1px 1px 1px);clip: rect(1px, 1px, 1px, 1px);height: 1px;margin: -1px;overflow: hidden;padding: 0;position: absolute;width: 1px;}#sk-container-id-7 div.sk-estimator {font-family: monospace;background-color: #f0f8ff;border: 1px dotted black;border-radius: 0.25em;box-sizing: border-box;margin-bottom: 0.5em;}#sk-container-id-7 div.sk-estimator:hover {background-color: #d4ebff;}#sk-container-id-7 div.sk-parallel-item::after {content: \"\";width: 100%;border-bottom: 1px solid gray;flex-grow: 1;}#sk-container-id-7 div.sk-label:hover label.sk-toggleable__label {background-color: #d4ebff;}#sk-container-id-7 div.sk-serial::before {content: \"\";position: absolute;border-left: 1px solid gray;box-sizing: border-box;top: 0;bottom: 0;left: 50%;z-index: 0;}#sk-container-id-7 div.sk-serial {display: flex;flex-direction: column;align-items: center;background-color: white;padding-right: 0.2em;padding-left: 0.2em;position: relative;}#sk-container-id-7 div.sk-item {position: relative;z-index: 1;}#sk-container-id-7 div.sk-parallel {display: flex;align-items: stretch;justify-content: center;background-color: white;position: relative;}#sk-container-id-7 div.sk-item::before, #sk-container-id-7 div.sk-parallel-item::before {content: \"\";position: absolute;border-left: 1px solid gray;box-sizing: border-box;top: 0;bottom: 0;left: 50%;z-index: -1;}#sk-container-id-7 div.sk-parallel-item {display: flex;flex-direction: column;z-index: 1;position: relative;background-color: white;}#sk-container-id-7 div.sk-parallel-item:first-child::after {align-self: flex-end;width: 50%;}#sk-container-id-7 div.sk-parallel-item:last-child::after {align-self: flex-start;width: 50%;}#sk-container-id-7 div.sk-parallel-item:only-child::after {width: 0;}#sk-container-id-7 div.sk-dashed-wrapped {border: 1px dashed gray;margin: 0 0.4em 0.5em 0.4em;box-sizing: border-box;padding-bottom: 0.4em;background-color: white;}#sk-container-id-7 div.sk-label label {font-family: monospace;font-weight: bold;display: inline-block;line-height: 1.2em;}#sk-container-id-7 div.sk-label-container {text-align: center;}#sk-container-id-7 div.sk-container {/* jupyter's `normalize.less` sets `[hidden] { display: none; }` but bootstrap.min.css set `[hidden] { display: none !important; }` so we also need the `!important` here to be able to override the default hidden behavior on the sphinx rendered scikit-learn.org. See: https://github.com/scikit-learn/scikit-learn/issues/21755 */display: inline-block !important;position: relative;}#sk-container-id-7 div.sk-text-repr-fallback {display: none;}</style><div id=\"sk-container-id-7\" class=\"sk-top-container\"><div class=\"sk-text-repr-fallback\"><pre>DecisionTreeClassifier()</pre><b>In a Jupyter environment, please rerun this cell to show the HTML representation or trust the notebook. <br />On GitHub, the HTML representation is unable to render, please try loading this page with nbviewer.org.</b></div><div class=\"sk-container\" hidden><div class=\"sk-item\"><div class=\"sk-estimator sk-toggleable\"><input class=\"sk-toggleable__control sk-hidden--visually\" id=\"sk-estimator-id-7\" type=\"checkbox\" checked><label for=\"sk-estimator-id-7\" class=\"sk-toggleable__label sk-toggleable__label-arrow\">DecisionTreeClassifier</label><div class=\"sk-toggleable__content\"><pre>DecisionTreeClassifier()</pre></div></div></div></div></div>"
      ],
      "text/plain": [
       "DecisionTreeClassifier()"
      ]
     },
     "execution_count": 176,
     "metadata": {},
     "output_type": "execute_result"
    }
   ],
   "source": [
    "# model instance\n",
    "dtc_model = DecisionTreeClassifier()\n",
    "dtc_model.fit(train_uni, label_sr)"
   ]
  },
  {
   "cell_type": "code",
   "execution_count": 177,
   "metadata": {},
   "outputs": [],
   "source": [
    "from sklearn.metrics import accuracy_score, confusion_matrix, classification_report"
   ]
  },
  {
   "cell_type": "code",
   "execution_count": 178,
   "metadata": {},
   "outputs": [],
   "source": [
    "dtc_pred = dtc_model.predict(test_uni)"
   ]
  },
  {
   "cell_type": "code",
   "execution_count": 179,
   "metadata": {},
   "outputs": [],
   "source": [
    "dtc_acc = accuracy_score(label_sr, dtc_pred)\n",
    "# dtc_prec = precision_score(label_sr, dtc_pred)\n",
    "# dtc_recal = recall_score(label_sr, dtc_pred)\n",
    "dtc_mat = confusion_matrix(label_sr, dtc_pred)\n",
    "dtc_repot = classification_report(label_sr, dtc_pred, zero_division=0.0)"
   ]
  },
  {
   "cell_type": "code",
   "execution_count": 180,
   "metadata": {},
   "outputs": [],
   "source": [
    "dtc_train_score = dtc_model.score(train_uni, label_sr)\n",
    "dtc_test_score = dtc_model.score(test_uni, label_sr)"
   ]
  },
  {
   "cell_type": "code",
   "execution_count": 181,
   "metadata": {},
   "outputs": [
    {
     "name": "stdout",
     "output_type": "stream",
     "text": [
      "Decision Tree Accuracy: 50.00 %\n",
      "Decision Tree Train Score: 100.00 %\n",
      "Decision Tree Test Score: 50.00 %\n",
      "\n",
      "Decision Tree Confusion Matrix\n",
      "[[0 0 1 0]\n",
      " [0 1 0 0]\n",
      " [0 0 0 1]\n",
      " [0 0 0 1]]\n",
      "\n",
      "Decision Tree Report\n",
      "              precision    recall  f1-score   support\n",
      "\n",
      "          en       0.00      0.00      0.00         1\n",
      "          fr       1.00      1.00      1.00         1\n",
      "          id       0.00      0.00      0.00         1\n",
      "          tl       0.50      1.00      0.67         1\n",
      "\n",
      "    accuracy                           0.50         4\n",
      "   macro avg       0.38      0.50      0.42         4\n",
      "weighted avg       0.38      0.50      0.42         4\n",
      "\n"
     ]
    }
   ],
   "source": [
    "print(f\"Decision Tree Accuracy: {dtc_acc*100:.2f} %\")\n",
    "print(f\"Decision Tree Train Score: {dtc_train_score*100:.2f} %\")\n",
    "print(f\"Decision Tree Test Score: {dtc_test_score*100:.2f} %\\n\")\n",
    "print(f\"Decision Tree Confusion Matrix\\n{dtc_mat}\\n\")\n",
    "print(f\"Decision Tree Report\\n{dtc_repot}\")"
   ]
  },
  {
   "cell_type": "markdown",
   "metadata": {},
   "source": [
    "- 이거 데이터 shape를 550개의 칼럼이 아닌 행으로 한다면 좀 달라지려나?"
   ]
  }
 ],
 "metadata": {
  "kernelspec": {
   "display_name": "ml_38",
   "language": "python",
   "name": "python3"
  },
  "language_info": {
   "codemirror_mode": {
    "name": "ipython",
    "version": 3
   },
   "file_extension": ".py",
   "mimetype": "text/x-python",
   "name": "python",
   "nbconvert_exporter": "python",
   "pygments_lexer": "ipython3",
   "version": "3.8.19"
  }
 },
 "nbformat": 4,
 "nbformat_minor": 2
}
