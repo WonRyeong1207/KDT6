{
 "cells": [
  {
   "cell_type": "markdown",
   "metadata": {},
   "source": [
    "### Ensemble - RandomForest & ExtraTree\n",
    "- learning algorithm: Supervised learning, Ensemble, Bagging\n",
    "- learninf algorithm: RandomForest\n",
    "- \n",
    "- Bagging: allow repetition, Random Sampling, same model used\n",
    "    - represent algorithm: RandomForest Classification/Regression\n",
    "- Pasting: reject repetition, Random Sampling, same model used\n",
    "    - represent algorithm: ExtraTree Classification/Regression"
   ]
  },
  {
   "cell_type": "markdown",
   "metadata": {},
   "source": [
    "#### Wine Classification\n",
    "- feature: alcohol, sugar, pH\n",
    "- label: class\n",
    "- \n",
    "- wine kind: 0, 1 (red, white I don't know which one is red wine)"
   ]
  },
  {
   "cell_type": "code",
   "execution_count": 1,
   "metadata": {},
   "outputs": [],
   "source": [
    "import pandas as pd\n",
    "import numpy as np\n",
    "import matplotlib.pyplot as plt\n",
    "from sklearn.model_selection import train_test_split"
   ]
  },
  {
   "cell_type": "code",
   "execution_count": 2,
   "metadata": {},
   "outputs": [],
   "source": [
    "file_path = '../data/wine.csv'\n",
    "wine_df = pd.read_csv(file_path)"
   ]
  },
  {
   "cell_type": "code",
   "execution_count": 3,
   "metadata": {},
   "outputs": [
    {
     "name": "stdout",
     "output_type": "stream",
     "text": [
      "<class 'pandas.core.frame.DataFrame'>\n",
      "RangeIndex: 6497 entries, 0 to 6496\n",
      "Data columns (total 4 columns):\n",
      " #   Column   Non-Null Count  Dtype  \n",
      "---  ------   --------------  -----  \n",
      " 0   alcohol  6497 non-null   float64\n",
      " 1   sugar    6497 non-null   float64\n",
      " 2   pH       6497 non-null   float64\n",
      " 3   class    6497 non-null   float64\n",
      "dtypes: float64(4)\n",
      "memory usage: 203.2 KB\n"
     ]
    }
   ],
   "source": [
    "wine_df.info()"
   ]
  },
  {
   "cell_type": "code",
   "execution_count": 4,
   "metadata": {},
   "outputs": [
    {
     "data": {
      "text/html": [
       "<div>\n",
       "<style scoped>\n",
       "    .dataframe tbody tr th:only-of-type {\n",
       "        vertical-align: middle;\n",
       "    }\n",
       "\n",
       "    .dataframe tbody tr th {\n",
       "        vertical-align: top;\n",
       "    }\n",
       "\n",
       "    .dataframe thead th {\n",
       "        text-align: right;\n",
       "    }\n",
       "</style>\n",
       "<table border=\"1\" class=\"dataframe\">\n",
       "  <thead>\n",
       "    <tr style=\"text-align: right;\">\n",
       "      <th></th>\n",
       "      <th>alcohol</th>\n",
       "      <th>sugar</th>\n",
       "      <th>pH</th>\n",
       "      <th>class</th>\n",
       "    </tr>\n",
       "  </thead>\n",
       "  <tbody>\n",
       "    <tr>\n",
       "      <th>0</th>\n",
       "      <td>9.4</td>\n",
       "      <td>1.9</td>\n",
       "      <td>3.51</td>\n",
       "      <td>0.0</td>\n",
       "    </tr>\n",
       "    <tr>\n",
       "      <th>1</th>\n",
       "      <td>9.8</td>\n",
       "      <td>2.6</td>\n",
       "      <td>3.20</td>\n",
       "      <td>0.0</td>\n",
       "    </tr>\n",
       "    <tr>\n",
       "      <th>2</th>\n",
       "      <td>9.8</td>\n",
       "      <td>2.3</td>\n",
       "      <td>3.26</td>\n",
       "      <td>0.0</td>\n",
       "    </tr>\n",
       "    <tr>\n",
       "      <th>3</th>\n",
       "      <td>9.8</td>\n",
       "      <td>1.9</td>\n",
       "      <td>3.16</td>\n",
       "      <td>0.0</td>\n",
       "    </tr>\n",
       "    <tr>\n",
       "      <th>4</th>\n",
       "      <td>9.4</td>\n",
       "      <td>1.9</td>\n",
       "      <td>3.51</td>\n",
       "      <td>0.0</td>\n",
       "    </tr>\n",
       "  </tbody>\n",
       "</table>\n",
       "</div>"
      ],
      "text/plain": [
       "   alcohol  sugar    pH  class\n",
       "0      9.4    1.9  3.51    0.0\n",
       "1      9.8    2.6  3.20    0.0\n",
       "2      9.8    2.3  3.26    0.0\n",
       "3      9.8    1.9  3.16    0.0\n",
       "4      9.4    1.9  3.51    0.0"
      ]
     },
     "execution_count": 4,
     "metadata": {},
     "output_type": "execute_result"
    }
   ],
   "source": [
    "wine_df.head()"
   ]
  },
  {
   "cell_type": "code",
   "execution_count": 5,
   "metadata": {},
   "outputs": [
    {
     "data": {
      "text/plain": [
       "class\n",
       "1.0    4898\n",
       "0.0    1599\n",
       "Name: count, dtype: int64"
      ]
     },
     "execution_count": 5,
     "metadata": {},
     "output_type": "execute_result"
    }
   ],
   "source": [
    "# label의 class 분포\n",
    "wine_df['class'].value_counts()"
   ]
  },
  {
   "cell_type": "code",
   "execution_count": 6,
   "metadata": {},
   "outputs": [
    {
     "data": {
      "text/html": [
       "<div>\n",
       "<style scoped>\n",
       "    .dataframe tbody tr th:only-of-type {\n",
       "        vertical-align: middle;\n",
       "    }\n",
       "\n",
       "    .dataframe tbody tr th {\n",
       "        vertical-align: top;\n",
       "    }\n",
       "\n",
       "    .dataframe thead th {\n",
       "        text-align: right;\n",
       "    }\n",
       "</style>\n",
       "<table border=\"1\" class=\"dataframe\">\n",
       "  <thead>\n",
       "    <tr style=\"text-align: right;\">\n",
       "      <th></th>\n",
       "      <th>alcohol</th>\n",
       "      <th>sugar</th>\n",
       "      <th>pH</th>\n",
       "      <th>class</th>\n",
       "    </tr>\n",
       "  </thead>\n",
       "  <tbody>\n",
       "    <tr>\n",
       "      <th>count</th>\n",
       "      <td>6497.000000</td>\n",
       "      <td>6497.000000</td>\n",
       "      <td>6497.000000</td>\n",
       "      <td>6497.000000</td>\n",
       "    </tr>\n",
       "    <tr>\n",
       "      <th>mean</th>\n",
       "      <td>10.491801</td>\n",
       "      <td>5.443235</td>\n",
       "      <td>3.218501</td>\n",
       "      <td>0.753886</td>\n",
       "    </tr>\n",
       "    <tr>\n",
       "      <th>std</th>\n",
       "      <td>1.192712</td>\n",
       "      <td>4.757804</td>\n",
       "      <td>0.160787</td>\n",
       "      <td>0.430779</td>\n",
       "    </tr>\n",
       "    <tr>\n",
       "      <th>min</th>\n",
       "      <td>8.000000</td>\n",
       "      <td>0.600000</td>\n",
       "      <td>2.720000</td>\n",
       "      <td>0.000000</td>\n",
       "    </tr>\n",
       "    <tr>\n",
       "      <th>25%</th>\n",
       "      <td>9.500000</td>\n",
       "      <td>1.800000</td>\n",
       "      <td>3.110000</td>\n",
       "      <td>1.000000</td>\n",
       "    </tr>\n",
       "    <tr>\n",
       "      <th>50%</th>\n",
       "      <td>10.300000</td>\n",
       "      <td>3.000000</td>\n",
       "      <td>3.210000</td>\n",
       "      <td>1.000000</td>\n",
       "    </tr>\n",
       "    <tr>\n",
       "      <th>75%</th>\n",
       "      <td>11.300000</td>\n",
       "      <td>8.100000</td>\n",
       "      <td>3.320000</td>\n",
       "      <td>1.000000</td>\n",
       "    </tr>\n",
       "    <tr>\n",
       "      <th>max</th>\n",
       "      <td>14.900000</td>\n",
       "      <td>65.800000</td>\n",
       "      <td>4.010000</td>\n",
       "      <td>1.000000</td>\n",
       "    </tr>\n",
       "  </tbody>\n",
       "</table>\n",
       "</div>"
      ],
      "text/plain": [
       "           alcohol        sugar           pH        class\n",
       "count  6497.000000  6497.000000  6497.000000  6497.000000\n",
       "mean     10.491801     5.443235     3.218501     0.753886\n",
       "std       1.192712     4.757804     0.160787     0.430779\n",
       "min       8.000000     0.600000     2.720000     0.000000\n",
       "25%       9.500000     1.800000     3.110000     1.000000\n",
       "50%      10.300000     3.000000     3.210000     1.000000\n",
       "75%      11.300000     8.100000     3.320000     1.000000\n",
       "max      14.900000    65.800000     4.010000     1.000000"
      ]
     },
     "execution_count": 6,
     "metadata": {},
     "output_type": "execute_result"
    }
   ],
   "source": [
    "# feature scaling need..?\n",
    "wine_df.describe()"
   ]
  },
  {
   "cell_type": "code",
   "execution_count": 17,
   "metadata": {},
   "outputs": [],
   "source": [
    "import seaborn as sns"
   ]
  },
  {
   "cell_type": "code",
   "execution_count": 21,
   "metadata": {},
   "outputs": [
    {
     "data": {
      "image/png": "[encoded data removed]",
      "text/plain": [
       "<Figure size 500x500 with 1 Axes>"
      ]
     },
     "metadata": {},
     "output_type": "display_data"
    }
   ],
   "source": [
    "corr_wine = wine_df.corr()\n",
    "\n",
    "plt.figure(figsize=(5,5))\n",
    "sns.heatmap(corr_wine, annot=True, cmap='BuPu', fmt='.2f', linewidths=0.5, cbar=False)\n",
    "plt.title('wine correlation')\n",
    "plt.show()"
   ]
  },
  {
   "cell_type": "code",
   "execution_count": 9,
   "metadata": {},
   "outputs": [
    {
     "name": "stdout",
     "output_type": "stream",
     "text": [
      "feature: (6497, 3), 2D\n",
      "label: (6497,), 1D\n"
     ]
    }
   ],
   "source": [
    "feature_df = wine_df.drop(columns=['class'])\n",
    "label_sr = wine_df['class']\n",
    "\n",
    "print(f\"feature: {feature_df.shape}, {feature_df.ndim}D\")\n",
    "print(f\"label: {label_sr.shape}, {label_sr.ndim}D\")"
   ]
  },
  {
   "cell_type": "code",
   "execution_count": 12,
   "metadata": {},
   "outputs": [
    {
     "name": "stdout",
     "output_type": "stream",
     "text": [
      "X train: (5197, 3), 2D\n",
      "y train: (5197,), 1D\n",
      "\n",
      "X test: (1300, 3), 2D\n",
      "y test: (1300,), 1D\n",
      "\n",
      "train & test ratio: 79.99 %, 20.01 %\n"
     ]
    }
   ],
   "source": [
    "# train : test = 8 : 2\n",
    "# stratify: label\n",
    "# random_state: 25\n",
    "\n",
    "X_train, X_test, y_train, y_test = train_test_split(feature_df, label_sr, stratify=label_sr, test_size=0.2, random_state=25)\n",
    "\n",
    "X_train = X_train.reset_index(drop=True)\n",
    "X_test = X_test.reset_index(drop=True)\n",
    "y_train = y_train.reset_index(drop=True)\n",
    "y_test = y_test.reset_index(drop=True)\n",
    "\n",
    "print(f\"X train: {X_train.shape}, {X_train.ndim}D\")\n",
    "print(f\"y train: {y_train.shape}, {y_train.ndim}D\\n\")\n",
    "print(f\"X test: {X_test.shape}, {X_test.ndim}D\")\n",
    "print(f\"y test: {y_test.shape}, {y_test.ndim}D\\n\")\n",
    "print(f\"train & test ratio: {len(X_train)/len(feature_df)*100:.2f} %, {len(X_test)/len(feature_df)*100:.2f} %\")"
   ]
  },
  {
   "cell_type": "markdown",
   "metadata": {},
   "source": [
    "- RandomForest"
   ]
  },
  {
   "cell_type": "code",
   "execution_count": 13,
   "metadata": {},
   "outputs": [],
   "source": [
    "from sklearn.ensemble import RandomForestClassifier"
   ]
  },
  {
   "cell_type": "code",
   "execution_count": 25,
   "metadata": {},
   "outputs": [
    {
     "data": {
      "text/html": [
       "<style>#sk-container-id-2 {color: black;}#sk-container-id-2 pre{padding: 0;}#sk-container-id-2 div.sk-toggleable {background-color: white;}#sk-container-id-2 label.sk-toggleable__label {cursor: pointer;display: block;width: 100%;margin-bottom: 0;padding: 0.3em;box-sizing: border-box;text-align: center;}#sk-container-id-2 label.sk-toggleable__label-arrow:before {content: \"▸\";float: left;margin-right: 0.25em;color: #696969;}#sk-container-id-2 label.sk-toggleable__label-arrow:hover:before {color: black;}#sk-container-id-2 div.sk-estimator:hover label.sk-toggleable__label-arrow:before {color: black;}#sk-container-id-2 div.sk-toggleable__content {max-height: 0;max-width: 0;overflow: hidden;text-align: left;background-color: #f0f8ff;}#sk-container-id-2 div.sk-toggleable__content pre {margin: 0.2em;color: black;border-radius: 0.25em;background-color: #f0f8ff;}#sk-container-id-2 input.sk-toggleable__control:checked~div.sk-toggleable__content {max-height: 200px;max-width: 100%;overflow: auto;}#sk-container-id-2 input.sk-toggleable__control:checked~label.sk-toggleable__label-arrow:before {content: \"▾\";}#sk-container-id-2 div.sk-estimator input.sk-toggleable__control:checked~label.sk-toggleable__label {background-color: #d4ebff;}#sk-container-id-2 div.sk-label input.sk-toggleable__control:checked~label.sk-toggleable__label {background-color: #d4ebff;}#sk-container-id-2 input.sk-hidden--visually {border: 0;clip: rect(1px 1px 1px 1px);clip: rect(1px, 1px, 1px, 1px);height: 1px;margin: -1px;overflow: hidden;padding: 0;position: absolute;width: 1px;}#sk-container-id-2 div.sk-estimator {font-family: monospace;background-color: #f0f8ff;border: 1px dotted black;border-radius: 0.25em;box-sizing: border-box;margin-bottom: 0.5em;}#sk-container-id-2 div.sk-estimator:hover {background-color: #d4ebff;}#sk-container-id-2 div.sk-parallel-item::after {content: \"\";width: 100%;border-bottom: 1px solid gray;flex-grow: 1;}#sk-container-id-2 div.sk-label:hover label.sk-toggleable__label {background-color: #d4ebff;}#sk-container-id-2 div.sk-serial::before {content: \"\";position: absolute;border-left: 1px solid gray;box-sizing: border-box;top: 0;bottom: 0;left: 50%;z-index: 0;}#sk-container-id-2 div.sk-serial {display: flex;flex-direction: column;align-items: center;background-color: white;padding-right: 0.2em;padding-left: 0.2em;position: relative;}#sk-container-id-2 div.sk-item {position: relative;z-index: 1;}#sk-container-id-2 div.sk-parallel {display: flex;align-items: stretch;justify-content: center;background-color: white;position: relative;}#sk-container-id-2 div.sk-item::before, #sk-container-id-2 div.sk-parallel-item::before {content: \"\";position: absolute;border-left: 1px solid gray;box-sizing: border-box;top: 0;bottom: 0;left: 50%;z-index: -1;}#sk-container-id-2 div.sk-parallel-item {display: flex;flex-direction: column;z-index: 1;position: relative;background-color: white;}#sk-container-id-2 div.sk-parallel-item:first-child::after {align-self: flex-end;width: 50%;}#sk-container-id-2 div.sk-parallel-item:last-child::after {align-self: flex-start;width: 50%;}#sk-container-id-2 div.sk-parallel-item:only-child::after {width: 0;}#sk-container-id-2 div.sk-dashed-wrapped {border: 1px dashed gray;margin: 0 0.4em 0.5em 0.4em;box-sizing: border-box;padding-bottom: 0.4em;background-color: white;}#sk-container-id-2 div.sk-label label {font-family: monospace;font-weight: bold;display: inline-block;line-height: 1.2em;}#sk-container-id-2 div.sk-label-container {text-align: center;}#sk-container-id-2 div.sk-container {/* jupyter's `normalize.less` sets `[hidden] { display: none; }` but bootstrap.min.css set `[hidden] { display: none !important; }` so we also need the `!important` here to be able to override the default hidden behavior on the sphinx rendered scikit-learn.org. See: https://github.com/scikit-learn/scikit-learn/issues/21755 */display: inline-block !important;position: relative;}#sk-container-id-2 div.sk-text-repr-fallback {display: none;}</style><div id=\"sk-container-id-2\" class=\"sk-top-container\"><div class=\"sk-text-repr-fallback\"><pre>RandomForestClassifier(oob_score=True, random_state=25)</pre><b>In a Jupyter environment, please rerun this cell to show the HTML representation or trust the notebook. <br />On GitHub, the HTML representation is unable to render, please try loading this page with nbviewer.org.</b></div><div class=\"sk-container\" hidden><div class=\"sk-item\"><div class=\"sk-estimator sk-toggleable\"><input class=\"sk-toggleable__control sk-hidden--visually\" id=\"sk-estimator-id-2\" type=\"checkbox\" checked><label for=\"sk-estimator-id-2\" class=\"sk-toggleable__label sk-toggleable__label-arrow\">RandomForestClassifier</label><div class=\"sk-toggleable__content\"><pre>RandomForestClassifier(oob_score=True, random_state=25)</pre></div></div></div></div></div>"
      ],
      "text/plain": [
       "RandomForestClassifier(oob_score=True, random_state=25)"
      ]
     },
     "execution_count": 25,
     "metadata": {},
     "output_type": "execute_result"
    }
   ],
   "source": [
    "# model instance\n",
    "# random_state: 25\n",
    "# 내부에서 100개의 decision tree model의 datasets을 만듦\n",
    "\n",
    "rf_model = RandomForestClassifier(random_state=25, oob_score=True)\n",
    "rf_model.fit(X_train, y_train)"
   ]
  },
  {
   "cell_type": "code",
   "execution_count": 26,
   "metadata": {},
   "outputs": [
    {
     "name": "stdout",
     "output_type": "stream",
     "text": [
      "classes_: [0. 1.]\n",
      "n_classes_: 2\n",
      "\n",
      "feature_names_in_: ['alcohol' 'sugar' 'pH']\n",
      "n_features_in_: 3\n",
      "feature_importances_: [0.23080557 0.49776162 0.27143281]\n"
     ]
    }
   ],
   "source": [
    "# model parameter\n",
    "print(f\"classes_: {rf_model.classes_}\")\n",
    "print(f\"n_classes_: {rf_model.n_classes_}\\n\")\n",
    "print(f\"feature_names_in_: {rf_model.feature_names_in_}\")\n",
    "print(f\"n_features_in_: {rf_model.n_features_in_}\")\n",
    "print(f\"feature_importances_: {rf_model.feature_importances_}\")"
   ]
  },
  {
   "cell_type": "code",
   "execution_count": 27,
   "metadata": {},
   "outputs": [
    {
     "name": "stdout",
     "output_type": "stream",
     "text": [
      "(bset?)estimator_: DecisionTreeClassifier()\n",
      "\n",
      "DecisionTreeClassifier(max_features='sqrt', random_state=1589671044)\n",
      "DecisionTreeClassifier(max_features='sqrt', random_state=842096958)\n",
      "DecisionTreeClassifier(max_features='sqrt', random_state=353376730)\n",
      "DecisionTreeClassifier(max_features='sqrt', random_state=1860790415)\n",
      "DecisionTreeClassifier(max_features='sqrt', random_state=1197604157)\n",
      "DecisionTreeClassifier(max_features='sqrt', random_state=424446838)\n",
      "DecisionTreeClassifier(max_features='sqrt', random_state=798482687)\n",
      "DecisionTreeClassifier(max_features='sqrt', random_state=776635543)\n",
      "DecisionTreeClassifier(max_features='sqrt', random_state=1765661612)\n",
      "DecisionTreeClassifier(max_features='sqrt', random_state=646899634)\n",
      "DecisionTreeClassifier(max_features='sqrt', random_state=504124157)\n",
      "DecisionTreeClassifier(max_features='sqrt', random_state=1113162888)\n",
      "DecisionTreeClassifier(max_features='sqrt', random_state=794434716)\n",
      "DecisionTreeClassifier(max_features='sqrt', random_state=519300996)\n",
      "DecisionTreeClassifier(max_features='sqrt', random_state=1879525209)\n",
      "DecisionTreeClassifier(max_features='sqrt', random_state=752438525)\n",
      "DecisionTreeClassifier(max_features='sqrt', random_state=241503135)\n",
      "DecisionTreeClassifier(max_features='sqrt', random_state=1166320116)\n",
      "DecisionTreeClassifier(max_features='sqrt', random_state=1576597957)\n",
      "DecisionTreeClassifier(max_features='sqrt', random_state=1122081409)\n",
      "DecisionTreeClassifier(max_features='sqrt', random_state=1728147623)\n",
      "DecisionTreeClassifier(max_features='sqrt', random_state=1917730563)\n",
      "DecisionTreeClassifier(max_features='sqrt', random_state=485506136)\n",
      "DecisionTreeClassifier(max_features='sqrt', random_state=80444343)\n",
      "DecisionTreeClassifier(max_features='sqrt', random_state=1919982851)\n",
      "DecisionTreeClassifier(max_features='sqrt', random_state=137179988)\n",
      "DecisionTreeClassifier(max_features='sqrt', random_state=366983981)\n",
      "DecisionTreeClassifier(max_features='sqrt', random_state=1747220611)\n",
      "DecisionTreeClassifier(max_features='sqrt', random_state=695720705)\n",
      "DecisionTreeClassifier(max_features='sqrt', random_state=463477142)\n",
      "DecisionTreeClassifier(max_features='sqrt', random_state=88986527)\n",
      "DecisionTreeClassifier(max_features='sqrt', random_state=684380464)\n",
      "DecisionTreeClassifier(max_features='sqrt', random_state=1400378927)\n",
      "DecisionTreeClassifier(max_features='sqrt', random_state=1555037385)\n",
      "DecisionTreeClassifier(max_features='sqrt', random_state=855498384)\n",
      "DecisionTreeClassifier(max_features='sqrt', random_state=1313273324)\n",
      "DecisionTreeClassifier(max_features='sqrt', random_state=1573652589)\n",
      "DecisionTreeClassifier(max_features='sqrt', random_state=1748603442)\n",
      "DecisionTreeClassifier(max_features='sqrt', random_state=1444717525)\n",
      "DecisionTreeClassifier(max_features='sqrt', random_state=1102033444)\n",
      "DecisionTreeClassifier(max_features='sqrt', random_state=2067352201)\n",
      "DecisionTreeClassifier(max_features='sqrt', random_state=994348192)\n",
      "DecisionTreeClassifier(max_features='sqrt', random_state=70876810)\n",
      "DecisionTreeClassifier(max_features='sqrt', random_state=1903729468)\n",
      "DecisionTreeClassifier(max_features='sqrt', random_state=1645179183)\n",
      "DecisionTreeClassifier(max_features='sqrt', random_state=2051042410)\n",
      "DecisionTreeClassifier(max_features='sqrt', random_state=2136921857)\n",
      "DecisionTreeClassifier(max_features='sqrt', random_state=565962710)\n",
      "DecisionTreeClassifier(max_features='sqrt', random_state=61179611)\n",
      "DecisionTreeClassifier(max_features='sqrt', random_state=1501849009)\n",
      "DecisionTreeClassifier(max_features='sqrt', random_state=253631890)\n",
      "DecisionTreeClassifier(max_features='sqrt', random_state=1337143900)\n",
      "DecisionTreeClassifier(max_features='sqrt', random_state=147960612)\n",
      "DecisionTreeClassifier(max_features='sqrt', random_state=453803362)\n",
      "DecisionTreeClassifier(max_features='sqrt', random_state=944592286)\n",
      "DecisionTreeClassifier(max_features='sqrt', random_state=1967111141)\n",
      "DecisionTreeClassifier(max_features='sqrt', random_state=1808196456)\n",
      "DecisionTreeClassifier(max_features='sqrt', random_state=600367339)\n",
      "DecisionTreeClassifier(max_features='sqrt', random_state=1876622064)\n",
      "DecisionTreeClassifier(max_features='sqrt', random_state=1289009830)\n",
      "DecisionTreeClassifier(max_features='sqrt', random_state=1209895540)\n",
      "DecisionTreeClassifier(max_features='sqrt', random_state=641858690)\n",
      "DecisionTreeClassifier(max_features='sqrt', random_state=1719165189)\n",
      "DecisionTreeClassifier(max_features='sqrt', random_state=990745657)\n",
      "DecisionTreeClassifier(max_features='sqrt', random_state=728479177)\n",
      "DecisionTreeClassifier(max_features='sqrt', random_state=465801238)\n",
      "DecisionTreeClassifier(max_features='sqrt', random_state=1958800368)\n",
      "DecisionTreeClassifier(max_features='sqrt', random_state=10171659)\n",
      "DecisionTreeClassifier(max_features='sqrt', random_state=1244700162)\n",
      "DecisionTreeClassifier(max_features='sqrt', random_state=944283819)\n",
      "DecisionTreeClassifier(max_features='sqrt', random_state=110891610)\n",
      "DecisionTreeClassifier(max_features='sqrt', random_state=496283453)\n",
      "DecisionTreeClassifier(max_features='sqrt', random_state=254442708)\n",
      "DecisionTreeClassifier(max_features='sqrt', random_state=1704139475)\n",
      "DecisionTreeClassifier(max_features='sqrt', random_state=1053486026)\n",
      "DecisionTreeClassifier(max_features='sqrt', random_state=501270161)\n",
      "DecisionTreeClassifier(max_features='sqrt', random_state=1410236430)\n",
      "DecisionTreeClassifier(max_features='sqrt', random_state=652494291)\n",
      "DecisionTreeClassifier(max_features='sqrt', random_state=1390257061)\n",
      "DecisionTreeClassifier(max_features='sqrt', random_state=1733385834)\n",
      "DecisionTreeClassifier(max_features='sqrt', random_state=331315159)\n",
      "DecisionTreeClassifier(max_features='sqrt', random_state=2024554802)\n",
      "DecisionTreeClassifier(max_features='sqrt', random_state=622177843)\n",
      "DecisionTreeClassifier(max_features='sqrt', random_state=1963672334)\n",
      "DecisionTreeClassifier(max_features='sqrt', random_state=1328251207)\n",
      "DecisionTreeClassifier(max_features='sqrt', random_state=46827198)\n",
      "DecisionTreeClassifier(max_features='sqrt', random_state=104168922)\n",
      "DecisionTreeClassifier(max_features='sqrt', random_state=603378447)\n",
      "DecisionTreeClassifier(max_features='sqrt', random_state=1967491598)\n",
      "DecisionTreeClassifier(max_features='sqrt', random_state=1108280396)\n",
      "DecisionTreeClassifier(max_features='sqrt', random_state=1645835559)\n",
      "DecisionTreeClassifier(max_features='sqrt', random_state=713763416)\n",
      "DecisionTreeClassifier(max_features='sqrt', random_state=1268870318)\n",
      "DecisionTreeClassifier(max_features='sqrt', random_state=312492915)\n",
      "DecisionTreeClassifier(max_features='sqrt', random_state=53154485)\n",
      "DecisionTreeClassifier(max_features='sqrt', random_state=227980517)\n",
      "DecisionTreeClassifier(max_features='sqrt', random_state=380973981)\n",
      "DecisionTreeClassifier(max_features='sqrt', random_state=2017309453)\n",
      "DecisionTreeClassifier(max_features='sqrt', random_state=608668718)\n",
      "DecisionTreeClassifier(max_features='sqrt', random_state=713804341)\n",
      "\n"
     ]
    }
   ],
   "source": [
    "print(f\"(bset?)estimator_: {rf_model.estimator_}\\n\")\n",
    "for est in rf_model.estimators_:\n",
    "    print(est)\n",
    "print()\n",
    "# for sample in rf_model.estimators_samples_:\n",
    "#     print(sample)"
   ]
  },
  {
   "cell_type": "code",
   "execution_count": 28,
   "metadata": {},
   "outputs": [
    {
     "data": {
      "image/png": "[encoded data removed]",
      "text/plain": [
       "<Figure size 640x480 with 1 Axes>"
      ]
     },
     "metadata": {},
     "output_type": "display_data"
    }
   ],
   "source": [
    "plt.barh(range(rf_model.n_features_in_), rf_model.feature_importances_, align='center')\n",
    "plt.yticks(np.arange(rf_model.n_features_in_), rf_model.feature_names_in_)\n",
    "plt.title('feature importance')\n",
    "plt.xlabel(\"importance\")\n",
    "plt.ylabel(\"feature\")\n",
    "plt.show()"
   ]
  },
  {
   "cell_type": "markdown",
   "metadata": {},
   "source": [
    "- 성능 평가"
   ]
  },
  {
   "cell_type": "code",
   "execution_count": 29,
   "metadata": {},
   "outputs": [
    {
     "name": "stdout",
     "output_type": "stream",
     "text": [
      "Random Forest train score: 99.79 %\n",
      "Random Forest test score: 89.85 %\n"
     ]
    }
   ],
   "source": [
    "rf_train_score = rf_model.score(X_train, y_train)\n",
    "rf_test_score = rf_model.score(X_test, y_test)\n",
    "\n",
    "print(f\"Random Forest train score: {rf_train_score*100:.2f} %\")\n",
    "print(f\"Random Forest test score: {rf_test_score*100:.2f} %\")"
   ]
  },
  {
   "cell_type": "code",
   "execution_count": 30,
   "metadata": {},
   "outputs": [
    {
     "name": "stdout",
     "output_type": "stream",
     "text": [
      "oob_score: 89.97 %\n"
     ]
    }
   ],
   "source": [
    "print(f\"oob_score: {rf_model.oob_score_* 100:.2f} %\")"
   ]
  },
  {
   "cell_type": "markdown",
   "metadata": {},
   "source": [
    "- RandomizedsearchCV\n",
    "    - GridSearchCV와 또 다른 Cross Validation Method\n",
    "    - 값을 일일이 지정하기 여려운 경우에 이용\n",
    "    - hyperparameter 최적화 class\n",
    "    - 지정된 범위에서 지정된 횟수만큼 hyperparameter를 추출하여 조합하여 진행\n",
    "        - n_iter, scoring, cv, return_tarin_score etc"
   ]
  },
  {
   "cell_type": "code",
   "execution_count": 31,
   "metadata": {},
   "outputs": [],
   "source": [
    "from sklearn.model_selection import RandomizedSearchCV"
   ]
  },
  {
   "cell_type": "code",
   "execution_count": 45,
   "metadata": {},
   "outputs": [],
   "source": [
    "# Random Forest Classifier hyperparameter\n",
    "params = {'max_depth':range(2, 15), 'min_samples_leaf':range(5, 16), 'criterion':['gini', 'entropy', 'log_loss']}"
   ]
  },
  {
   "cell_type": "code",
   "execution_count": 33,
   "metadata": {},
   "outputs": [],
   "source": [
    "rf_model = RandomForestClassifier(random_state=25)"
   ]
  },
  {
   "cell_type": "code",
   "execution_count": 46,
   "metadata": {},
   "outputs": [],
   "source": [
    "# verbose: 학습과정을 볼 수 있음\n",
    "seach_cv = RandomizedSearchCV(rf_model, param_distributions=params, return_train_score=True, n_iter=20, cv=5, verbose=4)"
   ]
  },
  {
   "cell_type": "code",
   "execution_count": 47,
   "metadata": {},
   "outputs": [
    {
     "name": "stdout",
     "output_type": "stream",
     "text": [
      "Fitting 5 folds for each of 20 candidates, totalling 100 fits\n",
      "[CV 1/5] END criterion=log_loss, max_depth=6, min_samples_leaf=13;, score=(train=0.870, test=0.858) total time=   0.2s\n",
      "[CV 2/5] END criterion=log_loss, max_depth=6, min_samples_leaf=13;, score=(train=0.866, test=0.859) total time=   0.2s\n",
      "[CV 3/5] END criterion=log_loss, max_depth=6, min_samples_leaf=13;, score=(train=0.874, test=0.862) total time=   0.2s\n",
      "[CV 4/5] END criterion=log_loss, max_depth=6, min_samples_leaf=13;, score=(train=0.871, test=0.859) total time=   0.2s\n",
      "[CV 5/5] END criterion=log_loss, max_depth=6, min_samples_leaf=13;, score=(train=0.871, test=0.859) total time=   0.1s\n",
      "[CV 1/5] END criterion=log_loss, max_depth=14, min_samples_leaf=13;, score=(train=0.891, test=0.869) total time=   0.2s\n",
      "[CV 2/5] END criterion=log_loss, max_depth=14, min_samples_leaf=13;, score=(train=0.890, test=0.882) total time=   0.2s\n",
      "[CV 3/5] END criterion=log_loss, max_depth=14, min_samples_leaf=13;, score=(train=0.898, test=0.859) total time=   0.2s\n",
      "[CV 4/5] END criterion=log_loss, max_depth=14, min_samples_leaf=13;, score=(train=0.891, test=0.862) total time=   0.2s\n",
      "[CV 5/5] END criterion=log_loss, max_depth=14, min_samples_leaf=13;, score=(train=0.892, test=0.871) total time=   0.2s\n",
      "[CV 1/5] END criterion=log_loss, max_depth=14, min_samples_leaf=15;, score=(train=0.886, test=0.867) total time=   0.2s\n",
      "[CV 2/5] END criterion=log_loss, max_depth=14, min_samples_leaf=15;, score=(train=0.885, test=0.873) total time=   0.2s\n",
      "[CV 3/5] END criterion=log_loss, max_depth=14, min_samples_leaf=15;, score=(train=0.894, test=0.859) total time=   0.2s\n",
      "[CV 4/5] END criterion=log_loss, max_depth=14, min_samples_leaf=15;, score=(train=0.888, test=0.859) total time=   0.2s\n",
      "[CV 5/5] END criterion=log_loss, max_depth=14, min_samples_leaf=15;, score=(train=0.891, test=0.864) total time=   0.2s\n",
      "[CV 1/5] END criterion=gini, max_depth=9, min_samples_leaf=7;, score=(train=0.899, test=0.874) total time=   0.2s\n",
      "[CV 2/5] END criterion=gini, max_depth=9, min_samples_leaf=7;, score=(train=0.895, test=0.884) total time=   0.2s\n",
      "[CV 3/5] END criterion=gini, max_depth=9, min_samples_leaf=7;, score=(train=0.904, test=0.864) total time=   0.2s\n",
      "[CV 4/5] END criterion=gini, max_depth=9, min_samples_leaf=7;, score=(train=0.896, test=0.865) total time=   0.2s\n",
      "[CV 5/5] END criterion=gini, max_depth=9, min_samples_leaf=7;, score=(train=0.901, test=0.873) total time=   0.2s\n",
      "[CV 1/5] END criterion=log_loss, max_depth=14, min_samples_leaf=8;, score=(train=0.902, test=0.878) total time=   0.2s\n",
      "[CV 2/5] END criterion=log_loss, max_depth=14, min_samples_leaf=8;, score=(train=0.905, test=0.889) total time=   0.2s\n",
      "[CV 3/5] END criterion=log_loss, max_depth=14, min_samples_leaf=8;, score=(train=0.906, test=0.862) total time=   0.2s\n",
      "[CV 4/5] END criterion=log_loss, max_depth=14, min_samples_leaf=8;, score=(train=0.901, test=0.867) total time=   0.2s\n",
      "[CV 5/5] END criterion=log_loss, max_depth=14, min_samples_leaf=8;, score=(train=0.904, test=0.874) total time=   0.2s\n",
      "[CV 1/5] END criterion=gini, max_depth=11, min_samples_leaf=14;, score=(train=0.888, test=0.873) total time=   0.2s\n",
      "[CV 2/5] END criterion=gini, max_depth=11, min_samples_leaf=14;, score=(train=0.886, test=0.883) total time=   0.2s\n",
      "[CV 3/5] END criterion=gini, max_depth=11, min_samples_leaf=14;, score=(train=0.896, test=0.862) total time=   0.2s\n",
      "[CV 4/5] END criterion=gini, max_depth=11, min_samples_leaf=14;, score=(train=0.885, test=0.861) total time=   0.2s\n",
      "[CV 5/5] END criterion=gini, max_depth=11, min_samples_leaf=14;, score=(train=0.890, test=0.870) total time=   0.2s\n",
      "[CV 1/5] END criterion=log_loss, max_depth=10, min_samples_leaf=8;, score=(train=0.898, test=0.872) total time=   0.2s\n",
      "[CV 2/5] END criterion=log_loss, max_depth=10, min_samples_leaf=8;, score=(train=0.897, test=0.884) total time=   0.2s\n",
      "[CV 3/5] END criterion=log_loss, max_depth=10, min_samples_leaf=8;, score=(train=0.901, test=0.861) total time=   0.2s\n",
      "[CV 4/5] END criterion=log_loss, max_depth=10, min_samples_leaf=8;, score=(train=0.898, test=0.860) total time=   0.2s\n",
      "[CV 5/5] END criterion=log_loss, max_depth=10, min_samples_leaf=8;, score=(train=0.901, test=0.875) total time=   0.2s\n",
      "[CV 1/5] END criterion=log_loss, max_depth=11, min_samples_leaf=6;, score=(train=0.910, test=0.880) total time=   0.2s\n",
      "[CV 2/5] END criterion=log_loss, max_depth=11, min_samples_leaf=6;, score=(train=0.904, test=0.885) total time=   0.2s\n",
      "[CV 3/5] END criterion=log_loss, max_depth=11, min_samples_leaf=6;, score=(train=0.911, test=0.864) total time=   0.2s\n",
      "[CV 4/5] END criterion=log_loss, max_depth=11, min_samples_leaf=6;, score=(train=0.903, test=0.870) total time=   0.2s\n",
      "[CV 5/5] END criterion=log_loss, max_depth=11, min_samples_leaf=6;, score=(train=0.910, test=0.878) total time=   0.2s\n",
      "[CV 1/5] END criterion=log_loss, max_depth=4, min_samples_leaf=9;, score=(train=0.856, test=0.846) total time=   0.1s\n",
      "[CV 2/5] END criterion=log_loss, max_depth=4, min_samples_leaf=9;, score=(train=0.855, test=0.849) total time=   0.1s\n",
      "[CV 3/5] END criterion=log_loss, max_depth=4, min_samples_leaf=9;, score=(train=0.860, test=0.849) total time=   0.1s\n",
      "[CV 4/5] END criterion=log_loss, max_depth=4, min_samples_leaf=9;, score=(train=0.856, test=0.852) total time=   0.1s\n",
      "[CV 5/5] END criterion=log_loss, max_depth=4, min_samples_leaf=9;, score=(train=0.858, test=0.843) total time=   0.1s\n",
      "[CV 1/5] END criterion=log_loss, max_depth=11, min_samples_leaf=14;, score=(train=0.888, test=0.870) total time=   0.2s\n",
      "[CV 2/5] END criterion=log_loss, max_depth=11, min_samples_leaf=14;, score=(train=0.887, test=0.881) total time=   0.2s\n",
      "[CV 3/5] END criterion=log_loss, max_depth=11, min_samples_leaf=14;, score=(train=0.895, test=0.862) total time=   0.2s\n",
      "[CV 4/5] END criterion=log_loss, max_depth=11, min_samples_leaf=14;, score=(train=0.888, test=0.860) total time=   0.2s\n",
      "[CV 5/5] END criterion=log_loss, max_depth=11, min_samples_leaf=14;, score=(train=0.891, test=0.863) total time=   0.2s\n",
      "[CV 1/5] END criterion=log_loss, max_depth=3, min_samples_leaf=10;, score=(train=0.824, test=0.815) total time=   0.1s\n",
      "[CV 2/5] END criterion=log_loss, max_depth=3, min_samples_leaf=10;, score=(train=0.819, test=0.817) total time=   0.1s\n",
      "[CV 3/5] END criterion=log_loss, max_depth=3, min_samples_leaf=10;, score=(train=0.827, test=0.821) total time=   0.1s\n",
      "[CV 4/5] END criterion=log_loss, max_depth=3, min_samples_leaf=10;, score=(train=0.811, test=0.819) total time=   0.1s\n",
      "[CV 5/5] END criterion=log_loss, max_depth=3, min_samples_leaf=10;, score=(train=0.806, test=0.803) total time=   0.1s\n",
      "[CV 1/5] END criterion=gini, max_depth=12, min_samples_leaf=7;, score=(train=0.906, test=0.879) total time=   0.2s\n",
      "[CV 2/5] END criterion=gini, max_depth=12, min_samples_leaf=7;, score=(train=0.903, test=0.889) total time=   0.2s\n",
      "[CV 3/5] END criterion=gini, max_depth=12, min_samples_leaf=7;, score=(train=0.908, test=0.865) total time=   0.2s\n",
      "[CV 4/5] END criterion=gini, max_depth=12, min_samples_leaf=7;, score=(train=0.901, test=0.868) total time=   0.2s\n",
      "[CV 5/5] END criterion=gini, max_depth=12, min_samples_leaf=7;, score=(train=0.908, test=0.877) total time=   0.2s\n",
      "[CV 1/5] END criterion=log_loss, max_depth=9, min_samples_leaf=12;, score=(train=0.887, test=0.867) total time=   0.2s\n",
      "[CV 2/5] END criterion=log_loss, max_depth=9, min_samples_leaf=12;, score=(train=0.887, test=0.878) total time=   0.2s\n",
      "[CV 3/5] END criterion=log_loss, max_depth=9, min_samples_leaf=12;, score=(train=0.895, test=0.857) total time=   0.2s\n",
      "[CV 4/5] END criterion=log_loss, max_depth=9, min_samples_leaf=12;, score=(train=0.888, test=0.864) total time=   0.2s\n",
      "[CV 5/5] END criterion=log_loss, max_depth=9, min_samples_leaf=12;, score=(train=0.891, test=0.866) total time=   0.2s\n",
      "[CV 1/5] END criterion=log_loss, max_depth=12, min_samples_leaf=10;, score=(train=0.899, test=0.870) total time=   0.2s\n",
      "[CV 2/5] END criterion=log_loss, max_depth=12, min_samples_leaf=10;, score=(train=0.897, test=0.886) total time=   0.2s\n",
      "[CV 3/5] END criterion=log_loss, max_depth=12, min_samples_leaf=10;, score=(train=0.902, test=0.859) total time=   0.2s\n",
      "[CV 4/5] END criterion=log_loss, max_depth=12, min_samples_leaf=10;, score=(train=0.898, test=0.866) total time=   0.2s\n",
      "[CV 5/5] END criterion=log_loss, max_depth=12, min_samples_leaf=10;, score=(train=0.895, test=0.870) total time=   0.2s\n",
      "[CV 1/5] END criterion=entropy, max_depth=6, min_samples_leaf=9;, score=(train=0.872, test=0.857) total time=   0.1s\n",
      "[CV 2/5] END criterion=entropy, max_depth=6, min_samples_leaf=9;, score=(train=0.869, test=0.863) total time=   0.1s\n",
      "[CV 3/5] END criterion=entropy, max_depth=6, min_samples_leaf=9;, score=(train=0.877, test=0.860) total time=   0.1s\n",
      "[CV 4/5] END criterion=entropy, max_depth=6, min_samples_leaf=9;, score=(train=0.872, test=0.859) total time=   0.1s\n",
      "[CV 5/5] END criterion=entropy, max_depth=6, min_samples_leaf=9;, score=(train=0.870, test=0.860) total time=   0.1s\n",
      "[CV 1/5] END criterion=gini, max_depth=3, min_samples_leaf=6;, score=(train=0.818, test=0.819) total time=   0.1s\n",
      "[CV 2/5] END criterion=gini, max_depth=3, min_samples_leaf=6;, score=(train=0.820, test=0.814) total time=   0.1s\n",
      "[CV 3/5] END criterion=gini, max_depth=3, min_samples_leaf=6;, score=(train=0.831, test=0.823) total time=   0.1s\n",
      "[CV 4/5] END criterion=gini, max_depth=3, min_samples_leaf=6;, score=(train=0.828, test=0.830) total time=   0.1s\n",
      "[CV 5/5] END criterion=gini, max_depth=3, min_samples_leaf=6;, score=(train=0.830, test=0.830) total time=   0.1s\n",
      "[CV 1/5] END criterion=gini, max_depth=13, min_samples_leaf=10;, score=(train=0.898, test=0.877) total time=   0.2s\n",
      "[CV 2/5] END criterion=gini, max_depth=13, min_samples_leaf=10;, score=(train=0.892, test=0.884) total time=   0.2s\n",
      "[CV 3/5] END criterion=gini, max_depth=13, min_samples_leaf=10;, score=(train=0.902, test=0.861) total time=   0.2s\n",
      "[CV 4/5] END criterion=gini, max_depth=13, min_samples_leaf=10;, score=(train=0.896, test=0.874) total time=   0.2s\n",
      "[CV 5/5] END criterion=gini, max_depth=13, min_samples_leaf=10;, score=(train=0.896, test=0.873) total time=   0.2s\n",
      "[CV 1/5] END criterion=log_loss, max_depth=7, min_samples_leaf=10;, score=(train=0.878, test=0.866) total time=   0.2s\n",
      "[CV 2/5] END criterion=log_loss, max_depth=7, min_samples_leaf=10;, score=(train=0.875, test=0.871) total time=   0.2s\n",
      "[CV 3/5] END criterion=log_loss, max_depth=7, min_samples_leaf=10;, score=(train=0.880, test=0.859) total time=   0.2s\n",
      "[CV 4/5] END criterion=log_loss, max_depth=7, min_samples_leaf=10;, score=(train=0.880, test=0.861) total time=   0.2s\n",
      "[CV 5/5] END criterion=log_loss, max_depth=7, min_samples_leaf=10;, score=(train=0.875, test=0.857) total time=   0.2s\n",
      "[CV 1/5] END criterion=entropy, max_depth=6, min_samples_leaf=11;, score=(train=0.871, test=0.858) total time=   0.1s\n",
      "[CV 2/5] END criterion=entropy, max_depth=6, min_samples_leaf=11;, score=(train=0.867, test=0.856) total time=   0.1s\n",
      "[CV 3/5] END criterion=entropy, max_depth=6, min_samples_leaf=11;, score=(train=0.875, test=0.858) total time=   0.1s\n",
      "[CV 4/5] END criterion=entropy, max_depth=6, min_samples_leaf=11;, score=(train=0.872, test=0.858) total time=   0.1s\n",
      "[CV 5/5] END criterion=entropy, max_depth=6, min_samples_leaf=11;, score=(train=0.870, test=0.861) total time=   0.2s\n",
      "[CV 1/5] END criterion=entropy, max_depth=13, min_samples_leaf=7;, score=(train=0.907, test=0.879) total time=   0.2s\n",
      "[CV 2/5] END criterion=entropy, max_depth=13, min_samples_leaf=7;, score=(train=0.907, test=0.889) total time=   0.2s\n",
      "[CV 3/5] END criterion=entropy, max_depth=13, min_samples_leaf=7;, score=(train=0.910, test=0.861) total time=   0.2s\n",
      "[CV 4/5] END criterion=entropy, max_depth=13, min_samples_leaf=7;, score=(train=0.904, test=0.874) total time=   0.2s\n",
      "[CV 5/5] END criterion=entropy, max_depth=13, min_samples_leaf=7;, score=(train=0.909, test=0.872) total time=   0.2s\n"
     ]
    },
    {
     "data": {
      "text/html": [
       "<style>#sk-container-id-7 {color: black;}#sk-container-id-7 pre{padding: 0;}#sk-container-id-7 div.sk-toggleable {background-color: white;}#sk-container-id-7 label.sk-toggleable__label {cursor: pointer;display: block;width: 100%;margin-bottom: 0;padding: 0.3em;box-sizing: border-box;text-align: center;}#sk-container-id-7 label.sk-toggleable__label-arrow:before {content: \"▸\";float: left;margin-right: 0.25em;color: #696969;}#sk-container-id-7 label.sk-toggleable__label-arrow:hover:before {color: black;}#sk-container-id-7 div.sk-estimator:hover label.sk-toggleable__label-arrow:before {color: black;}#sk-container-id-7 div.sk-toggleable__content {max-height: 0;max-width: 0;overflow: hidden;text-align: left;background-color: #f0f8ff;}#sk-container-id-7 div.sk-toggleable__content pre {margin: 0.2em;color: black;border-radius: 0.25em;background-color: #f0f8ff;}#sk-container-id-7 input.sk-toggleable__control:checked~div.sk-toggleable__content {max-height: 200px;max-width: 100%;overflow: auto;}#sk-container-id-7 input.sk-toggleable__control:checked~label.sk-toggleable__label-arrow:before {content: \"▾\";}#sk-container-id-7 div.sk-estimator input.sk-toggleable__control:checked~label.sk-toggleable__label {background-color: #d4ebff;}#sk-container-id-7 div.sk-label input.sk-toggleable__control:checked~label.sk-toggleable__label {background-color: #d4ebff;}#sk-container-id-7 input.sk-hidden--visually {border: 0;clip: rect(1px 1px 1px 1px);clip: rect(1px, 1px, 1px, 1px);height: 1px;margin: -1px;overflow: hidden;padding: 0;position: absolute;width: 1px;}#sk-container-id-7 div.sk-estimator {font-family: monospace;background-color: #f0f8ff;border: 1px dotted black;border-radius: 0.25em;box-sizing: border-box;margin-bottom: 0.5em;}#sk-container-id-7 div.sk-estimator:hover {background-color: #d4ebff;}#sk-container-id-7 div.sk-parallel-item::after {content: \"\";width: 100%;border-bottom: 1px solid gray;flex-grow: 1;}#sk-container-id-7 div.sk-label:hover label.sk-toggleable__label {background-color: #d4ebff;}#sk-container-id-7 div.sk-serial::before {content: \"\";position: absolute;border-left: 1px solid gray;box-sizing: border-box;top: 0;bottom: 0;left: 50%;z-index: 0;}#sk-container-id-7 div.sk-serial {display: flex;flex-direction: column;align-items: center;background-color: white;padding-right: 0.2em;padding-left: 0.2em;position: relative;}#sk-container-id-7 div.sk-item {position: relative;z-index: 1;}#sk-container-id-7 div.sk-parallel {display: flex;align-items: stretch;justify-content: center;background-color: white;position: relative;}#sk-container-id-7 div.sk-item::before, #sk-container-id-7 div.sk-parallel-item::before {content: \"\";position: absolute;border-left: 1px solid gray;box-sizing: border-box;top: 0;bottom: 0;left: 50%;z-index: -1;}#sk-container-id-7 div.sk-parallel-item {display: flex;flex-direction: column;z-index: 1;position: relative;background-color: white;}#sk-container-id-7 div.sk-parallel-item:first-child::after {align-self: flex-end;width: 50%;}#sk-container-id-7 div.sk-parallel-item:last-child::after {align-self: flex-start;width: 50%;}#sk-container-id-7 div.sk-parallel-item:only-child::after {width: 0;}#sk-container-id-7 div.sk-dashed-wrapped {border: 1px dashed gray;margin: 0 0.4em 0.5em 0.4em;box-sizing: border-box;padding-bottom: 0.4em;background-color: white;}#sk-container-id-7 div.sk-label label {font-family: monospace;font-weight: bold;display: inline-block;line-height: 1.2em;}#sk-container-id-7 div.sk-label-container {text-align: center;}#sk-container-id-7 div.sk-container {/* jupyter's `normalize.less` sets `[hidden] { display: none; }` but bootstrap.min.css set `[hidden] { display: none !important; }` so we also need the `!important` here to be able to override the default hidden behavior on the sphinx rendered scikit-learn.org. See: https://github.com/scikit-learn/scikit-learn/issues/21755 */display: inline-block !important;position: relative;}#sk-container-id-7 div.sk-text-repr-fallback {display: none;}</style><div id=\"sk-container-id-7\" class=\"sk-top-container\"><div class=\"sk-text-repr-fallback\"><pre>RandomizedSearchCV(cv=5, estimator=RandomForestClassifier(random_state=25),\n",
       "                   n_iter=20,\n",
       "                   param_distributions={&#x27;criterion&#x27;: [&#x27;gini&#x27;, &#x27;entropy&#x27;,\n",
       "                                                      &#x27;log_loss&#x27;],\n",
       "                                        &#x27;max_depth&#x27;: range(2, 15),\n",
       "                                        &#x27;min_samples_leaf&#x27;: range(5, 16)},\n",
       "                   return_train_score=True, verbose=4)</pre><b>In a Jupyter environment, please rerun this cell to show the HTML representation or trust the notebook. <br />On GitHub, the HTML representation is unable to render, please try loading this page with nbviewer.org.</b></div><div class=\"sk-container\" hidden><div class=\"sk-item sk-dashed-wrapped\"><div class=\"sk-label-container\"><div class=\"sk-label sk-toggleable\"><input class=\"sk-toggleable__control sk-hidden--visually\" id=\"sk-estimator-id-15\" type=\"checkbox\" ><label for=\"sk-estimator-id-15\" class=\"sk-toggleable__label sk-toggleable__label-arrow\">RandomizedSearchCV</label><div class=\"sk-toggleable__content\"><pre>RandomizedSearchCV(cv=5, estimator=RandomForestClassifier(random_state=25),\n",
       "                   n_iter=20,\n",
       "                   param_distributions={&#x27;criterion&#x27;: [&#x27;gini&#x27;, &#x27;entropy&#x27;,\n",
       "                                                      &#x27;log_loss&#x27;],\n",
       "                                        &#x27;max_depth&#x27;: range(2, 15),\n",
       "                                        &#x27;min_samples_leaf&#x27;: range(5, 16)},\n",
       "                   return_train_score=True, verbose=4)</pre></div></div></div><div class=\"sk-parallel\"><div class=\"sk-parallel-item\"><div class=\"sk-item\"><div class=\"sk-label-container\"><div class=\"sk-label sk-toggleable\"><input class=\"sk-toggleable__control sk-hidden--visually\" id=\"sk-estimator-id-16\" type=\"checkbox\" ><label for=\"sk-estimator-id-16\" class=\"sk-toggleable__label sk-toggleable__label-arrow\">estimator: RandomForestClassifier</label><div class=\"sk-toggleable__content\"><pre>RandomForestClassifier(random_state=25)</pre></div></div></div><div class=\"sk-serial\"><div class=\"sk-item\"><div class=\"sk-estimator sk-toggleable\"><input class=\"sk-toggleable__control sk-hidden--visually\" id=\"sk-estimator-id-17\" type=\"checkbox\" ><label for=\"sk-estimator-id-17\" class=\"sk-toggleable__label sk-toggleable__label-arrow\">RandomForestClassifier</label><div class=\"sk-toggleable__content\"><pre>RandomForestClassifier(random_state=25)</pre></div></div></div></div></div></div></div></div></div></div>"
      ],
      "text/plain": [
       "RandomizedSearchCV(cv=5, estimator=RandomForestClassifier(random_state=25),\n",
       "                   n_iter=20,\n",
       "                   param_distributions={'criterion': ['gini', 'entropy',\n",
       "                                                      'log_loss'],\n",
       "                                        'max_depth': range(2, 15),\n",
       "                                        'min_samples_leaf': range(5, 16)},\n",
       "                   return_train_score=True, verbose=4)"
      ]
     },
     "execution_count": 47,
     "metadata": {},
     "output_type": "execute_result"
    }
   ],
   "source": [
    "seach_cv.fit(X_train, y_train)"
   ]
  },
  {
   "cell_type": "code",
   "execution_count": 51,
   "metadata": {},
   "outputs": [
    {
     "name": "stdout",
     "output_type": "stream",
     "text": [
      "best_scores_: 87.57 %\n",
      "best test score: 87.85 %\n",
      "best_params_: {'min_samples_leaf': 7, 'max_depth': 12, 'criterion': 'gini'}\n",
      "best_estimator_: RandomForestClassifier(max_depth=12, min_samples_leaf=7, random_state=25)\n"
     ]
    },
    {
     "data": {
      "text/html": [
       "<div>\n",
       "<style scoped>\n",
       "    .dataframe tbody tr th:only-of-type {\n",
       "        vertical-align: middle;\n",
       "    }\n",
       "\n",
       "    .dataframe tbody tr th {\n",
       "        vertical-align: top;\n",
       "    }\n",
       "\n",
       "    .dataframe thead th {\n",
       "        text-align: right;\n",
       "    }\n",
       "</style>\n",
       "<table border=\"1\" class=\"dataframe\">\n",
       "  <thead>\n",
       "    <tr style=\"text-align: right;\">\n",
       "      <th></th>\n",
       "      <th>params</th>\n",
       "      <th>mean_train_score</th>\n",
       "      <th>mean_test_score</th>\n",
       "      <th>rank_test_score</th>\n",
       "    </tr>\n",
       "  </thead>\n",
       "  <tbody>\n",
       "    <tr>\n",
       "      <th>0</th>\n",
       "      <td>{'min_samples_leaf': 13, 'max_depth': 6, 'crit...</td>\n",
       "      <td>0.870406</td>\n",
       "      <td>0.859342</td>\n",
       "      <td>16</td>\n",
       "    </tr>\n",
       "    <tr>\n",
       "      <th>1</th>\n",
       "      <td>{'min_samples_leaf': 13, 'max_depth': 14, 'cri...</td>\n",
       "      <td>0.892438</td>\n",
       "      <td>0.868768</td>\n",
       "      <td>10</td>\n",
       "    </tr>\n",
       "    <tr>\n",
       "      <th>2</th>\n",
       "      <td>{'min_samples_leaf': 15, 'max_depth': 14, 'cri...</td>\n",
       "      <td>0.888926</td>\n",
       "      <td>0.864535</td>\n",
       "      <td>13</td>\n",
       "    </tr>\n",
       "    <tr>\n",
       "      <th>3</th>\n",
       "      <td>{'min_samples_leaf': 7, 'max_depth': 9, 'crite...</td>\n",
       "      <td>0.898932</td>\n",
       "      <td>0.872039</td>\n",
       "      <td>6</td>\n",
       "    </tr>\n",
       "    <tr>\n",
       "      <th>4</th>\n",
       "      <td>{'min_samples_leaf': 8, 'max_depth': 14, 'crit...</td>\n",
       "      <td>0.903454</td>\n",
       "      <td>0.874155</td>\n",
       "      <td>4</td>\n",
       "    </tr>\n",
       "    <tr>\n",
       "      <th>5</th>\n",
       "      <td>{'min_samples_leaf': 14, 'max_depth': 11, 'cri...</td>\n",
       "      <td>0.888926</td>\n",
       "      <td>0.869922</td>\n",
       "      <td>9</td>\n",
       "    </tr>\n",
       "    <tr>\n",
       "      <th>6</th>\n",
       "      <td>{'min_samples_leaf': 8, 'max_depth': 10, 'crit...</td>\n",
       "      <td>0.899124</td>\n",
       "      <td>0.870499</td>\n",
       "      <td>7</td>\n",
       "    </tr>\n",
       "    <tr>\n",
       "      <th>7</th>\n",
       "      <td>{'min_samples_leaf': 6, 'max_depth': 11, 'crit...</td>\n",
       "      <td>0.907687</td>\n",
       "      <td>0.875310</td>\n",
       "      <td>2</td>\n",
       "    </tr>\n",
       "    <tr>\n",
       "      <th>8</th>\n",
       "      <td>{'min_samples_leaf': 9, 'max_depth': 4, 'crite...</td>\n",
       "      <td>0.857177</td>\n",
       "      <td>0.847797</td>\n",
       "      <td>18</td>\n",
       "    </tr>\n",
       "    <tr>\n",
       "      <th>9</th>\n",
       "      <td>{'min_samples_leaf': 14, 'max_depth': 11, 'cri...</td>\n",
       "      <td>0.889696</td>\n",
       "      <td>0.867420</td>\n",
       "      <td>11</td>\n",
       "    </tr>\n",
       "    <tr>\n",
       "      <th>10</th>\n",
       "      <td>{'min_samples_leaf': 10, 'max_depth': 3, 'crit...</td>\n",
       "      <td>0.817203</td>\n",
       "      <td>0.815085</td>\n",
       "      <td>20</td>\n",
       "    </tr>\n",
       "    <tr>\n",
       "      <th>11</th>\n",
       "      <td>{'min_samples_leaf': 7, 'max_depth': 12, 'crit...</td>\n",
       "      <td>0.905089</td>\n",
       "      <td>0.875694</td>\n",
       "      <td>1</td>\n",
       "    </tr>\n",
       "    <tr>\n",
       "      <th>12</th>\n",
       "      <td>{'min_samples_leaf': 12, 'max_depth': 9, 'crit...</td>\n",
       "      <td>0.889600</td>\n",
       "      <td>0.866459</td>\n",
       "      <td>12</td>\n",
       "    </tr>\n",
       "    <tr>\n",
       "      <th>13</th>\n",
       "      <td>{'min_samples_leaf': 10, 'max_depth': 12, 'cri...</td>\n",
       "      <td>0.898066</td>\n",
       "      <td>0.870307</td>\n",
       "      <td>8</td>\n",
       "    </tr>\n",
       "    <tr>\n",
       "      <th>14</th>\n",
       "      <td>{'min_samples_leaf': 9, 'max_depth': 6, 'crite...</td>\n",
       "      <td>0.871993</td>\n",
       "      <td>0.859727</td>\n",
       "      <td>15</td>\n",
       "    </tr>\n",
       "    <tr>\n",
       "      <th>15</th>\n",
       "      <td>{'min_samples_leaf': 6, 'max_depth': 3, 'crite...</td>\n",
       "      <td>0.825428</td>\n",
       "      <td>0.823170</td>\n",
       "      <td>19</td>\n",
       "    </tr>\n",
       "    <tr>\n",
       "      <th>16</th>\n",
       "      <td>{'min_samples_leaf': 10, 'max_depth': 13, 'cri...</td>\n",
       "      <td>0.897104</td>\n",
       "      <td>0.873771</td>\n",
       "      <td>5</td>\n",
       "    </tr>\n",
       "    <tr>\n",
       "      <th>17</th>\n",
       "      <td>{'min_samples_leaf': 10, 'max_depth': 7, 'crit...</td>\n",
       "      <td>0.877766</td>\n",
       "      <td>0.862803</td>\n",
       "      <td>14</td>\n",
       "    </tr>\n",
       "    <tr>\n",
       "      <th>18</th>\n",
       "      <td>{'min_samples_leaf': 11, 'max_depth': 6, 'crit...</td>\n",
       "      <td>0.871224</td>\n",
       "      <td>0.857995</td>\n",
       "      <td>17</td>\n",
       "    </tr>\n",
       "    <tr>\n",
       "      <th>19</th>\n",
       "      <td>{'min_samples_leaf': 7, 'max_depth': 13, 'crit...</td>\n",
       "      <td>0.907398</td>\n",
       "      <td>0.875117</td>\n",
       "      <td>3</td>\n",
       "    </tr>\n",
       "  </tbody>\n",
       "</table>\n",
       "</div>"
      ],
      "text/plain": [
       "                                               params  mean_train_score  \\\n",
       "0   {'min_samples_leaf': 13, 'max_depth': 6, 'crit...          0.870406   \n",
       "1   {'min_samples_leaf': 13, 'max_depth': 14, 'cri...          0.892438   \n",
       "2   {'min_samples_leaf': 15, 'max_depth': 14, 'cri...          0.888926   \n",
       "3   {'min_samples_leaf': 7, 'max_depth': 9, 'crite...          0.898932   \n",
       "4   {'min_samples_leaf': 8, 'max_depth': 14, 'crit...          0.903454   \n",
       "5   {'min_samples_leaf': 14, 'max_depth': 11, 'cri...          0.888926   \n",
       "6   {'min_samples_leaf': 8, 'max_depth': 10, 'crit...          0.899124   \n",
       "7   {'min_samples_leaf': 6, 'max_depth': 11, 'crit...          0.907687   \n",
       "8   {'min_samples_leaf': 9, 'max_depth': 4, 'crite...          0.857177   \n",
       "9   {'min_samples_leaf': 14, 'max_depth': 11, 'cri...          0.889696   \n",
       "10  {'min_samples_leaf': 10, 'max_depth': 3, 'crit...          0.817203   \n",
       "11  {'min_samples_leaf': 7, 'max_depth': 12, 'crit...          0.905089   \n",
       "12  {'min_samples_leaf': 12, 'max_depth': 9, 'crit...          0.889600   \n",
       "13  {'min_samples_leaf': 10, 'max_depth': 12, 'cri...          0.898066   \n",
       "14  {'min_samples_leaf': 9, 'max_depth': 6, 'crite...          0.871993   \n",
       "15  {'min_samples_leaf': 6, 'max_depth': 3, 'crite...          0.825428   \n",
       "16  {'min_samples_leaf': 10, 'max_depth': 13, 'cri...          0.897104   \n",
       "17  {'min_samples_leaf': 10, 'max_depth': 7, 'crit...          0.877766   \n",
       "18  {'min_samples_leaf': 11, 'max_depth': 6, 'crit...          0.871224   \n",
       "19  {'min_samples_leaf': 7, 'max_depth': 13, 'crit...          0.907398   \n",
       "\n",
       "    mean_test_score  rank_test_score  \n",
       "0          0.859342               16  \n",
       "1          0.868768               10  \n",
       "2          0.864535               13  \n",
       "3          0.872039                6  \n",
       "4          0.874155                4  \n",
       "5          0.869922                9  \n",
       "6          0.870499                7  \n",
       "7          0.875310                2  \n",
       "8          0.847797               18  \n",
       "9          0.867420               11  \n",
       "10         0.815085               20  \n",
       "11         0.875694                1  \n",
       "12         0.866459               12  \n",
       "13         0.870307                8  \n",
       "14         0.859727               15  \n",
       "15         0.823170               19  \n",
       "16         0.873771                5  \n",
       "17         0.862803               14  \n",
       "18         0.857995               17  \n",
       "19         0.875117                3  "
      ]
     },
     "execution_count": 51,
     "metadata": {},
     "output_type": "execute_result"
    }
   ],
   "source": [
    "# model parameter\n",
    "best_rf_model = seach_cv.best_estimator_\n",
    "print(f\"best_scores_: {seach_cv.best_score_*100:.2f} %\")\n",
    "print(f\"best test score: {best_rf_model.score(X_test, y_test)*100:.2f} %\")\n",
    "print(f\"best_params_: {seach_cv.best_params_}\")\n",
    "print(f\"best_estimator_: {best_rf_model}\")\n",
    "\n",
    "cv_result_df = pd.DataFrame(seach_cv.cv_results_)\n",
    "cv_result_df[['params', 'mean_train_score', 'mean_test_score', 'rank_test_score']]"
   ]
  },
  {
   "cell_type": "code",
   "execution_count": null,
   "metadata": {},
   "outputs": [],
   "source": []
  }
 ],
 "metadata": {
  "kernelspec": {
   "display_name": "ml_38",
   "language": "python",
   "name": "python3"
  },
  "language_info": {
   "codemirror_mode": {
    "name": "ipython",
    "version": 3
   },
   "file_extension": ".py",
   "mimetype": "text/x-python",
   "name": "python",
   "nbconvert_exporter": "python",
   "pygments_lexer": "ipython3",
   "version": "3.8.19"
  }
 },
 "nbformat": 4,
 "nbformat_minor": 2
}
