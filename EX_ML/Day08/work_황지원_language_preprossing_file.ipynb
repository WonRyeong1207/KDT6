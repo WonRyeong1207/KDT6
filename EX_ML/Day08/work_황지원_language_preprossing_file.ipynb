{
 "cells": [
  {
   "cell_type": "markdown",
   "metadata": {},
   "source": [
    "#### [머신러닝] 언어 판별 모델 \n",
    "\n",
    "#### 언어학\n",
    "- 알파벳을 사용하는 언어들은 사용하는 알파벳의 빈도가 다름\n",
    "- 언어별 알파벳 빈도에 따라서 언어 식별 가능\n",
    "\n",
    "#### 데이터셋 \n",
    "\n",
    "- 언어 : 영어(en), 프랑스어(fr), 인도네시아어(id), 타칼로그어(tr)\n",
    "- lang.zip \n",
    "\n",
    "- train => 나라명-숫자.txt ( en-1.txt ! en-5.txt )\n",
    "\n",
    "- test  => 나라명-숫자.txt ( en-1.txt ! en-5.txt )"
   ]
  },
  {
   "cell_type": "markdown",
   "metadata": {},
   "source": [
    "- 어떻게 데이터들을 받을 것인가? 어떻게 이걸 처리를 할 것인가?\n",
    "- 인터넷 검색을 했을 때, 2가지 경우로 나뉘었음\n",
    "    - 첫번째 방법은 소문자 알바벳의 빈도수로 언어분류 --> 기호가 들어간 문자는 판별 할 수 없는 문제가 있음\n",
    "    - 두번째 방법은 띄어쓰기 단위로 언어를 학습하고 분류하는 방법 --> 전처리에서 특수기호와 숫자를 어떻게 처리 할 것인지의 문제가 있음.\n",
    "- 전처리만 할 수 있다면 두번째 방법을 이용하고 싶음."
   ]
  },
  {
   "cell_type": "code",
   "execution_count": 1,
   "metadata": {},
   "outputs": [],
   "source": [
    "import pandas as pd\n",
    "import numpy as np\n",
    "import matplotlib.pyplot as plt"
   ]
  },
  {
   "cell_type": "code",
   "execution_count": 2,
   "metadata": {},
   "outputs": [],
   "source": [
    "train_data_path = '../data/Language/train/*.txt'\n",
    "test_data_path = '../data/Language/test/*.txt'"
   ]
  },
  {
   "cell_type": "code",
   "execution_count": 3,
   "metadata": {},
   "outputs": [],
   "source": [
    "with open('../data/Language/train/en-1.txt', 'r', encoding='utf-8') as f:\n",
    "    text = f.read()\n",
    "    "
   ]
  },
  {
   "cell_type": "code",
   "execution_count": 4,
   "metadata": {},
   "outputs": [
    {
     "data": {
      "text/plain": [
       "'\\n\\n\\n\\nThe main Henry Ford Museum building houses some of the classrooms for the Henry Ford Academy\\n\\n\\nHenry Ford Academy is the first charter school in the United States to be developed jointly by a global corporation, public education, and a major nonprofit cultural institution. The school is sponsored by the Ford Motor Company, Wayne County Regional Educational Service Agency and The Henry Ford Museum and admits high school students. It is located in Dearborn, Michigan on the campus of the Henry Ford museum. Enrollment is taken from a lottery in the area and totaled 467 in 2010.[1]\\nFreshman meet inside the main museum building in glass walled classrooms, while older students use a converted carousel building and Pullman cars on a siding of the Greenfield Village railroad. Classes are expected to include use of the museum artifacts, a tradition of the original Village Schools. When the Museum was established in 1929, it included a school which served grades kindergarten to college/trade school ages. The last part of the original school closed in 1969.\\nThe Henry Ford Learning Institute is using the Henry Ford Academy model for further charter schools including the Power House High in Chicago and Alameda School for Art + Design in San Antonio.\\nThe building received the international annual design award of the Council of Educational Facilities Planners International for 2001, the James D. MacConnell Award for outstanding new educational facilities. Notable attendees include Chris Stroud and Isaac Sudut.\\nSee also[edit]\\n\\nList of public school academy districts in Michigan\\n\\nReferences[edit]\\n\\n\\n^ Technology Plan, Henry Ford Academy, 2010]\\n\\n\\nExternal links[edit]\\n\\nHenry Ford Academy website\\nCEFPI\\n\\n\\n\\n\\n\\n\\n\\nv\\nt\\ne\\n\\n\\nHigh schools in Wayne County, Michigan\\n\\n\\n\\n\\n\\n\\n\\nPublic high schools\\n\\n\\n\\n\\n\\n\\nDetroit Public Schools\\n\\n\\n\\n\\n\\nNeighborhood schools\\n\\n\\n\\n\\nCentral\\nCody\\nDenby\\nEast English Village\\nFord\\nKing\\nMumford\\nNorthwestern\\nOsborn\\nPershing\\nSoutheastern\\nWestern International\\n\\n\\n\\n\\n\\n\\n\\n\\n\\nAlternative schools\\n\\n\\n\\n\\nAcademy of the Americas\\nBarsamian Preparatory Center\\nCass Technical\\nCommunication & Media Arts\\nCrosman\\nDavis Aerospace\\nDetroit International Academy for Young Women\\nDetroit Technology High School\\nDetroit School of Arts\\nDouglass Academy\\nMillennium School\\nRenaissance\\nTrombly Alternative\\nWest Side Academy Alternative Education\\nWhite Center\\n\\n\\n\\n\\n\\n\\n\\n\\n\\nClosed or merged\\n\\n\\n\\n\\nChadsey\\nCooley\\nCrockett\\nDetroit City\\nFinney\\nKettering\\nMackenzie\\nMurray-Wright\\nNortheastern\\nNorthern\\nRedford\\nSouthwestern\\nCatherine Ferguson Academy (alternative)\\n\\n\\n\\n\\n\\n\\n\\n\\n\\n\\n\\nOther public schools\\n\\n\\n\\n\\n\\nNeighborhood schools\\n\\n\\n\\n\\nAllen Park\\nAnnapolis (Dearborn Heights)\\nCarlson (Gibraltar)\\nWinston Churchill (Livonia)\\nClarenceville\\nCrestwood (Dearborn Heights)\\nDearborn\\nEcorse Community\\nEdsel Ford (Dearborn)\\nFlat Rock\\nFordson (Dearborn)\\nBenjamin Franklin (Livonia)\\nGarden City\\nJohn Glenn (Westland)\\nGrosse Ile\\nGrosse Pointe North\\nGrosse Pointe South\\nHamtramck\\nHarper Woods\\nJohn F. Kennedy (Taylor)\\nLincoln Park\\nMelvindale\\nNorthville\\nPlymouth-Canton Educational Park (Canton)\\n\\nPlymouth (Canton)\\n\\n\\nRedford Union\\nRobichaud (Dearborn Heights)\\nRiver Rouge\\nRomulus\\nTheodore Roosevelt (Wyandotte)\\nSouthgate Anderson\\nAdlai E. Stevenson (Livonia)\\nThurston (Redford)\\nTrenton\\nHarry S. Truman (Taylor)\\nWayne Memorial\\nWoodhaven (Brownstown Township)\\n\\n\\n\\n\\n\\n\\n\\n\\n\\nAlternative schools\\n\\n\\n\\n\\nBurger School for Students with Autism (Inkster)\\nDearborn Center for Math, Science and Technology\\nDearborn Magnet\\nHenry Ford Collegiate Academy (Dearborn)\\n\\n\\n\\n\\n\\n\\n\\n\\n\\nClosed\\n\\n\\n\\n\\nHighland Park Community\\nInkster\\n\\n\\n\\n\\n\\n\\n\\n\\n\\n\\n\\nCharter schools\\n\\n\\n\\nChandler Park Academy (Harper Woods)\\nCesar Chavez Academy (Detroit)\\nClara B. Ford Academy (Dearborn Heights)\\nConsortium College Prep (Detroit)\\nCornerstone Schools High School (Detroit)\\nHenry Ford Academy (Dearborn)\\nPlymouth Educational Center (Detroit)\\nJalen Rose Leadership Academy (Detroit)\\nUniversal Academy (Detroit)\\nUniversal Learning Academy (Westland)\\nUniversity Prep Schools (Detroit)\\n\\n\\n\\n\\n\\nClosed\\n\\n\\n\\n\\nCatherine Ferguson Academy (Detroit)\\n\\n\\n\\n\\n\\n\\n\\n\\n\\n\\n\\n\\nIndependent\\n\\n\\n\\n\\n\\n\\nSecular private\\n\\n\\n\\nUniversity Liggett School\\n\\n\\n\\n\\n\\n\\n\\n\\nReligious\\n\\n\\n\\nCabrini\\nDetroit Cristo Rey\\nHuron Valley Lutheran\\nInter-City Baptist School\\nLadywood\\nLutheran High Westland\\nLoyola\\nUniversity of Detroit Jesuit\\n\\n\\n\\n\\n\\nClosed or merged\\n\\n\\n\\n\\nHoly Redeemer\\nNotre Dame\\nOur Lady of Mount Carmel\\nSt. Florian\\nTrinity Catholic\\n\\n\\n\\n\\n\\n\\n\\n\\n\\nMoved\\n\\n\\n\\n\\nDetroit Catholic Central (to Novi in 2005)\\nRegina (to Warren in 2007)\\n\\n\\n\\n\\n\\n\\n\\n\\n\\n\\n\\n\\nThis list is incomplete.\\n\\n\\n\\n\\n\\n\\n\\n\\n\\n\\nv\\nt\\ne\\n\\n\\nMetro Detroit\\n\\n\\n\\n\\n\\n\\nTopics\\n\\n\\n\\nArchitecture\\nCulture\\nDetroit River\\nEconomy\\nFreeways\\nHistory\\nHistoric places\\nInternational Riverfront\\nLake St. Clair\\nMedia\\nMusic\\nParks and beaches\\nPeople\\nPerforming arts\\nSkyscrapers\\nSports\\nTourism\\nTransportation\\n\\n\\n\\n\\n\\n\\n\\n\\n\\n\\n\\nDetroit\\n\\n\\n\\nDowntown Detroit\\nMidtown Detroit\\nNew Center\\n\\n\\n\\n\\n\\n\\n\\n\\nMunicipalities\\nover 80,000\\n\\n\\n\\nCanton Township\\nClinton Township\\nDearborn\\nLivonia\\nSterling Heights\\nTroy\\nWarren\\nWestland\\n\\n\\n\\n\\n\\n\\n\\n\\nMunicipalities\\n40,000 to 80,000\\n\\n\\n\\nBloomfield Township\\nChesterfield Township\\nDearborn Heights\\nFarmington Hills\\nGrosse Pointe\\nMacomb Township\\nNovi\\nPontiac\\nRedford Township\\nRochester Hills\\nRoyal Oak\\nSt. Clair Shores\\nShelby Charter Township\\nSouthfield\\nTaylor\\nWaterford Township\\nWest Bloomfield Township\\n\\n\\n\\n\\n\\n\\n\\n\\nCultural enclaves\\n\\n\\n\\nAnn Arbor\\nAuburn Hills\\nBirmingham\\nBloomfield Hills\\nDearborn\\nDowntown Detroit\\nGrosse Pointe\\nMidtown Detroit\\nNew Center\\nNorthville\\nRochester\\nRoyal Oak\\nSouthfield\\nTroy\\nPlymouth\\n\\n\\n\\n\\n\\n\\n\\n\\nSatellite cities\\n\\n\\n\\nAnn Arbor\\nBrighton\\nFlint\\nHowell\\nLapeer\\nMonroe\\nPort Huron\\nToledo\\nWindsor\\nYpsilanti\\n\\n\\n\\n\\n\\n\\n\\n\\nCounties in MSA\\n\\n\\n\\nLapeer\\nLivingston\\nMacomb\\nOakland\\nSt. Clair\\nWayne\\n\\n\\n\\n\\n\\n\\n\\n\\nCounties in CSA\\n\\n\\n\\nGenesee\\nMonroe\\nWashtenaw\\n\\n\\n\\n\\n\\n\\n\\n\\n\\n\\n\\nSoutheast\\n\\xa0Michigan\\n\\xa0United States\\n\\n\\n\\n\\n\\n\\nCoordinates: 42°18′11.9″N 83°13′52″W\\ufeff / \\ufeff42.303306°N 83.23111°W\\ufeff / 42.303306; -83.23111\\n\\n\\n\\nThis Michigan school-related article is a stub. You can help Wikipedia by expanding it.\\n\\n\\nv\\nt\\ne\\n\\n\\n\\n\\n\\n\\n'"
      ]
     },
     "execution_count": 4,
     "metadata": {},
     "output_type": "execute_result"
    }
   ],
   "source": [
    "text"
   ]
  },
  {
   "cell_type": "code",
   "execution_count": 5,
   "metadata": {},
   "outputs": [
    {
     "data": {
      "text/plain": [
       "the            20\n",
       "Academy        18\n",
       "Ford           15\n",
       "Detroit        15\n",
       "in             15\n",
       "               ..\n",
       "website         1\n",
       "links[edit]     1\n",
       "External        1\n",
       "2010]           1\n",
       "it.             1\n",
       "Name: count, Length: 451, dtype: int64"
      ]
     },
     "execution_count": 5,
     "metadata": {},
     "output_type": "execute_result"
    }
   ],
   "source": [
    "pd.Series(text.split()).value_counts()"
   ]
  },
  {
   "cell_type": "code",
   "execution_count": 6,
   "metadata": {},
   "outputs": [],
   "source": [
    "text_list = []\n",
    "with open('../data/Language/train/en-1.txt', 'r', encoding='utf-8') as f:\n",
    "    for row in f:\n",
    "        text_list.append(f.readline().split('\\n')[0])"
   ]
  },
  {
   "cell_type": "code",
   "execution_count": 7,
   "metadata": {},
   "outputs": [
    {
     "data": {
      "text/html": [
       "<div>\n",
       "<style scoped>\n",
       "    .dataframe tbody tr th:only-of-type {\n",
       "        vertical-align: middle;\n",
       "    }\n",
       "\n",
       "    .dataframe tbody tr th {\n",
       "        vertical-align: top;\n",
       "    }\n",
       "\n",
       "    .dataframe thead th {\n",
       "        text-align: right;\n",
       "    }\n",
       "</style>\n",
       "<table border=\"1\" class=\"dataframe\">\n",
       "  <thead>\n",
       "    <tr style=\"text-align: right;\">\n",
       "      <th></th>\n",
       "      <th>train_en_1</th>\n",
       "    </tr>\n",
       "  </thead>\n",
       "  <tbody>\n",
       "    <tr>\n",
       "      <th>0</th>\n",
       "      <td></td>\n",
       "    </tr>\n",
       "    <tr>\n",
       "      <th>1</th>\n",
       "      <td></td>\n",
       "    </tr>\n",
       "    <tr>\n",
       "      <th>2</th>\n",
       "      <td></td>\n",
       "    </tr>\n",
       "    <tr>\n",
       "      <th>3</th>\n",
       "      <td>Henry Ford Academy is the first charter school...</td>\n",
       "    </tr>\n",
       "    <tr>\n",
       "      <th>4</th>\n",
       "      <td>The Henry Ford Learning Institute is using the...</td>\n",
       "    </tr>\n",
       "    <tr>\n",
       "      <th>...</th>\n",
       "      <td>...</td>\n",
       "    </tr>\n",
       "    <tr>\n",
       "      <th>287</th>\n",
       "      <td>t</td>\n",
       "    </tr>\n",
       "    <tr>\n",
       "      <th>288</th>\n",
       "      <td></td>\n",
       "    </tr>\n",
       "    <tr>\n",
       "      <th>289</th>\n",
       "      <td></td>\n",
       "    </tr>\n",
       "    <tr>\n",
       "      <th>290</th>\n",
       "      <td></td>\n",
       "    </tr>\n",
       "    <tr>\n",
       "      <th>291</th>\n",
       "      <td></td>\n",
       "    </tr>\n",
       "  </tbody>\n",
       "</table>\n",
       "<p>292 rows × 1 columns</p>\n",
       "</div>"
      ],
      "text/plain": [
       "                                            train_en_1\n",
       "0                                                     \n",
       "1                                                     \n",
       "2                                                     \n",
       "3    Henry Ford Academy is the first charter school...\n",
       "4    The Henry Ford Learning Institute is using the...\n",
       "..                                                 ...\n",
       "287                                                  t\n",
       "288                                                   \n",
       "289                                                   \n",
       "290                                                   \n",
       "291                                                   \n",
       "\n",
       "[292 rows x 1 columns]"
      ]
     },
     "execution_count": 7,
     "metadata": {},
     "output_type": "execute_result"
    }
   ],
   "source": [
    "train_en_1_df = pd.DataFrame(text_list, columns=['train_en_1'])\n",
    "train_en_1_df"
   ]
  },
  {
   "cell_type": "code",
   "execution_count": 8,
   "metadata": {},
   "outputs": [],
   "source": [
    "mask = (train_en_1_df['train_en_1'] == 't') | (train_en_1_df['train_en_1'] == '')"
   ]
  },
  {
   "cell_type": "code",
   "execution_count": 9,
   "metadata": {},
   "outputs": [
    {
     "data": {
      "text/html": [
       "<div>\n",
       "<style scoped>\n",
       "    .dataframe tbody tr th:only-of-type {\n",
       "        vertical-align: middle;\n",
       "    }\n",
       "\n",
       "    .dataframe tbody tr th {\n",
       "        vertical-align: top;\n",
       "    }\n",
       "\n",
       "    .dataframe thead th {\n",
       "        text-align: right;\n",
       "    }\n",
       "</style>\n",
       "<table border=\"1\" class=\"dataframe\">\n",
       "  <thead>\n",
       "    <tr style=\"text-align: right;\">\n",
       "      <th></th>\n",
       "      <th>train_en_1</th>\n",
       "    </tr>\n",
       "  </thead>\n",
       "  <tbody>\n",
       "    <tr>\n",
       "      <th>0</th>\n",
       "      <td>Henry Ford Academy is the first charter school...</td>\n",
       "    </tr>\n",
       "    <tr>\n",
       "      <th>1</th>\n",
       "      <td>The Henry Ford Learning Institute is using the...</td>\n",
       "    </tr>\n",
       "    <tr>\n",
       "      <th>2</th>\n",
       "      <td>See also[edit]</td>\n",
       "    </tr>\n",
       "    <tr>\n",
       "      <th>3</th>\n",
       "      <td>List of public school academy districts in Mic...</td>\n",
       "    </tr>\n",
       "    <tr>\n",
       "      <th>4</th>\n",
       "      <td>References[edit]</td>\n",
       "    </tr>\n",
       "    <tr>\n",
       "      <th>...</th>\n",
       "      <td>...</td>\n",
       "    </tr>\n",
       "    <tr>\n",
       "      <th>111</th>\n",
       "      <td>Wayne</td>\n",
       "    </tr>\n",
       "    <tr>\n",
       "      <th>112</th>\n",
       "      <td>Monroe</td>\n",
       "    </tr>\n",
       "    <tr>\n",
       "      <th>113</th>\n",
       "      <td>Michigan</td>\n",
       "    </tr>\n",
       "    <tr>\n",
       "      <th>114</th>\n",
       "      <td>Coordinates: 42°18′11.9″N 83°13′52″W﻿ / ﻿42.30...</td>\n",
       "    </tr>\n",
       "    <tr>\n",
       "      <th>115</th>\n",
       "      <td>This Michigan school-related article is a stub...</td>\n",
       "    </tr>\n",
       "  </tbody>\n",
       "</table>\n",
       "<p>116 rows × 1 columns</p>\n",
       "</div>"
      ],
      "text/plain": [
       "                                            train_en_1\n",
       "0    Henry Ford Academy is the first charter school...\n",
       "1    The Henry Ford Learning Institute is using the...\n",
       "2                                       See also[edit]\n",
       "3    List of public school academy districts in Mic...\n",
       "4                                     References[edit]\n",
       "..                                                 ...\n",
       "111                                              Wayne\n",
       "112                                             Monroe\n",
       "113                                           Michigan\n",
       "114  Coordinates: 42°18′11.9″N 83°13′52″W﻿ / ﻿42.30...\n",
       "115  This Michigan school-related article is a stub...\n",
       "\n",
       "[116 rows x 1 columns]"
      ]
     },
     "execution_count": 9,
     "metadata": {},
     "output_type": "execute_result"
    }
   ],
   "source": [
    "train_en_1_df = train_en_1_df[~mask]\n",
    "train_en_1_df = train_en_1_df.reset_index(drop=True)\n",
    "train_en_1_df"
   ]
  },
  {
   "cell_type": "code",
   "execution_count": 10,
   "metadata": {},
   "outputs": [],
   "source": [
    "en_1_string = train_en_1_df['train_en_1'].to_string()"
   ]
  },
  {
   "cell_type": "code",
   "execution_count": 11,
   "metadata": {},
   "outputs": [],
   "source": [
    "replace_list = ['(', ')', '[', ']', '\\\\', '/', '...', '\\ufeff', '-', ',', '.', ';', '|', '?', '!', '°', '′', '″', ':', \"'\", '\"', '﻿',\n",
    "                '^', '@', '#', '`', '$', '%', '&', '*', '<', '>']\n",
    "\n",
    "for entty in replace_list:\n",
    "    en_1_string = en_1_string.replace(entty, ' ')"
   ]
  },
  {
   "cell_type": "code",
   "execution_count": 12,
   "metadata": {},
   "outputs": [],
   "source": [
    "en_1_string_list = en_1_string.split()"
   ]
  },
  {
   "cell_type": "code",
   "execution_count": 13,
   "metadata": {},
   "outputs": [
    {
     "data": {
      "text/html": [
       "<div>\n",
       "<style scoped>\n",
       "    .dataframe tbody tr th:only-of-type {\n",
       "        vertical-align: middle;\n",
       "    }\n",
       "\n",
       "    .dataframe tbody tr th {\n",
       "        vertical-align: top;\n",
       "    }\n",
       "\n",
       "    .dataframe thead th {\n",
       "        text-align: right;\n",
       "    }\n",
       "</style>\n",
       "<table border=\"1\" class=\"dataframe\">\n",
       "  <thead>\n",
       "    <tr style=\"text-align: right;\">\n",
       "      <th></th>\n",
       "      <th>en_1_string</th>\n",
       "    </tr>\n",
       "  </thead>\n",
       "  <tbody>\n",
       "    <tr>\n",
       "      <th>0</th>\n",
       "      <td>0</td>\n",
       "    </tr>\n",
       "    <tr>\n",
       "      <th>1</th>\n",
       "      <td>Henry</td>\n",
       "    </tr>\n",
       "    <tr>\n",
       "      <th>2</th>\n",
       "      <td>Ford</td>\n",
       "    </tr>\n",
       "    <tr>\n",
       "      <th>3</th>\n",
       "      <td>Academy</td>\n",
       "    </tr>\n",
       "    <tr>\n",
       "      <th>4</th>\n",
       "      <td>is</td>\n",
       "    </tr>\n",
       "    <tr>\n",
       "      <th>...</th>\n",
       "      <td>...</td>\n",
       "    </tr>\n",
       "    <tr>\n",
       "      <th>395</th>\n",
       "      <td>related</td>\n",
       "    </tr>\n",
       "    <tr>\n",
       "      <th>396</th>\n",
       "      <td>article</td>\n",
       "    </tr>\n",
       "    <tr>\n",
       "      <th>397</th>\n",
       "      <td>is</td>\n",
       "    </tr>\n",
       "    <tr>\n",
       "      <th>398</th>\n",
       "      <td>a</td>\n",
       "    </tr>\n",
       "    <tr>\n",
       "      <th>399</th>\n",
       "      <td>stub</td>\n",
       "    </tr>\n",
       "  </tbody>\n",
       "</table>\n",
       "<p>400 rows × 1 columns</p>\n",
       "</div>"
      ],
      "text/plain": [
       "    en_1_string\n",
       "0             0\n",
       "1         Henry\n",
       "2          Ford\n",
       "3       Academy\n",
       "4            is\n",
       "..          ...\n",
       "395     related\n",
       "396     article\n",
       "397          is\n",
       "398           a\n",
       "399        stub\n",
       "\n",
       "[400 rows x 1 columns]"
      ]
     },
     "execution_count": 13,
     "metadata": {},
     "output_type": "execute_result"
    }
   ],
   "source": [
    "en_1_string_df = pd.DataFrame(en_1_string_list, columns=['en_1_string'])\n",
    "en_1_string_df"
   ]
  },
  {
   "cell_type": "code",
   "execution_count": 14,
   "metadata": {},
   "outputs": [
    {
     "data": {
      "text/plain": [
       "array(['0', 'Henry', 'Ford', 'Academy', 'is', 'the', 'first', 'charter',\n",
       "       'school', '1', 'The', 'Learning', 'Institute', 'using', '2', 'See',\n",
       "       'also', 'edit', '3', 'List', 'of', 'public', 'academy',\n",
       "       'districts', 'in', 'Mic', '4', 'References', '5', 'External',\n",
       "       'links', '6', 'website', '7', 'High', 'schools', 'Wayne', 'County',\n",
       "       'Michigan', '8', 'Public', 'high', '9', 'Central', '10', 'Denby',\n",
       "       '11', '12', 'Mumford', '13', 'Osborn', '14', 'Southeastern', '15',\n",
       "       'Americas', '16', 'Cass', 'Technical', '17', 'Crosman', '18',\n",
       "       'Detroit', 'International', 'for', 'Young', 'Women', '19',\n",
       "       'School', 'Arts', '20', 'Millennium', '21', 'Trombly',\n",
       "       'Alternative', '22', 'White', 'Center', '23', 'Closed', 'or',\n",
       "       'merged', '24', 'Cooley', '25', 'City', '26', 'Kettering', '27',\n",
       "       'Murray', 'Wright', '28', 'Northern', '29', 'Southwestern', '30',\n",
       "       'Allen', 'Park', '31', 'Carlson', 'Gibraltar', '32',\n",
       "       'Clarenceville', '33', 'Dearborn', '34', 'Edsel', '35', 'Fordson',\n",
       "       '36', 'Garden', '37', 'Grosse', 'Ile', '38', 'Pointe', 'South',\n",
       "       '39', 'Harper', 'Woods', '40', 'Lincoln', '41', 'Northville', '42',\n",
       "       'Redford', 'Union', '43', 'River', 'Rouge', '44', 'Theodore',\n",
       "       'Roosevelt', 'Wyandotte', '45', 'Adlai', 'E', 'Stevenson',\n",
       "       'Livonia', '46', 'Trenton', '47', 'Memorial', '48', 'Burger',\n",
       "       'Students', 'with', 'Autism', 'Inkster', '49', 'Magnet', '50',\n",
       "       'Highland', 'Community', '51', 'Cesar', 'Chavez', '52',\n",
       "       'Consortium', 'College', 'Prep', '53', '54', 'Jalen', 'Rose',\n",
       "       'Leadership', '55', 'Universal', 'Westland', '56', 'Catherine',\n",
       "       'Ferguson', '57', 'Secular', 'private', '58', 'University',\n",
       "       'Liggett', '59', 'Cristo', 'Rey', '60', 'Inter', 'Baptist', '61',\n",
       "       'Lutheran', '62', 'Jesuit', '63', '64', 'Notre', 'Dame', '65',\n",
       "       'St', 'Florian', '66', 'Catholic', 'to', 'Novi', '2005', '67',\n",
       "       'This', 'list', 'incomplete', '68', 'Metro', '69', 'Culture', '70',\n",
       "       'Economy', '71', 'History', '72', 'Riverfront', '73', 'Media',\n",
       "       '74', 'Parks', 'and', 'beaches', '75', 'Performing', 'arts', '76',\n",
       "       'Sports', '77', 'Transportation', '78', '79', 'Downtown', '80',\n",
       "       'New', '81', 'over', '000', '82', 'Canton', 'Township', '83', '84',\n",
       "       'Sterling', 'Heights', '85', 'Warren', '86', 'Municipalities',\n",
       "       '87', 'Chesterfield', '88', 'Farmington', 'Hills', '89', 'Macomb',\n",
       "       '90', 'Pontiac', '91', 'Rochester', '92', 'Clair', 'Shores', '93',\n",
       "       'Southfield', '94', 'Waterford', '95', 'Cultural', 'enclaves',\n",
       "       '96', 'Ann', 'Arbor', '97', 'Birmingham', '98', '99', '100', '101',\n",
       "       '102', '103', 'Plymouth', '104', 'Brighton', '105', 'Howell',\n",
       "       '106', 'Monroe', '107', 'Toledo', '108', 'Ypsilanti', '109',\n",
       "       'Livingston', '110', 'Oakland', '111', '112', '113', '114',\n",
       "       'Coordinates', 'N', 'W', '115', 'related', 'article', 'a', 'stub'],\n",
       "      dtype=object)"
      ]
     },
     "execution_count": 14,
     "metadata": {},
     "output_type": "execute_result"
    }
   ],
   "source": [
    "en_1_string_df['en_1_string'].unique()"
   ]
  },
  {
   "cell_type": "code",
   "execution_count": 15,
   "metadata": {},
   "outputs": [],
   "source": [
    "number_mask = en_1_string_df['en_1_string'].str.isnumeric()"
   ]
  },
  {
   "cell_type": "code",
   "execution_count": 16,
   "metadata": {},
   "outputs": [],
   "source": [
    "en_1_string_df = en_1_string_df[~number_mask]"
   ]
  },
  {
   "cell_type": "code",
   "execution_count": 17,
   "metadata": {},
   "outputs": [
    {
     "data": {
      "text/plain": [
       "86"
      ]
     },
     "execution_count": 17,
     "metadata": {},
     "output_type": "execute_result"
    }
   ],
   "source": [
    "en_1_string_df.duplicated().sum()"
   ]
  },
  {
   "cell_type": "code",
   "execution_count": 18,
   "metadata": {},
   "outputs": [],
   "source": [
    "en_1_string_df = en_1_string_df.drop_duplicates().reset_index(drop=True)"
   ]
  },
  {
   "cell_type": "code",
   "execution_count": 19,
   "metadata": {},
   "outputs": [
    {
     "data": {
      "text/plain": [
       "array(['Henry', 'Ford', 'Academy', 'is', 'the', 'first', 'charter',\n",
       "       'school', 'The', 'Learning', 'Institute', 'using', 'See', 'also',\n",
       "       'edit', 'List', 'of', 'public', 'academy', 'districts', 'in',\n",
       "       'Mic', 'References', 'External', 'links', 'website', 'High',\n",
       "       'schools', 'Wayne', 'County', 'Michigan', 'Public', 'high',\n",
       "       'Central', 'Denby', 'Mumford', 'Osborn', 'Southeastern',\n",
       "       'Americas', 'Cass', 'Technical', 'Crosman', 'Detroit',\n",
       "       'International', 'for', 'Young', 'Women', 'School', 'Arts',\n",
       "       'Millennium', 'Trombly', 'Alternative', 'White', 'Center',\n",
       "       'Closed', 'or', 'merged', 'Cooley', 'City', 'Kettering', 'Murray',\n",
       "       'Wright', 'Northern', 'Southwestern', 'Allen', 'Park', 'Carlson',\n",
       "       'Gibraltar', 'Clarenceville', 'Dearborn', 'Edsel', 'Fordson',\n",
       "       'Garden', 'Grosse', 'Ile', 'Pointe', 'South', 'Harper', 'Woods',\n",
       "       'Lincoln', 'Northville', 'Redford', 'Union', 'River', 'Rouge',\n",
       "       'Theodore', 'Roosevelt', 'Wyandotte', 'Adlai', 'E', 'Stevenson',\n",
       "       'Livonia', 'Trenton', 'Memorial', 'Burger', 'Students', 'with',\n",
       "       'Autism', 'Inkster', 'Magnet', 'Highland', 'Community', 'Cesar',\n",
       "       'Chavez', 'Consortium', 'College', 'Prep', 'Jalen', 'Rose',\n",
       "       'Leadership', 'Universal', 'Westland', 'Catherine', 'Ferguson',\n",
       "       'Secular', 'private', 'University', 'Liggett', 'Cristo', 'Rey',\n",
       "       'Inter', 'Baptist', 'Lutheran', 'Jesuit', 'Notre', 'Dame', 'St',\n",
       "       'Florian', 'Catholic', 'to', 'Novi', 'This', 'list', 'incomplete',\n",
       "       'Metro', 'Culture', 'Economy', 'History', 'Riverfront', 'Media',\n",
       "       'Parks', 'and', 'beaches', 'Performing', 'arts', 'Sports',\n",
       "       'Transportation', 'Downtown', 'New', 'over', 'Canton', 'Township',\n",
       "       'Sterling', 'Heights', 'Warren', 'Municipalities', 'Chesterfield',\n",
       "       'Farmington', 'Hills', 'Macomb', 'Pontiac', 'Rochester', 'Clair',\n",
       "       'Shores', 'Southfield', 'Waterford', 'Cultural', 'enclaves', 'Ann',\n",
       "       'Arbor', 'Birmingham', 'Plymouth', 'Brighton', 'Howell', 'Monroe',\n",
       "       'Toledo', 'Ypsilanti', 'Livingston', 'Oakland', 'Coordinates', 'N',\n",
       "       'W', 'related', 'article', 'a', 'stub'], dtype=object)"
      ]
     },
     "execution_count": 19,
     "metadata": {},
     "output_type": "execute_result"
    }
   ],
   "source": [
    "en_1_string_df['en_1_string'].unique()"
   ]
  },
  {
   "cell_type": "code",
   "execution_count": 82,
   "metadata": {},
   "outputs": [],
   "source": [
    "# 파일 전처리 하는 함수\n",
    "def preprocessing_file(path, colname):\n",
    "    \n",
    "    # 파일 불러오기\n",
    "    text_list = []\n",
    "    with open(path, 'r', encoding='utf-8') as f:\n",
    "        for row in f:\n",
    "            text_list.append(f.readline().split('\\n')[0])\n",
    "    \n",
    "    # 단어 단위 처리\n",
    "    text_df = pd.DataFrame(text_list, columns=[colname])\n",
    "    \n",
    "    # 줄바꿈 흔적 지우기\n",
    "    mask = (text_df[colname] == 't') | (text_df[colname] == '')\n",
    "    text_df = text_df[~mask]\n",
    "    text_df = text_df.reset_index(drop=True)\n",
    "    \n",
    "    # 특수기호들 빼려고 문자열로 바꿈\n",
    "    string = text_df[colname].to_string()\n",
    "    string = string.lower()\n",
    "    replace_list = ['(', ')', '[', ']', '\\\\', '/', '...', '\\ufeff', '-', ',', '.', ';', '|', '?', '!', '°', '′', '″', ':', \"'\", '\"', '﻿',\n",
    "                '^', '@', '#', '`', '$', '%', '&', '*', '<', '>', '+', '–', '·', '██', 'ˈ', '×', '=', 'ɡ', 'ʔ', '’', '«', '↑', '»',\n",
    "                '‎', 'スター・ウォーズ', 'ローグ', 'スコードロン', '中国']\n",
    "    for entty in replace_list:\n",
    "        string = string.replace(entty, ' ')\n",
    "    # string = ' '.join(char for char in string if not char.isnumeric())\n",
    "    string_list = string.split()\n",
    "    \n",
    "    # 숫자 처리\n",
    "    string_df = pd.DataFrame(string_list, columns=[colname])\n",
    "    number_mask = string_df[colname].str.isnumeric()\n",
    "    string_df = string_df[~number_mask].reset_index(drop=True)\n",
    "    \n",
    "    # 문자 한개인 경우 삭제\n",
    "    for i in range(len(string_df)):\n",
    "        if len(string_df.loc[i, colname]) == 1:\n",
    "            string_df = string_df.drop(i, axis=0)\n",
    "    \n",
    "    # 중복 삭제\n",
    "    string_df = string_df.drop_duplicates().reset_index(drop=True)\n",
    "    \n",
    "    return string_df"
   ]
  },
  {
   "cell_type": "code",
   "execution_count": 83,
   "metadata": {},
   "outputs": [],
   "source": [
    "train_en_1_df = preprocessing_file(path='../data/Language/train/en-1.txt', colname='train_en_1')\n",
    "train_en_2_df = preprocessing_file(path='../data/Language/train/en-2.txt', colname='train_en_2')\n",
    "train_en_3_df = preprocessing_file(path='../data/Language/train/en-3.txt', colname='train_en_3')\n",
    "train_en_4_df = preprocessing_file(path='../data/Language/train/en-4.txt', colname='train_en_4')\n",
    "train_en_5_df = preprocessing_file(path='../data/Language/train/en-5.txt', colname='train_en_5')\n",
    "\n",
    "train_en_1_df2 = preprocessing_file(path='../data/Language/train/en-1.txt', colname='train_en')\n",
    "train_en_2_df2 = preprocessing_file(path='../data/Language/train/en-2.txt', colname='train_en')\n",
    "train_en_3_df2 = preprocessing_file(path='../data/Language/train/en-3.txt', colname='train_en')\n",
    "train_en_4_df2 = preprocessing_file(path='../data/Language/train/en-4.txt', colname='train_en')\n",
    "train_en_5_df2 = preprocessing_file(path='../data/Language/train/en-5.txt', colname='train_en')\n",
    "\n",
    "train_en_df = pd.concat([train_en_1_df, train_en_2_df, train_en_3_df, train_en_4_df, train_en_5_df], axis=1)\n",
    "train_en_df2 = pd.concat([train_en_1_df2, train_en_2_df2, train_en_3_df2, train_en_4_df2, train_en_5_df2], axis=0)"
   ]
  },
  {
   "cell_type": "code",
   "execution_count": 84,
   "metadata": {},
   "outputs": [],
   "source": [
    "train_fr_1_df = preprocessing_file(path='../data/Language/train/fr-6.txt', colname='train_fr_1')\n",
    "train_fr_2_df = preprocessing_file(path='../data/Language/train/fr-7.txt', colname='train_fr_2')\n",
    "train_fr_3_df = preprocessing_file(path='../data/Language/train/fr-8.txt', colname='train_fr_3')\n",
    "train_fr_4_df = preprocessing_file(path='../data/Language/train/fr-9.txt', colname='train_fr_4')\n",
    "train_fr_5_df = preprocessing_file(path='../data/Language/train/fr-10.txt', colname='train_fr_5')\n",
    "\n",
    "train_fr_1_df2 = preprocessing_file(path='../data/Language/train/fr-6.txt', colname='train_fr')\n",
    "train_fr_2_df2 = preprocessing_file(path='../data/Language/train/fr-7.txt', colname='train_fr')\n",
    "train_fr_3_df2 = preprocessing_file(path='../data/Language/train/fr-8.txt', colname='train_fr')\n",
    "train_fr_4_df2 = preprocessing_file(path='../data/Language/train/fr-9.txt', colname='train_fr')\n",
    "train_fr_5_df2 = preprocessing_file(path='../data/Language/train/fr-10.txt', colname='train_fr')\n",
    "\n",
    "train_fr_df = pd.concat([train_fr_1_df, train_fr_2_df, train_fr_3_df, train_fr_4_df, train_fr_5_df], axis=1)\n",
    "train_fr_df2 = pd.concat([train_fr_1_df2, train_fr_2_df2, train_fr_3_df2, train_fr_4_df2, train_fr_5_df2], axis=0)"
   ]
  },
  {
   "cell_type": "code",
   "execution_count": 85,
   "metadata": {},
   "outputs": [],
   "source": [
    "train_id_1_df = preprocessing_file(path='../data/Language/train/id-11.txt', colname='train_id_1')\n",
    "train_id_2_df = preprocessing_file(path='../data/Language/train/id-12.txt', colname='train_id_2')\n",
    "train_id_3_df = preprocessing_file(path='../data/Language/train/id-13.txt', colname='train_id_3')\n",
    "train_id_4_df = preprocessing_file(path='../data/Language/train/id-14.txt', colname='train_id_4')\n",
    "train_id_5_df = preprocessing_file(path='../data/Language/train/id-15.txt', colname='train_id_5')\n",
    "\n",
    "train_id_1_df2 = preprocessing_file(path='../data/Language/train/id-11.txt', colname='train_id')\n",
    "train_id_2_df2 = preprocessing_file(path='../data/Language/train/id-12.txt', colname='train_id')\n",
    "train_id_3_df2 = preprocessing_file(path='../data/Language/train/id-13.txt', colname='train_id')\n",
    "train_id_4_df2 = preprocessing_file(path='../data/Language/train/id-14.txt', colname='train_id')\n",
    "train_id_5_df2 = preprocessing_file(path='../data/Language/train/id-15.txt', colname='train_id')\n",
    "\n",
    "train_id_df = pd.concat([train_id_1_df, train_id_2_df, train_id_3_df, train_id_4_df, train_id_5_df], axis=1)\n",
    "train_id_df2 = pd.concat([train_id_1_df2, train_id_2_df2, train_id_3_df2, train_id_4_df2, train_id_5_df2], axis=0)"
   ]
  },
  {
   "cell_type": "code",
   "execution_count": 86,
   "metadata": {},
   "outputs": [],
   "source": [
    "train_tl_1_df = preprocessing_file(path='../data/Language/train/tl-16.txt', colname='train_tl_1')\n",
    "train_tl_2_df = preprocessing_file(path='../data/Language/train/tl-17.txt', colname='train_tl_2')\n",
    "train_tl_3_df = preprocessing_file(path='../data/Language/train/tl-18.txt', colname='train_tl_3')\n",
    "train_tl_4_df = preprocessing_file(path='../data/Language/train/tl-19.txt', colname='train_tl_4')\n",
    "train_tl_5_df = preprocessing_file(path='../data/Language/train/tl-20.txt', colname='train_tl_5')\n",
    "\n",
    "train_tl_1_df2 = preprocessing_file(path='../data/Language/train/tl-16.txt', colname='train_tl')\n",
    "train_tl_2_df2 = preprocessing_file(path='../data/Language/train/tl-17.txt', colname='train_tl')\n",
    "train_tl_3_df2 = preprocessing_file(path='../data/Language/train/tl-18.txt', colname='train_tl')\n",
    "train_tl_4_df2 = preprocessing_file(path='../data/Language/train/tl-19.txt', colname='train_tl')\n",
    "train_tl_5_df2 = preprocessing_file(path='../data/Language/train/tl-20.txt', colname='train_tl')\n",
    "\n",
    "train_tl_df = pd.concat([train_tl_1_df, train_tl_2_df, train_tl_3_df, train_tl_4_df, train_tl_5_df], axis=1)\n",
    "train_tl_df2 = pd.concat([train_tl_1_df2, train_tl_2_df2, train_tl_3_df2, train_tl_4_df2, train_tl_5_df2], axis=0)"
   ]
  },
  {
   "cell_type": "code",
   "execution_count": 87,
   "metadata": {},
   "outputs": [],
   "source": [
    "test_en_1_df = preprocessing_file(path='../data/Language/test/en-1.txt', colname='test_en_1')\n",
    "test_en_2_df = preprocessing_file(path='../data/Language/test/en-2.txt', colname='test_en_2')\n",
    "\n",
    "test_en_1_df2 = preprocessing_file(path='../data/Language/test/en-1.txt', colname='test_en')\n",
    "test_en_2_df2 = preprocessing_file(path='../data/Language/test/en-2.txt', colname='test_en')\n",
    "\n",
    "test_en_df = pd.concat([test_en_1_df, test_en_2_df], axis=1)\n",
    "test_en_df2 = pd.concat([test_en_1_df2, test_en_2_df2], axis=0)"
   ]
  },
  {
   "cell_type": "code",
   "execution_count": 88,
   "metadata": {},
   "outputs": [],
   "source": [
    "test_fr_1_df = preprocessing_file(path='../data/Language/test/fr-3.txt', colname='test_fr_1')\n",
    "test_fr_2_df = preprocessing_file(path='../data/Language/test/fr-4.txt', colname='test_fr_2')\n",
    "\n",
    "test_fr_1_df2 = preprocessing_file(path='../data/Language/test/fr-3.txt', colname='test_fr')\n",
    "test_fr_2_df2 = preprocessing_file(path='../data/Language/test/fr-4.txt', colname='test_fr')\n",
    "\n",
    "test_fr_df = pd.concat([test_fr_1_df, test_fr_2_df], axis=1)\n",
    "test_fr_df2 = pd.concat([test_fr_1_df2, test_fr_2_df2], axis=0)"
   ]
  },
  {
   "cell_type": "code",
   "execution_count": 89,
   "metadata": {},
   "outputs": [],
   "source": [
    "test_id_1_df = preprocessing_file(path='../data/Language/test/id-5.txt', colname='test_id_1')\n",
    "test_id_2_df = preprocessing_file(path='../data/Language/test/id-6.txt', colname='test_id_2')\n",
    "\n",
    "test_id_1_df2 = preprocessing_file(path='../data/Language/test/id-5.txt', colname='test_id')\n",
    "test_id_2_df2 = preprocessing_file(path='../data/Language/test/id-6.txt', colname='test_id')\n",
    "\n",
    "test_id_df = pd.concat([test_id_1_df, test_id_2_df], axis=1)\n",
    "test_id_df2 = pd.concat([test_id_1_df2, test_id_2_df2], axis=0)"
   ]
  },
  {
   "cell_type": "code",
   "execution_count": 90,
   "metadata": {},
   "outputs": [],
   "source": [
    "test_tl_1_df = preprocessing_file(path='../data/Language/test/tl-7.txt', colname='test_tl_1')\n",
    "test_tl_2_df = preprocessing_file(path='../data/Language/test/tl-8.txt', colname='test_tl_2')\n",
    "\n",
    "test_tl_1_df2 = preprocessing_file(path='../data/Language/test/tl-7.txt', colname='test_tl')\n",
    "test_tl_2_df2 = preprocessing_file(path='../data/Language/test/tl-8.txt', colname='test_tl')\n",
    "\n",
    "test_tl_df = pd.concat([test_tl_1_df, test_tl_2_df], axis=1)\n",
    "test_tl_df2 = pd.concat([test_tl_1_df2, test_tl_2_df2], axis=0)"
   ]
  },
  {
   "cell_type": "code",
   "execution_count": 91,
   "metadata": {},
   "outputs": [],
   "source": [
    "# DF save\n",
    "train_en_df.to_csv('../data/Language/train_en_df.csv', encoding='utf-8', index=False)\n",
    "train_fr_df.to_csv('../data/Language/train_fr_df.csv', encoding='utf-8', index=False)\n",
    "train_id_df.to_csv('../data/Language/train_id_df.csv', encoding='utf-8', index=False)\n",
    "train_tl_df.to_csv('../data/Language/train_tl_df.csv', encoding='utf-8', index=False)\n",
    "\n",
    "test_en_df.to_csv('../data/Language/test_en_df.csv', encoding='utf-8', index=False)\n",
    "test_fr_df.to_csv('../data/Language/test_fr_df.csv', encoding='utf-8', index=False)\n",
    "test_id_df.to_csv('../data/Language/test_id_df.csv', encoding='utf-8', index=False)\n",
    "test_tl_df.to_csv('../data/Language/test_tl_df.csv', encoding='utf-8', index=False)"
   ]
  },
  {
   "cell_type": "code",
   "execution_count": 92,
   "metadata": {},
   "outputs": [],
   "source": [
    "# DF save\n",
    "train_en_df2.to_csv('../data/Language/train_en_df2.csv', encoding='utf-8', index=False, )\n",
    "train_fr_df2.to_csv('../data/Language/train_fr_df2.csv', encoding='utf-8', index=False)\n",
    "train_id_df2.to_csv('../data/Language/train_id_df2.csv', encoding='utf-8', index=False)\n",
    "train_tl_df2.to_csv('../data/Language/train_tl_df2.csv', encoding='utf-8', index=False)\n",
    "\n",
    "test_en_df2.to_csv('../data/Language/test_en_df2.csv', encoding='utf-8', index=False)\n",
    "test_fr_df2.to_csv('../data/Language/test_fr_df2.csv', encoding='utf-8', index=False)\n",
    "test_id_df2.to_csv('../data/Language/test_id_df2.csv', encoding='utf-8', index=False)\n",
    "test_tl_df2.to_csv('../data/Language/test_tl_df2.csv', encoding='utf-8', index=False)"
   ]
  },
  {
   "cell_type": "code",
   "execution_count": 93,
   "metadata": {},
   "outputs": [
    {
     "data": {
      "text/html": [
       "<div>\n",
       "<style scoped>\n",
       "    .dataframe tbody tr th:only-of-type {\n",
       "        vertical-align: middle;\n",
       "    }\n",
       "\n",
       "    .dataframe tbody tr th {\n",
       "        vertical-align: top;\n",
       "    }\n",
       "\n",
       "    .dataframe thead th {\n",
       "        text-align: right;\n",
       "    }\n",
       "</style>\n",
       "<table border=\"1\" class=\"dataframe\">\n",
       "  <thead>\n",
       "    <tr style=\"text-align: right;\">\n",
       "      <th></th>\n",
       "      <th>train_en</th>\n",
       "    </tr>\n",
       "  </thead>\n",
       "  <tbody>\n",
       "    <tr>\n",
       "      <th>170</th>\n",
       "      <td>oakland</td>\n",
       "    </tr>\n",
       "    <tr>\n",
       "      <th>171</th>\n",
       "      <td>coordinates</td>\n",
       "    </tr>\n",
       "    <tr>\n",
       "      <th>172</th>\n",
       "      <td>related</td>\n",
       "    </tr>\n",
       "    <tr>\n",
       "      <th>173</th>\n",
       "      <td>article</td>\n",
       "    </tr>\n",
       "    <tr>\n",
       "      <th>174</th>\n",
       "      <td>stub</td>\n",
       "    </tr>\n",
       "  </tbody>\n",
       "</table>\n",
       "</div>"
      ],
      "text/plain": [
       "        train_en\n",
       "170      oakland\n",
       "171  coordinates\n",
       "172      related\n",
       "173      article\n",
       "174         stub"
      ]
     },
     "execution_count": 93,
     "metadata": {},
     "output_type": "execute_result"
    }
   ],
   "source": [
    "train_en_1_df2.tail()"
   ]
  },
  {
   "cell_type": "code",
   "execution_count": null,
   "metadata": {},
   "outputs": [],
   "source": []
  }
 ],
 "metadata": {
  "kernelspec": {
   "display_name": "ml_38",
   "language": "python",
   "name": "python3"
  },
  "language_info": {
   "codemirror_mode": {
    "name": "ipython",
    "version": 3
   },
   "file_extension": ".py",
   "mimetype": "text/x-python",
   "name": "python",
   "nbconvert_exporter": "python",
   "pygments_lexer": "ipython3",
   "version": "3.8.19"
  }
 },
 "nbformat": 4,
 "nbformat_minor": 2
}
