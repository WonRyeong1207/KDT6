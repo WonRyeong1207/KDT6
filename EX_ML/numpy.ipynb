{
 "cells": [
  {
   "cell_type": "markdown",
   "metadata": {},
   "source": [
    "### 책의 넘파이 파트를 해볼겨..\n",
    "- 개인적인 공부\n",
    "- p.14"
   ]
  },
  {
   "cell_type": "code",
   "execution_count": 1,
   "metadata": {},
   "outputs": [],
   "source": [
    "import numpy as np"
   ]
  },
  {
   "cell_type": "code",
   "execution_count": 2,
   "metadata": {},
   "outputs": [
    {
     "name": "stdout",
     "output_type": "stream",
     "text": [
      "array1 type:  <class 'numpy.ndarray'>\n",
      "array1 shape:  (3,)\n",
      "array2 type: <class 'numpy.ndarray'>\n",
      "array2 shape: (2, 3)\n",
      "array3 type: <class 'numpy.ndarray'>\n",
      "array3 shape: (1, 3)\n"
     ]
    }
   ],
   "source": [
    "# 넘파이 ndarray 개요\n",
    "# 생성된 ndarray 배열의 shape 변수는 ndarray의 크기 즉, 행과 열의 수를 튜플 형태로 가지고 있으며 이를 통해 ndarray 배열의 차원까지 알 수 있음.\n",
    "\n",
    "array1 = np.array([1, 2, 3])\n",
    "print('array1 type: ', type(array1))\n",
    "print('array1 shape: ', array1.shape)\n",
    "\n",
    "array2 = np.array([[1, 2, 3], [2, 3, 4]])\n",
    "print(f'array2 type: {type(array2)}')\n",
    "print(f\"array2 shape: {array2.shape}\")\n",
    "\n",
    "array3 = np.array([[1, 2, 3]])\n",
    "print(f\"array3 type: {type(array3)}\")\n",
    "print(f\"array3 shape: {array3.shape}\")"
   ]
  },
  {
   "cell_type": "code",
   "execution_count": 3,
   "metadata": {},
   "outputs": [
    {
     "name": "stdout",
     "output_type": "stream",
     "text": [
      "array1: 1D, array2: 2D, array3: 2D\n"
     ]
    }
   ],
   "source": [
    "# 차원 확인하기\n",
    "print(f\"array1: {array1.ndim}D, array2: {array2.ndim}D, array3: {array3.ndim}D\")"
   ]
  },
  {
   "cell_type": "code",
   "execution_count": 4,
   "metadata": {},
   "outputs": [
    {
     "name": "stdout",
     "output_type": "stream",
     "text": [
      "<class 'list'>\n",
      "<class 'numpy.ndarray'>\n",
      "[1 2 3] int32\n"
     ]
    }
   ],
   "source": [
    "# ndarray의 데이터 타입\n",
    "\n",
    "list1 = [1, 2, 3]\n",
    "print(type(list1))\n",
    "array1 = np.array(list1)\n",
    "print(type(array1))\n",
    "print(array1, array1.dtype)"
   ]
  },
  {
   "cell_type": "code",
   "execution_count": 5,
   "metadata": {},
   "outputs": [
    {
     "name": "stdout",
     "output_type": "stream",
     "text": [
      "['1' '2' 'test'] <U11\n",
      "[1. 2. 3.] float64\n"
     ]
    }
   ],
   "source": [
    "list2 = [1, 2, 'test']\n",
    "array2 = np.array(list2)\n",
    "print(array2, array2.dtype)\n",
    "\n",
    "list3 = [1, 2, 3.0]\n",
    "array3 = np.array(list3)\n",
    "print(array3, array3.dtype)\n",
    "\n",
    "# 모두 같은 데이터 타입으로 변환됨."
   ]
  },
  {
   "cell_type": "code",
   "execution_count": 6,
   "metadata": {},
   "outputs": [
    {
     "name": "stdout",
     "output_type": "stream",
     "text": [
      "[1. 2. 3.] float64\n",
      "[1 2 3] int64\n",
      "[1 2 3] int64\n"
     ]
    }
   ],
   "source": [
    "array_int = np.array([1, 2, 3])\n",
    "array_float = array_int.astype('float64')\n",
    "print(array_float, array_float.dtype)\n",
    "\n",
    "array_int1 = array_float.astype('int64')\n",
    "print(array_int1, array_int1.dtype)\n",
    "\n",
    "array_float1 = np.array([1.1, 2.1, 3.1])\n",
    "array_int2 = array_float1.astype('int64')\n",
    "print(array_int2, array_int2.dtype)"
   ]
  },
  {
   "cell_type": "code",
   "execution_count": 7,
   "metadata": {},
   "outputs": [
    {
     "name": "stdout",
     "output_type": "stream",
     "text": [
      "[0 1 2 3 4 5 6 7 8 9]\n",
      "int32 (10,)\n"
     ]
    }
   ],
   "source": [
    "# ndarray를 편하게 생성하기 - arange, zeros, ones\n",
    "# 배열을 0이나 1로 채워주는 매서드. arange는 range함수와 유사하고 ndaarry의 데이터 값으로 변환\n",
    "\n",
    "sequence_array = np.arange(10)\n",
    "print(sequence_array)\n",
    "print(sequence_array.dtype, sequence_array.shape)"
   ]
  },
  {
   "cell_type": "code",
   "execution_count": 8,
   "metadata": {},
   "outputs": [
    {
     "name": "stdout",
     "output_type": "stream",
     "text": [
      "[[0 0]\n",
      " [0 0]\n",
      " [0 0]]\n",
      "int32 (3, 2)\n",
      "[[1. 1.]\n",
      " [1. 1.]\n",
      " [1. 1.]]\n",
      "float64 (3, 2)\n"
     ]
    }
   ],
   "source": [
    "zero_array = np.zeros((3, 2), dtype='int32')\n",
    "print(zero_array)\n",
    "print(zero_array.dtype, zero_array.shape)\n",
    "\n",
    "one_array = np.ones((3, 2))\n",
    "print(one_array)\n",
    "print(one_array.dtype, one_array.shape)"
   ]
  },
  {
   "cell_type": "code",
   "execution_count": 10,
   "metadata": {},
   "outputs": [
    {
     "name": "stdout",
     "output_type": "stream",
     "text": [
      "array1:\n",
      "[0 1 2 3 4 5 6 7 8 9]\n",
      "array2:\n",
      "[[0 1 2 3 4]\n",
      " [5 6 7 8 9]]\n",
      "array3:\n",
      "[[0 1]\n",
      " [2 3]\n",
      " [4 5]\n",
      " [6 7]\n",
      " [8 9]]\n"
     ]
    }
   ],
   "source": [
    "# ndarray의 차원과 크기를 변경하는 reshape()\n",
    "# reshape() 메서드는 ndarray를 특정 타원 및 크기로 변환\n",
    "\n",
    "array1 = np.arange(10)\n",
    "print('array1:', array1, sep='\\n')\n",
    "\n",
    "array2 = array1.reshape(2, 5)\n",
    "print('array2:', array2, sep='\\n')\n",
    "\n",
    "array3 = array1.reshape(5, 2)\n",
    "print('array3:', array3, sep='\\n')\n",
    "\n",
    "# 당연하지만 지정한 사이즈로 변경이 불가능하면 오류 발생\n",
    "# array1.shape(4, 3)은 오류남"
   ]
  },
  {
   "cell_type": "code",
   "execution_count": 11,
   "metadata": {},
   "outputs": [
    {
     "name": "stdout",
     "output_type": "stream",
     "text": [
      "[0 1 2 3 4 5 6 7 8 9]\n",
      "array2 shape: (2, 5)\n",
      "array3 shape: (5, 2)\n"
     ]
    }
   ],
   "source": [
    "array1 = np.arange(10)\n",
    "print(array1)\n",
    "\n",
    "array2 = array1.reshape(-1, 5)\n",
    "print(f\"array2 shape: {array2.shape}\")\n",
    "\n",
    "array3 = array1.reshape(5, -1)\n",
    "print(f'array3 shape: {array3.shape}')\n",
    "\n",
    "# array4 = array.reshape(-1, 4) 에러 발생"
   ]
  },
  {
   "cell_type": "code",
   "execution_count": null,
   "metadata": {},
   "outputs": [],
   "source": [
    "array1 = np.arange(8)\n",
    "array3d = array1.reshape((2, 2, 2))\n",
    "print('array3d', array3d, sep='\\n')\n",
    "\n",
    "# 3D to 2D\n",
    "array5 = array3d.reshape(-1, 1)\n"
   ]
  }
 ],
 "metadata": {
  "kernelspec": {
   "display_name": "kdt6",
   "language": "python",
   "name": "python3"
  },
  "language_info": {
   "codemirror_mode": {
    "name": "ipython",
    "version": 3
   },
   "file_extension": ".py",
   "mimetype": "text/x-python",
   "name": "python",
   "nbconvert_exporter": "python",
   "pygments_lexer": "ipython3",
   "version": "3.8.19"
  }
 },
 "nbformat": 4,
 "nbformat_minor": 2
}
