{
 "cells": [
  {
   "cell_type": "markdown",
   "metadata": {},
   "source": [
    "### 책의 넘파이 파트를 해볼겨..\n",
    "- 개인적인 공부\n",
    "- p.14"
   ]
  },
  {
   "cell_type": "code",
   "execution_count": 1,
   "metadata": {},
   "outputs": [],
   "source": [
    "import numpy as np"
   ]
  },
  {
   "cell_type": "code",
   "execution_count": 2,
   "metadata": {},
   "outputs": [
    {
     "name": "stdout",
     "output_type": "stream",
     "text": [
      "array1 type:  <class 'numpy.ndarray'>\n",
      "array1 shape:  (3,)\n",
      "array2 type: <class 'numpy.ndarray'>\n",
      "array2 shape: (2, 3)\n",
      "array3 type: <class 'numpy.ndarray'>\n",
      "array3 shape: (1, 3)\n"
     ]
    }
   ],
   "source": [
    "# 넘파이 ndarray 개요\n",
    "# 생성된 ndarray 배열의 shape 변수는 ndarray의 크기 즉, 행과 열의 수를 튜플 형태로 가지고 있으며 이를 통해 ndarray 배열의 차원까지 알 수 있음.\n",
    "\n",
    "array1 = np.array([1, 2, 3])\n",
    "print('array1 type: ', type(array1))\n",
    "print('array1 shape: ', array1.shape)\n",
    "\n",
    "array2 = np.array([[1, 2, 3], [2, 3, 4]])\n",
    "print(f'array2 type: {type(array2)}')\n",
    "print(f\"array2 shape: {array2.shape}\")\n",
    "\n",
    "array3 = np.array([[1, 2, 3]])\n",
    "print(f\"array3 type: {type(array3)}\")\n",
    "print(f\"array3 shape: {array3.shape}\")"
   ]
  },
  {
   "cell_type": "code",
   "execution_count": 3,
   "metadata": {},
   "outputs": [
    {
     "name": "stdout",
     "output_type": "stream",
     "text": [
      "array1: 1D, array2: 2D, array3: 2D\n"
     ]
    }
   ],
   "source": [
    "# 차원 확인하기\n",
    "print(f\"array1: {array1.ndim}D, array2: {array2.ndim}D, array3: {array3.ndim}D\")"
   ]
  },
  {
   "cell_type": "code",
   "execution_count": 4,
   "metadata": {},
   "outputs": [
    {
     "name": "stdout",
     "output_type": "stream",
     "text": [
      "<class 'list'>\n",
      "<class 'numpy.ndarray'>\n",
      "[1 2 3] int32\n"
     ]
    }
   ],
   "source": [
    "# ndarray의 데이터 타입\n",
    "\n",
    "list1 = [1, 2, 3]\n",
    "print(type(list1))\n",
    "array1 = np.array(list1)\n",
    "print(type(array1))\n",
    "print(array1, array1.dtype)"
   ]
  },
  {
   "cell_type": "code",
   "execution_count": 5,
   "metadata": {},
   "outputs": [
    {
     "name": "stdout",
     "output_type": "stream",
     "text": [
      "['1' '2' 'test'] <U11\n",
      "[1. 2. 3.] float64\n"
     ]
    }
   ],
   "source": [
    "list2 = [1, 2, 'test']\n",
    "array2 = np.array(list2)\n",
    "print(array2, array2.dtype)\n",
    "\n",
    "list3 = [1, 2, 3.0]\n",
    "array3 = np.array(list3)\n",
    "print(array3, array3.dtype)\n",
    "\n",
    "# 모두 같은 데이터 타입으로 변환됨."
   ]
  },
  {
   "cell_type": "code",
   "execution_count": 6,
   "metadata": {},
   "outputs": [
    {
     "name": "stdout",
     "output_type": "stream",
     "text": [
      "[1. 2. 3.] float64\n",
      "[1 2 3] int64\n",
      "[1 2 3] int64\n"
     ]
    }
   ],
   "source": [
    "array_int = np.array([1, 2, 3])\n",
    "array_float = array_int.astype('float64')\n",
    "print(array_float, array_float.dtype)\n",
    "\n",
    "array_int1 = array_float.astype('int64')\n",
    "print(array_int1, array_int1.dtype)\n",
    "\n",
    "array_float1 = np.array([1.1, 2.1, 3.1])\n",
    "array_int2 = array_float1.astype('int64')\n",
    "print(array_int2, array_int2.dtype)"
   ]
  },
  {
   "cell_type": "code",
   "execution_count": 7,
   "metadata": {},
   "outputs": [
    {
     "name": "stdout",
     "output_type": "stream",
     "text": [
      "[0 1 2 3 4 5 6 7 8 9]\n",
      "int32 (10,)\n"
     ]
    }
   ],
   "source": [
    "# ndarray를 편하게 생성하기 - arange, zeros, ones\n",
    "# 배열을 0이나 1로 채워주는 매서드. arange는 range함수와 유사하고 ndaarry의 데이터 값으로 변환\n",
    "\n",
    "sequence_array = np.arange(10)\n",
    "print(sequence_array)\n",
    "print(sequence_array.dtype, sequence_array.shape)"
   ]
  },
  {
   "cell_type": "code",
   "execution_count": 8,
   "metadata": {},
   "outputs": [
    {
     "name": "stdout",
     "output_type": "stream",
     "text": [
      "[[0 0]\n",
      " [0 0]\n",
      " [0 0]]\n",
      "int32 (3, 2)\n",
      "[[1. 1.]\n",
      " [1. 1.]\n",
      " [1. 1.]]\n",
      "float64 (3, 2)\n"
     ]
    }
   ],
   "source": [
    "zero_array = np.zeros((3, 2), dtype='int32')\n",
    "print(zero_array)\n",
    "print(zero_array.dtype, zero_array.shape)\n",
    "\n",
    "one_array = np.ones((3, 2))\n",
    "print(one_array)\n",
    "print(one_array.dtype, one_array.shape)"
   ]
  },
  {
   "cell_type": "code",
   "execution_count": 9,
   "metadata": {},
   "outputs": [
    {
     "name": "stdout",
     "output_type": "stream",
     "text": [
      "array1:\n",
      "[0 1 2 3 4 5 6 7 8 9]\n",
      "array2:\n",
      "[[0 1 2 3 4]\n",
      " [5 6 7 8 9]]\n",
      "array3:\n",
      "[[0 1]\n",
      " [2 3]\n",
      " [4 5]\n",
      " [6 7]\n",
      " [8 9]]\n"
     ]
    }
   ],
   "source": [
    "# ndarray의 차원과 크기를 변경하는 reshape()\n",
    "# reshape() 메서드는 ndarray를 특정 타원 및 크기로 변환\n",
    "\n",
    "array1 = np.arange(10)\n",
    "print('array1:', array1, sep='\\n')\n",
    "\n",
    "array2 = array1.reshape(2, 5)\n",
    "print('array2:', array2, sep='\\n')\n",
    "\n",
    "array3 = array1.reshape(5, 2)\n",
    "print('array3:', array3, sep='\\n')\n",
    "\n",
    "# 당연하지만 지정한 사이즈로 변경이 불가능하면 오류 발생\n",
    "# array1.shape(4, 3)은 오류남"
   ]
  },
  {
   "cell_type": "code",
   "execution_count": 10,
   "metadata": {},
   "outputs": [
    {
     "name": "stdout",
     "output_type": "stream",
     "text": [
      "[0 1 2 3 4 5 6 7 8 9]\n",
      "array2 shape: (2, 5)\n",
      "array3 shape: (5, 2)\n"
     ]
    }
   ],
   "source": [
    "array1 = np.arange(10)\n",
    "print(array1)\n",
    "\n",
    "array2 = array1.reshape(-1, 5)\n",
    "print(f\"array2 shape: {array2.shape}\")\n",
    "\n",
    "array3 = array1.reshape(5, -1)\n",
    "print(f'array3 shape: {array3.shape}')\n",
    "\n",
    "# array4 = array.reshape(-1, 4) 에러 발생"
   ]
  },
  {
   "cell_type": "code",
   "execution_count": 11,
   "metadata": {},
   "outputs": [
    {
     "name": "stdout",
     "output_type": "stream",
     "text": [
      "array3d:\n",
      "[[[0 1]\n",
      "  [2 3]]\n",
      "\n",
      " [[4 5]\n",
      "  [6 7]]]\n",
      "array5:\n",
      "[[0], [1], [2], [3], [4], [5], [6], [7]]\n",
      "array5 shape: (8, 1)\n",
      "array6:\n",
      "[[0], [1], [2], [3], [4], [5], [6], [7]]\n",
      "array6 shape:  (8, 1)\n"
     ]
    }
   ],
   "source": [
    "array1 = np.arange(8)\n",
    "array3d = array1.reshape((2, 2, 2))\n",
    "print('array3d:', array3d, sep='\\n')\n",
    "\n",
    "# 3D to 2D\n",
    "array5 = array3d.reshape(-1, 1)\n",
    "print('array5:', array5.tolist(), sep='\\n')\n",
    "print('array5 shape:', array5.shape)\n",
    "\n",
    "# 1D to 2D\n",
    "array6 = array1.reshape(-1, 1)\n",
    "print('array6:', array6.tolist(), sep='\\n')\n",
    "print('array6 shape: ', array6.shape)"
   ]
  },
  {
   "cell_type": "code",
   "execution_count": 12,
   "metadata": {},
   "outputs": [
    {
     "name": "stdout",
     "output_type": "stream",
     "text": [
      "array1:  [1 2 3 4 5 6 7 8 9]\n",
      "value:  3\n",
      "<class 'numpy.int32'>\n"
     ]
    }
   ],
   "source": [
    "# 넘파이의 ndarray의 데이터 세트 선택하기 - 인덱싱(Indexing)\n",
    "\n",
    "# 단일 값 추출\n",
    "# 1부터 9까지의 1차원 ndarray 생성\n",
    "array1 = np.arange(1, 10)\n",
    "print('array1: ', array1)\n",
    "\n",
    "# index는 0부터 시작하므로 array1[2]는 3번째 index 위치의 데이터 값을 의미\n",
    "value = array1[2]\n",
    "print('value: ', value)\n",
    "print(type(value))"
   ]
  },
  {
   "cell_type": "code",
   "execution_count": 13,
   "metadata": {},
   "outputs": [
    {
     "name": "stdout",
     "output_type": "stream",
     "text": [
      "맨 뒤의 값:  9 맨 뒤에서 두 번째 값:  8\n"
     ]
    }
   ],
   "source": [
    "print('맨 뒤의 값: ', array1[-1], '맨 뒤에서 두 번째 값: ', array1[-2])"
   ]
  },
  {
   "cell_type": "code",
   "execution_count": 14,
   "metadata": {},
   "outputs": [
    {
     "name": "stdout",
     "output_type": "stream",
     "text": [
      "array1:  [9 2 3 4 5 6 7 8 0]\n"
     ]
    }
   ],
   "source": [
    "array1[0] = 9\n",
    "array1[8] = 0\n",
    "print('array1: ', array1)"
   ]
  },
  {
   "cell_type": "code",
   "execution_count": 16,
   "metadata": {},
   "outputs": [
    {
     "name": "stdout",
     "output_type": "stream",
     "text": [
      "[[1 2 3]\n",
      " [4 5 6]\n",
      " [7 8 9]]\n",
      "(row=0, col=0) index value:  1\n",
      "(roe=0, col=1) index value:  2\n",
      "(row=1, col=0) index value:  4\n",
      "(row=2, col=2) index value:  9\n"
     ]
    }
   ],
   "source": [
    "array1d = np.arange(1, 10)\n",
    "array2d = array1d.reshape(3, 3)\n",
    "print(array2d)\n",
    "\n",
    "print('(row=0, col=0) index value: ', array2d[0, 0])\n",
    "print('(roe=0, col=1) index value: ', array2d[0, 1])\n",
    "print('(row=1, col=0) index value: ', array2d[1, 0])\n",
    "print('(row=2, col=2) index value: ', array2d[2, 2])"
   ]
  },
  {
   "cell_type": "code",
   "execution_count": 17,
   "metadata": {},
   "outputs": [
    {
     "name": "stdout",
     "output_type": "stream",
     "text": [
      "[1 2 3]\n",
      "<class 'numpy.ndarray'>\n"
     ]
    }
   ],
   "source": [
    "# 슬라이싱\n",
    "array1 = np.arange(1, 10)\n",
    "array3 = array1[0:3]\n",
    "print(array3)\n",
    "print(type(array3))"
   ]
  },
  {
   "cell_type": "code",
   "execution_count": 18,
   "metadata": {},
   "outputs": [
    {
     "name": "stdout",
     "output_type": "stream",
     "text": [
      "[1 2 3]\n",
      "[4 5 6 7 8 9]\n",
      "[1 2 3 4 5 6 7 8 9]\n"
     ]
    }
   ],
   "source": [
    "array1 = np.arange(1, 10)\n",
    "array4 = array1[:3]\n",
    "print(array4)\n",
    "\n",
    "array5 = array1[3:]\n",
    "print(array5)\n",
    "\n",
    "array6 = array1[:]\n",
    "print(array6)"
   ]
  },
  {
   "cell_type": "code",
   "execution_count": 19,
   "metadata": {},
   "outputs": [
    {
     "name": "stdout",
     "output_type": "stream",
     "text": [
      "array2d:\n",
      "[[1 2 3]\n",
      " [4 5 6]\n",
      " [7 8 9]]\n",
      "array2d[0:2, 0:2]\n",
      "[[1 2]\n",
      " [4 5]]\n",
      "array2d[1:3, 0:3]\n",
      "[[4 5 6]\n",
      " [7 8 9]]\n",
      "array2d[1:3, :]\n",
      "[[4 5 6]\n",
      " [7 8 9]]\n"
     ]
    }
   ],
   "source": [
    "array1d = np.arange(1, 10)\n",
    "array2d = array1d.reshape(3, 3)\n",
    "print('array2d:', array2d, sep='\\n')\n",
    "\n",
    "print('array2d[0:2, 0:2]', array2d[0:2, 0:2], sep='\\n')\n",
    "print('array2d[1:3, 0:3]', array2d[1:3, 0:3], sep='\\n')\n",
    "print('array2d[1:3, :]', array2d[1:3, :],sep='\\n')"
   ]
  },
  {
   "cell_type": "code",
   "execution_count": 20,
   "metadata": {},
   "outputs": [
    {
     "name": "stdout",
     "output_type": "stream",
     "text": [
      "[1 2 3]\n",
      "[4 5 6]\n",
      "array2d[0] shape: (3,), array2d[1] shape: (3,)\n"
     ]
    }
   ],
   "source": [
    "print(array2d[0])\n",
    "print(array2d[1])\n",
    "print(f\"array2d[0] shape: {array2d[0].shape}, array2d[1] shape: {array2d[1].shape}\")"
   ]
  },
  {
   "cell_type": "code",
   "execution_count": 21,
   "metadata": {},
   "outputs": [
    {
     "name": "stdout",
     "output_type": "stream",
     "text": [
      "array2d[[0, 1], 2] => [3, 6]\n",
      "array2d[[0, 1]] => [[1, 2, 3], [4, 5, 6]]\n"
     ]
    }
   ],
   "source": [
    "# 팬시 인덱싱\n",
    "array1d = np.arange(1, 10)\n",
    "array2d = array1d.reshape(3, 3)\n",
    "\n",
    "array3 = array2d[[0, 1], 2]\n",
    "print(f'array2d[[0, 1], 2] => {array3.tolist()}')\n",
    "\n",
    "array4 = array2d[[0, 1]]\n",
    "print(f\"array2d[[0, 1]] => {array4.tolist()}\")"
   ]
  },
  {
   "cell_type": "code",
   "execution_count": 22,
   "metadata": {},
   "outputs": [
    {
     "name": "stdout",
     "output_type": "stream",
     "text": [
      "array1d > 5 Boolean Indexing Result: [6 7 8 9]\n"
     ]
    }
   ],
   "source": [
    "# 불린 인덱싱\n",
    "array1d = np.arange(1, 10)\n",
    "\n",
    "# [] 안에 array1d > 5 boolean indexing을 적용\n",
    "array3 = array1d[array1d > 5]\n",
    "print(f\"array1d > 5 Boolean Indexing Result: {array3}\")"
   ]
  },
  {
   "cell_type": "code",
   "execution_count": 23,
   "metadata": {},
   "outputs": [
    {
     "name": "stdout",
     "output_type": "stream",
     "text": [
      "origin array: [3 1 9 5]\n",
      "np.sort() array: [1 3 5 9]\n",
      "after np.sort() origin_array: [3 1 9 5]\n",
      "ndarray.sort() array: None\n",
      "after ndarray.sort() array: [1 3 5 9]\n"
     ]
    }
   ],
   "source": [
    "# 행렬의 정렬 - sort()와 argsort()\n",
    "\n",
    "# 행렬 정렬\n",
    "org_array = np.array([3, 1, 9, 5])\n",
    "print(f\"origin array: {org_array}\")\n",
    "\n",
    "# sorting to np.sort()\n",
    "sort_array1 = np.sort(org_array)\n",
    "print(f\"np.sort() array: {sort_array1}\")\n",
    "print(f\"after np.sort() origin_array: {org_array}\")\n",
    "\n",
    "# sorting to ndarray.sort()\n",
    "sort_array2 = org_array.sort()\n",
    "print(f\"ndarray.sort() array: {sort_array2}\")\n",
    "print(f\"after ndarray.sort() array: {org_array}\")"
   ]
  },
  {
   "cell_type": "code",
   "execution_count": 24,
   "metadata": {},
   "outputs": [
    {
     "name": "stdout",
     "output_type": "stream",
     "text": [
      "desc array: [9 5 3 1]\n"
     ]
    }
   ],
   "source": [
    "sort_array1_desc = np.sort(org_array)[::-1]\n",
    "print(f\"desc array: {sort_array1_desc}\")"
   ]
  },
  {
   "cell_type": "code",
   "execution_count": 26,
   "metadata": {},
   "outputs": [
    {
     "name": "stdout",
     "output_type": "stream",
     "text": [
      "sort(axis=0) array:\n",
      "[[ 7  1]\n",
      " [ 8 12]]\n",
      "sort(axis=1) array:\n",
      "[[ 8 12]\n",
      " [ 1  7]]\n"
     ]
    }
   ],
   "source": [
    "array2d = np.array([[8, 12], [7, 1]])\n",
    "\n",
    "sort_array2d_axis0 = np.sort(array2d, axis=0)\n",
    "print(f\"sort(axis=0) array:\\n{sort_array2d_axis0}\")\n",
    "\n",
    "sort_array2d_axis1 = np.sort(array2d, axis=1)\n",
    "print(f\"sort(axis=1) array:\\n{sort_array2d_axis1}\")"
   ]
  },
  {
   "cell_type": "code",
   "execution_count": 28,
   "metadata": {},
   "outputs": [
    {
     "name": "stdout",
     "output_type": "stream",
     "text": [
      "<class 'numpy.ndarray'>\n",
      "행렬 정렬 시 원본 행렬의 인덱스:  [1 0 3 2]\n"
     ]
    }
   ],
   "source": [
    "# 정렬된 핼열의 인덱스 반환하기\n",
    "org_array = np.array([3, 1, 9, 5])\n",
    "sort_indices =np.argsort(org_array)\n",
    "print(type(sort_indices))\n",
    "print('행렬 정렬 시 원본 행렬의 인덱스: ', sort_indices)"
   ]
  },
  {
   "cell_type": "code",
   "execution_count": 29,
   "metadata": {},
   "outputs": [
    {
     "name": "stdout",
     "output_type": "stream",
     "text": [
      "행렬의 내림차순 정렬 시 원본 행렬의 인덱스:  [2 3 0 1]\n"
     ]
    }
   ],
   "source": [
    "sort_indices_desc = np.argsort(org_array)[::-1]\n",
    "print('행렬의 내림차순 정렬 시 원본 행렬의 인덱스: ', sort_indices_desc)"
   ]
  },
  {
   "cell_type": "code",
   "execution_count": 30,
   "metadata": {},
   "outputs": [
    {
     "name": "stdout",
     "output_type": "stream",
     "text": [
      "성적 오름차순 정렬 시 score_array 인덱스: [0 2 4 1 3]\n",
      "성적 오름차순 정렬 시 name_array 인덱스: ['Jone' 'Sarah' 'Samuel' 'Mike' 'Kate']\n"
     ]
    }
   ],
   "source": [
    "name_array = np.array(['Jone', 'Mike', 'Sarah', 'Kate', 'Samuel'])\n",
    "score_array = np.array([78, 95, 84, 98, 88])\n",
    "\n",
    "sort_indices_asc = np.argsort(score_array)\n",
    "print(f\"성적 오름차순 정렬 시 score_array 인덱스: {sort_indices_asc}\")\n",
    "print(f\"성적 오름차순 정렬 시 name_array 인덱스: {name_array[sort_indices_asc]}\")"
   ]
  },
  {
   "cell_type": "code",
   "execution_count": 31,
   "metadata": {},
   "outputs": [
    {
     "name": "stdout",
     "output_type": "stream",
     "text": [
      "행렬 내적 결과:\n",
      "[[ 58  64]\n",
      " [139 154]]\n"
     ]
    }
   ],
   "source": [
    "# 선형대수 연산 - 행렬의 내적과 전치 행렬 구하기\n",
    "\n",
    "# 행렬 내적(내적 곱)\n",
    "A = np.array([[1, 2, 3], [4, 5, 6]])\n",
    "B = np.array([[7, 8], [9, 10], [11, 12]])\n",
    "dot_product = np.dot(A, B)\n",
    "\n",
    "print('행렬 내적 결과:', dot_product, sep='\\n')"
   ]
  },
  {
   "cell_type": "code",
   "execution_count": 32,
   "metadata": {},
   "outputs": [
    {
     "name": "stdout",
     "output_type": "stream",
     "text": [
      "A의 전치 행렬:\n",
      "[[1 3]\n",
      " [2 4]]\n"
     ]
    }
   ],
   "source": [
    "# 전치 행렬\n",
    "A = np.array([[1, 2], [3, 4]])\n",
    "transpose_mat = np.transpose(A)\n",
    "print('A의 전치 행렬:', transpose_mat, sep='\\n')"
   ]
  }
 ],
 "metadata": {
  "kernelspec": {
   "display_name": "kdt6",
   "language": "python",
   "name": "python3"
  },
  "language_info": {
   "codemirror_mode": {
    "name": "ipython",
    "version": 3
   },
   "file_extension": ".py",
   "mimetype": "text/x-python",
   "name": "python",
   "nbconvert_exporter": "python",
   "pygments_lexer": "ipython3",
   "version": "3.8.19"
  }
 },
 "nbformat": 4,
 "nbformat_minor": 2
}
