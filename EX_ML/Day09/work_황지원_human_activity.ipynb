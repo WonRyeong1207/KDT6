{
 "cells": [
  {
   "cell_type": "markdown",
   "metadata": {},
   "source": [
    "### Human Activity\n",
    "- learning method: supervised learning, classification\n",
    "- learning algorithm: undetermind\n",
    "- DataSets\n",
    "    - feature: '../data/UCI HAR Dataset/features.txt\n",
    "    - label: '../data/UCI HAR Dataset/activity_labels.txt\n",
    "    - train: '../data/UCI HAR Dataset/train/X_train.txt/y_train.txt\n",
    "    - test: '../data/UCI HAR Dataset/test/X_test.txt/y_test.txt"
   ]
  },
  {
   "cell_type": "code",
   "execution_count": null,
   "metadata": {},
   "outputs": [],
   "source": []
  }
 ],
 "metadata": {
  "kernelspec": {
   "display_name": "ml_38",
   "language": "python",
   "name": "python3"
  },
  "language_info": {
   "name": "python",
   "version": "3.8.19"
  }
 },
 "nbformat": 4,
 "nbformat_minor": 2
}
