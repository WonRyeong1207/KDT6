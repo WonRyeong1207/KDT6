{
 "cells": [
  {
   "cell_type": "markdown",
   "metadata": {},
   "source": [
    "### Iris Species classification\n",
    "- goal: iris species classification\n",
    "- datasets: load_iris\n",
    "- feature: sepal length, sepal width, petal length, petal width\n",
    "- label: species\n",
    "- learning method: supervised learning, classification\n",
    "- learing method: "
   ]
  },
  {
   "cell_type": "code",
   "execution_count": 1,
   "metadata": {},
   "outputs": [],
   "source": [
    "import pandas as pd\n",
    "from sklearn.datasets import load_iris\n",
    "from sklearn.model_selection import train_test_split\n",
    "import numpy as np\n",
    "import matplotlib.pyplot as plt"
   ]
  },
  {
   "cell_type": "code",
   "execution_count": 2,
   "metadata": {},
   "outputs": [],
   "source": [
    "iris_data = load_iris(as_frame=True)"
   ]
  },
  {
   "cell_type": "code",
   "execution_count": 3,
   "metadata": {},
   "outputs": [
    {
     "data": {
      "text/plain": [
       "dict_keys(['data', 'target', 'frame', 'target_names', 'DESCR', 'feature_names', 'filename', 'data_module'])"
      ]
     },
     "execution_count": 3,
     "metadata": {},
     "output_type": "execute_result"
    }
   ],
   "source": [
    "iris_data.keys()"
   ]
  },
  {
   "cell_type": "code",
   "execution_count": 4,
   "metadata": {},
   "outputs": [],
   "source": [
    "feature_df = iris_data['data']\n",
    "label_sr = iris_data['target']"
   ]
  },
  {
   "cell_type": "code",
   "execution_count": 5,
   "metadata": {},
   "outputs": [
    {
     "data": {
      "text/plain": [
       "((150, 4), (150,))"
      ]
     },
     "execution_count": 5,
     "metadata": {},
     "output_type": "execute_result"
    }
   ],
   "source": [
    "feature_df.shape, label_sr.shape"
   ]
  },
  {
   "cell_type": "code",
   "execution_count": 6,
   "metadata": {},
   "outputs": [
    {
     "name": "stdout",
     "output_type": "stream",
     "text": [
      "   sepal length (cm)  sepal width (cm)  petal length (cm)  petal width (cm)\n",
      "0                5.1               3.5                1.4               0.2\n",
      "0    0\n",
      "1    0\n",
      "2    0\n",
      "Name: target, dtype: int32\n"
     ]
    }
   ],
   "source": [
    "print(feature_df.head(1), label_sr.head(3), sep='\\n')"
   ]
  },
  {
   "cell_type": "code",
   "execution_count": 82,
   "metadata": {},
   "outputs": [],
   "source": [
    "# train, validataion, test split\n",
    "\n",
    "# train : test = 7.25 : 2.25\n",
    "# random_state = 24\n",
    "# stratify = label\n",
    "\n",
    "X_train, X_test, y_train, y_test = train_test_split(feature_df, label_sr, stratify=label_sr)\n",
    "\n",
    "# train : val = 7.25 : 2.25\n",
    "# random_state = 25\n",
    "# stratify = y_train\n",
    "\n",
    "X_train, X_val, y_train, y_val = train_test_split(X_train, y_train, stratify=y_train)"
   ]
  },
  {
   "cell_type": "code",
   "execution_count": 83,
   "metadata": {},
   "outputs": [
    {
     "name": "stdout",
     "output_type": "stream",
     "text": [
      "X_train DS: (84, 4) 0.56 %\n",
      "X_test DS: (38, 4) 0.25 %\n",
      "X_val DS: (28, 4) 0.19 %\n"
     ]
    }
   ],
   "source": [
    "print(f\"X_train DS: {X_train.shape} {X_train.shape[0]/feature_df.shape[0]:.2f} %\")\n",
    "print(f\"X_test DS: {X_test.shape} {X_test.shape[0]/feature_df.shape[0]:.2f} %\")\n",
    "print(f\"X_val DS: {X_val.shape} {X_val.shape[0]/feature_df.shape[0]:.2f} %\")"
   ]
  },
  {
   "cell_type": "code",
   "execution_count": 84,
   "metadata": {},
   "outputs": [
    {
     "name": "stdout",
     "output_type": "stream",
     "text": [
      "y_train DS: (84,) 0.56 %\n",
      "y_test DS: (38,) 0.25 %\n",
      "y_val DS: (28,) 0.19 %\n"
     ]
    }
   ],
   "source": [
    "print(f\"y_train DS: {y_train.shape} {y_train.shape[0]/feature_df.shape[0]:.2f} %\")\n",
    "print(f\"y_test DS: {y_test.shape} {y_test.shape[0]/feature_df.shape[0]:.2f} %\")\n",
    "print(f\"y_val DS: {y_val.shape} {y_val.shape[0]/feature_df.shape[0]:.2f} %\")"
   ]
  },
  {
   "cell_type": "code",
   "execution_count": 85,
   "metadata": {},
   "outputs": [],
   "source": [
    "# cross validation\n",
    "from sklearn.tree import DecisionTreeClassifier\n",
    "from sklearn.model_selection import KFold, StratifiedKFold"
   ]
  },
  {
   "cell_type": "code",
   "execution_count": 86,
   "metadata": {},
   "outputs": [],
   "source": [
    "# model instance\n",
    "dtc_model = DecisionTreeClassifier()"
   ]
  },
  {
   "cell_type": "code",
   "execution_count": 87,
   "metadata": {},
   "outputs": [],
   "source": [
    "\n",
    "\n",
    "# k-fold instancce\n",
    "# 여기서도 optima k를 구할 수 있을까?\n",
    "\n",
    "kfold = KFold() # default k = 5\n",
    "skFold = StratifiedKFold()"
   ]
  },
  {
   "cell_type": "code",
   "execution_count": 88,
   "metadata": {},
   "outputs": [
    {
     "name": "stdout",
     "output_type": "stream",
     "text": [
      "train_accuracy: 100.00 %\n",
      "val_acc: 100.00\n",
      "\n",
      "train_accuracy: 100.00 %\n",
      "val_acc: 100.00\n",
      "\n",
      "train_accuracy: 100.00 %\n",
      "val_acc: 83.33\n",
      "\n",
      "train_accuracy: 100.00 %\n",
      "val_acc: 93.33\n",
      "\n",
      "train_accuracy: 100.00 %\n",
      "val_acc: 73.33\n",
      "\n"
     ]
    }
   ],
   "source": [
    "# repeat k\n",
    "accuracy_list = []\n",
    "train_acc_list = []\n",
    "val_acc_list = []\n",
    "\n",
    "for train_idx, val_index in kfold.split(feature_df):\n",
    "    \n",
    "    # print(f\"train_index: {train_idx.tolist()}\")\n",
    "    \n",
    "    X_train, y_train = feature_df.iloc[train_idx.tolist()], label_sr[train_idx.tolist()]\n",
    "    X_val, y_val = feature_df.iloc[val_index.tolist()], label_sr[val_index.tolist()]\n",
    "    \n",
    "    dtc_model.fit(X_train, y_train)\n",
    "    \n",
    "    train_acc = dtc_model.score(X_train, y_train)\n",
    "    val_acc = dtc_model.score(X_val, y_val)\n",
    "    \n",
    "    accuracy_list.append([train_acc, val_acc])\n",
    "    train_acc_list.append(train_acc)\n",
    "    val_acc_list.append(val_acc)\n",
    "    \n",
    "    print(f\"train_accuracy: {train_acc * 100:.2f} %\")\n",
    "    print(f\"val_acc: {val_acc * 100:.2f}\")\n",
    "    print()"
   ]
  },
  {
   "cell_type": "code",
   "execution_count": 89,
   "metadata": {},
   "outputs": [
    {
     "name": "stdout",
     "output_type": "stream",
     "text": [
      "tarin accuracy: 100.00 %, valitation accuracy: 90.00 %\n"
     ]
    }
   ],
   "source": [
    "train_mean_acc = sum([value[0] for value in accuracy_list])/kfold.n_splits\n",
    "val_mean_acc = sum([value[1] for value in accuracy_list])/kfold.n_splits\n",
    "\n",
    "print(f\"tarin accuracy: {train_mean_acc*100:.2f} %, valitation accuracy: {val_mean_acc*100:.2f} %\")"
   ]
  },
  {
   "cell_type": "code",
   "execution_count": 90,
   "metadata": {},
   "outputs": [
    {
     "data": {
      "image/png": "[encoded data removed]",
      "text/plain": [
       "<Figure size 640x480 with 1 Axes>"
      ]
     },
     "metadata": {},
     "output_type": "display_data"
    }
   ],
   "source": [
    "plt.plot(train_acc_list, label='tarin accuray')\n",
    "plt.plot(val_acc_list, label='validation accuracy')\n",
    "\n",
    "plt.title('5-fold cross validation')\n",
    "plt.xlabel('k')\n",
    "plt.ylabel('accuracy')\n",
    "plt.legend(fontsize='small')\n",
    "\n",
    "plt.show()"
   ]
  },
  {
   "cell_type": "code",
   "execution_count": 91,
   "metadata": {},
   "outputs": [
    {
     "name": "stdout",
     "output_type": "stream",
     "text": [
      "train_accuracy: 100.00 %\n",
      "val_acc: 96.67\n",
      "\n",
      "train_accuracy: 100.00 %\n",
      "val_acc: 96.67\n",
      "\n",
      "train_accuracy: 100.00 %\n",
      "val_acc: 90.00\n",
      "\n",
      "train_accuracy: 100.00 %\n",
      "val_acc: 96.67\n",
      "\n",
      "train_accuracy: 100.00 %\n",
      "val_acc: 100.00\n",
      "\n"
     ]
    }
   ],
   "source": [
    "# repeat k\n",
    "accuracy_list = []\n",
    "train_acc_list = []\n",
    "val_acc_list = []\n",
    "\n",
    "for train_idx, val_index in skFold.split(feature_df, label_sr):\n",
    "    \n",
    "    # print(f\"train_index: {train_idx.tolist()}\")\n",
    "    \n",
    "    X_train, y_train = feature_df.iloc[train_idx.tolist()], label_sr[train_idx.tolist()]\n",
    "    X_val, y_val = feature_df.iloc[val_index.tolist()], label_sr[val_index.tolist()]\n",
    "    \n",
    "    dtc_model.fit(X_train, y_train)\n",
    "    \n",
    "    train_acc = dtc_model.score(X_train, y_train)\n",
    "    val_acc = dtc_model.score(X_val, y_val)\n",
    "    \n",
    "    accuracy_list.append([train_acc, val_acc])\n",
    "    train_acc_list.append(train_acc)\n",
    "    val_acc_list.append(val_acc)\n",
    "    \n",
    "    print(f\"train_accuracy: {train_acc * 100:.2f} %\")\n",
    "    print(f\"val_acc: {val_acc * 100:.2f}\")\n",
    "    print()"
   ]
  },
  {
   "cell_type": "code",
   "execution_count": 92,
   "metadata": {},
   "outputs": [
    {
     "name": "stdout",
     "output_type": "stream",
     "text": [
      "tarin accuracy: 100.00 %, valitation accuracy: 96.00 %\n"
     ]
    }
   ],
   "source": [
    "train_mean_acc = sum([value[0] for value in accuracy_list])/skFold.n_splits\n",
    "val_mean_acc = sum([value[1] for value in accuracy_list])/skFold.n_splits\n",
    "\n",
    "print(f\"tarin accuracy: {train_mean_acc*100:.2f} %, valitation accuracy: {val_mean_acc*100:.2f} %\")"
   ]
  },
  {
   "cell_type": "code",
   "execution_count": 93,
   "metadata": {},
   "outputs": [
    {
     "data": {
      "image/png": "[encoded data removed]",
      "text/plain": [
       "<Figure size 640x480 with 1 Axes>"
      ]
     },
     "metadata": {},
     "output_type": "display_data"
    }
   ],
   "source": [
    "plt.plot(train_acc_list, label='tarin accuray')\n",
    "plt.plot(val_acc_list, label='validation accuracy')\n",
    "\n",
    "plt.title('s5-fold cross validation')\n",
    "plt.xlabel('k')\n",
    "plt.ylabel('accuracy')\n",
    "plt.legend(fontsize='small')\n",
    "\n",
    "plt.show()"
   ]
  },
  {
   "cell_type": "markdown",
   "metadata": {},
   "source": [
    "- 교차 검증 및 성능 평가 동시 진행형"
   ]
  },
  {
   "cell_type": "code",
   "execution_count": 117,
   "metadata": {},
   "outputs": [],
   "source": [
    "# cross validation을 더 간단하게 보는 메서드: cross_val_score()\n",
    "\n",
    "from sklearn.model_selection import cross_val_score, cross_val_predict, cross_validate"
   ]
  },
  {
   "cell_type": "code",
   "execution_count": 118,
   "metadata": {},
   "outputs": [
    {
     "name": "stdout",
     "output_type": "stream",
     "text": [
      "5-Fold Cross Validation Accuracy: [0.96666667 0.96666667 0.9        0.93333333 1.        ]\n",
      "5-Fold Cross Validation Mean Accuracy: 95.33 %\n"
     ]
    }
   ],
   "source": [
    "five_fold_acc = cross_val_score(dtc_model, feature_df, label_sr, scoring='accuracy')\n",
    "print(f\"5-Fold Cross Validation Accuracy: {five_fold_acc}\")\n",
    "print(f\"5-Fold Cross Validation Mean Accuracy: {np.mean(five_fold_acc) * 100:.2f} %\")"
   ]
  },
  {
   "cell_type": "code",
   "execution_count": 123,
   "metadata": {},
   "outputs": [
    {
     "name": "stdout",
     "output_type": "stream",
     "text": [
      "5-Fold Cross Validation Accuracy: [0.75       1.         0.875      0.85714286 1.        ]\n",
      "5-Fold Cross Validation Mean Accuracy: 89.64 %\n"
     ]
    }
   ],
   "source": [
    "five_fold_acc = cross_val_score(dtc_model, X_test, y_test, scoring='accuracy')\n",
    "print(f\"5-Fold Cross Validation Accuracy: {five_fold_acc}\")\n",
    "print(f\"5-Fold Cross Validation Mean Accuracy: {np.mean(five_fold_acc) * 100:.2f} %\")"
   ]
  },
  {
   "cell_type": "code",
   "execution_count": 122,
   "metadata": {},
   "outputs": [
    {
     "name": "stdout",
     "output_type": "stream",
     "text": [
      "f-Fold Cross Validation Prediction: [2 2 2 0 2 1 0 0 0 2 1 0 1 2 2 0 1 1 1 2 0 1 0 2 2 2 1 2 0 0 2 1 2 2 1 0 0\n",
      " 1]\n"
     ]
    }
   ],
   "source": [
    "five_fold_pred = cross_val_predict(dtc_model, X_test, y_test)\n",
    "print(f\"f-Fold Cross Validation Prediction: {five_fold_pred}\")"
   ]
  },
  {
   "cell_type": "code",
   "execution_count": 126,
   "metadata": {},
   "outputs": [
    {
     "data": {
      "text/plain": [
       "{'fit_time': array([0.00299358, 0.0030055 , 0.00099683, 0.00199318, 0.00199413]),\n",
       " 'score_time': array([0.00098515, 0.00098395, 0.00199485, 0.00199437, 0.00099945]),\n",
       " 'test_score': array([1.        , 1.        , 0.875     , 0.85714286, 1.        ]),\n",
       " 'train_score': array([1., 1., 1., 1., 1.])}"
      ]
     },
     "execution_count": 126,
     "metadata": {},
     "output_type": "execute_result"
    }
   ],
   "source": [
    "result = cross_validate(dtc_model, X_test, y_test, return_train_score=True)\n",
    "result"
   ]
  },
  {
   "cell_type": "code",
   "execution_count": 132,
   "metadata": {},
   "outputs": [
    {
     "data": {
      "text/plain": [
       "{'fit_time': array([0.0019927 , 0.00199461, 0.00301385, 0.00199461, 0.00299239]),\n",
       " 'score_time': array([0.00199509, 0.00199342, 0.00197339, 0.00099587, 0.00299287]),\n",
       " 'estimator': [DecisionTreeClassifier(),\n",
       "  DecisionTreeClassifier(),\n",
       "  DecisionTreeClassifier(),\n",
       "  DecisionTreeClassifier(),\n",
       "  DecisionTreeClassifier()],\n",
       " 'test_score': array([0.96666667, 0.96666667, 0.9       , 1.        , 1.        ]),\n",
       " 'train_score': array([1., 1., 1., 1., 1.])}"
      ]
     },
     "execution_count": 132,
     "metadata": {},
     "output_type": "execute_result"
    }
   ],
   "source": [
    "result = cross_validate(dtc_model, feature_df, label_sr, return_train_score=True, return_estimator=True)\n",
    "result"
   ]
  },
  {
   "cell_type": "code",
   "execution_count": 133,
   "metadata": {},
   "outputs": [
    {
     "data": {
      "text/html": [
       "<div>\n",
       "<style scoped>\n",
       "    .dataframe tbody tr th:only-of-type {\n",
       "        vertical-align: middle;\n",
       "    }\n",
       "\n",
       "    .dataframe tbody tr th {\n",
       "        vertical-align: top;\n",
       "    }\n",
       "\n",
       "    .dataframe thead th {\n",
       "        text-align: right;\n",
       "    }\n",
       "</style>\n",
       "<table border=\"1\" class=\"dataframe\">\n",
       "  <thead>\n",
       "    <tr style=\"text-align: right;\">\n",
       "      <th></th>\n",
       "      <th>test_score</th>\n",
       "      <th>train_score</th>\n",
       "    </tr>\n",
       "  </thead>\n",
       "  <tbody>\n",
       "    <tr>\n",
       "      <th>0</th>\n",
       "      <td>0.966667</td>\n",
       "      <td>1.0</td>\n",
       "    </tr>\n",
       "    <tr>\n",
       "      <th>1</th>\n",
       "      <td>0.966667</td>\n",
       "      <td>1.0</td>\n",
       "    </tr>\n",
       "    <tr>\n",
       "      <th>2</th>\n",
       "      <td>0.900000</td>\n",
       "      <td>1.0</td>\n",
       "    </tr>\n",
       "    <tr>\n",
       "      <th>3</th>\n",
       "      <td>1.000000</td>\n",
       "      <td>1.0</td>\n",
       "    </tr>\n",
       "    <tr>\n",
       "      <th>4</th>\n",
       "      <td>1.000000</td>\n",
       "      <td>1.0</td>\n",
       "    </tr>\n",
       "  </tbody>\n",
       "</table>\n",
       "</div>"
      ],
      "text/plain": [
       "   test_score  train_score\n",
       "0    0.966667          1.0\n",
       "1    0.966667          1.0\n",
       "2    0.900000          1.0\n",
       "3    1.000000          1.0\n",
       "4    1.000000          1.0"
      ]
     },
     "execution_count": 133,
     "metadata": {},
     "output_type": "execute_result"
    }
   ],
   "source": [
    "result_df = pd.DataFrame(result).loc[:, ['test_score', 'train_score']]\n",
    "result_df"
   ]
  },
  {
   "cell_type": "code",
   "execution_count": 135,
   "metadata": {},
   "outputs": [],
   "source": [
    "best_model = result['estimator'][3]     # 이걸 일찍 알았다면... 지난학기 과제가 더 간단하게 끝났을텐데..."
   ]
  },
  {
   "cell_type": "code",
   "execution_count": 137,
   "metadata": {},
   "outputs": [
    {
     "data": {
      "text/plain": [
       "array([2, 1, 2, 0, 1, 1, 0, 0, 0, 2, 1, 0, 1, 2, 2, 0, 1, 1, 1, 2, 0, 1,\n",
       "       0, 1, 2, 2, 2, 2, 0, 0, 2, 1, 2, 2, 1, 0, 0, 1])"
      ]
     },
     "execution_count": 137,
     "metadata": {},
     "output_type": "execute_result"
    }
   ],
   "source": [
    "prediction = best_model.predict(X_test)\n",
    "prediction"
   ]
  },
  {
   "cell_type": "code",
   "execution_count": 140,
   "metadata": {},
   "outputs": [
    {
     "name": "stdout",
     "output_type": "stream",
     "text": [
      "recall: 100.00 %\n"
     ]
    }
   ],
   "source": [
    "print(f\"recall: {sum(prediction == y_test)/len(prediction)*100:.2f} %\")"
   ]
  },
  {
   "cell_type": "markdown",
   "metadata": {},
   "source": [
    "- 이거 왜 100% 나와? 미친...\n",
    "- 데이터가 이상해요...\n",
    "- 이 모델은 overfitting이 의심됨"
   ]
  },
  {
   "cell_type": "code",
   "execution_count": 142,
   "metadata": {},
   "outputs": [
    {
     "data": {
      "text/plain": [
       "116    True\n",
       "68     True\n",
       "139    True\n",
       "41     True\n",
       "78     True\n",
       "71     True\n",
       "35     True\n",
       "18     True\n",
       "23     True\n",
       "125    True\n",
       "82     True\n",
       "25     True\n",
       "89     True\n",
       "138    True\n",
       "142    True\n",
       "33     True\n",
       "67     True\n",
       "96     True\n",
       "93     True\n",
       "135    True\n",
       "20     True\n",
       "74     True\n",
       "49     True\n",
       "76     True\n",
       "122    True\n",
       "146    True\n",
       "119    True\n",
       "110    True\n",
       "1      True\n",
       "17     True\n",
       "114    True\n",
       "73     True\n",
       "126    True\n",
       "137    True\n",
       "87     True\n",
       "45     True\n",
       "26     True\n",
       "56     True\n",
       "Name: target, dtype: bool"
      ]
     },
     "execution_count": 142,
     "metadata": {},
     "output_type": "execute_result"
    }
   ],
   "source": [
    "prediction == y_test"
   ]
  },
  {
   "cell_type": "code",
   "execution_count": 144,
   "metadata": {},
   "outputs": [],
   "source": [
    "# 전체 datasets 재분해\n",
    "# train : test = 7.25 : 2.25\n",
    "\n",
    "X_train, X_test, y_train, y_test = train_test_split(feature_df, label_sr, stratify=label_sr)"
   ]
  },
  {
   "cell_type": "code",
   "execution_count": 147,
   "metadata": {},
   "outputs": [
    {
     "data": {
      "text/html": [
       "<div>\n",
       "<style scoped>\n",
       "    .dataframe tbody tr th:only-of-type {\n",
       "        vertical-align: middle;\n",
       "    }\n",
       "\n",
       "    .dataframe tbody tr th {\n",
       "        vertical-align: top;\n",
       "    }\n",
       "\n",
       "    .dataframe thead th {\n",
       "        text-align: right;\n",
       "    }\n",
       "</style>\n",
       "<table border=\"1\" class=\"dataframe\">\n",
       "  <thead>\n",
       "    <tr style=\"text-align: right;\">\n",
       "      <th></th>\n",
       "      <th>fit_time</th>\n",
       "      <th>score_time</th>\n",
       "      <th>estimator</th>\n",
       "      <th>test_score</th>\n",
       "      <th>train_score</th>\n",
       "    </tr>\n",
       "  </thead>\n",
       "  <tbody>\n",
       "    <tr>\n",
       "      <th>0</th>\n",
       "      <td>0.001993</td>\n",
       "      <td>0.001994</td>\n",
       "      <td>DecisionTreeClassifier()</td>\n",
       "      <td>0.966667</td>\n",
       "      <td>1.0</td>\n",
       "    </tr>\n",
       "    <tr>\n",
       "      <th>1</th>\n",
       "      <td>0.002000</td>\n",
       "      <td>0.000993</td>\n",
       "      <td>DecisionTreeClassifier()</td>\n",
       "      <td>0.966667</td>\n",
       "      <td>1.0</td>\n",
       "    </tr>\n",
       "    <tr>\n",
       "      <th>2</th>\n",
       "      <td>0.002992</td>\n",
       "      <td>0.001995</td>\n",
       "      <td>DecisionTreeClassifier()</td>\n",
       "      <td>0.900000</td>\n",
       "      <td>1.0</td>\n",
       "    </tr>\n",
       "    <tr>\n",
       "      <th>3</th>\n",
       "      <td>0.001994</td>\n",
       "      <td>0.002012</td>\n",
       "      <td>DecisionTreeClassifier()</td>\n",
       "      <td>0.966667</td>\n",
       "      <td>1.0</td>\n",
       "    </tr>\n",
       "    <tr>\n",
       "      <th>4</th>\n",
       "      <td>0.001966</td>\n",
       "      <td>0.001995</td>\n",
       "      <td>DecisionTreeClassifier()</td>\n",
       "      <td>1.000000</td>\n",
       "      <td>1.0</td>\n",
       "    </tr>\n",
       "  </tbody>\n",
       "</table>\n",
       "</div>"
      ],
      "text/plain": [
       "   fit_time  score_time                 estimator  test_score  train_score\n",
       "0  0.001993    0.001994  DecisionTreeClassifier()    0.966667          1.0\n",
       "1  0.002000    0.000993  DecisionTreeClassifier()    0.966667          1.0\n",
       "2  0.002992    0.001995  DecisionTreeClassifier()    0.900000          1.0\n",
       "3  0.001994    0.002012  DecisionTreeClassifier()    0.966667          1.0\n",
       "4  0.001966    0.001995  DecisionTreeClassifier()    1.000000          1.0"
      ]
     },
     "execution_count": 147,
     "metadata": {},
     "output_type": "execute_result"
    }
   ],
   "source": [
    "result = cross_validate(dtc_model, feature_df, label_sr, return_train_score=True, return_estimator=True)\n",
    "\n",
    "result_df = pd.DataFrame(result)\n",
    "\n",
    "result_df"
   ]
  },
  {
   "cell_type": "code",
   "execution_count": 148,
   "metadata": {},
   "outputs": [],
   "source": [
    "best_model = result['estimator'][4]\n",
    "prediction = best_model.predict(X_test)"
   ]
  },
  {
   "cell_type": "code",
   "execution_count": 149,
   "metadata": {},
   "outputs": [
    {
     "name": "stdout",
     "output_type": "stream",
     "text": [
      "recall: 100.00 %\n"
     ]
    }
   ],
   "source": [
    "print(f\"recall: {sum(prediction == y_test)/len(prediction)*100:.2f} %\")"
   ]
  },
  {
   "cell_type": "code",
   "execution_count": 156,
   "metadata": {},
   "outputs": [
    {
     "name": "stdout",
     "output_type": "stream",
     "text": [
      "score: 1.0 %\n"
     ]
    }
   ],
   "source": [
    "best_model = result['estimator'][0]\n",
    "prediction = best_model.predict(X_test)\n",
    "\n",
    "score = best_model.score(X_test, y_test)\n",
    "print(f\"score: {score} %\")"
   ]
  }
 ],
 "metadata": {
  "kernelspec": {
   "display_name": "ml_38",
   "language": "python",
   "name": "python3"
  },
  "language_info": {
   "codemirror_mode": {
    "name": "ipython",
    "version": 3
   },
   "file_extension": ".py",
   "mimetype": "text/x-python",
   "name": "python",
   "nbconvert_exporter": "python",
   "pygments_lexer": "ipython3",
   "version": "3.8.19"
  }
 },
 "nbformat": 4,
 "nbformat_minor": 2
}
