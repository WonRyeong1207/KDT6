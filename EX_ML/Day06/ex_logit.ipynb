{
 "cells": [
  {
   "cell_type": "markdown",
   "metadata": {},
   "source": [
    "### Logistic Regression\n",
    "- linear model 기반으로 clasification\n",
    "- target이 categorical feature인 경우에 적용\n",
    "- 결과를 확률로 변환해서 처리\n",
    "- 종류\n",
    "    - binary classification\n",
    "    - multi classification"
   ]
  },
  {
   "cell_type": "code",
   "execution_count": 15,
   "metadata": {},
   "outputs": [],
   "source": [
    "import pandas as pd\n",
    "import numpy as np\n",
    "import matplotlib.pyplot as plt\n",
    "from sklearn.model_selection import train_test_split"
   ]
  },
  {
   "cell_type": "code",
   "execution_count": 16,
   "metadata": {},
   "outputs": [],
   "source": [
    "# 판다스에서 지수표기법(과학적표기법) 정지 설정\n",
    "pd.options.display.float_format = '{:.5f}'.format\n",
    "# 넘파이에서 지수표기법 설정: 6자리\n",
    "np.set_printoptions(precision=6, suppress=True)"
   ]
  },
  {
   "cell_type": "code",
   "execution_count": 5,
   "metadata": {},
   "outputs": [
    {
     "data": {
      "text/html": [
       "<div>\n",
       "<style scoped>\n",
       "    .dataframe tbody tr th:only-of-type {\n",
       "        vertical-align: middle;\n",
       "    }\n",
       "\n",
       "    .dataframe tbody tr th {\n",
       "        vertical-align: top;\n",
       "    }\n",
       "\n",
       "    .dataframe thead th {\n",
       "        text-align: right;\n",
       "    }\n",
       "</style>\n",
       "<table border=\"1\" class=\"dataframe\">\n",
       "  <thead>\n",
       "    <tr style=\"text-align: right;\">\n",
       "      <th></th>\n",
       "      <th>Species</th>\n",
       "      <th>Weight</th>\n",
       "      <th>Length</th>\n",
       "      <th>Diagonal</th>\n",
       "      <th>Height</th>\n",
       "      <th>Width</th>\n",
       "    </tr>\n",
       "  </thead>\n",
       "  <tbody>\n",
       "    <tr>\n",
       "      <th>0</th>\n",
       "      <td>Bream</td>\n",
       "      <td>242.00000</td>\n",
       "      <td>25.40000</td>\n",
       "      <td>30.00000</td>\n",
       "      <td>11.52000</td>\n",
       "      <td>4.02000</td>\n",
       "    </tr>\n",
       "    <tr>\n",
       "      <th>1</th>\n",
       "      <td>Bream</td>\n",
       "      <td>290.00000</td>\n",
       "      <td>26.30000</td>\n",
       "      <td>31.20000</td>\n",
       "      <td>12.48000</td>\n",
       "      <td>4.30560</td>\n",
       "    </tr>\n",
       "    <tr>\n",
       "      <th>2</th>\n",
       "      <td>Bream</td>\n",
       "      <td>340.00000</td>\n",
       "      <td>26.50000</td>\n",
       "      <td>31.10000</td>\n",
       "      <td>12.37780</td>\n",
       "      <td>4.69610</td>\n",
       "    </tr>\n",
       "    <tr>\n",
       "      <th>3</th>\n",
       "      <td>Bream</td>\n",
       "      <td>363.00000</td>\n",
       "      <td>29.00000</td>\n",
       "      <td>33.50000</td>\n",
       "      <td>12.73000</td>\n",
       "      <td>4.45550</td>\n",
       "    </tr>\n",
       "    <tr>\n",
       "      <th>4</th>\n",
       "      <td>Bream</td>\n",
       "      <td>430.00000</td>\n",
       "      <td>29.00000</td>\n",
       "      <td>34.00000</td>\n",
       "      <td>12.44400</td>\n",
       "      <td>5.13400</td>\n",
       "    </tr>\n",
       "  </tbody>\n",
       "</table>\n",
       "</div>"
      ],
      "text/plain": [
       "  Species    Weight   Length  Diagonal   Height   Width\n",
       "0   Bream 242.00000 25.40000  30.00000 11.52000 4.02000\n",
       "1   Bream 290.00000 26.30000  31.20000 12.48000 4.30560\n",
       "2   Bream 340.00000 26.50000  31.10000 12.37780 4.69610\n",
       "3   Bream 363.00000 29.00000  33.50000 12.73000 4.45550\n",
       "4   Bream 430.00000 29.00000  34.00000 12.44400 5.13400"
      ]
     },
     "execution_count": 5,
     "metadata": {},
     "output_type": "execute_result"
    }
   ],
   "source": [
    "FILE_PATH = '../data/fish.csv'\n",
    "fish_df = pd.read_csv(FILE_PATH)\n",
    "fish_df.head()"
   ]
  },
  {
   "cell_type": "code",
   "execution_count": 7,
   "metadata": {},
   "outputs": [
    {
     "data": {
      "text/plain": [
       "array(['Bream', 'Roach', 'Whitefish', 'Parkki', 'Perch', 'Pike', 'Smelt'],\n",
       "      dtype=object)"
      ]
     },
     "execution_count": 7,
     "metadata": {},
     "output_type": "execute_result"
    }
   ],
   "source": [
    "# label의 class 수\n",
    "pd.unique(fish_df['Species'])"
   ]
  },
  {
   "cell_type": "code",
   "execution_count": 10,
   "metadata": {},
   "outputs": [
    {
     "data": {
      "text/plain": [
       "array([[242.    ,  25.4   ,  30.    ,  11.52  ,   4.02  ],\n",
       "       [290.    ,  26.3   ,  31.2   ,  12.48  ,   4.3056],\n",
       "       [340.    ,  26.5   ,  31.1   ,  12.3778,   4.6961],\n",
       "       [363.    ,  29.    ,  33.5   ,  12.73  ,   4.4555],\n",
       "       [430.    ,  29.    ,  34.    ,  12.444 ,   5.134 ]])"
      ]
     },
     "execution_count": 10,
     "metadata": {},
     "output_type": "execute_result"
    }
   ],
   "source": [
    "feature_df = fish_df[['Weight', 'Length', 'Diagonal', 'Height', 'Width']].to_numpy()\n",
    "# feature_df = fish_df[fish_df.columns[1:]].to_numpy()\n",
    "feature_df[:5]"
   ]
  },
  {
   "cell_type": "code",
   "execution_count": 11,
   "metadata": {},
   "outputs": [
    {
     "data": {
      "text/plain": [
       "array(['Bream', 'Bream', 'Bream', 'Bream', 'Bream'], dtype=object)"
      ]
     },
     "execution_count": 11,
     "metadata": {},
     "output_type": "execute_result"
    }
   ],
   "source": [
    "label_sr = fish_df['Species'].to_numpy()\n",
    "label_sr[:5]"
   ]
  },
  {
   "cell_type": "code",
   "execution_count": 12,
   "metadata": {},
   "outputs": [],
   "source": [
    "# train : test = 7 : 3\n",
    "# stratify = label_sr\n",
    "# random_state = 15\n",
    "X_train, X_test, y_train, y_test = train_test_split(feature_df, label_sr, test_size=0.3, random_state=15, stratify=label_sr)"
   ]
  },
  {
   "cell_type": "code",
   "execution_count": 13,
   "metadata": {},
   "outputs": [],
   "source": [
    "# standard scaling\n",
    "from sklearn.preprocessing import StandardScaler"
   ]
  },
  {
   "cell_type": "code",
   "execution_count": 14,
   "metadata": {},
   "outputs": [],
   "source": [
    "sd_scaler = StandardScaler()\n",
    "sd_scaler.fit(X_train, y_train)\n",
    "\n",
    "sd_X_train = sd_scaler.transform(X_train)\n",
    "sd_X_test = sd_scaler.transform(X_test)"
   ]
  },
  {
   "cell_type": "markdown",
   "metadata": {},
   "source": [
    "- model selection\n",
    "    - learning method: supervised learning classification\n",
    "    - learning algorithm: logistic regression\n",
    "        - feature에 weight를 곱한 후 합계한 결과를 probability value로 변환"
   ]
  },
  {
   "cell_type": "code",
   "execution_count": 18,
   "metadata": {},
   "outputs": [],
   "source": [
    "def sigmoid(data):\n",
    "    return 1 / (1 + np.exp(-data))"
   ]
  },
  {
   "cell_type": "code",
   "execution_count": 19,
   "metadata": {},
   "outputs": [
    {
     "name": "stdout",
     "output_type": "stream",
     "text": [
      "z => [-5.  -4.9 -4.8 -4.7 -4.6 -4.5 -4.4 -4.3 -4.2 -4.1 -4.  -3.9 -3.8 -3.7\n",
      " -3.6 -3.5 -3.4 -3.3 -3.2 -3.1 -3.  -2.9 -2.8 -2.7 -2.6 -2.5 -2.4 -2.3\n",
      " -2.2 -2.1 -2.  -1.9 -1.8 -1.7 -1.6 -1.5 -1.4 -1.3 -1.2 -1.1 -1.  -0.9\n",
      " -0.8 -0.7 -0.6 -0.5 -0.4 -0.3 -0.2 -0.1 -0.   0.1  0.2  0.3  0.4  0.5\n",
      "  0.6  0.7  0.8  0.9  1.   1.1  1.2  1.3  1.4  1.5  1.6  1.7  1.8  1.9\n",
      "  2.   2.1  2.2  2.3  2.4  2.5  2.6  2.7  2.8  2.9  3.   3.1  3.2  3.3\n",
      "  3.4  3.5  3.6  3.7  3.8  3.9  4.   4.1  4.2  4.3  4.4  4.5  4.6  4.7\n",
      "  4.8  4.9]\n",
      "phi = [0.006693 0.007392 0.008163 0.009013 0.009952 0.010987 0.012128 0.013387\n",
      " 0.014774 0.016302 0.017986 0.01984  0.021881 0.024127 0.026597 0.029312\n",
      " 0.032295 0.035571 0.039166 0.043107 0.047426 0.052154 0.057324 0.062973\n",
      " 0.069138 0.075858 0.083173 0.091123 0.09975  0.109097 0.119203 0.130108\n",
      " 0.141851 0.154465 0.167982 0.182426 0.197816 0.214165 0.231475 0.24974\n",
      " 0.268941 0.28905  0.310026 0.331812 0.354344 0.377541 0.401312 0.425557\n",
      " 0.450166 0.475021 0.5      0.524979 0.549834 0.574443 0.598688 0.622459\n",
      " 0.645656 0.668188 0.689974 0.71095  0.731059 0.75026  0.768525 0.785835\n",
      " 0.802184 0.817574 0.832018 0.845535 0.858149 0.869892 0.880797 0.890903\n",
      " 0.90025  0.908877 0.916827 0.924142 0.930862 0.937027 0.942676 0.947846\n",
      " 0.952574 0.956893 0.960834 0.964429 0.967705 0.970688 0.973403 0.975873\n",
      " 0.978119 0.98016  0.982014 0.983698 0.985226 0.986613 0.987872 0.989013\n",
      " 0.990048 0.990987 0.991837 0.992608]\n",
      "sigmoid = [0.006693 0.007392 0.008163 0.009013 0.009952 0.010987 0.012128 0.013387\n",
      " 0.014774 0.016302 0.017986 0.01984  0.021881 0.024127 0.026597 0.029312\n",
      " 0.032295 0.035571 0.039166 0.043107 0.047426 0.052154 0.057324 0.062973\n",
      " 0.069138 0.075858 0.083173 0.091123 0.09975  0.109097 0.119203 0.130108\n",
      " 0.141851 0.154465 0.167982 0.182426 0.197816 0.214165 0.231475 0.24974\n",
      " 0.268941 0.28905  0.310026 0.331812 0.354344 0.377541 0.401312 0.425557\n",
      " 0.450166 0.475021 0.5      0.524979 0.549834 0.574443 0.598688 0.622459\n",
      " 0.645656 0.668188 0.689974 0.71095  0.731059 0.75026  0.768525 0.785835\n",
      " 0.802184 0.817574 0.832018 0.845535 0.858149 0.869892 0.880797 0.890903\n",
      " 0.90025  0.908877 0.916827 0.924142 0.930862 0.937027 0.942676 0.947846\n",
      " 0.952574 0.956893 0.960834 0.964429 0.967705 0.970688 0.973403 0.975873\n",
      " 0.978119 0.98016  0.982014 0.983698 0.985226 0.986613 0.987872 0.989013\n",
      " 0.990048 0.990987 0.991837 0.992608]\n"
     ]
    }
   ],
   "source": [
    "z = np.arange(-5, 5, 0.1)\n",
    "phi = 1 / (1 + np.exp(-z))\n",
    "sig = sigmoid(z)\n",
    "\n",
    "print(f\"z => {z}\\nphi = {phi}\")\n",
    "print(f\"sigmoid = {sig}\")"
   ]
  },
  {
   "cell_type": "code",
   "execution_count": 23,
   "metadata": {},
   "outputs": [
    {
     "data": {
      "image/png": "[encoded data removed]",
      "text/plain": [
       "<Figure size 640x480 with 1 Axes>"
      ]
     },
     "metadata": {},
     "output_type": "display_data"
    }
   ],
   "source": [
    "plt.plot(z, sig, label='sigmoid: 1/ (1 + e**(-x))')\n",
    "plt.legend(fontsize='small')\n",
    "plt.show()"
   ]
  },
  {
   "cell_type": "code",
   "execution_count": 34,
   "metadata": {},
   "outputs": [],
   "source": [
    "# binary classification\n",
    "mask1 = (y_train == 'Bream') | (y_train == 'Smelt')\n",
    "mask2 = (y_test == 'Bream') | (y_test == 'Smelt')\n",
    "\n",
    "X_train_bream_smelt = sd_X_train[mask1]\n",
    "y_train_bream_smelt = y_train[mask1]\n",
    "X_test_bream_smelt = sd_X_test[mask2]\n",
    "y_test_bream_smelt = y_test[mask2]"
   ]
  },
  {
   "cell_type": "code",
   "execution_count": 25,
   "metadata": {},
   "outputs": [
    {
     "data": {
      "text/html": [
       "<style>#sk-container-id-1 {color: black;}#sk-container-id-1 pre{padding: 0;}#sk-container-id-1 div.sk-toggleable {background-color: white;}#sk-container-id-1 label.sk-toggleable__label {cursor: pointer;display: block;width: 100%;margin-bottom: 0;padding: 0.3em;box-sizing: border-box;text-align: center;}#sk-container-id-1 label.sk-toggleable__label-arrow:before {content: \"▸\";float: left;margin-right: 0.25em;color: #696969;}#sk-container-id-1 label.sk-toggleable__label-arrow:hover:before {color: black;}#sk-container-id-1 div.sk-estimator:hover label.sk-toggleable__label-arrow:before {color: black;}#sk-container-id-1 div.sk-toggleable__content {max-height: 0;max-width: 0;overflow: hidden;text-align: left;background-color: #f0f8ff;}#sk-container-id-1 div.sk-toggleable__content pre {margin: 0.2em;color: black;border-radius: 0.25em;background-color: #f0f8ff;}#sk-container-id-1 input.sk-toggleable__control:checked~div.sk-toggleable__content {max-height: 200px;max-width: 100%;overflow: auto;}#sk-container-id-1 input.sk-toggleable__control:checked~label.sk-toggleable__label-arrow:before {content: \"▾\";}#sk-container-id-1 div.sk-estimator input.sk-toggleable__control:checked~label.sk-toggleable__label {background-color: #d4ebff;}#sk-container-id-1 div.sk-label input.sk-toggleable__control:checked~label.sk-toggleable__label {background-color: #d4ebff;}#sk-container-id-1 input.sk-hidden--visually {border: 0;clip: rect(1px 1px 1px 1px);clip: rect(1px, 1px, 1px, 1px);height: 1px;margin: -1px;overflow: hidden;padding: 0;position: absolute;width: 1px;}#sk-container-id-1 div.sk-estimator {font-family: monospace;background-color: #f0f8ff;border: 1px dotted black;border-radius: 0.25em;box-sizing: border-box;margin-bottom: 0.5em;}#sk-container-id-1 div.sk-estimator:hover {background-color: #d4ebff;}#sk-container-id-1 div.sk-parallel-item::after {content: \"\";width: 100%;border-bottom: 1px solid gray;flex-grow: 1;}#sk-container-id-1 div.sk-label:hover label.sk-toggleable__label {background-color: #d4ebff;}#sk-container-id-1 div.sk-serial::before {content: \"\";position: absolute;border-left: 1px solid gray;box-sizing: border-box;top: 0;bottom: 0;left: 50%;z-index: 0;}#sk-container-id-1 div.sk-serial {display: flex;flex-direction: column;align-items: center;background-color: white;padding-right: 0.2em;padding-left: 0.2em;position: relative;}#sk-container-id-1 div.sk-item {position: relative;z-index: 1;}#sk-container-id-1 div.sk-parallel {display: flex;align-items: stretch;justify-content: center;background-color: white;position: relative;}#sk-container-id-1 div.sk-item::before, #sk-container-id-1 div.sk-parallel-item::before {content: \"\";position: absolute;border-left: 1px solid gray;box-sizing: border-box;top: 0;bottom: 0;left: 50%;z-index: -1;}#sk-container-id-1 div.sk-parallel-item {display: flex;flex-direction: column;z-index: 1;position: relative;background-color: white;}#sk-container-id-1 div.sk-parallel-item:first-child::after {align-self: flex-end;width: 50%;}#sk-container-id-1 div.sk-parallel-item:last-child::after {align-self: flex-start;width: 50%;}#sk-container-id-1 div.sk-parallel-item:only-child::after {width: 0;}#sk-container-id-1 div.sk-dashed-wrapped {border: 1px dashed gray;margin: 0 0.4em 0.5em 0.4em;box-sizing: border-box;padding-bottom: 0.4em;background-color: white;}#sk-container-id-1 div.sk-label label {font-family: monospace;font-weight: bold;display: inline-block;line-height: 1.2em;}#sk-container-id-1 div.sk-label-container {text-align: center;}#sk-container-id-1 div.sk-container {/* jupyter's `normalize.less` sets `[hidden] { display: none; }` but bootstrap.min.css set `[hidden] { display: none !important; }` so we also need the `!important` here to be able to override the default hidden behavior on the sphinx rendered scikit-learn.org. See: https://github.com/scikit-learn/scikit-learn/issues/21755 */display: inline-block !important;position: relative;}#sk-container-id-1 div.sk-text-repr-fallback {display: none;}</style><div id=\"sk-container-id-1\" class=\"sk-top-container\"><div class=\"sk-text-repr-fallback\"><pre>LogisticRegression()</pre><b>In a Jupyter environment, please rerun this cell to show the HTML representation or trust the notebook. <br />On GitHub, the HTML representation is unable to render, please try loading this page with nbviewer.org.</b></div><div class=\"sk-container\" hidden><div class=\"sk-item\"><div class=\"sk-estimator sk-toggleable\"><input class=\"sk-toggleable__control sk-hidden--visually\" id=\"sk-estimator-id-1\" type=\"checkbox\" checked><label for=\"sk-estimator-id-1\" class=\"sk-toggleable__label sk-toggleable__label-arrow\">LogisticRegression</label><div class=\"sk-toggleable__content\"><pre>LogisticRegression()</pre></div></div></div></div></div>"
      ],
      "text/plain": [
       "LogisticRegression()"
      ]
     },
     "execution_count": 25,
     "metadata": {},
     "output_type": "execute_result"
    }
   ],
   "source": [
    "# model instance\n",
    "from sklearn.linear_model import LogisticRegression\n",
    "\n",
    "lr_model = LogisticRegression()\n",
    "lr_model.fit(X_train_bream_smelt, y_train_bream_smelt)"
   ]
  },
  {
   "cell_type": "code",
   "execution_count": 31,
   "metadata": {},
   "outputs": [
    {
     "name": "stdout",
     "output_type": "stream",
     "text": [
      "claeese_: ['Bream' 'Smelt'], 2개\n",
      "n_features_in_: 5\n",
      "n_iter_: [13]\n",
      "coef_: [-0.427887 -0.592965 -0.66976  -0.979895 -0.778889], 5개\n",
      "intercept_: [-1.921427]\n"
     ]
    }
   ],
   "source": [
    "# After learning\n",
    "weight = lr_model.coef_[0]\n",
    "bais = lr_model.intercept_\n",
    "\n",
    "print(f\"claeese_: {lr_model.classes_}, {len(lr_model.classes_)}개\")\n",
    "print(f\"n_features_in_: {lr_model.n_features_in_}\")\n",
    "print(f\"n_iter_: {lr_model.n_iter_}\")\n",
    "print(f\"coef_: {weight}, {len(lr_model.coef_[0])}개\")\n",
    "print(f\"intercept_: {bais}\")"
   ]
  },
  {
   "cell_type": "code",
   "execution_count": 35,
   "metadata": {},
   "outputs": [
    {
     "name": "stdout",
     "output_type": "stream",
     "text": [
      "train score: 100.00 %\n",
      "test score: 100.00 %\n"
     ]
    }
   ],
   "source": [
    "# model preformance\n",
    "# train과 test의 score, accuracy\n",
    "# 본래는 validation data\n",
    "train_score = lr_model.score(X_train_bream_smelt, y_train_bream_smelt)\n",
    "test_score = lr_model.score(X_test_bream_smelt, y_test_bream_smelt)\n",
    "\n",
    "print(f\"train score: {train_score*100:.2f} %\")\n",
    "print(f\"test score: {test_score*100:.2f} %\")"
   ]
  },
  {
   "cell_type": "markdown",
   "metadata": {},
   "source": [
    "- test\n",
    "    - predict(): 예측 클래스 변환\n",
    "    - predict_proba(): 각 클래스별 확률값\n",
    "    - decision_function: feature와 weight + bias 한 결과값"
   ]
  },
  {
   "cell_type": "code",
   "execution_count": 36,
   "metadata": {},
   "outputs": [
    {
     "data": {
      "text/plain": [
       "array(['Bream', 'Bream', 'Bream', 'Smelt', 'Bream'], dtype=object)"
      ]
     },
     "execution_count": 36,
     "metadata": {},
     "output_type": "execute_result"
    }
   ],
   "source": [
    "lr_model.predict(X_train_bream_smelt[:5])"
   ]
  },
  {
   "cell_type": "code",
   "execution_count": 37,
   "metadata": {},
   "outputs": [
    {
     "data": {
      "text/plain": [
       "array([[0.999062, 0.000938],\n",
       "       [0.979142, 0.020858],\n",
       "       [0.99166 , 0.00834 ],\n",
       "       [0.027335, 0.972665],\n",
       "       [0.998773, 0.001227]])"
      ]
     },
     "execution_count": 37,
     "metadata": {},
     "output_type": "execute_result"
    }
   ],
   "source": [
    "lr_model.predict_proba(X_train_bream_smelt[:5])"
   ]
  },
  {
   "cell_type": "code",
   "execution_count": 38,
   "metadata": {},
   "outputs": [
    {
     "name": "stdout",
     "output_type": "stream",
     "text": [
      "['Bream' 'Smelt']\n",
      "[[0.999062 0.000938]\n",
      " [0.979142 0.020858]\n",
      " [0.99166  0.00834 ]\n",
      " [0.027335 0.972665]\n",
      " [0.998773 0.001227]]\n"
     ]
    }
   ],
   "source": [
    "print(lr_model.classes_, lr_model.predict_proba(X_train_bream_smelt[:5]), sep='\\n')"
   ]
  },
  {
   "cell_type": "code",
   "execution_count": 42,
   "metadata": {},
   "outputs": [
    {
     "data": {
      "text/plain": [
       "array([-6.970669, -3.848953, -4.778279,  3.571878, -6.70155 ])"
      ]
     },
     "execution_count": 42,
     "metadata": {},
     "output_type": "execute_result"
    }
   ],
   "source": [
    "# y = weight[0]*X[0] + weight[1]*x[1] + weight[2]*x[2] + weight[3]*x[3] + weight[4]*x[4] + bais\n",
    "decisons = lr_model.decision_function(X_train_bream_smelt[:5])\n",
    "decisons"
   ]
  },
  {
   "cell_type": "code",
   "execution_count": 41,
   "metadata": {},
   "outputs": [
    {
     "name": "stdout",
     "output_type": "stream",
     "text": [
      "[0.000938 0.020858 0.00834  0.972665 0.001227]\n",
      "[[0.999062 0.000938]\n",
      " [0.979142 0.020858]\n",
      " [0.99166  0.00834 ]\n",
      " [0.027335 0.972665]\n",
      " [0.998773 0.001227]]\n"
     ]
    }
   ],
   "source": [
    "from scipy.special import expit\n",
    "\n",
    "print(expit(decisons))  # transform probability\n",
    "# in case binary classification, positive label에 대한 확률값만 계산. 나머지는 1에서 뺌\n",
    "print(lr_model.predict_proba(X_train_bream_smelt[:5]))"
   ]
  },
  {
   "cell_type": "code",
   "execution_count": 51,
   "metadata": {},
   "outputs": [
    {
     "data": {
      "text/html": [
       "<style>#sk-container-id-3 {color: black;}#sk-container-id-3 pre{padding: 0;}#sk-container-id-3 div.sk-toggleable {background-color: white;}#sk-container-id-3 label.sk-toggleable__label {cursor: pointer;display: block;width: 100%;margin-bottom: 0;padding: 0.3em;box-sizing: border-box;text-align: center;}#sk-container-id-3 label.sk-toggleable__label-arrow:before {content: \"▸\";float: left;margin-right: 0.25em;color: #696969;}#sk-container-id-3 label.sk-toggleable__label-arrow:hover:before {color: black;}#sk-container-id-3 div.sk-estimator:hover label.sk-toggleable__label-arrow:before {color: black;}#sk-container-id-3 div.sk-toggleable__content {max-height: 0;max-width: 0;overflow: hidden;text-align: left;background-color: #f0f8ff;}#sk-container-id-3 div.sk-toggleable__content pre {margin: 0.2em;color: black;border-radius: 0.25em;background-color: #f0f8ff;}#sk-container-id-3 input.sk-toggleable__control:checked~div.sk-toggleable__content {max-height: 200px;max-width: 100%;overflow: auto;}#sk-container-id-3 input.sk-toggleable__control:checked~label.sk-toggleable__label-arrow:before {content: \"▾\";}#sk-container-id-3 div.sk-estimator input.sk-toggleable__control:checked~label.sk-toggleable__label {background-color: #d4ebff;}#sk-container-id-3 div.sk-label input.sk-toggleable__control:checked~label.sk-toggleable__label {background-color: #d4ebff;}#sk-container-id-3 input.sk-hidden--visually {border: 0;clip: rect(1px 1px 1px 1px);clip: rect(1px, 1px, 1px, 1px);height: 1px;margin: -1px;overflow: hidden;padding: 0;position: absolute;width: 1px;}#sk-container-id-3 div.sk-estimator {font-family: monospace;background-color: #f0f8ff;border: 1px dotted black;border-radius: 0.25em;box-sizing: border-box;margin-bottom: 0.5em;}#sk-container-id-3 div.sk-estimator:hover {background-color: #d4ebff;}#sk-container-id-3 div.sk-parallel-item::after {content: \"\";width: 100%;border-bottom: 1px solid gray;flex-grow: 1;}#sk-container-id-3 div.sk-label:hover label.sk-toggleable__label {background-color: #d4ebff;}#sk-container-id-3 div.sk-serial::before {content: \"\";position: absolute;border-left: 1px solid gray;box-sizing: border-box;top: 0;bottom: 0;left: 50%;z-index: 0;}#sk-container-id-3 div.sk-serial {display: flex;flex-direction: column;align-items: center;background-color: white;padding-right: 0.2em;padding-left: 0.2em;position: relative;}#sk-container-id-3 div.sk-item {position: relative;z-index: 1;}#sk-container-id-3 div.sk-parallel {display: flex;align-items: stretch;justify-content: center;background-color: white;position: relative;}#sk-container-id-3 div.sk-item::before, #sk-container-id-3 div.sk-parallel-item::before {content: \"\";position: absolute;border-left: 1px solid gray;box-sizing: border-box;top: 0;bottom: 0;left: 50%;z-index: -1;}#sk-container-id-3 div.sk-parallel-item {display: flex;flex-direction: column;z-index: 1;position: relative;background-color: white;}#sk-container-id-3 div.sk-parallel-item:first-child::after {align-self: flex-end;width: 50%;}#sk-container-id-3 div.sk-parallel-item:last-child::after {align-self: flex-start;width: 50%;}#sk-container-id-3 div.sk-parallel-item:only-child::after {width: 0;}#sk-container-id-3 div.sk-dashed-wrapped {border: 1px dashed gray;margin: 0 0.4em 0.5em 0.4em;box-sizing: border-box;padding-bottom: 0.4em;background-color: white;}#sk-container-id-3 div.sk-label label {font-family: monospace;font-weight: bold;display: inline-block;line-height: 1.2em;}#sk-container-id-3 div.sk-label-container {text-align: center;}#sk-container-id-3 div.sk-container {/* jupyter's `normalize.less` sets `[hidden] { display: none; }` but bootstrap.min.css set `[hidden] { display: none !important; }` so we also need the `!important` here to be able to override the default hidden behavior on the sphinx rendered scikit-learn.org. See: https://github.com/scikit-learn/scikit-learn/issues/21755 */display: inline-block !important;position: relative;}#sk-container-id-3 div.sk-text-repr-fallback {display: none;}</style><div id=\"sk-container-id-3\" class=\"sk-top-container\"><div class=\"sk-text-repr-fallback\"><pre>LogisticRegression(C=20, max_iter=1000)</pre><b>In a Jupyter environment, please rerun this cell to show the HTML representation or trust the notebook. <br />On GitHub, the HTML representation is unable to render, please try loading this page with nbviewer.org.</b></div><div class=\"sk-container\" hidden><div class=\"sk-item\"><div class=\"sk-estimator sk-toggleable\"><input class=\"sk-toggleable__control sk-hidden--visually\" id=\"sk-estimator-id-3\" type=\"checkbox\" checked><label for=\"sk-estimator-id-3\" class=\"sk-toggleable__label sk-toggleable__label-arrow\">LogisticRegression</label><div class=\"sk-toggleable__content\"><pre>LogisticRegression(C=20, max_iter=1000)</pre></div></div></div></div></div>"
      ],
      "text/plain": [
       "LogisticRegression(C=20, max_iter=1000)"
      ]
     },
     "execution_count": 51,
     "metadata": {},
     "output_type": "execute_result"
    }
   ],
   "source": [
    "lr_model_org = LogisticRegression(C=20, max_iter=1000)\n",
    "lr_model_org.fit(sd_X_train, y_train)"
   ]
  },
  {
   "cell_type": "code",
   "execution_count": 52,
   "metadata": {},
   "outputs": [
    {
     "name": "stdout",
     "output_type": "stream",
     "text": [
      "claeese_: ['Bream' 'Parkki' 'Perch' 'Pike' 'Roach' 'Smelt' 'Whitefish'], 7개\n",
      "n_features_in_: 5\n",
      "n_iter_: [116]\n",
      "coef_: [-1.469182 -0.851335  2.141843  7.709005 -0.184301], 5개\n",
      "intercept_: [-0.110861 -0.126697  2.674875 -0.120021  1.767173 -6.964817  2.880348]\n"
     ]
    }
   ],
   "source": [
    "# After learning\n",
    "weight_org = lr_model_org.coef_[0]\n",
    "bais_org = lr_model_org.intercept_\n",
    "\n",
    "print(f\"claeese_: {lr_model_org.classes_}, {len(lr_model_org.classes_)}개\")\n",
    "print(f\"n_features_in_: {lr_model_org.n_features_in_}\")\n",
    "print(f\"n_iter_: {lr_model_org.n_iter_}\")\n",
    "print(f\"coef_: {weight_org}, {len(lr_model_org.coef_[0])}개\")\n",
    "print(f\"intercept_: {bais_org}\")"
   ]
  },
  {
   "cell_type": "code",
   "execution_count": 53,
   "metadata": {},
   "outputs": [
    {
     "name": "stdout",
     "output_type": "stream",
     "text": [
      "train score: 91.89 %\n",
      "test score: 91.67 %\n"
     ]
    }
   ],
   "source": [
    "# model preformance\n",
    "# train과 test의 score, accuracy\n",
    "# 본래는 validation data\n",
    "train_score = lr_model_org.score(sd_X_train, y_train)\n",
    "test_score = lr_model_org.score(sd_X_test, y_test)\n",
    "\n",
    "print(f\"train score: {train_score*100:.2f} %\")\n",
    "print(f\"test score: {test_score*100:.2f} %\")"
   ]
  },
  {
   "cell_type": "code",
   "execution_count": 54,
   "metadata": {},
   "outputs": [
    {
     "name": "stdout",
     "output_type": "stream",
     "text": [
      "[[0.000218 0.03055  0.29575  0.00292  0.617978 0.006269 0.046315]\n",
      " [0.995888 0.001728 0.       0.000005 0.000014 0.       0.002366]\n",
      " [0.000002 0.00594  0.86677  0.00012  0.112771 0.010771 0.003626]\n",
      " [0.000046 0.046356 0.609611 0.000581 0.313905 0.010603 0.018898]\n",
      " [0.003012 0.000002 0.974099 0.000946 0.001256 0.       0.020684]]\n",
      "\n",
      "[0.617978 0.995888 0.86677  0.609611 0.974099]\n"
     ]
    }
   ],
   "source": [
    "proba = lr_model_org.predict_proba(sd_X_test[:5])\n",
    "print(proba, proba.max(axis=1), sep='\\n\\n')"
   ]
  },
  {
   "cell_type": "code",
   "execution_count": 55,
   "metadata": {},
   "outputs": [
    {
     "data": {
      "text/plain": [
       "array(['Roach', 'Bream', 'Perch', 'Perch', 'Perch'], dtype=object)"
      ]
     },
     "execution_count": 55,
     "metadata": {},
     "output_type": "execute_result"
    }
   ],
   "source": [
    "lr_model_org.predict(sd_X_test[:5])"
   ]
  },
  {
   "cell_type": "markdown",
   "metadata": {},
   "source": [
    "- multi logistic regression 을 하려면 OvR이나 OvO를 해주면 됨.\n",
    "- 이걸 이용해서 그래프를 그리는 것은 다른 이야기 인것 처럼 느껴짐."
   ]
  }
 ],
 "metadata": {
  "kernelspec": {
   "display_name": "ml_38",
   "language": "python",
   "name": "python3"
  },
  "language_info": {
   "codemirror_mode": {
    "name": "ipython",
    "version": 3
   },
   "file_extension": ".py",
   "mimetype": "text/x-python",
   "name": "python",
   "nbconvert_exporter": "python",
   "pygments_lexer": "ipython3",
   "version": "3.8.19"
  }
 },
 "nbformat": 4,
 "nbformat_minor": 2
}
